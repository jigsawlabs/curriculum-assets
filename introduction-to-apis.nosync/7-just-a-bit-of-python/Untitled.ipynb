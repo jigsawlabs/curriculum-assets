{
 "cells": [
  {
   "cell_type": "markdown",
   "metadata": {},
   "source": [
    "Here, let's take a look at a snippet of the content we got back.\n",
    "\n",
    "```python\n",
    "'offers': [{'finskyOfferType': 1,\n",
    "      'listPrice': {'amountInMicros': 23950000.0, 'currencyCode': 'USD'},\n",
    "      'retailPrice': {'amountInMicros': 14370000.0, 'currencyCode': 'USD'},\n",
    "      'giftable': True}]},\n",
    "   'accessInfo': {'country': 'US',\n",
    "    'viewability': 'PARTIAL',\n",
    "    'embeddable': True,\n",
    "    'publicDomain': False,\n",
    " ```\n",
    " \n",
    " Where you see the number 1 at the top is called an `int` for integer.  The `True` and `False` is called a boolean.  Everything in quotes like `offers` or `finskyOfferType` is a datatype called a string, which basically just means text.  And the entire enormous item that we scrolled past is called a dictionary.  \n",
    "\n",
    "This is the different forms that data can take on in Python -- called datatypes -- and as data scientists we'll need to become familiar with all of them.  For now, it's enough just to recognize that for us to really be able to navigate the response that we get back from APIs, we need to be able to be better Python developers."
   ]
  },
  {
   "cell_type": "code",
   "execution_count": null,
   "metadata": {},
   "outputs": [],
   "source": []
  }
 ],
 "metadata": {
  "kernelspec": {
   "display_name": "Python 3",
   "language": "python",
   "name": "python3"
  },
  "language_info": {
   "codemirror_mode": {
    "name": "ipython",
    "version": 3
   },
   "file_extension": ".py",
   "mimetype": "text/x-python",
   "name": "python",
   "nbconvert_exporter": "python",
   "pygments_lexer": "ipython3",
   "version": "3.7.0"
  }
 },
 "nbformat": 4,
 "nbformat_minor": 2
}
