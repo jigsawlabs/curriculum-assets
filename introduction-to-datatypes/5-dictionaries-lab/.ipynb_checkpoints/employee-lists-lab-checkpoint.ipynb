{
 "cells": [
  {
   "cell_type": "markdown",
   "metadata": {},
   "source": [
    "# Working with dictionaries"
   ]
  },
  {
   "cell_type": "markdown",
   "metadata": {},
   "source": [
    "### Introduction"
   ]
  },
  {
   "cell_type": "markdown",
   "metadata": {},
   "source": [
    "Ok, so in this lesson, we'll practice with dictionaries.  We'll start with working with creating some dictionaries that we create, and then will move on to using our knowledg of dictionaries to explore the API."
   ]
  },
  {
   "cell_type": "markdown",
   "metadata": {},
   "source": [
    "### Using our own dictionaries"
   ]
  },
  {
   "cell_type": "markdown",
   "metadata": {},
   "source": [
    "As we know, dictionaries are a great way to label attributes about an entity.  Let's start with a dictionary describing a restaurant employee."
   ]
  },
  {
   "cell_type": "code",
   "execution_count": 4,
   "metadata": {},
   "outputs": [],
   "source": [
    "olivia = {'name': 'olivia', 'birthday': '11/6/1992', 'days_available': ['Monday', 'Tuesday', 'Saturday', 'Sunday']}"
   ]
  },
  {
   "cell_type": "markdown",
   "metadata": {},
   "source": [
    "Let's explore our data structure by looking at all of the keys in the data structure.  We'll assign these key values to a variable named `attributes`."
   ]
  },
  {
   "cell_type": "markdown",
   "metadata": {},
   "source": [
    "> Remember to use dot and tab if you cannot remember the name of the method."
   ]
  },
  {
   "cell_type": "code",
   "execution_count": 12,
   "metadata": {},
   "outputs": [
    {
     "data": {
      "text/plain": [
       "dict_keys"
      ]
     },
     "execution_count": 12,
     "metadata": {},
     "output_type": "execute_result"
    }
   ],
   "source": [
    "attributes = olivia.keys()\n",
    "\n",
    "type(attributes)\n",
    "# dict_keys"
   ]
  },
  {
   "cell_type": "markdown",
   "metadata": {},
   "source": [
    "So if we look at attributes, we see that three attributes are available."
   ]
  },
  {
   "cell_type": "code",
   "execution_count": 9,
   "metadata": {},
   "outputs": [
    {
     "data": {
      "text/plain": [
       "dict_keys(['name', 'birthday', 'days_available'])"
      ]
     },
     "execution_count": 9,
     "metadata": {},
     "output_type": "execute_result"
    }
   ],
   "source": [
    "attributes"
   ]
  },
  {
   "cell_type": "markdown",
   "metadata": {},
   "source": [
    "Now, retreive the value for `birthday` for `olivia` and assign it to the variable `birthday`."
   ]
  },
  {
   "cell_type": "code",
   "execution_count": 13,
   "metadata": {},
   "outputs": [],
   "source": [
    "birthday = None"
   ]
  },
  {
   "cell_type": "markdown",
   "metadata": {},
   "source": [
    "Now retreive the list of days that olivia is available, and assign it to the variable days available."
   ]
  },
  {
   "cell_type": "code",
   "execution_count": 20,
   "metadata": {},
   "outputs": [
    {
     "data": {
      "text/plain": [
       "['Monday', 'Tuesday', 'Saturday', 'Sunday']"
      ]
     },
     "execution_count": 20,
     "metadata": {},
     "output_type": "execute_result"
    }
   ],
   "source": [
    "days_available = olivia['days_available']\n",
    "days_available\n",
    "# ['Monday', 'Tuesday', 'Saturday', 'Sunday']"
   ]
  },
  {
   "cell_type": "markdown",
   "metadata": {},
   "source": [
    "Now Olivia tells us that she is no longer availabe on Sunday.  Start with the variable `olivia` and remove the last element from the list of days she is available."
   ]
  },
  {
   "cell_type": "code",
   "execution_count": 22,
   "metadata": {},
   "outputs": [
    {
     "data": {
      "text/plain": [
       "['Monday', 'Tuesday', 'Saturday', 'Sunday']"
      ]
     },
     "execution_count": 22,
     "metadata": {},
     "output_type": "execute_result"
    }
   ],
   "source": [
    "\n",
    "olivia['days_available']\n",
    "\n",
    "# ['Monday', 'Tuesday', 'Saturday']"
   ]
  },
  {
   "cell_type": "markdown",
   "metadata": {},
   "source": [
    "Now let's create a new dictionary to represent another employee.  We'll assign it to the variable of `amelia`.  Our dictionary should have keys of `name`, `birthday`, and `days_available`.  And the corresponding values should be `amelia`, `3/18/1989` and an empty list for days available (as these are unknown to us right now.  "
   ]
  },
  {
   "cell_type": "code",
   "execution_count": 23,
   "metadata": {},
   "outputs": [],
   "source": [
    "amelia = {'name': 'amelia', 'birthday': '3/18/1989' ,'days_available': []}"
   ]
  },
  {
   "cell_type": "code",
   "execution_count": 26,
   "metadata": {},
   "outputs": [
    {
     "data": {
      "text/plain": [
       "dict_keys(['name', 'birthday', 'days_available'])"
      ]
     },
     "execution_count": 26,
     "metadata": {},
     "output_type": "execute_result"
    }
   ],
   "source": [
    "amelia.keys()\n",
    "\n",
    "# dict_keys(['name', 'birthday', 'days_available'])"
   ]
  },
  {
   "cell_type": "code",
   "execution_count": 27,
   "metadata": {},
   "outputs": [
    {
     "data": {
      "text/plain": [
       "dict_values(['amelia', '3/18/1989', []])"
      ]
     },
     "execution_count": 27,
     "metadata": {},
     "output_type": "execute_result"
    }
   ],
   "source": [
    "amelia.values()\n",
    "\n",
    "# dict_values(['amelia', '3/18/1989', []])"
   ]
  },
  {
   "cell_type": "markdown",
   "metadata": {},
   "source": [
    "### A list of employees"
   ]
  },
  {
   "cell_type": "markdown",
   "metadata": {},
   "source": [
    "So now we have two employees, represented by the variables `olivia` and `amelia`.  Create a list and assign it to the variable of employees, placing `olivia` as the first employee and `amelia` as the second."
   ]
  },
  {
   "cell_type": "code",
   "execution_count": 28,
   "metadata": {},
   "outputs": [],
   "source": [
    "employees = None"
   ]
  },
  {
   "cell_type": "markdown",
   "metadata": {},
   "source": [
    "Great job, as a bonus let's access information about an individual employee from our list.  Let's start by, accessing the first employee's name, starting with the variable `employees`.  We'll do the first one together.  We'll break the problem into steps.  So to access the first employees name, we do the following:\n",
    "\n",
    "1. Access the first employee from our list.\n",
    "\n",
    "```python\n",
    "employees[0]\n",
    "```\n",
    "\n",
    "2. From there access that employee's name.\n",
    "\n",
    "```python\n",
    "employees[0]['name']\n",
    "```"
   ]
  },
  {
   "cell_type": "markdown",
   "metadata": {},
   "source": [
    "Try it out in the cell below."
   ]
  },
  {
   "cell_type": "markdown",
   "metadata": {},
   "source": []
  },
  {
   "cell_type": "markdown",
   "metadata": {},
   "source": [
    "Now on your own, access the second employees birthday, and assign it to the variable as `second_employee_bday`."
   ]
  },
  {
   "cell_type": "code",
   "execution_count": 29,
   "metadata": {},
   "outputs": [],
   "source": [
    "second_employee_bday = None\n",
    "\n",
    "second_employee_bday\n",
    "# '3/18/1989'"
   ]
  },
  {
   "cell_type": "markdown",
   "metadata": {},
   "source": [
    "Finally, add the string `Monday` to the list of days that our second employee is available.  Start with the variable `employees`.  "
   ]
  },
  {
   "cell_type": "markdown",
   "metadata": {},
   "source": [
    "> Hint: This is tricky, so break the problem into steps.  First, solve accessing the second employee, then..., and then..., and you'll get it!"
   ]
  },
  {
   "cell_type": "code",
   "execution_count": 30,
   "metadata": {},
   "outputs": [],
   "source": [
    "# employees"
   ]
  },
  {
   "cell_type": "markdown",
   "metadata": {},
   "source": [
    "### Summary"
   ]
  },
  {
   "cell_type": "markdown",
   "metadata": {},
   "source": [
    "In this lesson, we accessed information from dictionaries and we created our own dictionaries.  We practiced using the `keys` method, and the `values` method.  Then we moved onto nested data structures, a list of dictionaries.  We'll see in the next lesson that working with nested data structures is really one of the keys to working with APIs."
   ]
  },
  {
   "cell_type": "code",
   "execution_count": null,
   "metadata": {},
   "outputs": [],
   "source": []
  }
 ],
 "metadata": {
  "kernelspec": {
   "display_name": "Python 3",
   "language": "python",
   "name": "python3"
  },
  "language_info": {
   "codemirror_mode": {
    "name": "ipython",
    "version": 3
   },
   "file_extension": ".py",
   "mimetype": "text/x-python",
   "name": "python",
   "nbconvert_exporter": "python",
   "pygments_lexer": "ipython3",
   "version": "3.7.0"
  }
 },
 "nbformat": 4,
 "nbformat_minor": 2
}
