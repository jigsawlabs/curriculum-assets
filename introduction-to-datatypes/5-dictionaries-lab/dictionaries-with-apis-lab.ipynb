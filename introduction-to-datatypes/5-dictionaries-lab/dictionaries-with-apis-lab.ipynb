{
 "cells": [
  {
   "cell_type": "markdown",
   "metadata": {},
   "source": [
    "### Introduction"
   ]
  },
  {
   "cell_type": "markdown",
   "metadata": {},
   "source": [
    "Now that we know about lists and dictionaries, and nested data structures we can properly explore our API regarding receipts of Max's Wine Bar.  After all, a call to our API returns a similar nested data structure - a  list with each element being a dictionary.\n",
    "\n",
    "```python\n",
    "response.json()\n",
    "# [{receipt1}, {receipt2}]\n",
    "```\n",
    "\n",
    "Let's see this."
   ]
  },
  {
   "cell_type": "code",
   "execution_count": 2,
   "metadata": {},
   "outputs": [],
   "source": [
    "import requests\n",
    "response = requests.get(\"https://data.texas.gov/resource/naix-2893.json?location_name=MAX%27S%20WINE%20DIVE\")\n",
    "restaurant_receipts = response.json()"
   ]
  },
  {
   "cell_type": "markdown",
   "metadata": {},
   "source": [
    "Once we call the API, we see that we are returned a list.  "
   ]
  },
  {
   "cell_type": "code",
   "execution_count": 36,
   "metadata": {},
   "outputs": [
    {
     "data": {
      "text/plain": [
       "list"
      ]
     },
     "execution_count": 36,
     "metadata": {},
     "output_type": "execute_result"
    }
   ],
   "source": [
    "type(restaurant_receipts)"
   ]
  },
  {
   "cell_type": "code",
   "execution_count": 4,
   "metadata": {},
   "outputs": [
    {
     "data": {
      "text/plain": [
       "60"
      ]
     },
     "execution_count": 4,
     "metadata": {},
     "output_type": "execute_result"
    }
   ],
   "source": [
    "len(restaurant_receipts)"
   ]
  },
  {
   "cell_type": "markdown",
   "metadata": {},
   "source": [
    "And looking at the first element of that list, we see that it (along with every other element) is a dictionary."
   ]
  },
  {
   "cell_type": "code",
   "execution_count": 7,
   "metadata": {},
   "outputs": [
    {
     "data": {
      "text/plain": [
       "{'beer_receipts': '10606',\n",
       " 'cover_charge_receipts': '0',\n",
       " 'inside_outside_city_limits_code_y_n': 'Y',\n",
       " 'liquor_receipts': '18265',\n",
       " 'location_address': '207 SAN JACINTO BLVD STE 200',\n",
       " 'location_city': 'AUSTIN',\n",
       " 'location_county': '227',\n",
       " 'location_name': \"MAX'S WINE DIVE\",\n",
       " 'location_number': '1',\n",
       " 'location_state': 'TX',\n",
       " 'location_zip': '78701',\n",
       " 'obligation_end_date_yyyymmdd': '2016-09-30T00:00:00.000',\n",
       " 'responsibility_begin_date_yyyymmdd': '2016-05-13T00:00:00.000',\n",
       " 'tabc_permit_number': 'MB944126',\n",
       " 'taxpayer_address': '7026 OLD KATY RD STE 255',\n",
       " 'taxpayer_city': 'HOUSTON',\n",
       " 'taxpayer_county': '101',\n",
       " 'taxpayer_name': 'MWD AUSTIN DOWNTOWN, LLC',\n",
       " 'taxpayer_number': '12727298569',\n",
       " 'taxpayer_state': 'TX',\n",
       " 'taxpayer_zip': '77024',\n",
       " 'total_receipts': '100368',\n",
       " 'wine_receipts': '71497'}"
      ]
     },
     "execution_count": 7,
     "metadata": {},
     "output_type": "execute_result"
    }
   ],
   "source": [
    "receipt = restaurant_receipts[0]\n",
    "receipt"
   ]
  },
  {
   "cell_type": "markdown",
   "metadata": {},
   "source": [
    "Ok, so there's our dictionary."
   ]
  },
  {
   "cell_type": "code",
   "execution_count": 8,
   "metadata": {},
   "outputs": [
    {
     "data": {
      "text/plain": [
       "dict"
      ]
     },
     "execution_count": 8,
     "metadata": {},
     "output_type": "execute_result"
    }
   ],
   "source": [
    "type(receipt)"
   ]
  },
  {
   "cell_type": "markdown",
   "metadata": {},
   "source": [
    "Ok, now for this lab, we'll have you explore the return value of the API, by exploring one of our dictionaries.  Let's get started!"
   ]
  },
  {
   "cell_type": "markdown",
   "metadata": {},
   "source": [
    "### Working with our dictionary"
   ]
  },
  {
   "cell_type": "markdown",
   "metadata": {},
   "source": [
    "Ok, so let's take a look at the attributes available in our dictionary.  Return all of the keys available, and assign them to the variable `receipt_attributes`."
   ]
  },
  {
   "cell_type": "code",
   "execution_count": 11,
   "metadata": {},
   "outputs": [
    {
     "data": {
      "text/plain": [
       "dict_keys(['beer_receipts', 'cover_charge_receipts', 'inside_outside_city_limits_code_y_n', 'liquor_receipts', 'location_address', 'location_city', 'location_county', 'location_name', 'location_number', 'location_state', 'location_zip', 'obligation_end_date_yyyymmdd', 'responsibility_begin_date_yyyymmdd', 'tabc_permit_number', 'taxpayer_address', 'taxpayer_city', 'taxpayer_county', 'taxpayer_name', 'taxpayer_number', 'taxpayer_state', 'taxpayer_zip', 'total_receipts', 'wine_receipts'])"
      ]
     },
     "execution_count": 11,
     "metadata": {},
     "output_type": "execute_result"
    }
   ],
   "source": [
    "receipt_attributes = receipt.keys()\n",
    "receipt_attributes\n",
    "\n",
    "# dict_keys(['beer_receipts', 'cover_charge_receipts', 'inside_outside_city_limits_code_y_n', 'liquor_receipts', \n",
    "#'location_address', 'location_city', 'location_county', 'location_name', 'location_number', \n",
    "# 'location_state', 'location_zip', 'obligation_end_date_yyyymmdd', 'responsibility_begin_date_yyyymmdd', \n",
    "# 'tabc_permit_number', 'taxpayer_address', 'taxpayer_city', 'taxpayer_county', 'taxpayer_name', 'taxpayer_number', \n",
    "#'taxpayer_state', 'taxpayer_zip', 'total_receipts', 'wine_receipts'])"
   ]
  },
  {
   "cell_type": "markdown",
   "metadata": {},
   "source": [
    "Holy cow, that's a lot of attributes.  Let's see how many."
   ]
  },
  {
   "cell_type": "code",
   "execution_count": 14,
   "metadata": {},
   "outputs": [],
   "source": [
    "num_attributes = None\n",
    "# 23"
   ]
  },
  {
   "cell_type": "markdown",
   "metadata": {},
   "source": [
    "Let's just use a look at a couple of these attributes.  We'll start with `obligation_end_date_yyyymmdd` as that tells us the month, and then let's also select `total_receipts`.  \n",
    "\n",
    "Let's assign the obligation end date to a variable called `receipt_month`."
   ]
  },
  {
   "cell_type": "code",
   "execution_count": 17,
   "metadata": {},
   "outputs": [
    {
     "data": {
      "text/plain": [
       "'2016-09-30T00:00:00.000'"
      ]
     },
     "execution_count": 17,
     "metadata": {},
     "output_type": "execute_result"
    }
   ],
   "source": [
    "receipt_month = receipt['obligation_end_date_yyyymmdd']\n",
    "receipt_month\n",
    "# '2016-09-30T00:00:00.000'"
   ]
  },
  {
   "cell_type": "markdown",
   "metadata": {},
   "source": [
    "And let's assign our `total_receipts` to a variable called total receipts."
   ]
  },
  {
   "cell_type": "code",
   "execution_count": 21,
   "metadata": {},
   "outputs": [
    {
     "data": {
      "text/plain": [
       "'100368'"
      ]
     },
     "execution_count": 21,
     "metadata": {},
     "output_type": "execute_result"
    }
   ],
   "source": [
    "total_receipts = receipt['total_receipts']\n",
    "total_receipts\n",
    "# '100368'"
   ]
  },
  {
   "cell_type": "markdown",
   "metadata": {},
   "source": [
    "Ok, now let's create a new dictionary with the keys of `total_receipts` and `obligation_end_date_yyyymmdd`, and with the corresponding values we found above.  Let's assign it to the variable `summary_receipt`.  "
   ]
  },
  {
   "cell_type": "code",
   "execution_count": 29,
   "metadata": {},
   "outputs": [],
   "source": [
    "summary_receipt = {'total_receipts': total_receipts, 'obligation_end_date_yyyymmdd': '2016-09-30T00:00:00.000'}"
   ]
  },
  {
   "cell_type": "code",
   "execution_count": null,
   "metadata": {},
   "outputs": [],
   "source": [
    "summary_receipt.keys()\n",
    "# dict_keys(['total_receipts', 'obligation_end_date_yyyymmdd'])"
   ]
  },
  {
   "cell_type": "code",
   "execution_count": 31,
   "metadata": {},
   "outputs": [
    {
     "data": {
      "text/plain": [
       "dict_values(['100368', '2016-09-30T00:00:00.000'])"
      ]
     },
     "execution_count": 31,
     "metadata": {},
     "output_type": "execute_result"
    }
   ],
   "source": [
    "summary_receipt.values()\n",
    "# dict_values(['100368', '2016-09-30T00:00:00.000'])"
   ]
  },
  {
   "cell_type": "markdown",
   "metadata": {},
   "source": [
    "### Summary"
   ]
  },
  {
   "cell_type": "markdown",
   "metadata": {},
   "source": [
    "In this lesson we used our knowledge of dictionaries to explore our API.  We explored the various attributes that were returned to us, and then selected just those elements of interest to create a new, more manageable dictionary."
   ]
  }
 ],
 "metadata": {
  "kernelspec": {
   "display_name": "Python 3",
   "language": "python",
   "name": "python3"
  },
  "language_info": {
   "codemirror_mode": {
    "name": "ipython",
    "version": 3
   },
   "file_extension": ".py",
   "mimetype": "text/x-python",
   "name": "python",
   "nbconvert_exporter": "python",
   "pygments_lexer": "ipython3",
   "version": "3.7.0"
  }
 },
 "nbformat": 4,
 "nbformat_minor": 2
}
