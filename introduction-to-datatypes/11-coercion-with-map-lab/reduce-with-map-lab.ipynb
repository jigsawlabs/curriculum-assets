{
 "cells": [
  {
   "cell_type": "markdown",
   "metadata": {},
   "source": [
    "### Introduction"
   ]
  },
  {
   "cell_type": "markdown",
   "metadata": {},
   "source": [
    "Ok, we have now discussed a lot of the techniques to make our data in a more easy to use format.  Let's go through them."
   ]
  },
  {
   "cell_type": "markdown",
   "metadata": {},
   "source": [
    "As always, we start by calling our API."
   ]
  },
  {
   "cell_type": "code",
   "execution_count": 75,
   "metadata": {},
   "outputs": [],
   "source": [
    "import requests\n",
    "response = requests.get(\"https://data.texas.gov/resource/naix-2893.json?location_address=3600%20MCKINNEY%20AVE%20STE%20100\")\n",
    "restaurant_receipts = response.json()"
   ]
  },
  {
   "cell_type": "markdown",
   "metadata": {},
   "source": [
    "Notice that this time we'll provide slightly different data to our API.  There are two locations of Max's Wine Bar, so updated our search to just select a restaurant at a single address, the Dallas location."
   ]
  },
  {
   "cell_type": "markdown",
   "metadata": {},
   "source": [
    "So you can see now that we only have 25 receipts."
   ]
  },
  {
   "cell_type": "code",
   "execution_count": 46,
   "metadata": {},
   "outputs": [
    {
     "data": {
      "text/plain": [
       "25"
      ]
     },
     "execution_count": 46,
     "metadata": {},
     "output_type": "execute_result"
    }
   ],
   "source": [
    "len(restaurant_receipts)"
   ]
  },
  {
   "cell_type": "markdown",
   "metadata": {},
   "source": [
    "### Double checking our work"
   ]
  },
  {
   "cell_type": "markdown",
   "metadata": {},
   "source": [
    "Start by confirming that we have only selected a single location.  Create a set to identify that there is only one location in our list."
   ]
  },
  {
   "cell_type": "code",
   "execution_count": 49,
   "metadata": {},
   "outputs": [
    {
     "data": {
      "text/plain": [
       "{'3600 MCKINNEY AVE STE 100'}"
      ]
     },
     "execution_count": 49,
     "metadata": {},
     "output_type": "execute_result"
    }
   ],
   "source": [
    "location_addresses = set(list(map(lambda receipt: receipt['location_address'], restaurant_receipts)))\n",
    "location_addresses\n",
    "\n",
    "# {'3600 MCKINNEY AVE STE 100'}"
   ]
  },
  {
   "cell_type": "markdown",
   "metadata": {},
   "source": [
    "Ok, now let's start by retrieving specific elements."
   ]
  },
  {
   "cell_type": "markdown",
   "metadata": {},
   "source": [
    "### Retreiving our elements"
   ]
  },
  {
   "cell_type": "markdown",
   "metadata": {},
   "source": [
    "As a first step, let's map through the `obligation_end_date_yyyymmdd` and set it equal to the list `end_dates`."
   ]
  },
  {
   "cell_type": "code",
   "execution_count": 50,
   "metadata": {},
   "outputs": [],
   "source": [
    "end_dates = list(map(lambda receipt: receipt['obligation_end_date_yyyymmdd'], restaurant_receipts))"
   ]
  },
  {
   "cell_type": "code",
   "execution_count": 51,
   "metadata": {},
   "outputs": [
    {
     "data": {
      "text/plain": [
       "25"
      ]
     },
     "execution_count": 51,
     "metadata": {},
     "output_type": "execute_result"
    }
   ],
   "source": [
    "len(end_dates)"
   ]
  },
  {
   "cell_type": "code",
   "execution_count": 52,
   "metadata": {},
   "outputs": [
    {
     "data": {
      "text/plain": [
       "['2016-12-31T00:00:00.000',\n",
       " '2017-08-31T00:00:00.000',\n",
       " '2016-06-30T00:00:00.000']"
      ]
     },
     "execution_count": 52,
     "metadata": {},
     "output_type": "execute_result"
    }
   ],
   "source": [
    "end_dates[0:3]\n",
    "\n",
    "# ['2016-12-31T00:00:00.000',\n",
    "#  '2017-08-31T00:00:00.000',\n",
    "#  '2016-06-30T00:00:00.000']"
   ]
  },
  {
   "cell_type": "markdown",
   "metadata": {},
   "source": [
    "Ok, great now let's go create a list of our `total_receipts`. "
   ]
  },
  {
   "cell_type": "code",
   "execution_count": 53,
   "metadata": {},
   "outputs": [],
   "source": [
    "total_receipts = list(map(lambda receipt: receipt['total_receipts'], restaurant_receipts))"
   ]
  },
  {
   "cell_type": "markdown",
   "metadata": {},
   "source": [
    "Now if we look at the total receipt data, we'll see that we have a list of strings."
   ]
  },
  {
   "cell_type": "code",
   "execution_count": 55,
   "metadata": {},
   "outputs": [
    {
     "data": {
      "text/plain": [
       "['56182', '9400', '50574']"
      ]
     },
     "execution_count": 55,
     "metadata": {},
     "output_type": "execute_result"
    }
   ],
   "source": [
    "total_receipts[0:3]\n",
    "# ['56182', '9400', '50574']"
   ]
  },
  {
   "cell_type": "markdown",
   "metadata": {},
   "source": [
    "Change this data into a list of integers and assign it to the variable `total_receipts_ints`."
   ]
  },
  {
   "cell_type": "code",
   "execution_count": 57,
   "metadata": {},
   "outputs": [],
   "source": [
    "total_receipts_ints = list(map(lambda total: int(total), total_receipts))"
   ]
  },
  {
   "cell_type": "code",
   "execution_count": 59,
   "metadata": {},
   "outputs": [
    {
     "data": {
      "text/plain": [
       "[56182, 9400, 50574]"
      ]
     },
     "execution_count": 59,
     "metadata": {},
     "output_type": "execute_result"
    }
   ],
   "source": [
    "total_receipts_ints[0:3]\n",
    "\n",
    "# [56182, 9400, 50574]"
   ]
  },
  {
   "cell_type": "markdown",
   "metadata": {},
   "source": [
    "### Displaying our data"
   ]
  },
  {
   "cell_type": "markdown",
   "metadata": {},
   "source": [
    "Now that we have a list of months, and another list of corresponding revenues, we can actually plot these values.  We can plot our data using the plotly library."
   ]
  },
  {
   "cell_type": "markdown",
   "metadata": {},
   "source": [
    "As a first step, we import our plotly library, and call the `init_notebook_mode` which allows us to use plotly without logging in."
   ]
  },
  {
   "cell_type": "code",
   "execution_count": 60,
   "metadata": {},
   "outputs": [
    {
     "data": {
      "text/html": [
       "<script type=\"text/javascript\">window.PlotlyConfig = {MathJaxConfig: 'local'};</script><script type=\"text/javascript\">if (window.MathJax) {MathJax.Hub.Config({SVG: {font: \"STIX-Web\"}});}</script><script>requirejs.config({paths: { 'plotly': ['https://cdn.plot.ly/plotly-latest.min']},});if(!window._Plotly) {require(['plotly'],function(plotly) {window._Plotly=plotly;});}</script>"
      ],
      "text/vnd.plotly.v1+html": [
       "<script type=\"text/javascript\">window.PlotlyConfig = {MathJaxConfig: 'local'};</script><script type=\"text/javascript\">if (window.MathJax) {MathJax.Hub.Config({SVG: {font: \"STIX-Web\"}});}</script><script>requirejs.config({paths: { 'plotly': ['https://cdn.plot.ly/plotly-latest.min']},});if(!window._Plotly) {require(['plotly'],function(plotly) {window._Plotly=plotly;});}</script>"
      ]
     },
     "metadata": {},
     "output_type": "display_data"
    }
   ],
   "source": [
    "import plotly\n",
    "from plotly.offline import init_notebook_mode\n",
    "init_notebook_mode(connected=True)"
   ]
  },
  {
   "cell_type": "markdown",
   "metadata": {},
   "source": [
    "> Press shift enter"
   ]
  },
  {
   "cell_type": "markdown",
   "metadata": {},
   "source": [
    "Now let's use our data from above to plot a graph.  Remember that we already have a list of months:"
   ]
  },
  {
   "cell_type": "code",
   "execution_count": 64,
   "metadata": {},
   "outputs": [
    {
     "data": {
      "text/plain": [
       "['2016-12-31T00:00:00.000',\n",
       " '2017-08-31T00:00:00.000',\n",
       " '2016-06-30T00:00:00.000']"
      ]
     },
     "execution_count": 64,
     "metadata": {},
     "output_type": "execute_result"
    }
   ],
   "source": [
    "end_dates[0:3]"
   ]
  },
  {
   "cell_type": "markdown",
   "metadata": {},
   "source": [
    "And a list of corresponding revenues:"
   ]
  },
  {
   "cell_type": "code",
   "execution_count": 65,
   "metadata": {},
   "outputs": [
    {
     "data": {
      "text/plain": [
       "[56182, 9400, 50574]"
      ]
     },
     "execution_count": 65,
     "metadata": {},
     "output_type": "execute_result"
    }
   ],
   "source": [
    "total_receipts_ints[0:3]"
   ]
  },
  {
   "cell_type": "markdown",
   "metadata": {},
   "source": [
    "So we can create a dictionary called `trace`, whatever that means. Then well provide our `end_dates` as the list of `x` values to display horizontally.  And our `total_receipts_ints` as our list of `y` values to display vertically."
   ]
  },
  {
   "cell_type": "code",
   "execution_count": 73,
   "metadata": {},
   "outputs": [],
   "source": [
    "trace = {'x': end_dates, 'y': total_receipts_ints, 'mode': 'markers'}"
   ]
  },
  {
   "cell_type": "markdown",
   "metadata": {},
   "source": [
    "> Press shift enter"
   ]
  },
  {
   "cell_type": "markdown",
   "metadata": {},
   "source": [
    "Now we can display this monthly data horizontally, and corresponding revenue data vertically by running the cell below."
   ]
  },
  {
   "cell_type": "code",
   "execution_count": 74,
   "metadata": {},
   "outputs": [
    {
     "data": {
      "application/vnd.plotly.v1+json": {
       "config": {
        "linkText": "Export to plot.ly",
        "plotlyServerURL": "https://plot.ly",
        "showLink": false
       },
       "data": [
        {
         "mode": "markers",
         "type": "scatter",
         "uid": "c58c08b9-931a-4d35-ab58-7e376a12609f",
         "x": [
          "2016-12-31T00:00:00.000",
          "2017-08-31T00:00:00.000",
          "2016-06-30T00:00:00.000",
          "2016-08-31T00:00:00.000",
          "2015-09-30T00:00:00.000",
          "2017-06-30T00:00:00.000",
          "2017-02-28T00:00:00.000",
          "2017-05-31T00:00:00.000",
          "2016-11-30T00:00:00.000",
          "2016-07-31T00:00:00.000",
          "2017-07-31T00:00:00.000",
          "2016-05-31T00:00:00.000",
          "2016-09-30T00:00:00.000",
          "2017-01-31T00:00:00.000",
          "2015-08-31T00:00:00.000",
          "2016-04-30T00:00:00.000",
          "2017-03-31T00:00:00.000",
          "2015-11-30T00:00:00.000",
          "2016-01-31T00:00:00.000",
          "2015-12-31T00:00:00.000",
          "2017-04-30T00:00:00.000",
          "2016-02-29T00:00:00.000",
          "2016-10-31T00:00:00.000",
          "2016-03-31T00:00:00.000",
          "2015-10-31T00:00:00.000"
         ],
         "y": [
          56182,
          9400,
          50574,
          50305,
          66609,
          39535,
          43094,
          34903,
          41054,
          51707,
          39627,
          48239,
          45590,
          49965,
          0,
          51430,
          44414,
          69664,
          84721,
          72238,
          41393,
          69224,
          42180,
          58697,
          67048
         ]
        }
       ],
       "layout": {
        "autosize": true,
        "xaxis": {
         "autorange": true,
         "range": [
          "2015-07-17 05:08:29.2105",
          "2017-10-14 18:51:30.7895"
         ],
         "type": "date"
        },
        "yaxis": {
         "autorange": true,
         "range": [
          -6205.678343949045,
          90926.67834394904
         ],
         "type": "linear"
        }
       }
      },
      "image/png": "[encoded data removed]",
      "text/html": [
       "<div id=\"159a078a-76cd-43ca-b4b0-2182e685b442\" style=\"height: 525px; width: 100%;\" class=\"plotly-graph-div\"></div><script type=\"text/javascript\">require([\"plotly\"], function(Plotly) { window.PLOTLYENV=window.PLOTLYENV || {};window.PLOTLYENV.BASE_URL=\"https://plot.ly\";Plotly.newPlot(\"159a078a-76cd-43ca-b4b0-2182e685b442\", [{\"mode\": \"markers\", \"x\": [\"2016-12-31T00:00:00.000\", \"2017-08-31T00:00:00.000\", \"2016-06-30T00:00:00.000\", \"2016-08-31T00:00:00.000\", \"2015-09-30T00:00:00.000\", \"2017-06-30T00:00:00.000\", \"2017-02-28T00:00:00.000\", \"2017-05-31T00:00:00.000\", \"2016-11-30T00:00:00.000\", \"2016-07-31T00:00:00.000\", \"2017-07-31T00:00:00.000\", \"2016-05-31T00:00:00.000\", \"2016-09-30T00:00:00.000\", \"2017-01-31T00:00:00.000\", \"2015-08-31T00:00:00.000\", \"2016-04-30T00:00:00.000\", \"2017-03-31T00:00:00.000\", \"2015-11-30T00:00:00.000\", \"2016-01-31T00:00:00.000\", \"2015-12-31T00:00:00.000\", \"2017-04-30T00:00:00.000\", \"2016-02-29T00:00:00.000\", \"2016-10-31T00:00:00.000\", \"2016-03-31T00:00:00.000\", \"2015-10-31T00:00:00.000\"], \"y\": [56182, 9400, 50574, 50305, 66609, 39535, 43094, 34903, 41054, 51707, 39627, 48239, 45590, 49965, 0, 51430, 44414, 69664, 84721, 72238, 41393, 69224, 42180, 58697, 67048], \"type\": \"scatter\", \"uid\": \"47ad430b-b4c3-4f61-a1a4-e583b1eadf36\"}], {}, {\"showLink\": false, \"linkText\": \"Export to plot.ly\", \"plotlyServerURL\": \"https://plot.ly\"})});</script><script type=\"text/javascript\">window.addEventListener(\"resize\", function(){window._Plotly.Plots.resize(document.getElementById(\"159a078a-76cd-43ca-b4b0-2182e685b442\"));});</script>"
      ],
      "text/vnd.plotly.v1+html": [
       "<div id=\"159a078a-76cd-43ca-b4b0-2182e685b442\" style=\"height: 525px; width: 100%;\" class=\"plotly-graph-div\"></div><script type=\"text/javascript\">require([\"plotly\"], function(Plotly) { window.PLOTLYENV=window.PLOTLYENV || {};window.PLOTLYENV.BASE_URL=\"https://plot.ly\";Plotly.newPlot(\"159a078a-76cd-43ca-b4b0-2182e685b442\", [{\"mode\": \"markers\", \"x\": [\"2016-12-31T00:00:00.000\", \"2017-08-31T00:00:00.000\", \"2016-06-30T00:00:00.000\", \"2016-08-31T00:00:00.000\", \"2015-09-30T00:00:00.000\", \"2017-06-30T00:00:00.000\", \"2017-02-28T00:00:00.000\", \"2017-05-31T00:00:00.000\", \"2016-11-30T00:00:00.000\", \"2016-07-31T00:00:00.000\", \"2017-07-31T00:00:00.000\", \"2016-05-31T00:00:00.000\", \"2016-09-30T00:00:00.000\", \"2017-01-31T00:00:00.000\", \"2015-08-31T00:00:00.000\", \"2016-04-30T00:00:00.000\", \"2017-03-31T00:00:00.000\", \"2015-11-30T00:00:00.000\", \"2016-01-31T00:00:00.000\", \"2015-12-31T00:00:00.000\", \"2017-04-30T00:00:00.000\", \"2016-02-29T00:00:00.000\", \"2016-10-31T00:00:00.000\", \"2016-03-31T00:00:00.000\", \"2015-10-31T00:00:00.000\"], \"y\": [56182, 9400, 50574, 50305, 66609, 39535, 43094, 34903, 41054, 51707, 39627, 48239, 45590, 49965, 0, 51430, 44414, 69664, 84721, 72238, 41393, 69224, 42180, 58697, 67048], \"type\": \"scatter\", \"uid\": \"47ad430b-b4c3-4f61-a1a4-e583b1eadf36\"}], {}, {\"showLink\": false, \"linkText\": \"Export to plot.ly\", \"plotlyServerURL\": \"https://plot.ly\"})});</script><script type=\"text/javascript\">window.addEventListener(\"resize\", function(){window._Plotly.Plots.resize(document.getElementById(\"159a078a-76cd-43ca-b4b0-2182e685b442\"));});</script>"
      ]
     },
     "metadata": {},
     "output_type": "display_data"
    }
   ],
   "source": [
    "plotly.offline.iplot([trace])"
   ]
  },
  {
   "cell_type": "markdown",
   "metadata": {},
   "source": [
    "> Uncomment the above line and press shift + enter"
   ]
  },
  {
   "cell_type": "markdown",
   "metadata": {},
   "source": [
    "### Summary"
   ]
  },
  {
   "cell_type": "markdown",
   "metadata": {},
   "source": [
    "Ok, so in this lesson we saw some of the fruit of our labors.  We started by calling our API, and this gave us back 25 dictionaries, with each dictionary containing a lot of extra data.  We selected just two attributes from these dictionaries -- months and total receipts.  Then we changed total receipts from a list of strings to a list of integers so that plotly could properly plot it as integers."
   ]
  },
  {
   "cell_type": "markdown",
   "metadata": {},
   "source": [
    "Along the way, we made use of both map, and our coercing strings into integers to clean our data."
   ]
  }
 ],
 "metadata": {
  "kernelspec": {
   "display_name": "Python 3",
   "language": "python",
   "name": "python3"
  },
  "language_info": {
   "codemirror_mode": {
    "name": "ipython",
    "version": 3
   },
   "file_extension": ".py",
   "mimetype": "text/x-python",
   "name": "python",
   "nbconvert_exporter": "python",
   "pygments_lexer": "ipython3",
   "version": "3.7.0"
  }
 },
 "nbformat": 4,
 "nbformat_minor": 2
}
