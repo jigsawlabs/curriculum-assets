{
 "cells": [
  {
   "cell_type": "markdown",
   "metadata": {},
   "source": [
    "# Introduction to Lists Lab"
   ]
  },
  {
   "cell_type": "markdown",
   "metadata": {},
   "source": [
    "### Introduction"
   ]
  },
  {
   "cell_type": "markdown",
   "metadata": {},
   "source": [
    "In this lesson, we'll see how to create and work with lists.  We'll do this working with some fake revenue data from Max's Wine Bar.\n",
    "\n",
    "Now Max's Wine Dive is a restaurant with multiple locations in Texas."
   ]
  },
  {
   "cell_type": "markdown",
   "metadata": {},
   "source": [
    "<img src='./max-maps.png' width=\"50%\">"
   ]
  },
  {
   "cell_type": "markdown",
   "metadata": {},
   "source": [
    "Let's use our knowledge of lists to answer questions about the bar."
   ]
  },
  {
   "cell_type": "markdown",
   "metadata": {},
   "source": [
    "### Creating a list"
   ]
  },
  {
   "cell_type": "markdown",
   "metadata": {},
   "source": [
    "Let's imagine that we are tracking Max's revenue for the first 5 months.  The bar earned `300,000` the first month, `285000` the second month, `325000` the third month, and `318000` the fourth month. Initialize a list with these numbers and assign it to the variable `revenues`."
   ]
  },
  {
   "cell_type": "code",
   "execution_count": 7,
   "metadata": {},
   "outputs": [],
   "source": [
    "revenues = [300000, 285000, 325000, 318000]"
   ]
  },
  {
   "cell_type": "markdown",
   "metadata": {},
   "source": [
    "Now select the first element from the list."
   ]
  },
  {
   "cell_type": "code",
   "execution_count": 12,
   "metadata": {},
   "outputs": [],
   "source": [
    "\n",
    "# 300000"
   ]
  },
  {
   "cell_type": "markdown",
   "metadata": {},
   "source": [
    "Ok, now it's time to select the revenue earned in the last month."
   ]
  },
  {
   "cell_type": "code",
   "execution_count": 11,
   "metadata": {},
   "outputs": [],
   "source": [
    "\n",
    "# 318000"
   ]
  },
  {
   "cell_type": "markdown",
   "metadata": {},
   "source": [
    "Now, practice slicing the two middle revenues from our list."
   ]
  },
  {
   "cell_type": "code",
   "execution_count": null,
   "metadata": {},
   "outputs": [],
   "source": [
    "\n",
    "# [285000, 325000]"
   ]
  },
  {
   "cell_type": "markdown",
   "metadata": {},
   "source": [
    "Finally, calculate the length of the list."
   ]
  },
  {
   "cell_type": "code",
   "execution_count": 10,
   "metadata": {},
   "outputs": [],
   "source": [
    "\n",
    "# 4"
   ]
  },
  {
   "cell_type": "markdown",
   "metadata": {},
   "source": [
    "## Moving to the API"
   ]
  },
  {
   "cell_type": "markdown",
   "metadata": {},
   "source": [
    "Ok, now let's get some of the actual revenue from data from Max's Wine Bar in Texas.    We'll do this using the Texas Open Data Portal, exploring their Mixed Beverage Receipts.  Let's get started."
   ]
  },
  {
   "cell_type": "markdown",
   "metadata": {},
   "source": [
    "### 1. Extracting Our Data from an API"
   ]
  },
  {
   "cell_type": "markdown",
   "metadata": {},
   "source": [
    "Navigating to the [Mixed Beverage Receipts](https://dev.socrata.com/foundry/data.texas.gov/naix-2893) data we see that we can search for specific restaurants using the `location_name` parameter.  Let's do that below."
   ]
  },
  {
   "cell_type": "code",
   "execution_count": 21,
   "metadata": {},
   "outputs": [],
   "source": [
    "import requests\n",
    "response = requests.get(\"https://data.texas.gov/resource/naix-2893.json?location_name=MAX%27S%20WINE%20DIVE\")"
   ]
  },
  {
   "cell_type": "code",
   "execution_count": 22,
   "metadata": {},
   "outputs": [],
   "source": [
    "restaurant_receipts = response.json()"
   ]
  },
  {
   "cell_type": "markdown",
   "metadata": {},
   "source": [
    "### 2. Understanding What's Returned"
   ]
  },
  {
   "cell_type": "markdown",
   "metadata": {},
   "source": [
    "Ok, we just made an API call to receive restaurant receipts from Max's Wine Bar.  Let's explore the data."
   ]
  },
  {
   "cell_type": "markdown",
   "metadata": {},
   "source": [
    "First, calculate how many receipts we received."
   ]
  },
  {
   "cell_type": "code",
   "execution_count": 18,
   "metadata": {},
   "outputs": [],
   "source": [
    "\n",
    "# 59"
   ]
  },
  {
   "cell_type": "markdown",
   "metadata": {},
   "source": [
    "Let's see what's in these entries by taking a closer look at the first entry."
   ]
  },
  {
   "cell_type": "code",
   "execution_count": 19,
   "metadata": {},
   "outputs": [],
   "source": [
    "first_receipt = None\n",
    "first_receipt\n",
    "\n",
    "# {'beer_receipts': '10606',\n",
    "#  'cover_charge_receipts': '0',\n",
    "#  'inside_outside_city_limits_code_y_n': 'Y',\n",
    "#  'liquor_receipts': '18265',\n",
    "#  'location_address': '207 SAN JACINTO BLVD STE 200',\n",
    "#  'location_city': 'AUSTIN',\n",
    "#  'location_county': '227',\n",
    "#  'location_name': \"MAX'S WINE DIVE\",\n",
    "#  'location_number': '1',\n",
    "#  'location_state': 'TX',\n",
    "#  'location_zip': '78701',\n",
    "#  'obligation_end_date_yyyymmdd': '2016-09-30T00:00:00.000',\n",
    "#  'responsibility_begin_date_yyyymmdd': '2016-05-13T00:00:00.000',\n",
    "#  'tabc_permit_number': 'MB944126',\n",
    "#  'taxpayer_address': '7026 OLD KATY RD STE 255',\n",
    "#  'taxpayer_city': 'HOUSTON',\n",
    "#  'taxpayer_county': '101',\n",
    "#  'taxpayer_name': 'MWD AUSTIN DOWNTOWN, LLC',\n",
    "#  'taxpayer_number': '12727298569',\n",
    "#  'taxpayer_state': 'TX',\n",
    "#  'taxpayer_zip': '77024',\n",
    "#  'total_receipts': '100368',\n",
    "#  'wine_receipts': '71497'}"
   ]
  },
  {
   "cell_type": "markdown",
   "metadata": {},
   "source": [
    "This first entry is called a dictionary.  We'll learn all about it in an upcoming lesson.  But for now, notice that the type of information we receive is labeled on the left.  It looks like the restaurant reports `total receipts` (towards the bottom), as well as the responsibility begin date and obligation end date (in the middle).\n",
    "\n",
    "Let's see if these elements are ordered by date.  Let's use slice to select the first three entries, and then see if the  `responsibility begin date` and `obligation end date` is ordered.  Assign the first three entries to a variable named `first_three`."
   ]
  },
  {
   "cell_type": "code",
   "execution_count": 26,
   "metadata": {},
   "outputs": [
    {
     "data": {
      "text/plain": [
       "3"
      ]
     },
     "execution_count": 26,
     "metadata": {},
     "output_type": "execute_result"
    }
   ],
   "source": [
    "first_three = restaurant_receipts[0:3]\n",
    "\n",
    "len(first_three)\n",
    "# 3"
   ]
  },
  {
   "cell_type": "code",
   "execution_count": 27,
   "metadata": {},
   "outputs": [
    {
     "data": {
      "text/plain": [
       "[{'beer_receipts': '10606',\n",
       "  'cover_charge_receipts': '0',\n",
       "  'inside_outside_city_limits_code_y_n': 'Y',\n",
       "  'liquor_receipts': '18265',\n",
       "  'location_address': '207 SAN JACINTO BLVD STE 200',\n",
       "  'location_city': 'AUSTIN',\n",
       "  'location_county': '227',\n",
       "  'location_name': \"MAX'S WINE DIVE\",\n",
       "  'location_number': '1',\n",
       "  'location_state': 'TX',\n",
       "  'location_zip': '78701',\n",
       "  'obligation_end_date_yyyymmdd': '2016-09-30T00:00:00.000',\n",
       "  'responsibility_begin_date_yyyymmdd': '2016-05-13T00:00:00.000',\n",
       "  'tabc_permit_number': 'MB944126',\n",
       "  'taxpayer_address': '7026 OLD KATY RD STE 255',\n",
       "  'taxpayer_city': 'HOUSTON',\n",
       "  'taxpayer_county': '101',\n",
       "  'taxpayer_name': 'MWD AUSTIN DOWNTOWN, LLC',\n",
       "  'taxpayer_number': '12727298569',\n",
       "  'taxpayer_state': 'TX',\n",
       "  'taxpayer_zip': '77024',\n",
       "  'total_receipts': '100368',\n",
       "  'wine_receipts': '71497'},\n",
       " {'beer_receipts': '11150',\n",
       "  'cover_charge_receipts': '0',\n",
       "  'inside_outside_city_limits_code_y_n': 'Y',\n",
       "  'liquor_receipts': '24237',\n",
       "  'location_address': '207 SAN JACINTO BLVD STE 200',\n",
       "  'location_city': 'AUSTIN',\n",
       "  'location_county': '227',\n",
       "  'location_name': \"MAX'S WINE DIVE\",\n",
       "  'location_number': '1',\n",
       "  'location_state': 'TX',\n",
       "  'location_zip': '78701',\n",
       "  'obligation_end_date_yyyymmdd': '2016-10-31T00:00:00.000',\n",
       "  'responsibility_begin_date_yyyymmdd': '2016-05-13T00:00:00.000',\n",
       "  'tabc_permit_number': 'MB944126',\n",
       "  'taxpayer_address': '7026 OLD KATY RD STE 255',\n",
       "  'taxpayer_city': 'HOUSTON',\n",
       "  'taxpayer_county': '101',\n",
       "  'taxpayer_name': 'MWD AUSTIN DOWNTOWN, LLC',\n",
       "  'taxpayer_number': '12727298569',\n",
       "  'taxpayer_state': 'TX',\n",
       "  'taxpayer_zip': '77024',\n",
       "  'total_receipts': '104330',\n",
       "  'wine_receipts': '68943'},\n",
       " {'beer_receipts': '7991',\n",
       "  'cover_charge_receipts': '0',\n",
       "  'inside_outside_city_limits_code_y_n': 'Y',\n",
       "  'liquor_receipts': '15836',\n",
       "  'location_address': '207 SAN JACINTO BLVD STE 200',\n",
       "  'location_city': 'AUSTIN',\n",
       "  'location_county': '227',\n",
       "  'location_name': \"MAX'S WINE DIVE\",\n",
       "  'location_number': '1',\n",
       "  'location_state': 'TX',\n",
       "  'location_zip': '78701',\n",
       "  'obligation_end_date_yyyymmdd': '2017-06-30T00:00:00.000',\n",
       "  'responsibility_begin_date_yyyymmdd': '2016-05-13T00:00:00.000',\n",
       "  'tabc_permit_number': 'MB944126',\n",
       "  'taxpayer_address': '7026 OLD KATY RD STE 255',\n",
       "  'taxpayer_city': 'HOUSTON',\n",
       "  'taxpayer_county': '101',\n",
       "  'taxpayer_name': 'MWD AUSTIN DOWNTOWN, LLC',\n",
       "  'taxpayer_number': '12727298569',\n",
       "  'taxpayer_state': 'TX',\n",
       "  'taxpayer_zip': '77024',\n",
       "  'total_receipts': '73661',\n",
       "  'wine_receipts': '49834'}]"
      ]
     },
     "execution_count": 27,
     "metadata": {},
     "output_type": "execute_result"
    }
   ],
   "source": [
    "first_three"
   ]
  },
  {
   "cell_type": "markdown",
   "metadata": {},
   "source": [
    "Let's copy and paste the entries we care about below."
   ]
  },
  {
   "cell_type": "code",
   "execution_count": 28,
   "metadata": {},
   "outputs": [],
   "source": [
    "# 1.  \n",
    "# 'obligation_end_date_yyyymmdd': '2016-09-30T00:00:00.000',\n",
    "# 'responsibility_begin_date_yyyymmdd': '2016-05-13T00:00:00.000',\n",
    "\n",
    "# 2.\n",
    "# 'obligation_end_date_yyyymmdd': '2016-10-31T00:00:00.000',\n",
    "# 'responsibility_begin_date_yyyymmdd': '2016-05-13T00:00:00.000',\n",
    "\n",
    "# 3. \n",
    "# 'obligation_end_date_yyyymmdd': '2017-06-30T00:00:00.000',\n",
    "# 'responsibility_begin_date_yyyymmdd': '2016-05-13T00:00:00.000',"
   ]
  },
  {
   "cell_type": "markdown",
   "metadata": {},
   "source": [
    "So we can see that the responsibility begin date never changes.  It looks like that is the date of the first report.  However the obligation end date is always at the end of a month, just, as we see in the third entry, it's not sequential."
   ]
  },
  {
   "cell_type": "markdown",
   "metadata": {},
   "source": [
    "### Summary"
   ]
  },
  {
   "cell_type": "markdown",
   "metadata": {},
   "source": [
    "In this lesson, we practiced using our knowledge of lists.  We saw that we sometimes receive a list back from an API.  And we can explore this data by looking at the number of entries we are returned, as well as the selecting a few of the list elements to see what information each element contains, as well as if the elements are in a specific order."
   ]
  }
 ],
 "metadata": {
  "kernelspec": {
   "display_name": "Python 3",
   "language": "python",
   "name": "python3"
  },
  "language_info": {
   "codemirror_mode": {
    "name": "ipython",
    "version": 3
   },
   "file_extension": ".py",
   "mimetype": "text/x-python",
   "name": "python",
   "nbconvert_exporter": "python",
   "pygments_lexer": "ipython3",
   "version": "3.7.0"
  }
 },
 "nbformat": 4,
 "nbformat_minor": 2
}
