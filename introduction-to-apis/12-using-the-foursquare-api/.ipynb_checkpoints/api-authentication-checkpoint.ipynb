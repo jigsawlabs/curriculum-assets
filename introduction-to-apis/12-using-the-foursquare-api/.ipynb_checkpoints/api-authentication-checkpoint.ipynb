{
 "cells": [
  {
   "cell_type": "markdown",
   "metadata": {},
   "source": [
    "# Signing up for APIs"
   ]
  },
  {
   "cell_type": "markdown",
   "metadata": {},
   "source": [
    "### Introduction"
   ]
  },
  {
   "cell_type": "markdown",
   "metadata": {},
   "source": [
    "In the last lab, we got our hands on the keyboard and were able to practice requesting information for an API.  However, a lot of APIs require us to first signup, and then authenticate a request (whatever that means) to use their API.  In this lesson, we'll walk through an example, so that we can learn how to use the majority of APIs that require us to sign up. "
   ]
  },
  {
   "cell_type": "markdown",
   "metadata": {},
   "source": [
    "### The Foursquare API"
   ]
  },
  {
   "cell_type": "markdown",
   "metadata": {},
   "source": [
    "Foursquare is a great website for finding local food and business recommendations."
   ]
  },
  {
   "cell_type": "markdown",
   "metadata": {},
   "source": [
    "<img src=\"foursquare.png\" width=\"40%\">"
   ]
  },
  {
   "cell_type": "markdown",
   "metadata": {},
   "source": [
    "All of the information that Foursquare has on it's website and more is available to us to use as data scientists.  While all of this information is provided for free, we first need to register for the website before we can use it.\n",
    "\n",
    "This registration makes sense.  Just like we need to signup for a website like Facebook or Google, Foursquare needs us to signup so that we adhere to their terms (which, we of course, will.)  "
   ]
  },
  {
   "cell_type": "markdown",
   "metadata": {},
   "source": [
    "## Time to register"
   ]
  },
  {
   "cell_type": "markdown",
   "metadata": {},
   "source": [
    "Now to see how to register, we just ask Google something like, \"Foursquare Register API\".  You should see a page that says \"Create a Developer Account\".  Click on that button, and then click on \"Sign Up For Foursquare\" and fill out the information on the form."
   ]
  },
  {
   "cell_type": "markdown",
   "metadata": {},
   "source": [
    "<img src=\"foursquare-register.gif\" />"
   ]
  },
  {
   "cell_type": "markdown",
   "metadata": {},
   "source": [
    "After filling out the form, and clicking the blue sign up button at the bottom, we have made it through the first step."
   ]
  },
  {
   "cell_type": "markdown",
   "metadata": {},
   "source": [
    "### Register an App on Foursquare"
   ]
  },
  {
   "cell_type": "markdown",
   "metadata": {},
   "source": [
    "After filling out the signup form, click on the light blue \"Create a new App button\".  Next, fill out the form.  You can see that I had an App name of \"Jigsaw labs\" and App or Company URL of \"www.jigsawlabs.co\".  If there are other values you would like to enter, feel free to do so.\n",
    "\n",
    "Next, select that we are building the web app for personal use, and using the \"Search for Points of Interest\" feature.  \n",
    "\n",
    "When we get to the next screen, select the account tier of personal.  \n",
    "\n",
    "Then there is a screen that says we can get more by entering our credit card, but we decide not to.  Click on the link under verify that says \"return to my apps\".  When you get to the screen that says My Apps and then Client Id, you have made it."
   ]
  },
  {
   "cell_type": "markdown",
   "metadata": {},
   "source": [
    "<img src=\"./complete-registration.gif\" />"
   ]
  },
  {
   "cell_type": "markdown",
   "metadata": {},
   "source": [
    "### Our keys"
   ]
  },
  {
   "cell_type": "markdown",
   "metadata": {},
   "source": [
    "Great!  At this point we have our API keys: the client id and client secret.  That was really the point of this whole procedure.  These keys will allow us to use the Foursquare api.  Let's see how."
   ]
  },
  {
   "cell_type": "markdown",
   "metadata": {},
   "source": [
    "# Navigating Foursquare's API"
   ]
  },
  {
   "cell_type": "markdown",
   "metadata": {},
   "source": [
    "First, let's try to search for some venues.  Looking at the documentation, click on Places API to expand the dropdown, then Venues, and then finally Get Venue Recommendations."
   ]
  },
  {
   "cell_type": "markdown",
   "metadata": {},
   "source": [
    "<img src=\"venue-recommendations.png\" width=\"40%\" /> "
   ]
  },
  {
   "cell_type": "markdown",
   "metadata": {},
   "source": [
    "Once on [that page](https://developer.foursquare.com/docs/api/venues/explore), you'll see a description followed by an example of the request url that we need to make.  Let's try to use that URL to make our request."
   ]
  },
  {
   "cell_type": "markdown",
   "metadata": {},
   "source": [
    "<img src=\"./example-venues.png\" width=\"40%\"> "
   ]
  },
  {
   "cell_type": "code",
   "execution_count": 31,
   "metadata": {},
   "outputs": [
    {
     "data": {
      "text/plain": [
       "{'meta': {'code': 400,\n",
       "  'errorType': 'invalid_auth',\n",
       "  'errorDetail': 'Missing access credentials. See https://developer.foursquare.com/docs/api/configuration/authentication for details.',\n",
       "  'requestId': '5caab80a4c1f671632f5b23a'},\n",
       " 'response': {}}"
      ]
     },
     "execution_count": 31,
     "metadata": {},
     "output_type": "execute_result"
    }
   ],
   "source": [
    "import requests\n",
    "response = requests.get(\"https://api.foursquare.com/v2/venues/explore\")\n",
    "response.json()"
   ]
  },
  {
   "cell_type": "markdown",
   "metadata": {},
   "source": [
    "Oh no :( So this tells us that we have an error because of invalid authorization, but it does give us a link to learn more.  Let's [go there](https://developer.foursquare.com/docs/api/configuration/authentication)."
   ]
  },
  {
   "cell_type": "markdown",
   "metadata": {},
   "source": [
    "<img src=\"./user-auth.png\" width=\"60%\"> "
   ]
  },
  {
   "cell_type": "markdown",
   "metadata": {},
   "source": [
    "So there are basically two different kinds of authentication: Userless Auth and User Auth.  It says the userless one doesn't require a user's permissions, and the user auth is when need a user to get checkins.  It seems like we need the simpler one -- after all we're just looking for venue info.  \n",
    "\n",
    "Let's look at the Userless Auth URL.  It says to specify our Client ID and Secret in the following format:\n",
    "\n",
    "`\"https://api.foursquare.com/v2/venues/search?ll=40.7,-74&client_id=CLIENT_ID&client_secret=CLIENT_SECRET&v=YYYYMMDD\"`"
   ]
  },
  {
   "cell_type": "markdown",
   "metadata": {},
   "source": [
    "Ok, so here's the main thing to realize: everything after the question mark is a query parameter.  Let's see this as we break down the url in full."
   ]
  },
  {
   "cell_type": "markdown",
   "metadata": {},
   "source": [
    "* \"https://api.foursquare.com\" is our root url.\n",
    "* \"/v2/\" is for version 2 of the API\n",
    "* \"/venues/search\" is for searching the resource, venues.\n",
    "* \"?\", as we know marks the beginning of our query parameters.\n",
    "\n",
    "With the query parameters, note that we have a series of `field=value` pairings.  Notice that there is an `&` between each `field=value` pairing.\n",
    "\n",
    "The first field, `ll` is for the longitude and latitude that we want to search for venues.  Then the `client_id` and client secret is that client id that we were given after we registered.  Finally, the `v=YYYYMMDD` is a version, where Foursquare asks us to place in the current day."
   ]
  },
  {
   "cell_type": "markdown",
   "metadata": {},
   "source": [
    "## Going further on client id and client secret "
   ]
  },
  {
   "cell_type": "markdown",
   "metadata": {},
   "source": [
    "Let's take a minute to discuss the client id and client secret, as these are common components to many APIs.  Remember that both the client id and the client secret were provided to us after we filled out information to register for an account.  Well, the client id is essentially our user name and the client secret the password.  By passing this information along with the request, Foursquare is able to tell who we are, and that we are an approved user.\n",
    "\n",
    "Ok, it's time to try to use this API."
   ]
  },
  {
   "cell_type": "markdown",
   "metadata": {},
   "source": [
    "### Using the API"
   ]
  },
  {
   "cell_type": "markdown",
   "metadata": {},
   "source": [
    "Let's start by copying over the URL that Foursquare provided us in the documentation."
   ]
  },
  {
   "cell_type": "markdown",
   "metadata": {},
   "source": [
    "`\"https://api.foursquare.com/v2/venues/search?ll=40.7,-74&client_id=CLIENT_ID&client_secret=CLIENT_SECRET&v=YYYYMMDD\"`"
   ]
  },
  {
   "cell_type": "markdown",
   "metadata": {},
   "source": [
    "Ok, now we have to just fill in the gaps here.  So where we see the capitalization, we should provide our particular information.  We can do this using variables.  Let's take a look at this below."
   ]
  },
  {
   "cell_type": "markdown",
   "metadata": {},
   "source": [
    "First we can set variables `client_id`, `client_secret` and the `date` equal to our customer figures.  Each of them are `strings`, so we wrap these values in quotes."
   ]
  },
  {
   "cell_type": "code",
   "execution_count": 35,
   "metadata": {},
   "outputs": [],
   "source": [
    "client_id = \"ALECV5CBBEHRRKTIQ5ZV143YEXOH3SBLAMU54SPHKGZI1ZKE\"\n",
    "client_secret = \"3JX3NRGRS2P0KE0NSKPTMCOZOY4MWUU4M3G33BO4XTRJ15SM\"\n",
    "date = \"20190407\""
   ]
  },
  {
   "cell_type": "markdown",
   "metadata": {},
   "source": [
    "Now we can just replace that original url, and in the gaps place our variables.  Let's assign the entire result equal to `url`."
   ]
  },
  {
   "cell_type": "code",
   "execution_count": 38,
   "metadata": {},
   "outputs": [],
   "source": [
    "url = \"https://api.foursquare.com/v2/venues/search?ll=40.7,-74&client_id=\" + client_id + \"&client_secret=\" + client_secret + \"&v=\" + date"
   ]
  },
  {
   "cell_type": "markdown",
   "metadata": {},
   "source": [
    "Ok, let's look at our url."
   ]
  },
  {
   "cell_type": "code",
   "execution_count": 39,
   "metadata": {},
   "outputs": [
    {
     "data": {
      "text/plain": [
       "'https://api.foursquare.com/v2/venues/search?ll=40.7,-74&client_id=ALECV5CBBEHRRKTIQ5ZV143YEXOH3SBLAMU54SPHKGZI1ZKE&client_secret=3JX3NRGRS2P0KE0NSKPTMCOZOY4MWUU4M3G33BO4XTRJ15SM&v=20190407'"
      ]
     },
     "execution_count": 39,
     "metadata": {},
     "output_type": "execute_result"
    }
   ],
   "source": [
    "url"
   ]
  },
  {
   "cell_type": "markdown",
   "metadata": {},
   "source": [
    "Finally we can make the web request."
   ]
  },
  {
   "cell_type": "code",
   "execution_count": 41,
   "metadata": {},
   "outputs": [],
   "source": [
    "import requests\n",
    "response = requests.get(url)"
   ]
  },
  {
   "cell_type": "code",
   "execution_count": 43,
   "metadata": {},
   "outputs": [
    {
     "data": {
      "text/plain": [
       "<Response [200]>"
      ]
     },
     "execution_count": 43,
     "metadata": {},
     "output_type": "execute_result"
    }
   ],
   "source": [
    "response"
   ]
  },
  {
   "cell_type": "markdown",
   "metadata": {},
   "source": [
    "Ok, this looks promising.  We'll call `response.json()` to see the results at the very end, as it is quite long."
   ]
  },
  {
   "cell_type": "markdown",
   "metadata": {},
   "source": [
    "### Summary"
   ]
  },
  {
   "cell_type": "markdown",
   "metadata": {},
   "source": [
    "In this lesson we saw how APIs can require additional query parameters.  Some of these parameters are for authentication, which we accomplish by specifying the fields `client id` and `client secret`, which we can think of as a user name and password for logging in.\n",
    "\n",
    "Perhaps more importantly, we saw how we can use the documentation.  A lot of being a data scientist is simply following instructions by reading documentation.  This is a combination of trial and error, reading error messages, and reading documentation.  As you may have already seen, it also involves a degree of calm, patience and curiosity.  These are three things data scientists work on developing through their careers."
   ]
  },
  {
   "cell_type": "markdown",
   "metadata": {},
   "source": [
    "And now, here is your `response.json()`.  It looks like we are seeing top places in Brooklyn."
   ]
  },
  {
   "cell_type": "code",
   "execution_count": 44,
   "metadata": {},
   "outputs": [
    {
     "data": {
      "text/plain": [
       "{'meta': {'code': 200, 'requestId': '5caacd76db04f507fb8e5e9e'},\n",
       " 'response': {'venues': [{'id': '51eabef6498e10cf3aea7942',\n",
       "    'name': 'Brooklyn Bridge Park - Pier 2',\n",
       "    'location': {'address': 'Furman St',\n",
       "     'crossStreet': 'Brooklyn Bridge Park Greenway',\n",
       "     'lat': 40.69957016220183,\n",
       "     'lng': -73.99793274204788,\n",
       "     'labeledLatLngs': [{'label': 'display',\n",
       "       'lat': 40.69957016220183,\n",
       "       'lng': -73.99793274204788}],\n",
       "     'distance': 180,\n",
       "     'postalCode': '11201',\n",
       "     'cc': 'US',\n",
       "     'city': 'Brooklyn',\n",
       "     'state': 'NY',\n",
       "     'country': 'United States',\n",
       "     'formattedAddress': ['Furman St (Brooklyn Bridge Park Greenway)',\n",
       "      'Brooklyn, NY 11201',\n",
       "      'United States']},\n",
       "    'categories': [{'id': '4bf58dd8d48988d163941735',\n",
       "      'name': 'Park',\n",
       "      'pluralName': 'Parks',\n",
       "      'shortName': 'Park',\n",
       "      'icon': {'prefix': 'https://ss3.4sqi.net/img/categories_v2/parks_outdoors/park_',\n",
       "       'suffix': '.png'},\n",
       "      'primary': True}],\n",
       "    'referralId': 'v-1554697590',\n",
       "    'hasPerk': False},\n",
       "   {'id': '53ff2935498e161412b3e871',\n",
       "    'name': 'Brooklyn Bridge Park - Pier 2 Yoga Court',\n",
       "    'location': {'lat': 40.699657951708524,\n",
       "     'lng': -73.99976911704667,\n",
       "     'labeledLatLngs': [{'label': 'display',\n",
       "       'lat': 40.699657951708524,\n",
       "       'lng': -73.99976911704667}],\n",
       "     'distance': 42,\n",
       "     'cc': 'US',\n",
       "     'city': 'Brooklyn',\n",
       "     'state': 'NY',\n",
       "     'country': 'United States',\n",
       "     'formattedAddress': ['Brooklyn, NY', 'United States']},\n",
       "    'categories': [{'id': '4bf58dd8d48988d102941735',\n",
       "      'name': 'Yoga Studio',\n",
       "      'pluralName': 'Yoga Studios',\n",
       "      'shortName': 'Yoga Studio',\n",
       "      'icon': {'prefix': 'https://ss3.4sqi.net/img/categories_v2/shops/gym_yogastudio_',\n",
       "       'suffix': '.png'},\n",
       "      'primary': True}],\n",
       "    'referralId': 'v-1554697590',\n",
       "    'hasPerk': False},\n",
       "   {'id': '51c4387a498eccfe93732925',\n",
       "    'name': 'Brooklyn Bridge Park Greenway',\n",
       "    'location': {'address': 'Brooklyn Bridge Pk Greenway',\n",
       "     'lat': 40.696160206870445,\n",
       "     'lng': -73.99920701980591,\n",
       "     'labeledLatLngs': [{'label': 'display',\n",
       "       'lat': 40.696160206870445,\n",
       "       'lng': -73.99920701980591}],\n",
       "     'distance': 432,\n",
       "     'cc': 'US',\n",
       "     'city': 'Brooklyn',\n",
       "     'state': 'NY',\n",
       "     'country': 'United States',\n",
       "     'formattedAddress': ['Brooklyn Bridge Pk Greenway',\n",
       "      'Brooklyn, NY',\n",
       "      'United States']},\n",
       "    'categories': [{'id': '4f4528bc4b90abdf24c9de85',\n",
       "      'name': 'Athletics & Sports',\n",
       "      'pluralName': 'Athletics & Sports',\n",
       "      'shortName': 'Athletics & Sports',\n",
       "      'icon': {'prefix': 'https://ss3.4sqi.net/img/categories_v2/shops/sports_outdoors_',\n",
       "       'suffix': '.png'},\n",
       "      'primary': True}],\n",
       "    'referralId': 'v-1554697590',\n",
       "    'hasPerk': False},\n",
       "   {'id': '557724e4498e1fa44d508a9c',\n",
       "    'name': 'The Bloc',\n",
       "    'location': {'address': '32 Old Slip',\n",
       "     'lat': 40.703645703132146,\n",
       "     'lng': -74.00772752007857,\n",
       "     'labeledLatLngs': [{'label': 'display',\n",
       "       'lat': 40.703645703132146,\n",
       "       'lng': -74.00772752007857}],\n",
       "     'distance': 768,\n",
       "     'postalCode': '10005',\n",
       "     'cc': 'US',\n",
       "     'city': 'New York',\n",
       "     'state': 'NY',\n",
       "     'country': 'United States',\n",
       "     'formattedAddress': ['32 Old Slip',\n",
       "      'New York, NY 10005',\n",
       "      'United States']},\n",
       "    'categories': [{'id': '52e81612bcbc57f1066b7a3d',\n",
       "      'name': 'Advertising Agency',\n",
       "      'pluralName': 'Advertising Agencies',\n",
       "      'shortName': 'Advertising Agency',\n",
       "      'icon': {'prefix': 'https://ss3.4sqi.net/img/categories_v2/building/default_',\n",
       "       'suffix': '.png'},\n",
       "      'primary': True}],\n",
       "    'referralId': 'v-1554697590',\n",
       "    'hasPerk': False},\n",
       "   {'id': '5284fe6811d2114d599b3e15',\n",
       "    'name': 'Brooklyn Bridge Park - Pier 3',\n",
       "    'location': {'address': 'Brooklyn Bridge Pk Greenway',\n",
       "     'crossStreet': 'at Furman St',\n",
       "     'lat': 40.69780332891386,\n",
       "     'lng': -73.99944305419922,\n",
       "     'labeledLatLngs': [{'label': 'display',\n",
       "       'lat': 40.69780332891386,\n",
       "       'lng': -73.99944305419922}],\n",
       "     'distance': 249,\n",
       "     'postalCode': '11201',\n",
       "     'cc': 'US',\n",
       "     'city': 'Brooklyn',\n",
       "     'state': 'NY',\n",
       "     'country': 'United States',\n",
       "     'formattedAddress': ['Brooklyn Bridge Pk Greenway (at Furman St)',\n",
       "      'Brooklyn, NY 11201',\n",
       "      'United States']},\n",
       "    'categories': [{'id': '4bf58dd8d48988d163941735',\n",
       "      'name': 'Park',\n",
       "      'pluralName': 'Parks',\n",
       "      'shortName': 'Park',\n",
       "      'icon': {'prefix': 'https://ss3.4sqi.net/img/categories_v2/parks_outdoors/park_',\n",
       "       'suffix': '.png'},\n",
       "      'primary': True}],\n",
       "    'referralId': 'v-1554697590',\n",
       "    'hasPerk': False},\n",
       "   {'id': '5b6f15f0419a9e00392c13c4',\n",
       "    'name': 'The Infinity Mirrors Exhibit',\n",
       "    'location': {'lat': 40.697838,\n",
       "     'lng': -73.99957,\n",
       "     'labeledLatLngs': [{'label': 'display',\n",
       "       'lat': 40.697838,\n",
       "       'lng': -73.99957}],\n",
       "     'distance': 243,\n",
       "     'postalCode': '11201',\n",
       "     'cc': 'US',\n",
       "     'city': 'Brooklyn',\n",
       "     'state': 'NY',\n",
       "     'country': 'United States',\n",
       "     'formattedAddress': ['Brooklyn, NY 11201', 'United States']},\n",
       "    'categories': [{'id': '4bf58dd8d48988d163941735',\n",
       "      'name': 'Park',\n",
       "      'pluralName': 'Parks',\n",
       "      'shortName': 'Park',\n",
       "      'icon': {'prefix': 'https://ss3.4sqi.net/img/categories_v2/parks_outdoors/park_',\n",
       "       'suffix': '.png'},\n",
       "      'primary': True}],\n",
       "    'referralId': 'v-1554697590',\n",
       "    'hasPerk': False},\n",
       "   {'id': '4b92e01bf964a5208b2334e3',\n",
       "    'name': 'snake river lodge',\n",
       "    'location': {'lat': 40.698197,\n",
       "     'lng': -73.996277,\n",
       "     'labeledLatLngs': [{'label': 'display',\n",
       "       'lat': 40.698197,\n",
       "       'lng': -73.996277}],\n",
       "     'distance': 372,\n",
       "     'cc': 'US',\n",
       "     'city': 'Jackson hole',\n",
       "     'state': 'NY',\n",
       "     'country': 'United States',\n",
       "     'formattedAddress': ['Jackson hole, NY', 'United States']},\n",
       "    'categories': [],\n",
       "    'referralId': 'v-1554697590',\n",
       "    'hasPerk': False},\n",
       "   {'id': '53af4e97498e0bd7ae45c926',\n",
       "    'name': 'Brooklyn Bridge Park Skating Rink',\n",
       "    'location': {'address': 'Pier 2',\n",
       "     'lat': 40.699821897299444,\n",
       "     'lng': -73.99834932863362,\n",
       "     'labeledLatLngs': [{'label': 'display',\n",
       "       'lat': 40.699821897299444,\n",
       "       'lng': -73.99834932863362}],\n",
       "     'distance': 140,\n",
       "     'cc': 'US',\n",
       "     'city': 'Brooklyn',\n",
       "     'state': 'NY',\n",
       "     'country': 'United States',\n",
       "     'formattedAddress': ['Pier 2', 'Brooklyn, NY', 'United States']},\n",
       "    'categories': [{'id': '52e81612bcbc57f1066b79e9',\n",
       "      'name': 'Roller Rink',\n",
       "      'pluralName': 'Roller Rinks',\n",
       "      'shortName': 'Roller Rink',\n",
       "      'icon': {'prefix': 'https://ss3.4sqi.net/img/categories_v2/arts_entertainment/default_',\n",
       "       'suffix': '.png'},\n",
       "      'primary': True}],\n",
       "    'referralId': 'v-1554697590',\n",
       "    'hasPerk': False},\n",
       "   {'id': '5054eb43e4b04ed4f0dd1b30',\n",
       "    'name': 'La cabana',\n",
       "    'location': {'lat': 40.69875,\n",
       "     'lng': -73.99953,\n",
       "     'labeledLatLngs': [{'label': 'display',\n",
       "       'lat': 40.69875,\n",
       "       'lng': -73.99953}],\n",
       "     'distance': 144,\n",
       "     'cc': 'US',\n",
       "     'state': 'New York',\n",
       "     'country': 'United States',\n",
       "     'formattedAddress': ['New York', 'United States']},\n",
       "    'categories': [{'id': '4bf58dd8d48988d154941735',\n",
       "      'name': 'Cuban Restaurant',\n",
       "      'pluralName': 'Cuban Restaurants',\n",
       "      'shortName': 'Cuban',\n",
       "      'icon': {'prefix': 'https://ss3.4sqi.net/img/categories_v2/food/cuban_',\n",
       "       'suffix': '.png'},\n",
       "      'primary': True}],\n",
       "    'referralId': 'v-1554697590',\n",
       "    'hasPerk': False},\n",
       "   {'id': '5b4149016336be002c941465',\n",
       "    'name': 'Pier 3 Uplands',\n",
       "    'location': {'lat': 40.697478,\n",
       "     'lng': -73.998241,\n",
       "     'labeledLatLngs': [{'label': 'display',\n",
       "       'lat': 40.697478,\n",
       "       'lng': -73.998241}],\n",
       "     'distance': 317,\n",
       "     'postalCode': '11201',\n",
       "     'cc': 'US',\n",
       "     'city': 'New York',\n",
       "     'state': 'NY',\n",
       "     'country': 'United States',\n",
       "     'formattedAddress': ['New York, NY 11201', 'United States']},\n",
       "    'categories': [{'id': '4bf58dd8d48988d163941735',\n",
       "      'name': 'Park',\n",
       "      'pluralName': 'Parks',\n",
       "      'shortName': 'Park',\n",
       "      'icon': {'prefix': 'https://ss3.4sqi.net/img/categories_v2/parks_outdoors/park_',\n",
       "       'suffix': '.png'},\n",
       "      'primary': True}],\n",
       "    'referralId': 'v-1554697590',\n",
       "    'hasPerk': False},\n",
       "   {'id': '4d0d6b7d903d37048116c455',\n",
       "    'name': 'City Light Cruise',\n",
       "    'location': {'address': '23rd',\n",
       "     'crossStreet': 'Fdr drive',\n",
       "     'lat': 40.700825140265614,\n",
       "     'lng': -74.00287943703214,\n",
       "     'labeledLatLngs': [{'label': 'display',\n",
       "       'lat': 40.700825140265614,\n",
       "       'lng': -74.00287943703214}],\n",
       "     'distance': 259,\n",
       "     'cc': 'US',\n",
       "     'city': 'New York',\n",
       "     'state': 'NY',\n",
       "     'country': 'United States',\n",
       "     'formattedAddress': ['23rd (Fdr drive)',\n",
       "      'New York, NY',\n",
       "      'United States']},\n",
       "    'categories': [{'id': '4bf58dd8d48988d12d951735',\n",
       "      'name': 'Boat or Ferry',\n",
       "      'pluralName': 'Boats or Ferries',\n",
       "      'shortName': 'Boat / Ferry',\n",
       "      'icon': {'prefix': 'https://ss3.4sqi.net/img/categories_v2/travel/boat_',\n",
       "       'suffix': '.png'},\n",
       "      'primary': True}],\n",
       "    'referralId': 'v-1554697590',\n",
       "    'hasPerk': False},\n",
       "   {'id': '4c67633d8e9120a1d3ddda64',\n",
       "    'name': 'Shroud Park',\n",
       "    'location': {'address': 'Park Place',\n",
       "     'crossStreet': 'Washington',\n",
       "     'lat': 40.7015,\n",
       "     'lng': -73.99776681,\n",
       "     'labeledLatLngs': [{'label': 'display',\n",
       "       'lat': 40.7015,\n",
       "       'lng': -73.99776681}],\n",
       "     'distance': 251,\n",
       "     'postalCode': '11238',\n",
       "     'cc': 'US',\n",
       "     'city': 'Brooklyn',\n",
       "     'state': 'NY',\n",
       "     'country': 'United States',\n",
       "     'formattedAddress': ['Park Place (Washington)',\n",
       "      'Brooklyn, NY 11238',\n",
       "      'United States']},\n",
       "    'categories': [{'id': '4bf58dd8d48988d163941735',\n",
       "      'name': 'Park',\n",
       "      'pluralName': 'Parks',\n",
       "      'shortName': 'Park',\n",
       "      'icon': {'prefix': 'https://ss3.4sqi.net/img/categories_v2/parks_outdoors/park_',\n",
       "       'suffix': '.png'},\n",
       "      'primary': True}],\n",
       "    'referralId': 'v-1554697590',\n",
       "    'hasPerk': False},\n",
       "   {'id': '4dac4c974df01c19b1b0fc82',\n",
       "    'name': 'Internal Medicine Associates',\n",
       "    'location': {'address': '530 1st Ave',\n",
       "     'crossStreet': '30th street',\n",
       "     'lat': 40.698978,\n",
       "     'lng': -74.00043,\n",
       "     'labeledLatLngs': [{'label': 'display',\n",
       "       'lat': 40.698978,\n",
       "       'lng': -74.00043}],\n",
       "     'distance': 119,\n",
       "     'postalCode': '10016',\n",
       "     'cc': 'US',\n",
       "     'city': 'New York',\n",
       "     'state': 'NY',\n",
       "     'country': 'United States',\n",
       "     'formattedAddress': ['530 1st Ave (30th street)',\n",
       "      'New York, NY 10016',\n",
       "      'United States']},\n",
       "    'categories': [{'id': '4bf58dd8d48988d177941735',\n",
       "      'name': \"Doctor's Office\",\n",
       "      'pluralName': \"Doctor's Offices\",\n",
       "      'shortName': \"Doctor's Office\",\n",
       "      'icon': {'prefix': 'https://ss3.4sqi.net/img/categories_v2/building/medical_doctorsoffice_',\n",
       "       'suffix': '.png'},\n",
       "      'primary': True}],\n",
       "    'referralId': 'v-1554697590',\n",
       "    'hasPerk': False},\n",
       "   {'id': '4c3a5ad83849c92880e0c2b1',\n",
       "    'name': 'Blue Marble Ice Cream',\n",
       "    'location': {'address': 'Brooklyn Bridge Park - Pier 1',\n",
       "     'lat': 40.70283693041026,\n",
       "     'lng': -73.99627425075094,\n",
       "     'labeledLatLngs': [{'label': 'display',\n",
       "       'lat': 40.70283693041026,\n",
       "       'lng': -73.99627425075094}],\n",
       "     'distance': 445,\n",
       "     'postalCode': '11201',\n",
       "     'cc': 'US',\n",
       "     'city': 'Brooklyn',\n",
       "     'state': 'NY',\n",
       "     'country': 'United States',\n",
       "     'formattedAddress': ['Brooklyn Bridge Park - Pier 1',\n",
       "      'Brooklyn, NY 11201',\n",
       "      'United States']},\n",
       "    'categories': [{'id': '4bf58dd8d48988d1c9941735',\n",
       "      'name': 'Ice Cream Shop',\n",
       "      'pluralName': 'Ice Cream Shops',\n",
       "      'shortName': 'Ice Cream',\n",
       "      'icon': {'prefix': 'https://ss3.4sqi.net/img/categories_v2/food/icecream_',\n",
       "       'suffix': '.png'},\n",
       "      'primary': True}],\n",
       "    'referralId': 'v-1554697590',\n",
       "    'hasPerk': False},\n",
       "   {'id': '5aa18c1597cf5a1b3f933c29',\n",
       "    'name': 'Clark Street Tunnel',\n",
       "    'location': {'crossStreet': 'at East River',\n",
       "     'lat': 40.700556,\n",
       "     'lng': -74.003333,\n",
       "     'labeledLatLngs': [{'label': 'display',\n",
       "       'lat': 40.700556,\n",
       "       'lng': -74.003333}],\n",
       "     'distance': 288,\n",
       "     'cc': 'US',\n",
       "     'city': 'New York',\n",
       "     'state': 'NY',\n",
       "     'country': 'United States',\n",
       "     'formattedAddress': ['at East River', 'New York, NY', 'United States']},\n",
       "    'categories': [{'id': '52f2ab2ebcbc57f1066b8b4a',\n",
       "      'name': 'Tunnel',\n",
       "      'pluralName': 'Tunnels',\n",
       "      'shortName': 'Tunnel',\n",
       "      'icon': {'prefix': 'https://ss3.4sqi.net/img/categories_v2/travel/default_',\n",
       "       'suffix': '.png'},\n",
       "      'primary': True}],\n",
       "    'referralId': 'v-1554697590',\n",
       "    'hasPerk': False},\n",
       "   {'id': '4d9788e5daec224b4642333e',\n",
       "    'name': 'Dr Shur',\n",
       "    'location': {'address': '140 Elgar Pl',\n",
       "     'lat': 40.698978,\n",
       "     'lng': -74.00043,\n",
       "     'labeledLatLngs': [{'label': 'display',\n",
       "       'lat': 40.698978,\n",
       "       'lng': -74.00043}],\n",
       "     'distance': 119,\n",
       "     'postalCode': '10475',\n",
       "     'cc': 'US',\n",
       "     'city': 'Bronx',\n",
       "     'state': 'NY',\n",
       "     'country': 'United States',\n",
       "     'formattedAddress': ['140 Elgar Pl', 'Bronx, NY 10475', 'United States']},\n",
       "    'categories': [],\n",
       "    'referralId': 'v-1554697590',\n",
       "    'hasPerk': False},\n",
       "   {'id': '4d5dca375c39b1f73a39e449',\n",
       "    'name': \"Blackout @ BJ's on Wall\",\n",
       "    'location': {'address': '45 Wall',\n",
       "     'lat': 40.701609,\n",
       "     'lng': -73.998774,\n",
       "     'labeledLatLngs': [{'label': 'display',\n",
       "       'lat': 40.701609,\n",
       "       'lng': -73.998774}],\n",
       "     'distance': 206,\n",
       "     'cc': 'US',\n",
       "     'city': 'New York',\n",
       "     'state': 'NY',\n",
       "     'country': 'United States',\n",
       "     'formattedAddress': ['45 Wall', 'New York, NY', 'United States']},\n",
       "    'categories': [{'id': '4bf58dd8d48988d118941735',\n",
       "      'name': 'Dive Bar',\n",
       "      'pluralName': 'Dive Bars',\n",
       "      'shortName': 'Dive Bar',\n",
       "      'icon': {'prefix': 'https://ss3.4sqi.net/img/categories_v2/nightlife/divebar_',\n",
       "       'suffix': '.png'},\n",
       "      'primary': True}],\n",
       "    'referralId': 'v-1554697590',\n",
       "    'hasPerk': False},\n",
       "   {'id': '51ec27ce498e6aba2b159f3a',\n",
       "    'name': 'China Max',\n",
       "    'location': {'lat': 40.70149150976206,\n",
       "     'lng': -73.99980928755299,\n",
       "     'labeledLatLngs': [{'label': 'display',\n",
       "       'lat': 40.70149150976206,\n",
       "       'lng': -73.99980928755299}],\n",
       "     'distance': 166,\n",
       "     'cc': 'US',\n",
       "     'city': 'New York',\n",
       "     'state': 'NY',\n",
       "     'country': 'United States',\n",
       "     'formattedAddress': ['New York, NY', 'United States']},\n",
       "    'categories': [{'id': '4bf58dd8d48988d145941735',\n",
       "      'name': 'Chinese Restaurant',\n",
       "      'pluralName': 'Chinese Restaurants',\n",
       "      'shortName': 'Chinese',\n",
       "      'icon': {'prefix': 'https://ss3.4sqi.net/img/categories_v2/food/asian_',\n",
       "       'suffix': '.png'},\n",
       "      'primary': True}],\n",
       "    'referralId': 'v-1554697590',\n",
       "    'hasPerk': False},\n",
       "   {'id': '5339a67f498ea66c3d45561a',\n",
       "    'name': 'Pier 4 Beach',\n",
       "    'location': {'address': 'Brooklyn Bridge Pk Greenway',\n",
       "     'lat': 40.696595394129254,\n",
       "     'lng': -73.99908363819122,\n",
       "     'labeledLatLngs': [{'label': 'display',\n",
       "       'lat': 40.696595394129254,\n",
       "       'lng': -73.99908363819122}],\n",
       "     'distance': 386,\n",
       "     'postalCode': '11201',\n",
       "     'cc': 'US',\n",
       "     'city': 'Brooklyn',\n",
       "     'state': 'NY',\n",
       "     'country': 'United States',\n",
       "     'formattedAddress': ['Brooklyn Bridge Pk Greenway',\n",
       "      'Brooklyn, NY 11201',\n",
       "      'United States']},\n",
       "    'categories': [{'id': '4bf58dd8d48988d1e2941735',\n",
       "      'name': 'Beach',\n",
       "      'pluralName': 'Beaches',\n",
       "      'shortName': 'Beach',\n",
       "      'icon': {'prefix': 'https://ss3.4sqi.net/img/categories_v2/parks_outdoors/beach_',\n",
       "       'suffix': '.png'},\n",
       "      'primary': True}],\n",
       "    'referralId': 'v-1554697590',\n",
       "    'hasPerk': False},\n",
       "   {'id': '4f603afae4b006673a95c90c',\n",
       "    'name': 'Best Of New York',\n",
       "    'location': {'lat': 40.70219811621222,\n",
       "     'lng': -74.00100292161058,\n",
       "     'labeledLatLngs': [{'label': 'display',\n",
       "       'lat': 40.70219811621222,\n",
       "       'lng': -74.00100292161058}],\n",
       "     'distance': 258,\n",
       "     'cc': 'US',\n",
       "     'state': 'New York',\n",
       "     'country': 'United States',\n",
       "     'formattedAddress': ['New York', 'United States']},\n",
       "    'categories': [{'id': '4bf58dd8d48988d146941735',\n",
       "      'name': 'Deli / Bodega',\n",
       "      'pluralName': 'Delis / Bodegas',\n",
       "      'shortName': 'Deli / Bodega',\n",
       "      'icon': {'prefix': 'https://ss3.4sqi.net/img/categories_v2/food/deli_',\n",
       "       'suffix': '.png'},\n",
       "      'primary': True}],\n",
       "    'referralId': 'v-1554697590',\n",
       "    'hasPerk': False},\n",
       "   {'id': '4e2ee1ff483b93c2f2d97eb0',\n",
       "    'name': 'BGC Partners',\n",
       "    'location': {'lat': 40.70266296308047,\n",
       "     'lng': -74.00172199466637,\n",
       "     'labeledLatLngs': [{'label': 'display',\n",
       "       'lat': 40.70266296308047,\n",
       "       'lng': -74.00172199466637}],\n",
       "     'distance': 330,\n",
       "     'cc': 'US',\n",
       "     'state': 'New York',\n",
       "     'country': 'United States',\n",
       "     'formattedAddress': ['New York', 'United States']},\n",
       "    'categories': [{'id': '4d4b7105d754a06375d81259',\n",
       "      'name': 'Professional & Other Places',\n",
       "      'pluralName': 'Professional & Other Places',\n",
       "      'shortName': 'Professional',\n",
       "      'icon': {'prefix': 'https://ss3.4sqi.net/img/categories_v2/building/default_',\n",
       "       'suffix': '.png'},\n",
       "      'primary': True}],\n",
       "    'referralId': 'v-1554697590',\n",
       "    'hasPerk': False},\n",
       "   {'id': '4edf95ab8231abf7c269aa8e',\n",
       "    'name': 'Trans-Fast Remittance LLC',\n",
       "    'location': {'address': '110 Wall St, New York, NY 10005',\n",
       "     'lat': 40.70206149009705,\n",
       "     'lng': -74.0014842018679,\n",
       "     'labeledLatLngs': [{'label': 'display',\n",
       "       'lat': 40.70206149009705,\n",
       "       'lng': -74.0014842018679}],\n",
       "     'distance': 261,\n",
       "     'postalCode': '10005',\n",
       "     'cc': 'US',\n",
       "     'city': 'New York',\n",
       "     'state': 'NY',\n",
       "     'country': 'United States',\n",
       "     'formattedAddress': ['110 Wall St, New York, NY 10005',\n",
       "      'New York, NY 10005',\n",
       "      'United States']},\n",
       "    'categories': [{'id': '4bf58dd8d48988d10a951735',\n",
       "      'name': 'Bank',\n",
       "      'pluralName': 'Banks',\n",
       "      'shortName': 'Bank',\n",
       "      'icon': {'prefix': 'https://ss3.4sqi.net/img/categories_v2/shops/financial_',\n",
       "       'suffix': '.png'},\n",
       "      'primary': True}],\n",
       "    'referralId': 'v-1554697590',\n",
       "    'hasPerk': False},\n",
       "   {'id': '4f2c1bbae4b0ccfb1d99b510',\n",
       "    'name': 'kk hair salon',\n",
       "    'location': {'lat': 40.69956588745117,\n",
       "     'lng': -74.00108337402344,\n",
       "     'labeledLatLngs': [{'label': 'display',\n",
       "       'lat': 40.69956588745117,\n",
       "       'lng': -74.00108337402344}],\n",
       "     'distance': 103,\n",
       "     'cc': 'US',\n",
       "     'state': 'New York',\n",
       "     'country': 'United States',\n",
       "     'formattedAddress': ['New York', 'United States']},\n",
       "    'categories': [{'id': '4bf58dd8d48988d110951735',\n",
       "      'name': 'Salon / Barbershop',\n",
       "      'pluralName': 'Salons / Barbershops',\n",
       "      'shortName': 'Salon / Barbershop',\n",
       "      'icon': {'prefix': 'https://ss3.4sqi.net/img/categories_v2/shops/salon_barber_',\n",
       "       'suffix': '.png'},\n",
       "      'primary': True}],\n",
       "    'referralId': 'v-1554697590',\n",
       "    'hasPerk': False},\n",
       "   {'id': '4ce52312dfaef04d0a436c83',\n",
       "    'name': 'Avon Walk for Breast Cancer NY Office',\n",
       "    'location': {'address': '110 Wall St',\n",
       "     'lat': 40.69948154492081,\n",
       "     'lng': -73.99704324157996,\n",
       "     'labeledLatLngs': [{'label': 'display',\n",
       "       'lat': 40.69948154492081,\n",
       "       'lng': -73.99704324157996}],\n",
       "     'distance': 256,\n",
       "     'postalCode': '10005',\n",
       "     'cc': 'US',\n",
       "     'city': 'New York',\n",
       "     'state': 'NY',\n",
       "     'country': 'United States',\n",
       "     'formattedAddress': ['110 Wall St',\n",
       "      'New York, NY 10005',\n",
       "      'United States']},\n",
       "    'categories': [{'id': '50328a8e91d4c4b30a586d6c',\n",
       "      'name': 'Non-Profit',\n",
       "      'pluralName': 'Non-Profits',\n",
       "      'shortName': 'Non-Profit',\n",
       "      'icon': {'prefix': 'https://ss3.4sqi.net/img/categories_v2/building/default_',\n",
       "       'suffix': '.png'},\n",
       "      'primary': True}],\n",
       "    'referralId': 'v-1554697590',\n",
       "    'hasPerk': False},\n",
       "   {'id': '4e2edd6ffa7614797ddd30ae',\n",
       "    'name': 'A.b.c.d.e.',\n",
       "    'location': {'address': '89 South St',\n",
       "     'lat': 40.7021752,\n",
       "     'lng': -73.9984817,\n",
       "     'labeledLatLngs': [{'label': 'display',\n",
       "       'lat': 40.7021752,\n",
       "       'lng': -73.9984817}],\n",
       "     'distance': 273,\n",
       "     'postalCode': '10038',\n",
       "     'cc': 'US',\n",
       "     'city': 'New York',\n",
       "     'state': 'NY',\n",
       "     'country': 'United States',\n",
       "     'formattedAddress': ['89 South St',\n",
       "      'New York, NY 10038',\n",
       "      'United States']},\n",
       "    'categories': [{'id': '4bf58dd8d48988d1ff941735',\n",
       "      'name': 'Miscellaneous Shop',\n",
       "      'pluralName': 'Miscellaneous Shops',\n",
       "      'shortName': 'Shop',\n",
       "      'icon': {'prefix': 'https://ss3.4sqi.net/img/categories_v2/shops/default_',\n",
       "       'suffix': '.png'},\n",
       "      'primary': True}],\n",
       "    'referralId': 'v-1554697590',\n",
       "    'hasPerk': False},\n",
       "   {'id': '4ea6c238cc219396a4873a6d',\n",
       "    'name': 'The Beverage works',\n",
       "    'location': {'lat': 40.69776214584544,\n",
       "     'lng': -74.0010603076759,\n",
       "     'labeledLatLngs': [{'label': 'display',\n",
       "       'lat': 40.69776214584544,\n",
       "       'lng': -74.0010603076759}],\n",
       "     'distance': 264,\n",
       "     'cc': 'US',\n",
       "     'state': 'New York',\n",
       "     'country': 'United States',\n",
       "     'formattedAddress': ['New York', 'United States']},\n",
       "    'categories': [{'id': '4bf58dd8d48988d124941735',\n",
       "      'name': 'Office',\n",
       "      'pluralName': 'Offices',\n",
       "      'shortName': 'Office',\n",
       "      'icon': {'prefix': 'https://ss3.4sqi.net/img/categories_v2/building/default_',\n",
       "       'suffix': '.png'},\n",
       "      'primary': True}],\n",
       "    'referralId': 'v-1554697590',\n",
       "    'hasPerk': False},\n",
       "   {'id': '58cdf02f2a1982041460ccf4',\n",
       "    'name': 'Citibike - Pier 2 Brooklyn Bridge Park',\n",
       "    'location': {'lat': 40.69856,\n",
       "     'lng': -73.997233,\n",
       "     'labeledLatLngs': [{'label': 'display',\n",
       "       'lat': 40.69856,\n",
       "       'lng': -73.997233}],\n",
       "     'distance': 283,\n",
       "     'postalCode': '11201',\n",
       "     'cc': 'US',\n",
       "     'city': 'New York',\n",
       "     'state': 'NY',\n",
       "     'country': 'United States',\n",
       "     'formattedAddress': ['New York, NY 11201', 'United States']},\n",
       "    'categories': [{'id': '4e4c9077bd41f78e849722f9',\n",
       "      'name': 'Bike Rental / Bike Share',\n",
       "      'pluralName': 'Bike Rentals / Bike Shares',\n",
       "      'shortName': 'Bike',\n",
       "      'icon': {'prefix': 'https://ss3.4sqi.net/img/categories_v2/shops/bikeshop_',\n",
       "       'suffix': '.png'},\n",
       "      'primary': True}],\n",
       "    'referralId': 'v-1554697590',\n",
       "    'hasPerk': False},\n",
       "   {'id': '5295dc7f11d2d6647ee2a8a6',\n",
       "    'name': 'Turner Construction Site: Pier 2',\n",
       "    'location': {'lat': 40.69954,\n",
       "     'lng': -73.997108,\n",
       "     'labeledLatLngs': [{'label': 'display',\n",
       "       'lat': 40.69954,\n",
       "       'lng': -73.997108}],\n",
       "     'distance': 249,\n",
       "     'cc': 'US',\n",
       "     'city': 'Brooklyn',\n",
       "     'state': 'NY',\n",
       "     'country': 'United States',\n",
       "     'formattedAddress': ['Brooklyn, NY', 'United States']},\n",
       "    'categories': [{'id': '4bf58dd8d48988d163941735',\n",
       "      'name': 'Park',\n",
       "      'pluralName': 'Parks',\n",
       "      'shortName': 'Park',\n",
       "      'icon': {'prefix': 'https://ss3.4sqi.net/img/categories_v2/parks_outdoors/park_',\n",
       "       'suffix': '.png'},\n",
       "      'primary': True}],\n",
       "    'referralId': 'v-1554697590',\n",
       "    'hasPerk': False},\n",
       "   {'id': '4b7c8bedf964a5202c9a2fe3',\n",
       "    'name': '160 Columbia Heights',\n",
       "    'location': {'address': '160 Columbia Hts',\n",
       "     'lat': 40.69822184225379,\n",
       "     'lng': -73.99635251290523,\n",
       "     'labeledLatLngs': [{'label': 'display',\n",
       "       'lat': 40.69822184225379,\n",
       "       'lng': -73.99635251290523}],\n",
       "     'distance': 365,\n",
       "     'postalCode': '11201',\n",
       "     'cc': 'US',\n",
       "     'city': 'Brooklyn',\n",
       "     'state': 'NY',\n",
       "     'country': 'United States',\n",
       "     'formattedAddress': ['160 Columbia Hts',\n",
       "      'Brooklyn, NY 11201',\n",
       "      'United States']},\n",
       "    'categories': [{'id': '4d954b06a243a5684965b473',\n",
       "      'name': 'Residential Building (Apartment / Condo)',\n",
       "      'pluralName': 'Residential Buildings (Apartments / Condos)',\n",
       "      'shortName': 'Residential',\n",
       "      'icon': {'prefix': 'https://ss3.4sqi.net/img/categories_v2/building/apartment_',\n",
       "       'suffix': '.png'},\n",
       "      'primary': True}],\n",
       "    'referralId': 'v-1554697590',\n",
       "    'hasPerk': False},\n",
       "   {'id': '4b5882e7f964a520665b28e3',\n",
       "    'name': '180 Maiden Lane',\n",
       "    'location': {'address': '180 Maiden Ln',\n",
       "     'lat': 40.70559372903046,\n",
       "     'lng': -74.00542192619163,\n",
       "     'labeledLatLngs': [{'label': 'display',\n",
       "       'lat': 40.70559372903046,\n",
       "       'lng': -74.00542192619163}],\n",
       "     'distance': 772,\n",
       "     'postalCode': '10038',\n",
       "     'cc': 'US',\n",
       "     'city': 'New York',\n",
       "     'state': 'NY',\n",
       "     'country': 'United States',\n",
       "     'formattedAddress': ['180 Maiden Ln',\n",
       "      'New York, NY 10038',\n",
       "      'United States']},\n",
       "    'categories': [{'id': '4bf58dd8d48988d130941735',\n",
       "      'name': 'Building',\n",
       "      'pluralName': 'Buildings',\n",
       "      'shortName': 'Building',\n",
       "      'icon': {'prefix': 'https://ss3.4sqi.net/img/categories_v2/building/default_',\n",
       "       'suffix': '.png'},\n",
       "      'primary': True}],\n",
       "    'referralId': 'v-1554697590',\n",
       "    'hasPerk': False}],\n",
       "  'confident': False}}"
      ]
     },
     "execution_count": 44,
     "metadata": {},
     "output_type": "execute_result"
    }
   ],
   "source": [
    "response.json()"
   ]
  },
  {
   "cell_type": "code",
   "execution_count": null,
   "metadata": {},
   "outputs": [],
   "source": []
  }
 ],
 "metadata": {
  "kernelspec": {
   "display_name": "Python 3",
   "language": "python",
   "name": "python3"
  },
  "language_info": {
   "codemirror_mode": {
    "name": "ipython",
    "version": 3
   },
   "file_extension": ".py",
   "mimetype": "text/x-python",
   "name": "python",
   "nbconvert_exporter": "python",
   "pygments_lexer": "ipython3",
   "version": "3.7.0"
  }
 },
 "nbformat": 4,
 "nbformat_minor": 2
}
