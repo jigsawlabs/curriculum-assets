{
 "cells": [
  {
   "cell_type": "markdown",
   "metadata": {},
   "source": [
    "# Intro to machine learning"
   ]
  },
  {
   "cell_type": "markdown",
   "metadata": {},
   "source": [
    "### Introduction"
   ]
  },
  {
   "cell_type": "markdown",
   "metadata": {},
   "source": [
    "In the last lesson, we saw how Jon learned how to change the angle of his shot to determine the distance his basketball goes."
   ]
  },
  {
   "cell_type": "markdown",
   "metadata": {},
   "source": [
    "<img src=\"basketball-shooting.jpg\">"
   ]
  },
  {
   "cell_type": "markdown",
   "metadata": {},
   "source": [
    "We saw a five step process."
   ]
  },
  {
   "cell_type": "markdown",
   "metadata": {},
   "source": [
    "**1. Take a guess** as to how the angle effects distance\n",
    "\n",
    "```python\n",
    "def distance_guess(angle):\n",
    "    return (12 + 5*angle)\n",
    "```\n",
    "**2. Observe the actual distances** that come from taking basketball shots with different angles\n",
    "\n",
    "| angle        | actual distance           \n",
    "| ------------- |:-------------:| \n",
    "|    .30        | 8 feet | \n",
    "|    .50        | 11 feet | \n",
    "|    .70        | 17 feet | \n",
    "\n",
    "**3. Compare** the **actual** distances **to those predicted** by the formula \n",
    "\n",
    "```python\n",
    "distance_guess(.30) # 13.5\n",
    "distance_guess(.50) # 14.4\n",
    "distance_guess(.70) # 15.5\n",
    "```\n",
    "\n",
    "**4. Update our function** to better match the data\n",
    "\n",
    "**5. Predict new** distances that will come from shots with new angles\n"
   ]
  },
  {
   "cell_type": "markdown",
   "metadata": {},
   "source": [
    "Ok, now let's learn more about how machines follow this same process."
   ]
  },
  {
   "cell_type": "markdown",
   "metadata": {},
   "source": [
    "### The machine learning process"
   ]
  },
  {
   "cell_type": "markdown",
   "metadata": {},
   "source": [
    "**1. Back to plotting data**\n",
    "\n",
    "We'll start a little bit out of order with our actual data. \n",
    "\n",
    "| angle        | actual distance           \n",
    "| ------------- |:-------------:| \n",
    "|    .30        | 8 feet | \n",
    "|    .50        | 11 feet | \n",
    "|    .70        | 17 feet | \n"
   ]
  },
  {
   "cell_type": "markdown",
   "metadata": {},
   "source": [
    "Notice that our chart of angles and distances above can be plotted in a graph."
   ]
  },
  {
   "cell_type": "code",
   "execution_count": 1,
   "metadata": {},
   "outputs": [
    {
     "data": {
      "text/html": [
       "<script type=\"text/javascript\">window.PlotlyConfig = {MathJaxConfig: 'local'};</script><script type=\"text/javascript\">if (window.MathJax) {MathJax.Hub.Config({SVG: {font: \"STIX-Web\"}});}</script><script>requirejs.config({paths: { 'plotly': ['https://cdn.plot.ly/plotly-latest.min']},});if(!window._Plotly) {require(['plotly'],function(plotly) {window._Plotly=plotly;});}</script>"
      ],
      "text/vnd.plotly.v1+html": [
       "<script type=\"text/javascript\">window.PlotlyConfig = {MathJaxConfig: 'local'};</script><script type=\"text/javascript\">if (window.MathJax) {MathJax.Hub.Config({SVG: {font: \"STIX-Web\"}});}</script><script>requirejs.config({paths: { 'plotly': ['https://cdn.plot.ly/plotly-latest.min']},});if(!window._Plotly) {require(['plotly'],function(plotly) {window._Plotly=plotly;});}</script>"
      ]
     },
     "metadata": {},
     "output_type": "display_data"
    },
    {
     "data": {
      "application/vnd.plotly.v1+json": {
       "config": {
        "linkText": "Export to plot.ly",
        "plotlyServerURL": "https://plot.ly",
        "showLink": false
       },
       "data": [
        {
         "mode": "markers",
         "name": "data",
         "text": [],
         "type": "scatter",
         "uid": "8fd9af7a-dbb4-426f-aa07-d1b8dba531a2",
         "x": [
          0.3,
          0.5,
          0.7
         ],
         "y": [
          8,
          11,
          17
         ]
        }
       ],
       "layout": {
        "autosize": true,
        "xaxis": {
         "autorange": true,
         "range": [
          0.2727546714888487,
          0.7272453285111512
         ],
         "title": {
          "text": "shot angle"
         },
         "type": "linear"
        },
        "yaxis": {
         "range": [
          0,
          18
         ],
         "title": {
          "text": "shot distance"
         },
         "type": "linear"
        }
       }
      },
      "image/png": "[encoded data removed]",
      "text/html": [
       "<div id=\"deee967c-3329-46b1-b1f8-5c7a5ff4197b\" style=\"height: 525px; width: 100%;\" class=\"plotly-graph-div\"></div><script type=\"text/javascript\">require([\"plotly\"], function(Plotly) { window.PLOTLYENV=window.PLOTLYENV || {};window.PLOTLYENV.BASE_URL=\"https://plot.ly\";Plotly.newPlot(\"deee967c-3329-46b1-b1f8-5c7a5ff4197b\", [{\"mode\": \"markers\", \"name\": \"data\", \"text\": [], \"x\": [0.3, 0.5, 0.7], \"y\": [8, 11, 17], \"type\": \"scatter\", \"uid\": \"f051090f-f123-4f6b-a536-e5831d1966cf\"}], {\"xaxis\": {\"title\": {\"text\": \"shot angle\"}}, \"yaxis\": {\"range\": [0, 18], \"title\": {\"text\": \"shot distance\"}}}, {\"showLink\": false, \"linkText\": \"Export to plot.ly\", \"plotlyServerURL\": \"https://plot.ly\"})});</script><script type=\"text/javascript\">window.addEventListener(\"resize\", function(){window._Plotly.Plots.resize(document.getElementById(\"deee967c-3329-46b1-b1f8-5c7a5ff4197b\"));});</script>"
      ],
      "text/vnd.plotly.v1+html": [
       "<div id=\"deee967c-3329-46b1-b1f8-5c7a5ff4197b\" style=\"height: 525px; width: 100%;\" class=\"plotly-graph-div\"></div><script type=\"text/javascript\">require([\"plotly\"], function(Plotly) { window.PLOTLYENV=window.PLOTLYENV || {};window.PLOTLYENV.BASE_URL=\"https://plot.ly\";Plotly.newPlot(\"deee967c-3329-46b1-b1f8-5c7a5ff4197b\", [{\"mode\": \"markers\", \"name\": \"data\", \"text\": [], \"x\": [0.3, 0.5, 0.7], \"y\": [8, 11, 17], \"type\": \"scatter\", \"uid\": \"f051090f-f123-4f6b-a536-e5831d1966cf\"}], {\"xaxis\": {\"title\": {\"text\": \"shot angle\"}}, \"yaxis\": {\"range\": [0, 18], \"title\": {\"text\": \"shot distance\"}}}, {\"showLink\": false, \"linkText\": \"Export to plot.ly\", \"plotlyServerURL\": \"https://plot.ly\"})});</script><script type=\"text/javascript\">window.addEventListener(\"resize\", function(){window._Plotly.Plots.resize(document.getElementById(\"deee967c-3329-46b1-b1f8-5c7a5ff4197b\"));});</script>"
      ]
     },
     "metadata": {},
     "output_type": "display_data"
    }
   ],
   "source": [
    "from graph import trace_values, plot\n",
    "layout = {'yaxis': {'range': [0, 18], 'title': 'shot distance'}, 'xaxis': {'title': 'shot angle'}}\n",
    "plot([trace_values([.30, .50, .70], [8, 11, 17])], layout)"
   ]
  },
  {
   "cell_type": "markdown",
   "metadata": {},
   "source": [
    "So in the above graph, shot angle is along the x axis, and shot distance is on the y axis.  So that first blue dot on the left indicates that a shot with an angle of .30 had a distance of 8 feet."
   ]
  },
  {
   "cell_type": "markdown",
   "metadata": {},
   "source": [
    "**2. Defining a Model**\n",
    "\n",
    "Now the next thing to do is to see how we can display our formula $$ distance = 12 + 5*angle $$ in this graph.  As we know, the formula that our player used to estimate how an angle effects a shot is called our **model**."
   ]
  },
  {
   "cell_type": "markdown",
   "metadata": {},
   "source": [
    "Here again is our model as code."
   ]
  },
  {
   "cell_type": "code",
   "execution_count": 19,
   "metadata": {},
   "outputs": [],
   "source": [
    "def distance_guess(angle):\n",
    "    return (12 + 5*angle)"
   ]
  },
  {
   "cell_type": "markdown",
   "metadata": {},
   "source": [
    "And as we know, this model predicts a distance for each shot angle.  We can see this by passing different inputs into our function."
   ]
  },
  {
   "cell_type": "code",
   "execution_count": 26,
   "metadata": {},
   "outputs": [
    {
     "data": {
      "text/plain": [
       "15.0"
      ]
     },
     "execution_count": 26,
     "metadata": {},
     "output_type": "execute_result"
    }
   ],
   "source": [
    "distance_guess(.10) # 12.5\n",
    "distance_guess(.30) # 13.5\n",
    "distance_guess(.60) # 15.0"
   ]
  },
  {
   "cell_type": "markdown",
   "metadata": {},
   "source": [
    "Ok now the way to represent our model in our graph above is simply to display each of our model's predictions."
   ]
  },
  {
   "cell_type": "markdown",
   "metadata": {},
   "source": [
    "So once again, this is our original graph."
   ]
  },
  {
   "cell_type": "code",
   "execution_count": 2,
   "metadata": {},
   "outputs": [
    {
     "data": {
      "application/vnd.plotly.v1+json": {
       "config": {
        "linkText": "Export to plot.ly",
        "plotlyServerURL": "https://plot.ly",
        "showLink": false
       },
       "data": [
        {
         "mode": "markers",
         "name": "data",
         "text": [],
         "type": "scatter",
         "uid": "d5974ded-2d19-4fa2-ab9d-a29dc852e347",
         "x": [
          0.3,
          0.5,
          0.7
         ],
         "y": [
          8,
          11,
          17
         ]
        }
       ],
       "layout": {
        "autosize": true,
        "xaxis": {
         "autorange": true,
         "range": [
          0.2727546714888487,
          0.7272453285111512
         ],
         "title": {
          "text": "shot angle"
         },
         "type": "linear"
        },
        "yaxis": {
         "range": [
          0,
          18
         ],
         "title": {
          "text": "shot distance"
         },
         "type": "linear"
        }
       }
      },
      "image/png": "[encoded data removed]",
      "text/html": [
       "<div id=\"c4b5711d-33d9-4c0f-bfed-3add4b911c49\" style=\"height: 525px; width: 100%;\" class=\"plotly-graph-div\"></div><script type=\"text/javascript\">require([\"plotly\"], function(Plotly) { window.PLOTLYENV=window.PLOTLYENV || {};window.PLOTLYENV.BASE_URL=\"https://plot.ly\";Plotly.newPlot(\"c4b5711d-33d9-4c0f-bfed-3add4b911c49\", [{\"mode\": \"markers\", \"name\": \"data\", \"text\": [], \"x\": [0.3, 0.5, 0.7], \"y\": [8, 11, 17], \"type\": \"scatter\", \"uid\": \"c989a808-a21d-4853-8241-40a4cadd426f\"}], {\"xaxis\": {\"title\": {\"text\": \"shot angle\"}}, \"yaxis\": {\"range\": [0, 18], \"title\": {\"text\": \"shot distance\"}}}, {\"showLink\": false, \"linkText\": \"Export to plot.ly\", \"plotlyServerURL\": \"https://plot.ly\"})});</script><script type=\"text/javascript\">window.addEventListener(\"resize\", function(){window._Plotly.Plots.resize(document.getElementById(\"c4b5711d-33d9-4c0f-bfed-3add4b911c49\"));});</script>"
      ],
      "text/vnd.plotly.v1+html": [
       "<div id=\"c4b5711d-33d9-4c0f-bfed-3add4b911c49\" style=\"height: 525px; width: 100%;\" class=\"plotly-graph-div\"></div><script type=\"text/javascript\">require([\"plotly\"], function(Plotly) { window.PLOTLYENV=window.PLOTLYENV || {};window.PLOTLYENV.BASE_URL=\"https://plot.ly\";Plotly.newPlot(\"c4b5711d-33d9-4c0f-bfed-3add4b911c49\", [{\"mode\": \"markers\", \"name\": \"data\", \"text\": [], \"x\": [0.3, 0.5, 0.7], \"y\": [8, 11, 17], \"type\": \"scatter\", \"uid\": \"c989a808-a21d-4853-8241-40a4cadd426f\"}], {\"xaxis\": {\"title\": {\"text\": \"shot angle\"}}, \"yaxis\": {\"range\": [0, 18], \"title\": {\"text\": \"shot distance\"}}}, {\"showLink\": false, \"linkText\": \"Export to plot.ly\", \"plotlyServerURL\": \"https://plot.ly\"})});</script><script type=\"text/javascript\">window.addEventListener(\"resize\", function(){window._Plotly.Plots.resize(document.getElementById(\"c4b5711d-33d9-4c0f-bfed-3add4b911c49\"));});</script>"
      ]
     },
     "metadata": {},
     "output_type": "display_data"
    }
   ],
   "source": [
    "from graph import trace_values, plot\n",
    "layout = {'yaxis': {'range': [0, 18], 'title': 'shot distance'}, 'xaxis': {'title': 'shot angle'}}\n",
    "plot([trace_values([.30, .50, .70], [8, 11, 17])], layout)"
   ]
  },
  {
   "cell_type": "markdown",
   "metadata": {},
   "source": [
    "And these are the list of predictions that our model would make for these values of from .3 to .7."
   ]
  },
  {
   "cell_type": "code",
   "execution_count": 4,
   "metadata": {},
   "outputs": [
    {
     "data": {
      "text/plain": [
       "[12.5, 13.0, 13.5, 14.0, 14.5, 15.0, 15.5]"
      ]
     },
     "execution_count": 4,
     "metadata": {},
     "output_type": "execute_result"
    }
   ],
   "source": [
    "angles = [.1, .2, .3, .4, .5, .6, .7]\n",
    "predictions = list(map(lambda angle: (12 + 5*angle), angles))\n",
    "predictions"
   ]
  },
  {
   "cell_type": "markdown",
   "metadata": {},
   "source": [
    "So now we can add these predictions to our plot with a new trace."
   ]
  },
  {
   "cell_type": "code",
   "execution_count": 6,
   "metadata": {},
   "outputs": [
    {
     "data": {
      "application/vnd.plotly.v1+json": {
       "config": {
        "linkText": "Export to plot.ly",
        "plotlyServerURL": "https://plot.ly",
        "showLink": false
       },
       "data": [
        {
         "mode": "markers",
         "name": "actual shots",
         "text": [],
         "type": "scatter",
         "uid": "a0626043-60f9-4598-9ee4-4fe98ca7e0ef",
         "x": [
          0.3,
          0.5,
          0.7
         ],
         "y": [
          8,
          11,
          17
         ]
        },
        {
         "mode": "lines",
         "name": "predictions",
         "text": [],
         "type": "scatter",
         "uid": "a8602235-dd3b-46a7-bb75-97836614ee4e",
         "x": [
          0.1,
          0.2,
          0.3,
          0.4,
          0.5,
          0.6,
          0.7
         ],
         "y": [
          12.5,
          13,
          13.5,
          14,
          14.5,
          15,
          15.5
         ]
        }
       ],
       "layout": {
        "autosize": true,
        "xaxis": {
         "autorange": true,
         "range": [
          0.1,
          0.7393442622950819
         ],
         "title": {
          "text": "shot angle"
         },
         "type": "linear"
        },
        "yaxis": {
         "range": [
          0,
          18
         ],
         "title": {
          "text": "shot distance"
         },
         "type": "linear"
        }
       }
      },
      "image/png": "[encoded data removed]",
      "text/html": [
       "<div id=\"bbbf9669-5ce7-4a33-911b-6003e27d8bb5\" style=\"height: 525px; width: 100%;\" class=\"plotly-graph-div\"></div><script type=\"text/javascript\">require([\"plotly\"], function(Plotly) { window.PLOTLYENV=window.PLOTLYENV || {};window.PLOTLYENV.BASE_URL=\"https://plot.ly\";Plotly.newPlot(\"bbbf9669-5ce7-4a33-911b-6003e27d8bb5\", [{\"mode\": \"markers\", \"name\": \"actual shots\", \"text\": [], \"x\": [0.3, 0.5, 0.7], \"y\": [8, 11, 17], \"type\": \"scatter\", \"uid\": \"564269b0-977f-4cce-bd0f-c2ed47e03571\"}, {\"mode\": \"lines\", \"name\": \"predictions\", \"text\": [], \"x\": [0.1, 0.2, 0.3, 0.4, 0.5, 0.6, 0.7], \"y\": [12.5, 13.0, 13.5, 14.0, 14.5, 15.0, 15.5], \"type\": \"scatter\", \"uid\": \"68f4c552-7735-4f9c-b7d0-95414aed13c6\"}], {\"xaxis\": {\"title\": {\"text\": \"shot angle\"}}, \"yaxis\": {\"range\": [0, 18], \"title\": {\"text\": \"shot distance\"}}}, {\"showLink\": false, \"linkText\": \"Export to plot.ly\", \"plotlyServerURL\": \"https://plot.ly\"})});</script><script type=\"text/javascript\">window.addEventListener(\"resize\", function(){window._Plotly.Plots.resize(document.getElementById(\"bbbf9669-5ce7-4a33-911b-6003e27d8bb5\"));});</script>"
      ],
      "text/vnd.plotly.v1+html": [
       "<div id=\"bbbf9669-5ce7-4a33-911b-6003e27d8bb5\" style=\"height: 525px; width: 100%;\" class=\"plotly-graph-div\"></div><script type=\"text/javascript\">require([\"plotly\"], function(Plotly) { window.PLOTLYENV=window.PLOTLYENV || {};window.PLOTLYENV.BASE_URL=\"https://plot.ly\";Plotly.newPlot(\"bbbf9669-5ce7-4a33-911b-6003e27d8bb5\", [{\"mode\": \"markers\", \"name\": \"actual shots\", \"text\": [], \"x\": [0.3, 0.5, 0.7], \"y\": [8, 11, 17], \"type\": \"scatter\", \"uid\": \"564269b0-977f-4cce-bd0f-c2ed47e03571\"}, {\"mode\": \"lines\", \"name\": \"predictions\", \"text\": [], \"x\": [0.1, 0.2, 0.3, 0.4, 0.5, 0.6, 0.7], \"y\": [12.5, 13.0, 13.5, 14.0, 14.5, 15.0, 15.5], \"type\": \"scatter\", \"uid\": \"68f4c552-7735-4f9c-b7d0-95414aed13c6\"}], {\"xaxis\": {\"title\": {\"text\": \"shot angle\"}}, \"yaxis\": {\"range\": [0, 18], \"title\": {\"text\": \"shot distance\"}}}, {\"showLink\": false, \"linkText\": \"Export to plot.ly\", \"plotlyServerURL\": \"https://plot.ly\"})});</script><script type=\"text/javascript\">window.addEventListener(\"resize\", function(){window._Plotly.Plots.resize(document.getElementById(\"bbbf9669-5ce7-4a33-911b-6003e27d8bb5\"));});</script>"
      ]
     },
     "metadata": {},
     "output_type": "display_data"
    }
   ],
   "source": [
    "from graph import trace_values, plot\n",
    "layout = {'yaxis': {'range': [0, 18], 'title': 'shot distance'}, 'xaxis': {'title': 'shot angle'}}\n",
    "actual_trace = trace_values([.30, .50, .70], [8, 11, 17], name = 'actual shots')\n",
    "predictions_trace = trace_values(angles, predictions, 'lines', name = 'predictions')\n",
    "plot([actual_trace, predictions_trace], layout)"
   ]
  },
  {
   "cell_type": "markdown",
   "metadata": {},
   "source": [
    "### 3. Comparing the data"
   ]
  },
  {
   "cell_type": "markdown",
   "metadata": {},
   "source": [
    "So from the graph above, we can begin to see how well our model -- represented by the orange line -- predicts the actual data (displayed by the blue dots).  Let's make this more explicit."
   ]
  },
  {
   "cell_type": "markdown",
   "metadata": {},
   "source": [
    "> Please ignore the code used to produce the below plot."
   ]
  },
  {
   "cell_type": "code",
   "execution_count": 44,
   "metadata": {},
   "outputs": [
    {
     "data": {
      "application/vnd.plotly.v1+json": {
       "config": {
        "linkText": "Export to plot.ly",
        "plotlyServerURL": "https://plot.ly",
        "showLink": false
       },
       "data": [
        {
         "mode": "markers",
         "name": "actual shots",
         "text": [],
         "type": "scatter",
         "uid": "3e6acbd4-09c4-4cdd-a8a6-41cede879cff",
         "x": [
          0.3,
          0.5,
          0.7
         ],
         "y": [
          8,
          11,
          17
         ]
        },
        {
         "mode": "lines",
         "name": "predictions",
         "text": [],
         "type": "scatter",
         "uid": "9fb8cd8c-f670-422e-81f6-101f21a14a58",
         "x": [
          0.1,
          0.2,
          0.3,
          0.4,
          0.5,
          0.6,
          0.7,
          0.8,
          0.9,
          1
         ],
         "y": [
          12.5,
          13,
          13.5,
          14,
          14.5,
          15,
          15.5,
          16,
          16.5,
          17
         ]
        },
        {
         "hoverinfo": "none",
         "marker": {
          "color": "red"
         },
         "mode": "lines",
         "name": "error at 0.3",
         "text": [
          "-5.5"
         ],
         "textposition": "top right",
         "type": "scatter",
         "uid": "1d22a104-068a-4cf3-aba7-16513966d68e",
         "x": [
          0.3,
          0.3
         ],
         "y": [
          8,
          13.5
         ]
        },
        {
         "hoverinfo": "none",
         "marker": {
          "color": "red"
         },
         "mode": "lines",
         "name": "error at 0.5",
         "text": [
          "-3.5"
         ],
         "textposition": "top right",
         "type": "scatter",
         "uid": "b87c48fa-9120-40b5-a6d3-514257a78420",
         "x": [
          0.5,
          0.5
         ],
         "y": [
          11,
          14.5
         ]
        },
        {
         "hoverinfo": "none",
         "marker": {
          "color": "red"
         },
         "mode": "lines",
         "name": "error at 0.7",
         "text": [
          "1.5"
         ],
         "textposition": "top right",
         "type": "scatter",
         "uid": "ba7b3f80-4316-4ca9-9576-43d98abd6869",
         "x": [
          0.7,
          0.7
         ],
         "y": [
          17,
          15.5
         ]
        }
       ],
       "layout": {
        "autosize": true,
        "xaxis": {
         "autorange": true,
         "range": [
          0.1,
          1
         ],
         "type": "linear"
        },
        "yaxis": {
         "autorange": true,
         "range": [
          7.340764331210191,
          17.659235668789808
         ],
         "type": "linear"
        }
       }
      },
      "image/png": "[encoded data removed]",
      "text/html": [
       "<div id=\"efdf83a0-7ea5-4762-8d02-b8030b36ffd7\" style=\"height: 525px; width: 100%;\" class=\"plotly-graph-div\"></div><script type=\"text/javascript\">require([\"plotly\"], function(Plotly) { window.PLOTLYENV=window.PLOTLYENV || {};window.PLOTLYENV.BASE_URL=\"https://plot.ly\";Plotly.newPlot(\"efdf83a0-7ea5-4762-8d02-b8030b36ffd7\", [{\"mode\": \"markers\", \"name\": \"actual shots\", \"text\": [], \"x\": [0.3, 0.5, 0.7], \"y\": [8, 11, 17], \"type\": \"scatter\", \"uid\": \"b0947d5a-c728-4251-8410-43f0d3ab3169\"}, {\"mode\": \"lines\", \"name\": \"predictions\", \"text\": [], \"x\": [0.1, 0.2, 0.3, 0.4, 0.5, 0.6, 0.7, 0.8, 0.9, 1.0], \"y\": [12.5, 13.0, 13.5, 14.0, 14.5, 15.0, 15.5, 16.0, 16.5, 17.0], \"type\": \"scatter\", \"uid\": \"729695c8-3f35-4973-9e98-099c82cc825f\"}, {\"hoverinfo\": \"none\", \"marker\": {\"color\": \"red\"}, \"mode\": \"lines\", \"name\": \"error at 0.3\", \"text\": [\"-5.5\"], \"textposition\": \"top right\", \"x\": [0.3, 0.3], \"y\": [8, 13.5], \"type\": \"scatter\", \"uid\": \"e831caef-fa95-44f0-9b58-ffbb0c33aced\"}, {\"hoverinfo\": \"none\", \"marker\": {\"color\": \"red\"}, \"mode\": \"lines\", \"name\": \"error at 0.5\", \"text\": [\"-3.5\"], \"textposition\": \"top right\", \"x\": [0.5, 0.5], \"y\": [11, 14.5], \"type\": \"scatter\", \"uid\": \"53f194ca-7401-4d04-8561-e384ad30d3fa\"}, {\"hoverinfo\": \"none\", \"marker\": {\"color\": \"red\"}, \"mode\": \"lines\", \"name\": \"error at 0.7\", \"text\": [\"1.5\"], \"textposition\": \"top right\", \"x\": [0.7, 0.7], \"y\": [17, 15.5], \"type\": \"scatter\", \"uid\": \"3bdaf941-6827-4bca-ac71-41b0f11a7461\"}], {}, {\"showLink\": false, \"linkText\": \"Export to plot.ly\", \"plotlyServerURL\": \"https://plot.ly\"})});</script><script type=\"text/javascript\">window.addEventListener(\"resize\", function(){window._Plotly.Plots.resize(document.getElementById(\"efdf83a0-7ea5-4762-8d02-b8030b36ffd7\"));});</script>"
      ],
      "text/vnd.plotly.v1+html": [
       "<div id=\"efdf83a0-7ea5-4762-8d02-b8030b36ffd7\" style=\"height: 525px; width: 100%;\" class=\"plotly-graph-div\"></div><script type=\"text/javascript\">require([\"plotly\"], function(Plotly) { window.PLOTLYENV=window.PLOTLYENV || {};window.PLOTLYENV.BASE_URL=\"https://plot.ly\";Plotly.newPlot(\"efdf83a0-7ea5-4762-8d02-b8030b36ffd7\", [{\"mode\": \"markers\", \"name\": \"actual shots\", \"text\": [], \"x\": [0.3, 0.5, 0.7], \"y\": [8, 11, 17], \"type\": \"scatter\", \"uid\": \"b0947d5a-c728-4251-8410-43f0d3ab3169\"}, {\"mode\": \"lines\", \"name\": \"predictions\", \"text\": [], \"x\": [0.1, 0.2, 0.3, 0.4, 0.5, 0.6, 0.7, 0.8, 0.9, 1.0], \"y\": [12.5, 13.0, 13.5, 14.0, 14.5, 15.0, 15.5, 16.0, 16.5, 17.0], \"type\": \"scatter\", \"uid\": \"729695c8-3f35-4973-9e98-099c82cc825f\"}, {\"hoverinfo\": \"none\", \"marker\": {\"color\": \"red\"}, \"mode\": \"lines\", \"name\": \"error at 0.3\", \"text\": [\"-5.5\"], \"textposition\": \"top right\", \"x\": [0.3, 0.3], \"y\": [8, 13.5], \"type\": \"scatter\", \"uid\": \"e831caef-fa95-44f0-9b58-ffbb0c33aced\"}, {\"hoverinfo\": \"none\", \"marker\": {\"color\": \"red\"}, \"mode\": \"lines\", \"name\": \"error at 0.5\", \"text\": [\"-3.5\"], \"textposition\": \"top right\", \"x\": [0.5, 0.5], \"y\": [11, 14.5], \"type\": \"scatter\", \"uid\": \"53f194ca-7401-4d04-8561-e384ad30d3fa\"}, {\"hoverinfo\": \"none\", \"marker\": {\"color\": \"red\"}, \"mode\": \"lines\", \"name\": \"error at 0.7\", \"text\": [\"1.5\"], \"textposition\": \"top right\", \"x\": [0.7, 0.7], \"y\": [17, 15.5], \"type\": \"scatter\", \"uid\": \"3bdaf941-6827-4bca-ac71-41b0f11a7461\"}], {}, {\"showLink\": false, \"linkText\": \"Export to plot.ly\", \"plotlyServerURL\": \"https://plot.ly\"})});</script><script type=\"text/javascript\">window.addEventListener(\"resize\", function(){window._Plotly.Plots.resize(document.getElementById(\"efdf83a0-7ea5-4762-8d02-b8030b36ffd7\"));});</script>"
      ]
     },
     "metadata": {},
     "output_type": "display_data"
    }
   ],
   "source": [
    "from linear_equations import build_regression_line\n",
    "from graph import m_b_trace, plot, m_b_data, trace_values\n",
    "from error import error_line_traces\n",
    "\n",
    "from graph import trace_values, plot\n",
    "layout = {'yaxis': {'range': [0, 18], 'title': 'shot distance'}, 'xaxis': {'title': 'shot angle'}}\n",
    "observed_shot_angles = [.30, .50, .70]\n",
    "observed_distances = [8, 11, 17]\n",
    "actual_trace = trace_values(observed_shot_angles, observed_distances, name = 'actual shots')\n",
    "predictions_trace = trace_values(inputs, predictions, 'lines', name = 'predictions')\n",
    "\n",
    "error_traces = error_line_traces(observed_shot_angles, observed_distances, 5, 12)\n",
    "plot([actual_trace, predictions_trace] + error_traces)"
   ]
  },
  {
   "cell_type": "markdown",
   "metadata": {},
   "source": [
    "In the graph above, each red line represents the distance between what our model predicts for a given angle, and what we actually saw.  Take a look at the first red line.  The model predicts a distance of -- 13.5 feet-- and  the actual shot distance for an angle of .3 was 8 feet.  The red line shows the difference.  "
   ]
  },
  {
   "cell_type": "markdown",
   "metadata": {},
   "source": [
    "In machine learning we can't just draw red lines to see how well our model approximates our data.  Instead, at each datapoint, we calculate the difference between the actual data and what our model expects."
   ]
  },
  {
   "cell_type": "markdown",
   "metadata": {},
   "source": [
    "> error = actual - expected"
   ]
  },
  {
   "cell_type": "code",
   "execution_count": null,
   "metadata": {},
   "outputs": [],
   "source": [
    "first_error = (8 - 13.5) = -5.5\n",
    "second_error = (11 - 14.5) = -3.5\n",
    "third_error = (17 - 15.5) = 2.5"
   ]
  },
  {
   "cell_type": "markdown",
   "metadata": {},
   "source": [
    "We want to represent the total error, by adding up -5.5 + -3.5 + 2.5, but you can see adding -5.5 + -3.5 gives us -9 but adding the error at the third point, 2 to -9 gives us an error of -7.  So having the numbers in different signs is having our errors cancel each other out."
   ]
  },
  {
   "cell_type": "markdown",
   "metadata": {},
   "source": [
    "We can fix our errors cancelling each other out by squaring each of the errors.  After all:\n",
    "    \n",
    "$1^2 = 1* 1 =  1$  \n",
    "\n",
    "and\n",
    "\n",
    "$-1^2 = -1*-1 = 1$"
   ]
  },
  {
   "cell_type": "markdown",
   "metadata": {},
   "source": [
    "So let's square each of the errors above and then add up these squared errors."
   ]
  },
  {
   "cell_type": "markdown",
   "metadata": {},
   "source": [
    "$(8-13.5)^2 + (11-14.5)^2 + (17-15.5)^2 = (-5.5)^2 + (-3.5)^2 + 2.5^2 = 48.75$"
   ]
  },
  {
   "cell_type": "markdown",
   "metadata": {},
   "source": [
    "We call this number the sum of squared errors (SSE).  So SSE = 48.75 for the model above."
   ]
  },
  {
   "cell_type": "markdown",
   "metadata": {},
   "source": [
    "### 4. Updating the model"
   ]
  },
  {
   "cell_type": "markdown",
   "metadata": {},
   "source": [
    "Now that we have a metric to assess the accuracy of our model, we can try different models and see which one produces the lowest metric.  This process of updating a model so that it better matches our data is called fitting or training our *model*.  \n",
    "\n",
    "So here, we change our model so that we find a model that produces a lower SSE.   "
   ]
  },
  {
   "cell_type": "markdown",
   "metadata": {},
   "source": [
    "For example we started with the initial model of \n",
    "```python\n",
    "def distance_guess(angle):\n",
    "    return (12 + 5*angle)\n",
    "```\n",
    "but we can change this to be \n",
    "\n",
    "```python\n",
    "def distance_guess(angle):\n",
    "    return (12 + 4*angle)\n",
    "```\n",
    "or \n",
    "\n",
    "```python\n",
    "def distance_guess(angle):\n",
    "    return (12 + 3*angle)\n",
    "```\n",
    "\n",
    "And then plot the how well each of them match up to our data, by just calculating the sum of squared errors for each."
   ]
  },
  {
   "cell_type": "code",
   "execution_count": 2,
   "metadata": {},
   "outputs": [
    {
     "name": "stdout",
     "output_type": "stream",
     "text": [
      "This is the format of your plot grid:\n",
      "[ (1,1) x1,y1 ]  [ (1,2) x2,y2 ]\n",
      "\n"
     ]
    },
    {
     "data": {
      "application/vnd.plotly.v1+json": {
       "config": {
        "linkText": "Export to plot.ly",
        "plotlyServerURL": "https://plot.ly",
        "showLink": false
       },
       "data": [
        {
         "mode": "markers",
         "name": "data",
         "text": [],
         "type": "scatter",
         "uid": "1c9fbd9b-b502-4abc-9eec-aeb9e0e75ccc",
         "x": [
          0,
          1,
          2,
          3,
          4,
          5,
          6,
          7,
          8,
          9,
          10,
          11,
          12,
          13,
          14,
          15,
          16,
          17,
          18,
          19,
          20,
          21,
          22,
          23
         ],
         "xaxis": "x",
         "y": [
          66609,
          67048,
          69664,
          72238,
          84721,
          69224,
          58697,
          51430,
          48239,
          50574,
          51707,
          50305,
          45590,
          42180,
          41054,
          56182,
          49965,
          43094,
          44414,
          41393,
          34903,
          39535,
          39627,
          9400
         ],
         "yaxis": "y"
        },
        {
         "marker": {
          "color": "red"
         },
         "mode": "lines",
         "name": "data",
         "text": [],
         "type": "scatter",
         "uid": "ac35f68c-fca7-4fbe-82d5-905d21195652",
         "x": [
          0,
          1,
          2,
          3,
          4,
          5,
          6,
          7,
          8,
          9,
          10,
          11,
          12,
          13,
          14,
          15,
          16,
          17,
          18,
          19,
          20,
          21,
          22,
          23
         ],
         "xaxis": "x",
         "y": [
          65000,
          63300,
          61600,
          59900,
          58200,
          56500,
          54800,
          53100,
          51400,
          49700,
          48000,
          46300,
          44600,
          42900,
          41200,
          39500,
          37800,
          36100,
          34400,
          32700,
          31000,
          29300,
          27600,
          25900
         ],
         "yaxis": "y"
        },
        {
         "marker": {
          "color": "yellow"
         },
         "mode": "lines",
         "name": "data",
         "text": [],
         "type": "scatter",
         "uid": "1dced7a8-583a-494d-9273-a944561c0997",
         "x": [
          0,
          1,
          2,
          3,
          4,
          5,
          6,
          7,
          8,
          9,
          10,
          11,
          12,
          13,
          14,
          15,
          16,
          17,
          18,
          19,
          20,
          21,
          22,
          23
         ],
         "xaxis": "x",
         "y": [
          65000,
          63450,
          61900,
          60350,
          58800,
          57250,
          55700,
          54150,
          52600,
          51050,
          49500,
          47950,
          46400,
          44850,
          43300,
          41750,
          40200,
          38650,
          37100,
          35550,
          34000,
          32450,
          30900,
          29350
         ],
         "yaxis": "y"
        },
        {
         "marker": {
          "color": "blue"
         },
         "mode": "lines",
         "name": "data",
         "text": [],
         "type": "scatter",
         "uid": "f3533d90-f382-43d1-99ae-8aad019cffa2",
         "x": [
          0,
          1,
          2,
          3,
          4,
          5,
          6,
          7,
          8,
          9,
          10,
          11,
          12,
          13,
          14,
          15,
          16,
          17,
          18,
          19,
          20,
          21,
          22,
          23
         ],
         "xaxis": "x",
         "y": [
          65000,
          63600,
          62200,
          60800,
          59400,
          58000,
          56600,
          55200,
          53800,
          52400,
          51000,
          49600,
          48200,
          46800,
          45400,
          44000,
          42600,
          41200,
          39800,
          38400,
          37000,
          35600,
          34200,
          32800
         ],
         "yaxis": "y"
        },
        {
         "marker": {
          "color": "orange"
         },
         "mode": "lines",
         "name": "data",
         "text": [],
         "type": "scatter",
         "uid": "49217740-f124-4b90-b1b7-5fc8857021d3",
         "x": [
          0,
          1,
          2,
          3,
          4,
          5,
          6,
          7,
          8,
          9,
          10,
          11,
          12,
          13,
          14,
          15,
          16,
          17,
          18,
          19,
          20,
          21,
          22,
          23
         ],
         "xaxis": "x",
         "y": [
          65000,
          63750,
          62500,
          61250,
          60000,
          58750,
          57500,
          56250,
          55000,
          53750,
          52500,
          51250,
          50000,
          48750,
          47500,
          46250,
          45000,
          43750,
          42500,
          41250,
          40000,
          38750,
          37500,
          36250
         ],
         "yaxis": "y"
        },
        {
         "marker": {
          "color": "green"
         },
         "mode": "lines",
         "name": "data",
         "text": [],
         "type": "scatter",
         "uid": "8ba22373-d3a4-4b43-a689-3fc7e2625f5d",
         "x": [
          0,
          1,
          2,
          3,
          4,
          5,
          6,
          7,
          8,
          9,
          10,
          11,
          12,
          13,
          14,
          15,
          16,
          17,
          18,
          19,
          20,
          21,
          22,
          23
         ],
         "xaxis": "x",
         "y": [
          65000,
          63900,
          62800,
          61700,
          60600,
          59500,
          58400,
          57300,
          56200,
          55100,
          54000,
          52900,
          51800,
          50700,
          49600,
          48500,
          47400,
          46300,
          45200,
          44100,
          43000,
          41900,
          40800,
          39700
         ],
         "yaxis": "y"
        },
        {
         "marker": {
          "color": "red"
         },
         "type": "bar",
         "uid": "78b58aeb-9055-42c6-8530-b4dd6e9095c8",
         "x": [
          "RSS"
         ],
         "xaxis": "x2",
         "y": [
          2347115531
         ],
         "yaxis": "y2"
        },
        {
         "marker": {
          "color": "yellow"
         },
         "type": "bar",
         "uid": "9b3ebfd0-cf62-466a-a727-746670414872",
         "x": [
          "RSS"
         ],
         "xaxis": "x2",
         "y": [
          2027483231
         ],
         "yaxis": "y2"
        },
        {
         "marker": {
          "color": "blue"
         },
         "type": "bar",
         "uid": "e0e3c6c6-0391-46fe-87ca-14a7b965114b",
         "x": [
          "RSS"
         ],
         "xaxis": "x2",
         "y": [
          1902430931
         ],
         "yaxis": "y2"
        },
        {
         "marker": {
          "color": "orange"
         },
         "type": "bar",
         "uid": "8618f078-622b-494d-8cdc-86e7d4e6bf2f",
         "x": [
          "RSS"
         ],
         "xaxis": "x2",
         "y": [
          1971958631
         ],
         "yaxis": "y2"
        },
        {
         "marker": {
          "color": "green"
         },
         "type": "bar",
         "uid": "1fb907d5-1ab6-47fc-bea5-700465c4f578",
         "x": [
          "RSS"
         ],
         "xaxis": "x2",
         "y": [
          2236066331
         ],
         "yaxis": "y2"
        }
       ],
       "layout": {
        "autosize": true,
        "xaxis": {
         "anchor": "y",
         "autorange": true,
         "domain": [
          0,
          0.45
         ],
         "range": [
          -1.9981395873266437,
          24.998139587326644
         ],
         "type": "linear"
        },
        "xaxis2": {
         "anchor": "y2",
         "autorange": true,
         "domain": [
          0.55,
          1
         ],
         "range": [
          -0.5,
          0.5
         ],
         "type": "category"
        },
        "yaxis": {
         "anchor": "x",
         "autorange": true,
         "domain": [
          0,
          1
         ],
         "range": [
          3882.856687898089,
          90238.1433121019
         ],
         "type": "linear"
        },
        "yaxis2": {
         "anchor": "x2",
         "autorange": true,
         "domain": [
          0,
          1
         ],
         "range": [
          0,
          2470647927.368421
         ],
         "type": "linear"
        }
       }
      },
      "image/png": "[encoded data removed]",
      "text/html": [
       "<div id=\"e7d72478-8914-4329-a9d9-316c2e6d32d4\" style=\"height: 525px; width: 100%;\" class=\"plotly-graph-div\"></div><script type=\"text/javascript\">require([\"plotly\"], function(Plotly) { window.PLOTLYENV=window.PLOTLYENV || {};window.PLOTLYENV.BASE_URL=\"https://plot.ly\";Plotly.newPlot(\"e7d72478-8914-4329-a9d9-316c2e6d32d4\", [{\"mode\": \"markers\", \"name\": \"data\", \"text\": [], \"x\": [0, 1, 2, 3, 4, 5, 6, 7, 8, 9, 10, 11, 12, 13, 14, 15, 16, 17, 18, 19, 20, 21, 22, 23], \"y\": [66609, 67048, 69664, 72238, 84721, 69224, 58697, 51430, 48239, 50574, 51707, 50305, 45590, 42180, 41054, 56182, 49965, 43094, 44414, 41393, 34903, 39535, 39627, 9400], \"type\": \"scatter\", \"uid\": \"1c9fbd9b-b502-4abc-9eec-aeb9e0e75ccc\", \"xaxis\": \"x\", \"yaxis\": \"y\"}, {\"marker\": {\"color\": \"red\"}, \"mode\": \"lines\", \"name\": \"data\", \"text\": [], \"x\": [0, 1, 2, 3, 4, 5, 6, 7, 8, 9, 10, 11, 12, 13, 14, 15, 16, 17, 18, 19, 20, 21, 22, 23], \"y\": [65000, 63300, 61600, 59900, 58200, 56500, 54800, 53100, 51400, 49700, 48000, 46300, 44600, 42900, 41200, 39500, 37800, 36100, 34400, 32700, 31000, 29300, 27600, 25900], \"type\": \"scatter\", \"uid\": \"ac35f68c-fca7-4fbe-82d5-905d21195652\", \"xaxis\": \"x\", \"yaxis\": \"y\"}, {\"marker\": {\"color\": \"yellow\"}, \"mode\": \"lines\", \"name\": \"data\", \"text\": [], \"x\": [0, 1, 2, 3, 4, 5, 6, 7, 8, 9, 10, 11, 12, 13, 14, 15, 16, 17, 18, 19, 20, 21, 22, 23], \"y\": [65000, 63450, 61900, 60350, 58800, 57250, 55700, 54150, 52600, 51050, 49500, 47950, 46400, 44850, 43300, 41750, 40200, 38650, 37100, 35550, 34000, 32450, 30900, 29350], \"type\": \"scatter\", \"uid\": \"1dced7a8-583a-494d-9273-a944561c0997\", \"xaxis\": \"x\", \"yaxis\": \"y\"}, {\"marker\": {\"color\": \"blue\"}, \"mode\": \"lines\", \"name\": \"data\", \"text\": [], \"x\": [0, 1, 2, 3, 4, 5, 6, 7, 8, 9, 10, 11, 12, 13, 14, 15, 16, 17, 18, 19, 20, 21, 22, 23], \"y\": [65000, 63600, 62200, 60800, 59400, 58000, 56600, 55200, 53800, 52400, 51000, 49600, 48200, 46800, 45400, 44000, 42600, 41200, 39800, 38400, 37000, 35600, 34200, 32800], \"type\": \"scatter\", \"uid\": \"f3533d90-f382-43d1-99ae-8aad019cffa2\", \"xaxis\": \"x\", \"yaxis\": \"y\"}, {\"marker\": {\"color\": \"orange\"}, \"mode\": \"lines\", \"name\": \"data\", \"text\": [], \"x\": [0, 1, 2, 3, 4, 5, 6, 7, 8, 9, 10, 11, 12, 13, 14, 15, 16, 17, 18, 19, 20, 21, 22, 23], \"y\": [65000, 63750, 62500, 61250, 60000, 58750, 57500, 56250, 55000, 53750, 52500, 51250, 50000, 48750, 47500, 46250, 45000, 43750, 42500, 41250, 40000, 38750, 37500, 36250], \"type\": \"scatter\", \"uid\": \"49217740-f124-4b90-b1b7-5fc8857021d3\", \"xaxis\": \"x\", \"yaxis\": \"y\"}, {\"marker\": {\"color\": \"green\"}, \"mode\": \"lines\", \"name\": \"data\", \"text\": [], \"x\": [0, 1, 2, 3, 4, 5, 6, 7, 8, 9, 10, 11, 12, 13, 14, 15, 16, 17, 18, 19, 20, 21, 22, 23], \"y\": [65000, 63900, 62800, 61700, 60600, 59500, 58400, 57300, 56200, 55100, 54000, 52900, 51800, 50700, 49600, 48500, 47400, 46300, 45200, 44100, 43000, 41900, 40800, 39700], \"type\": \"scatter\", \"uid\": \"8ba22373-d3a4-4b43-a689-3fc7e2625f5d\", \"xaxis\": \"x\", \"yaxis\": \"y\"}, {\"marker\": {\"color\": \"red\"}, \"x\": [\"RSS\"], \"y\": [2347115531], \"type\": \"bar\", \"uid\": \"78b58aeb-9055-42c6-8530-b4dd6e9095c8\", \"xaxis\": \"x2\", \"yaxis\": \"y2\"}, {\"marker\": {\"color\": \"yellow\"}, \"x\": [\"RSS\"], \"y\": [2027483231], \"type\": \"bar\", \"uid\": \"9b3ebfd0-cf62-466a-a727-746670414872\", \"xaxis\": \"x2\", \"yaxis\": \"y2\"}, {\"marker\": {\"color\": \"blue\"}, \"x\": [\"RSS\"], \"y\": [1902430931], \"type\": \"bar\", \"uid\": \"e0e3c6c6-0391-46fe-87ca-14a7b965114b\", \"xaxis\": \"x2\", \"yaxis\": \"y2\"}, {\"marker\": {\"color\": \"orange\"}, \"x\": [\"RSS\"], \"y\": [1971958631], \"type\": \"bar\", \"uid\": \"8618f078-622b-494d-8cdc-86e7d4e6bf2f\", \"xaxis\": \"x2\", \"yaxis\": \"y2\"}, {\"marker\": {\"color\": \"green\"}, \"x\": [\"RSS\"], \"y\": [2236066331], \"type\": \"bar\", \"uid\": \"1fb907d5-1ab6-47fc-bea5-700465c4f578\", \"xaxis\": \"x2\", \"yaxis\": \"y2\"}], {\"xaxis\": {\"anchor\": \"y\", \"domain\": [0.0, 0.45]}, \"yaxis\": {\"anchor\": \"x\", \"domain\": [0.0, 1.0]}, \"xaxis2\": {\"anchor\": \"y2\", \"domain\": [0.55, 1.0]}, \"yaxis2\": {\"anchor\": \"x2\", \"domain\": [0.0, 1.0]}}, {\"showLink\": false, \"linkText\": \"Export to plot.ly\", \"plotlyServerURL\": \"https://plot.ly\"})});</script><script type=\"text/javascript\">window.addEventListener(\"resize\", function(){window._Plotly.Plots.resize(document.getElementById(\"e7d72478-8914-4329-a9d9-316c2e6d32d4\"));});</script>"
      ],
      "text/vnd.plotly.v1+html": [
       "<div id=\"e7d72478-8914-4329-a9d9-316c2e6d32d4\" style=\"height: 525px; width: 100%;\" class=\"plotly-graph-div\"></div><script type=\"text/javascript\">require([\"plotly\"], function(Plotly) { window.PLOTLYENV=window.PLOTLYENV || {};window.PLOTLYENV.BASE_URL=\"https://plot.ly\";Plotly.newPlot(\"e7d72478-8914-4329-a9d9-316c2e6d32d4\", [{\"mode\": \"markers\", \"name\": \"data\", \"text\": [], \"x\": [0, 1, 2, 3, 4, 5, 6, 7, 8, 9, 10, 11, 12, 13, 14, 15, 16, 17, 18, 19, 20, 21, 22, 23], \"y\": [66609, 67048, 69664, 72238, 84721, 69224, 58697, 51430, 48239, 50574, 51707, 50305, 45590, 42180, 41054, 56182, 49965, 43094, 44414, 41393, 34903, 39535, 39627, 9400], \"type\": \"scatter\", \"uid\": \"1c9fbd9b-b502-4abc-9eec-aeb9e0e75ccc\", \"xaxis\": \"x\", \"yaxis\": \"y\"}, {\"marker\": {\"color\": \"red\"}, \"mode\": \"lines\", \"name\": \"data\", \"text\": [], \"x\": [0, 1, 2, 3, 4, 5, 6, 7, 8, 9, 10, 11, 12, 13, 14, 15, 16, 17, 18, 19, 20, 21, 22, 23], \"y\": [65000, 63300, 61600, 59900, 58200, 56500, 54800, 53100, 51400, 49700, 48000, 46300, 44600, 42900, 41200, 39500, 37800, 36100, 34400, 32700, 31000, 29300, 27600, 25900], \"type\": \"scatter\", \"uid\": \"ac35f68c-fca7-4fbe-82d5-905d21195652\", \"xaxis\": \"x\", \"yaxis\": \"y\"}, {\"marker\": {\"color\": \"yellow\"}, \"mode\": \"lines\", \"name\": \"data\", \"text\": [], \"x\": [0, 1, 2, 3, 4, 5, 6, 7, 8, 9, 10, 11, 12, 13, 14, 15, 16, 17, 18, 19, 20, 21, 22, 23], \"y\": [65000, 63450, 61900, 60350, 58800, 57250, 55700, 54150, 52600, 51050, 49500, 47950, 46400, 44850, 43300, 41750, 40200, 38650, 37100, 35550, 34000, 32450, 30900, 29350], \"type\": \"scatter\", \"uid\": \"1dced7a8-583a-494d-9273-a944561c0997\", \"xaxis\": \"x\", \"yaxis\": \"y\"}, {\"marker\": {\"color\": \"blue\"}, \"mode\": \"lines\", \"name\": \"data\", \"text\": [], \"x\": [0, 1, 2, 3, 4, 5, 6, 7, 8, 9, 10, 11, 12, 13, 14, 15, 16, 17, 18, 19, 20, 21, 22, 23], \"y\": [65000, 63600, 62200, 60800, 59400, 58000, 56600, 55200, 53800, 52400, 51000, 49600, 48200, 46800, 45400, 44000, 42600, 41200, 39800, 38400, 37000, 35600, 34200, 32800], \"type\": \"scatter\", \"uid\": \"f3533d90-f382-43d1-99ae-8aad019cffa2\", \"xaxis\": \"x\", \"yaxis\": \"y\"}, {\"marker\": {\"color\": \"orange\"}, \"mode\": \"lines\", \"name\": \"data\", \"text\": [], \"x\": [0, 1, 2, 3, 4, 5, 6, 7, 8, 9, 10, 11, 12, 13, 14, 15, 16, 17, 18, 19, 20, 21, 22, 23], \"y\": [65000, 63750, 62500, 61250, 60000, 58750, 57500, 56250, 55000, 53750, 52500, 51250, 50000, 48750, 47500, 46250, 45000, 43750, 42500, 41250, 40000, 38750, 37500, 36250], \"type\": \"scatter\", \"uid\": \"49217740-f124-4b90-b1b7-5fc8857021d3\", \"xaxis\": \"x\", \"yaxis\": \"y\"}, {\"marker\": {\"color\": \"green\"}, \"mode\": \"lines\", \"name\": \"data\", \"text\": [], \"x\": [0, 1, 2, 3, 4, 5, 6, 7, 8, 9, 10, 11, 12, 13, 14, 15, 16, 17, 18, 19, 20, 21, 22, 23], \"y\": [65000, 63900, 62800, 61700, 60600, 59500, 58400, 57300, 56200, 55100, 54000, 52900, 51800, 50700, 49600, 48500, 47400, 46300, 45200, 44100, 43000, 41900, 40800, 39700], \"type\": \"scatter\", \"uid\": \"8ba22373-d3a4-4b43-a689-3fc7e2625f5d\", \"xaxis\": \"x\", \"yaxis\": \"y\"}, {\"marker\": {\"color\": \"red\"}, \"x\": [\"RSS\"], \"y\": [2347115531], \"type\": \"bar\", \"uid\": \"78b58aeb-9055-42c6-8530-b4dd6e9095c8\", \"xaxis\": \"x2\", \"yaxis\": \"y2\"}, {\"marker\": {\"color\": \"yellow\"}, \"x\": [\"RSS\"], \"y\": [2027483231], \"type\": \"bar\", \"uid\": \"9b3ebfd0-cf62-466a-a727-746670414872\", \"xaxis\": \"x2\", \"yaxis\": \"y2\"}, {\"marker\": {\"color\": \"blue\"}, \"x\": [\"RSS\"], \"y\": [1902430931], \"type\": \"bar\", \"uid\": \"e0e3c6c6-0391-46fe-87ca-14a7b965114b\", \"xaxis\": \"x2\", \"yaxis\": \"y2\"}, {\"marker\": {\"color\": \"orange\"}, \"x\": [\"RSS\"], \"y\": [1971958631], \"type\": \"bar\", \"uid\": \"8618f078-622b-494d-8cdc-86e7d4e6bf2f\", \"xaxis\": \"x2\", \"yaxis\": \"y2\"}, {\"marker\": {\"color\": \"green\"}, \"x\": [\"RSS\"], \"y\": [2236066331], \"type\": \"bar\", \"uid\": \"1fb907d5-1ab6-47fc-bea5-700465c4f578\", \"xaxis\": \"x2\", \"yaxis\": \"y2\"}], {\"xaxis\": {\"anchor\": \"y\", \"domain\": [0.0, 0.45]}, \"yaxis\": {\"anchor\": \"x\", \"domain\": [0.0, 1.0]}, \"xaxis2\": {\"anchor\": \"y2\", \"domain\": [0.55, 1.0]}, \"yaxis2\": {\"anchor\": \"x2\", \"domain\": [0.0, 1.0]}}, {\"showLink\": false, \"linkText\": \"Export to plot.ly\", \"plotlyServerURL\": \"https://plot.ly\"})});</script><script type=\"text/javascript\">window.addEventListener(\"resize\", function(){window._Plotly.Plots.resize(document.getElementById(\"e7d72478-8914-4329-a9d9-316c2e6d32d4\"));});</script>"
      ]
     },
     "metadata": {},
     "output_type": "display_data"
    }
   ],
   "source": [
    "from graph import model_trace, trace_rss, pair_colors, plot_side_by_side\n",
    "from graph import trace_values\n",
    "b= 65000\n",
    "\n",
    "import json\n",
    "with open('months-since-revenues.json', 'r') as revenue_file:\n",
    "    monthly_revenues = json.load(revenue_file)\n",
    "\n",
    "month_numbers = list(map(lambda monthly_revenue: monthly_revenue['month_number'], monthly_revenues))\n",
    "revenues = list(map(lambda monthly_revenue: monthly_revenue['revenue'], monthly_revenues))\n",
    "\n",
    "\n",
    "m_values = list(range(-1700, -1000, 150))\n",
    "rss_traces = []\n",
    "model_traces = []\n",
    "\n",
    "actual_trace = trace_values(x_values = month_numbers, y_values = revenues)\n",
    "\n",
    "for m in m_values:\n",
    "    rss_trace = trace_rss(m, b, month_numbers, revenues)\n",
    "    rss_traces.append(rss_trace)\n",
    "    built_model_trace = model_trace(m, b, month_numbers, revenues)\n",
    "    model_traces.append(built_model_trace)\n",
    "    \n",
    "pair_colors(model_traces, rss_traces)\n",
    "plot_side_by_side([actual_trace] + model_traces, rss_traces)"
   ]
  },
  {
   "cell_type": "markdown",
   "metadata": {},
   "source": [
    "### Predict new data"
   ]
  },
  {
   "cell_type": "markdown",
   "metadata": {},
   "source": [
    "Once we find the model that minimizes our SSE, we can use that model to predict new datapoints.  So this is the model that best fits our data.\n",
    "\n",
    "```python\n",
    "def distance_guess(angle):\n",
    "    return (12 + 5*angle)\n",
    "```\n",
    "\n",
    "And so because we expect future observations to influenced by the angle just like previous ones were, because this model fits our past data well, we expect this to fit future data as well. "
   ]
  },
  {
   "cell_type": "markdown",
   "metadata": {},
   "source": [
    "### Summary"
   ]
  },
  {
   "cell_type": "markdown",
   "metadata": {},
   "source": [
    "In this lesson, we saw an overview of the process of machine learning.  What we saw is that just like with human learning, machine learning starts with an initial guess of using some information to predict other -- here using angle information to predict distance.  Then it compares that guess, which we call a model with actual data, and updates that model to better match the data.\n",
    "\n",
    "The way that it can do this is by calculating the difference the actual data, and what the model would predict.  So given actual shots of different angles and their distances, how does that differ from the model's prediction of distances for shots of those angles.      "
   ]
  },
  {
   "cell_type": "markdown",
   "metadata": {},
   "source": [
    "\n",
    "\n",
    "| angle        | actual distance | predicted distance           \n",
    "| ------------- |:-------------:| -------------\n",
    "|    .30        | 8 feet |     13.5 feet\n",
    "|    .50        | 11 feet |   14.5\n",
    "|    .70        | 17 feet | 15.5\n"
   ]
  },
  {
   "cell_type": "markdown",
   "metadata": {},
   "source": [
    "Then we modify the numbers to try different numbers, and choose the model that best fits our data."
   ]
  },
  {
   "cell_type": "markdown",
   "metadata": {},
   "source": [
    "```python\n",
    "def distance_guess(angle):\n",
    "    return (12 + 5*angle)\n",
    "```"
   ]
  },
  {
   "cell_type": "markdown",
   "metadata": {},
   "source": [
    "In the next lesson, we'll use a machine learning library to create a machine learning model."
   ]
  }
 ],
 "metadata": {
  "kernelspec": {
   "display_name": "Python 3",
   "language": "python",
   "name": "python3"
  },
  "language_info": {
   "codemirror_mode": {
    "name": "ipython",
    "version": 3
   },
   "file_extension": ".py",
   "mimetype": "text/x-python",
   "name": "python",
   "nbconvert_exporter": "python",
   "pygments_lexer": "ipython3",
   "version": "3.7.0"
  }
 },
 "nbformat": 4,
 "nbformat_minor": 2
}
