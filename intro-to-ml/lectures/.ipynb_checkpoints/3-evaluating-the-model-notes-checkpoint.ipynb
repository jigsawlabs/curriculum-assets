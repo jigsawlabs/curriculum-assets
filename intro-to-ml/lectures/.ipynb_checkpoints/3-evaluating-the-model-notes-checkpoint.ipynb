{
 "cells": [
  {
   "cell_type": "markdown",
   "metadata": {},
   "source": [
    "## Evaluating the model"
   ]
  },
  {
   "cell_type": "markdown",
   "metadata": {},
   "source": [
    "### Introduction"
   ]
  },
  {
   "cell_type": "markdown",
   "metadata": {},
   "source": [
    "In the previous section, we discussed our basketball player who models the relationship between shot angle and distance."
   ]
  },
  {
   "cell_type": "markdown",
   "metadata": {},
   "source": [
    "<img src=\"basketball-shooting.jpg\">"
   ]
  },
  {
   "cell_type": "markdown",
   "metadata": {},
   "source": [
    "We expressed this model as a mathematical formula:  \n",
    "\n",
    "$$ distance = 40 * angle $$"
   ]
  },
  {
   "cell_type": "markdown",
   "metadata": {},
   "source": [
    "And as a function:"
   ]
  },
  {
   "cell_type": "code",
   "execution_count": 1,
   "metadata": {},
   "outputs": [],
   "source": [
    "def predicted_distance(angle):\n",
    "    return 40*angle"
   ]
  },
  {
   "cell_type": "markdown",
   "metadata": {},
   "source": [
    "And finally as a line on our graph."
   ]
  },
  {
   "cell_type": "markdown",
   "metadata": {},
   "source": [
    "In this lesson, we'll learn how to evaluate if our model is any good."
   ]
  },
  {
   "cell_type": "markdown",
   "metadata": {},
   "source": [
    "### Evaluating our model"
   ]
  },
  {
   "cell_type": "markdown",
   "metadata": {},
   "source": [
    "Let's take another look at our graph.  \n",
    "\n",
    "> Please focus on the graph, and ignore the code below."
   ]
  },
  {
   "cell_type": "code",
   "execution_count": 4,
   "metadata": {},
   "outputs": [
    {
     "data": {
      "application/vnd.plotly.v1+json": {
       "config": {
        "linkText": "Export to plot.ly",
        "plotlyServerURL": "https://plot.ly",
        "showLink": false
       },
       "data": [
        {
         "mode": "markers",
         "name": "data",
         "text": [],
         "type": "scatter",
         "uid": "4a76be7e-f3e1-4189-979a-4e4eaa8f226d",
         "x": [
          0.3,
          0.5,
          0.7
         ],
         "y": [
          8,
          11,
          17
         ]
        },
        {
         "mode": "lines",
         "name": "model",
         "text": [],
         "type": "scatter",
         "uid": "2257aafa-947a-4156-9a1d-3c0bb948fd1c",
         "x": [
          0.1,
          0.2,
          0.3,
          0.4,
          0.5,
          0.6,
          0.7
         ],
         "y": [
          4,
          8,
          12,
          16,
          20,
          24,
          28
         ]
        }
       ],
       "layout": {
        "autosize": true,
        "xaxis": {
         "autorange": true,
         "range": [
          0.1,
          0.7371807000946073
         ],
         "type": "linear"
        },
        "yaxis": {
         "autorange": true,
         "range": [
          2.666666666666667,
          29.333333333333332
         ],
         "type": "linear"
        }
       }
      },
      "image/png": "[encoded data removed]",
      "text/html": [
       "<div id=\"5a6cb9ea-8c25-47ea-9e67-ba75e70f4418\" style=\"height: 525px; width: 100%;\" class=\"plotly-graph-div\"></div><script type=\"text/javascript\">require([\"plotly\"], function(Plotly) { window.PLOTLYENV=window.PLOTLYENV || {};window.PLOTLYENV.BASE_URL=\"https://plot.ly\";Plotly.newPlot(\"5a6cb9ea-8c25-47ea-9e67-ba75e70f4418\", [{\"mode\": \"markers\", \"name\": \"data\", \"text\": [], \"x\": [0.3, 0.5, 0.7], \"y\": [8, 11, 17], \"type\": \"scatter\", \"uid\": \"070a4f86-40b8-4d77-a961-5d47e03b02bf\"}, {\"mode\": \"lines\", \"name\": \"model\", \"text\": [], \"x\": [0.1, 0.2, 0.3, 0.4, 0.5, 0.6, 0.7], \"y\": [4.0, 8.0, 12.0, 16.0, 20.0, 24.0, 28.0], \"type\": \"scatter\", \"uid\": \"e1dcbfc6-bd83-4fa1-90aa-e51202708bfe\"}], {}, {\"showLink\": false, \"linkText\": \"Export to plot.ly\", \"plotlyServerURL\": \"https://plot.ly\"})});</script><script type=\"text/javascript\">window.addEventListener(\"resize\", function(){window._Plotly.Plots.resize(document.getElementById(\"5a6cb9ea-8c25-47ea-9e67-ba75e70f4418\"));});</script>"
      ],
      "text/vnd.plotly.v1+html": [
       "<div id=\"5a6cb9ea-8c25-47ea-9e67-ba75e70f4418\" style=\"height: 525px; width: 100%;\" class=\"plotly-graph-div\"></div><script type=\"text/javascript\">require([\"plotly\"], function(Plotly) { window.PLOTLYENV=window.PLOTLYENV || {};window.PLOTLYENV.BASE_URL=\"https://plot.ly\";Plotly.newPlot(\"5a6cb9ea-8c25-47ea-9e67-ba75e70f4418\", [{\"mode\": \"markers\", \"name\": \"data\", \"text\": [], \"x\": [0.3, 0.5, 0.7], \"y\": [8, 11, 17], \"type\": \"scatter\", \"uid\": \"070a4f86-40b8-4d77-a961-5d47e03b02bf\"}, {\"mode\": \"lines\", \"name\": \"model\", \"text\": [], \"x\": [0.1, 0.2, 0.3, 0.4, 0.5, 0.6, 0.7], \"y\": [4.0, 8.0, 12.0, 16.0, 20.0, 24.0, 28.0], \"type\": \"scatter\", \"uid\": \"e1dcbfc6-bd83-4fa1-90aa-e51202708bfe\"}], {}, {\"showLink\": false, \"linkText\": \"Export to plot.ly\", \"plotlyServerURL\": \"https://plot.ly\"})});</script><script type=\"text/javascript\">window.addEventListener(\"resize\", function(){window._Plotly.Plots.resize(document.getElementById(\"5a6cb9ea-8c25-47ea-9e67-ba75e70f4418\"));});</script>"
      ]
     },
     "metadata": {},
     "output_type": "display_data"
    }
   ],
   "source": [
    "from graph import trace_values, plot\n",
    "angles = [.1, .2, .3, .4, .5, .6, .7]\n",
    "predicted_distances = list(map(lambda angle: 40 * angle, angles))\n",
    "data_trace = trace_values([.30, .50, .70], [8, 11, 17], name = 'data')\n",
    "model_trace = trace_values(angles, predicted_distances, mode = 'lines', name = 'model')\n",
    "layout = {'yaxis': {'range': [0, 18], 'title': 'shot distance'}, 'xaxis': {'title': 'shot angle'}}\n",
    "plot([data_trace, model_trace])"
   ]
  },
  {
   "cell_type": "markdown",
   "metadata": {},
   "source": [
    "So remember that the blue dots represent the actual data of each shot angle and it's corresponding distance.  And we use the orange line, our model, to approximate the relationship between angle and distance.\n",
    "\n",
    "We say that we are doing a good job of this, the closer that our orange line is to our blue dots."
   ]
  },
  {
   "cell_type": "markdown",
   "metadata": {},
   "source": [
    "Let's make this more explicit."
   ]
  },
  {
   "cell_type": "markdown",
   "metadata": {},
   "source": [
    "> Please ignore the code used to produce the below plot."
   ]
  },
  {
   "cell_type": "code",
   "execution_count": 10,
   "metadata": {},
   "outputs": [
    {
     "data": {
      "application/vnd.plotly.v1+json": {
       "config": {
        "linkText": "Export to plot.ly",
        "plotlyServerURL": "https://plot.ly",
        "showLink": false
       },
       "data": [
        {
         "mode": "markers",
         "name": "actual shots",
         "text": [],
         "type": "scatter",
         "uid": "f8d34475-ba18-4424-a892-62fb29bc6fba",
         "x": [
          0.3,
          0.5,
          0.7
         ],
         "y": [
          8,
          11,
          17
         ]
        },
        {
         "mode": "lines",
         "name": "predictions",
         "text": [],
         "type": "scatter",
         "uid": "ac56d11b-13fa-4574-8ef3-5bdffd2002c1",
         "x": [
          0.3,
          0.4,
          0.5,
          0.6,
          0.7
         ],
         "y": [
          12,
          16,
          20,
          24,
          28
         ]
        },
        {
         "hoverinfo": "none",
         "marker": {
          "color": "red"
         },
         "mode": "lines",
         "name": "error at 0.3",
         "text": [
          "-4"
         ],
         "textposition": "top right",
         "type": "scatter",
         "uid": "aec0e23e-ea9e-45cb-b77f-123ebd0cd308",
         "x": [
          0.3,
          0.3
         ],
         "y": [
          12,
          8
         ]
        },
        {
         "hoverinfo": "none",
         "marker": {
          "color": "red"
         },
         "mode": "lines",
         "name": "error at 0.5",
         "text": [
          "-9"
         ],
         "textposition": "top right",
         "type": "scatter",
         "uid": "f1642318-f2ea-4038-be30-3facf40258c4",
         "x": [
          0.5,
          0.5
         ],
         "y": [
          20,
          11
         ]
        },
        {
         "hoverinfo": "none",
         "marker": {
          "color": "red"
         },
         "mode": "lines",
         "name": "error at 0.7",
         "text": [
          "-11"
         ],
         "textposition": "top right",
         "type": "scatter",
         "uid": "2d77e62d-f81d-4083-93ea-7003e6186497",
         "x": [
          0.7,
          0.7
         ],
         "y": [
          28,
          17
         ]
        }
       ],
       "layout": {
        "autosize": true,
        "xaxis": {
         "autorange": true,
         "range": [
          0.27325739083265527,
          0.7267426091673447
         ],
         "type": "linear"
        },
        "yaxis": {
         "autorange": true,
         "range": [
          6.5579937304075235,
          29.128526645768027
         ],
         "type": "linear"
        }
       }
      },
      "image/png": "[encoded data removed]",
      "text/html": [
       "<div id=\"60226248-0d07-4b1e-b27d-41a92b1a5a78\" style=\"height: 525px; width: 100%;\" class=\"plotly-graph-div\"></div><script type=\"text/javascript\">require([\"plotly\"], function(Plotly) { window.PLOTLYENV=window.PLOTLYENV || {};window.PLOTLYENV.BASE_URL=\"https://plot.ly\";Plotly.newPlot(\"60226248-0d07-4b1e-b27d-41a92b1a5a78\", [{\"mode\": \"markers\", \"name\": \"actual shots\", \"text\": [], \"x\": [0.3, 0.5, 0.7], \"y\": [8, 11, 17], \"type\": \"scatter\", \"uid\": \"4a9f7a2c-bed3-4f97-8452-35ed3f0cc2ca\"}, {\"mode\": \"lines\", \"name\": \"predictions\", \"text\": [], \"x\": [0.3, 0.4, 0.5, 0.6, 0.7], \"y\": [12.0, 16.0, 20.0, 24.0, 28.0], \"type\": \"scatter\", \"uid\": \"d833c261-76bc-4c7a-a5b8-f9c2b5eb286d\"}, {\"hoverinfo\": \"none\", \"marker\": {\"color\": \"red\"}, \"mode\": \"lines\", \"name\": \"error at 0.3\", \"text\": [\"-4\"], \"textposition\": \"top right\", \"x\": [0.3, 0.3], \"y\": [12, 8], \"type\": \"scatter\", \"uid\": \"1ee4e09a-15ee-4267-b608-0216924aad0c\"}, {\"hoverinfo\": \"none\", \"marker\": {\"color\": \"red\"}, \"mode\": \"lines\", \"name\": \"error at 0.5\", \"text\": [\"-9\"], \"textposition\": \"top right\", \"x\": [0.5, 0.5], \"y\": [20, 11], \"type\": \"scatter\", \"uid\": \"f2868348-dc44-4b5a-abb8-1b94f6a6342e\"}, {\"hoverinfo\": \"none\", \"marker\": {\"color\": \"red\"}, \"mode\": \"lines\", \"name\": \"error at 0.7\", \"text\": [\"-11\"], \"textposition\": \"top right\", \"x\": [0.7, 0.7], \"y\": [28, 17], \"type\": \"scatter\", \"uid\": \"5f7d808a-e641-4979-b969-61c57154d8c0\"}], {}, {\"showLink\": false, \"linkText\": \"Export to plot.ly\", \"plotlyServerURL\": \"https://plot.ly\"})});</script><script type=\"text/javascript\">window.addEventListener(\"resize\", function(){window._Plotly.Plots.resize(document.getElementById(\"60226248-0d07-4b1e-b27d-41a92b1a5a78\"));});</script>"
      ],
      "text/vnd.plotly.v1+html": [
       "<div id=\"60226248-0d07-4b1e-b27d-41a92b1a5a78\" style=\"height: 525px; width: 100%;\" class=\"plotly-graph-div\"></div><script type=\"text/javascript\">require([\"plotly\"], function(Plotly) { window.PLOTLYENV=window.PLOTLYENV || {};window.PLOTLYENV.BASE_URL=\"https://plot.ly\";Plotly.newPlot(\"60226248-0d07-4b1e-b27d-41a92b1a5a78\", [{\"mode\": \"markers\", \"name\": \"actual shots\", \"text\": [], \"x\": [0.3, 0.5, 0.7], \"y\": [8, 11, 17], \"type\": \"scatter\", \"uid\": \"4a9f7a2c-bed3-4f97-8452-35ed3f0cc2ca\"}, {\"mode\": \"lines\", \"name\": \"predictions\", \"text\": [], \"x\": [0.3, 0.4, 0.5, 0.6, 0.7], \"y\": [12.0, 16.0, 20.0, 24.0, 28.0], \"type\": \"scatter\", \"uid\": \"d833c261-76bc-4c7a-a5b8-f9c2b5eb286d\"}, {\"hoverinfo\": \"none\", \"marker\": {\"color\": \"red\"}, \"mode\": \"lines\", \"name\": \"error at 0.3\", \"text\": [\"-4\"], \"textposition\": \"top right\", \"x\": [0.3, 0.3], \"y\": [12, 8], \"type\": \"scatter\", \"uid\": \"1ee4e09a-15ee-4267-b608-0216924aad0c\"}, {\"hoverinfo\": \"none\", \"marker\": {\"color\": \"red\"}, \"mode\": \"lines\", \"name\": \"error at 0.5\", \"text\": [\"-9\"], \"textposition\": \"top right\", \"x\": [0.5, 0.5], \"y\": [20, 11], \"type\": \"scatter\", \"uid\": \"f2868348-dc44-4b5a-abb8-1b94f6a6342e\"}, {\"hoverinfo\": \"none\", \"marker\": {\"color\": \"red\"}, \"mode\": \"lines\", \"name\": \"error at 0.7\", \"text\": [\"-11\"], \"textposition\": \"top right\", \"x\": [0.7, 0.7], \"y\": [28, 17], \"type\": \"scatter\", \"uid\": \"5f7d808a-e641-4979-b969-61c57154d8c0\"}], {}, {\"showLink\": false, \"linkText\": \"Export to plot.ly\", \"plotlyServerURL\": \"https://plot.ly\"})});</script><script type=\"text/javascript\">window.addEventListener(\"resize\", function(){window._Plotly.Plots.resize(document.getElementById(\"60226248-0d07-4b1e-b27d-41a92b1a5a78\"));});</script>"
      ]
     },
     "metadata": {},
     "output_type": "display_data"
    }
   ],
   "source": [
    "from linear_equations import build_regression_line\n",
    "from graph import m_b_trace, plot, m_b_data, trace_values\n",
    "from error import error_line_traces\n",
    "\n",
    "from graph import trace_values, plot\n",
    "layout = {'yaxis': {'range': [0, 18], 'title': 'shot distance'}, 'xaxis': {'title': 'shot angle'}}\n",
    "observed_shot_angles = [.30, .50, .70]\n",
    "observed_distances = [8, 11, 17]\n",
    "\n",
    "inputs = [.30, .40, .50, .60, .70]\n",
    "predictions = list(map(lambda angle: 40*angle,inputs))\n",
    "actual_trace = trace_values(observed_shot_angles, observed_distances, name = 'actual shots')\n",
    "predictions_trace = trace_values(inputs, predictions, 'lines', name = 'predictions')\n",
    "errors = [-4, -9, -11]\n",
    "error_traces = error_line_traces(observed_shot_angles, observed_distances, errors)\n",
    "plot([actual_trace, predictions_trace] + error_traces)"
   ]
  },
  {
   "cell_type": "markdown",
   "metadata": {},
   "source": [
    "Now each red line represents the difference between what our model predicts for a given angle, and what we actually saw.  \n",
    "\n",
    "Let's focus in on that first red line.  The model predicts a distance of -- 13.5 feet-- and  the actual shot distance for an angle of .3 was 8 feet.  The red line shows the difference.  "
   ]
  },
  {
   "cell_type": "markdown",
   "metadata": {},
   "source": [
    "Now let's turn these red lines into a number.  We do this by calculating the *difference* between the actual data and what our model expects.  We call this difference our **error**."
   ]
  },
  {
   "cell_type": "markdown",
   "metadata": {},
   "source": [
    "> error = actual - expected"
   ]
  },
  {
   "cell_type": "markdown",
   "metadata": {},
   "source": [
    "| angle        | actual distance | expected distance | error           \n",
    "| ------------- |:-------------:| :-------------:| :-------------:| \n",
    "|    .30        | 8 feet | 12 feet | $8 - 12 = - 4$ | \n",
    "|    .50        | 11 feet | 20 feet | $11 - 20 = - 9$ | \n",
    "|    .70        | 17 feet | 28 feet | $17 - 28 = - 11$ | "
   ]
  },
  {
   "cell_type": "markdown",
   "metadata": {},
   "source": [
    "Ok so we can see that our error for the first point is $8 - 12 = -4$.  And we can even calculate the **total error** of our model, just by adding these numbers up. \n",
    "\n",
    "$$total\\_error = -4 + -9 + -11 = - 24$$"
   ]
  },
  {
   "cell_type": "markdown",
   "metadata": {},
   "source": [
    "We don't really care whether our numbers are positive or negative, what we care is whether just how close the number is to zero.  The closer the number is to zero the better we do.  \n",
    "\n",
    "After all, if our model perfectly predicts our first distance of 8 feet, then this means that $error = actual - expected = 8 - 8 = 0$."
   ]
  },
  {
   "cell_type": "markdown",
   "metadata": {},
   "source": [
    "### One small problem"
   ]
  },
  {
   "cell_type": "markdown",
   "metadata": {},
   "source": [
    "Now let's change our model so that we change $$ distance=40∗angle $$ \n",
    "\n",
    "to: \n",
    "\n",
    "$ distance=25∗angle $ "
   ]
  },
  {
   "cell_type": "code",
   "execution_count": 20,
   "metadata": {},
   "outputs": [
    {
     "data": {
      "application/vnd.plotly.v1+json": {
       "config": {
        "linkText": "Export to plot.ly",
        "plotlyServerURL": "https://plot.ly",
        "showLink": false
       },
       "data": [
        {
         "mode": "markers",
         "name": "actual shots",
         "text": [],
         "type": "scatter",
         "uid": "6ae117f7-aac4-4fb3-888c-c39a2cecdd68",
         "x": [
          0.3,
          0.5,
          0.7
         ],
         "y": [
          8,
          11,
          17
         ]
        },
        {
         "mode": "lines",
         "name": "predictions",
         "text": [],
         "type": "scatter",
         "uid": "7424d229-4c60-4e7b-acc8-a05ad2093366",
         "x": [
          0.3,
          0.4,
          0.5,
          0.6,
          0.7
         ],
         "y": [
          7.5,
          10,
          12.5,
          15,
          17.5
         ]
        },
        {
         "hoverinfo": "none",
         "marker": {
          "color": "red"
         },
         "mode": "lines",
         "name": "error at 0.3",
         "text": [
          "0.5"
         ],
         "textposition": "top right",
         "type": "scatter",
         "uid": "438578b2-24b0-4dc5-973b-c4e0eb4450cb",
         "x": [
          0.3,
          0.3
         ],
         "y": [
          7.5,
          8
         ]
        },
        {
         "hoverinfo": "none",
         "marker": {
          "color": "red"
         },
         "mode": "lines",
         "name": "error at 0.5",
         "text": [
          "-1.5"
         ],
         "textposition": "top right",
         "type": "scatter",
         "uid": "fbec7cca-3369-4a04-bb33-6c4426bf2ccc",
         "x": [
          0.5,
          0.5
         ],
         "y": [
          12.5,
          11
         ]
        },
        {
         "hoverinfo": "none",
         "marker": {
          "color": "red"
         },
         "mode": "lines",
         "name": "error at 0.7",
         "text": [
          "-0.5"
         ],
         "textposition": "top right",
         "type": "scatter",
         "uid": "03fd1784-87ba-4e8c-a6fc-ee457636ed76",
         "x": [
          0.7,
          0.7
         ],
         "y": [
          17.5,
          17
         ]
        }
       ],
       "layout": {
        "autosize": true,
        "xaxis": {
         "autorange": true,
         "range": [
          0.27325739083265527,
          0.7267426091673447
         ],
         "type": "linear"
        },
        "yaxis": {
         "autorange": true,
         "range": [
          6.944444444444445,
          18.055555555555557
         ],
         "type": "linear"
        }
       }
      },
      "image/png": "[encoded data removed]",
      "text/html": [
       "<div id=\"64101cf3-457a-471c-97fa-353d6054f4bf\" style=\"height: 525px; width: 100%;\" class=\"plotly-graph-div\"></div><script type=\"text/javascript\">require([\"plotly\"], function(Plotly) { window.PLOTLYENV=window.PLOTLYENV || {};window.PLOTLYENV.BASE_URL=\"https://plot.ly\";Plotly.newPlot(\"64101cf3-457a-471c-97fa-353d6054f4bf\", [{\"mode\": \"markers\", \"name\": \"actual shots\", \"text\": [], \"x\": [0.3, 0.5, 0.7], \"y\": [8, 11, 17], \"type\": \"scatter\", \"uid\": \"9daa55ba-f4cf-4eb2-8e80-41ed4046e84a\"}, {\"mode\": \"lines\", \"name\": \"predictions\", \"text\": [], \"x\": [0.3, 0.4, 0.5, 0.6, 0.7], \"y\": [7.5, 10.0, 12.5, 15.0, 17.5], \"type\": \"scatter\", \"uid\": \"2a526a45-291e-4c38-b826-e50aa872805f\"}, {\"hoverinfo\": \"none\", \"marker\": {\"color\": \"red\"}, \"mode\": \"lines\", \"name\": \"error at 0.3\", \"text\": [\"0.5\"], \"textposition\": \"top right\", \"x\": [0.3, 0.3], \"y\": [7.5, 8], \"type\": \"scatter\", \"uid\": \"d2ac73c1-07f7-4bfb-a9c4-0ba594c2bf11\"}, {\"hoverinfo\": \"none\", \"marker\": {\"color\": \"red\"}, \"mode\": \"lines\", \"name\": \"error at 0.5\", \"text\": [\"-1.5\"], \"textposition\": \"top right\", \"x\": [0.5, 0.5], \"y\": [12.5, 11], \"type\": \"scatter\", \"uid\": \"5f5c4cbb-e1e1-48c5-abeb-636742b1c452\"}, {\"hoverinfo\": \"none\", \"marker\": {\"color\": \"red\"}, \"mode\": \"lines\", \"name\": \"error at 0.7\", \"text\": [\"-0.5\"], \"textposition\": \"top right\", \"x\": [0.7, 0.7], \"y\": [17.5, 17], \"type\": \"scatter\", \"uid\": \"08603e71-df94-48f3-97ca-60bf17a34a62\"}], {}, {\"showLink\": false, \"linkText\": \"Export to plot.ly\", \"plotlyServerURL\": \"https://plot.ly\"})});</script><script type=\"text/javascript\">window.addEventListener(\"resize\", function(){window._Plotly.Plots.resize(document.getElementById(\"64101cf3-457a-471c-97fa-353d6054f4bf\"));});</script>"
      ],
      "text/vnd.plotly.v1+html": [
       "<div id=\"64101cf3-457a-471c-97fa-353d6054f4bf\" style=\"height: 525px; width: 100%;\" class=\"plotly-graph-div\"></div><script type=\"text/javascript\">require([\"plotly\"], function(Plotly) { window.PLOTLYENV=window.PLOTLYENV || {};window.PLOTLYENV.BASE_URL=\"https://plot.ly\";Plotly.newPlot(\"64101cf3-457a-471c-97fa-353d6054f4bf\", [{\"mode\": \"markers\", \"name\": \"actual shots\", \"text\": [], \"x\": [0.3, 0.5, 0.7], \"y\": [8, 11, 17], \"type\": \"scatter\", \"uid\": \"9daa55ba-f4cf-4eb2-8e80-41ed4046e84a\"}, {\"mode\": \"lines\", \"name\": \"predictions\", \"text\": [], \"x\": [0.3, 0.4, 0.5, 0.6, 0.7], \"y\": [7.5, 10.0, 12.5, 15.0, 17.5], \"type\": \"scatter\", \"uid\": \"2a526a45-291e-4c38-b826-e50aa872805f\"}, {\"hoverinfo\": \"none\", \"marker\": {\"color\": \"red\"}, \"mode\": \"lines\", \"name\": \"error at 0.3\", \"text\": [\"0.5\"], \"textposition\": \"top right\", \"x\": [0.3, 0.3], \"y\": [7.5, 8], \"type\": \"scatter\", \"uid\": \"d2ac73c1-07f7-4bfb-a9c4-0ba594c2bf11\"}, {\"hoverinfo\": \"none\", \"marker\": {\"color\": \"red\"}, \"mode\": \"lines\", \"name\": \"error at 0.5\", \"text\": [\"-1.5\"], \"textposition\": \"top right\", \"x\": [0.5, 0.5], \"y\": [12.5, 11], \"type\": \"scatter\", \"uid\": \"5f5c4cbb-e1e1-48c5-abeb-636742b1c452\"}, {\"hoverinfo\": \"none\", \"marker\": {\"color\": \"red\"}, \"mode\": \"lines\", \"name\": \"error at 0.7\", \"text\": [\"-0.5\"], \"textposition\": \"top right\", \"x\": [0.7, 0.7], \"y\": [17.5, 17], \"type\": \"scatter\", \"uid\": \"08603e71-df94-48f3-97ca-60bf17a34a62\"}], {}, {\"showLink\": false, \"linkText\": \"Export to plot.ly\", \"plotlyServerURL\": \"https://plot.ly\"})});</script><script type=\"text/javascript\">window.addEventListener(\"resize\", function(){window._Plotly.Plots.resize(document.getElementById(\"64101cf3-457a-471c-97fa-353d6054f4bf\"));});</script>"
      ]
     },
     "metadata": {},
     "output_type": "display_data"
    }
   ],
   "source": [
    "from linear_equations import build_regression_line\n",
    "from graph import m_b_trace, plot, m_b_data, trace_values\n",
    "from error import error_line_traces\n",
    "\n",
    "from graph import trace_values, plot\n",
    "layout = {'yaxis': {'range': [0, 18], 'title': 'shot distance'}, 'xaxis': {'title': 'shot angle'}}\n",
    "observed_shot_angles = [.30, .50, .70]\n",
    "observed_distances = [8, 11, 17]\n",
    "\n",
    "inputs = [.30, .40, .50, .60, .70]\n",
    "predictions = list(map(lambda angle: 25*angle, inputs))\n",
    "actual_trace = trace_values(observed_shot_angles, observed_distances, name = 'actual shots')\n",
    "predictions_trace = trace_values(inputs, predictions, 'lines', name = 'predictions')\n",
    "errors = [.5, -1.5, -.5]\n",
    "error_traces = error_line_traces(observed_shot_angles, observed_distances, errors)\n",
    "plot([actual_trace, predictions_trace] + error_traces)"
   ]
  },
  {
   "cell_type": "markdown",
   "metadata": {},
   "source": [
    "Now let's recalculate our total error."
   ]
  },
  {
   "cell_type": "markdown",
   "metadata": {},
   "source": [
    "First we calculate the error at each data point."
   ]
  },
  {
   "cell_type": "markdown",
   "metadata": {},
   "source": [
    "| angle        | actual distance | expected distance | error           \n",
    "| ------------- |:-------------:| :-------------:| :-------------:| \n",
    "|    .30        | 8 feet | 7.5 feet | $8 - 7.5  = .5 $ | \n",
    "|    .50        | 11 feet | 12.5 feet | $11 - 12.5 = - 1.5 $ | \n",
    "|    .70        | 17  feet | 17.5 feet | $17 - 17.5 = -.5 $ | "
   ]
  },
  {
   "cell_type": "markdown",
   "metadata": {},
   "source": [
    "So notice that our model misses the distances for each point.  And adding up our total error we get: \n",
    "\n",
    ".5 - 1.5 - .5 = -1.5.\n",
    "\n",
    "This is quite odd.  Our total error equals the error that we just got at our second point, - 1.5."
   ]
  },
  {
   "cell_type": "markdown",
   "metadata": {},
   "source": [
    "The problem that we have is that our first two errors cancel each other out.  This isn't good.  We want our total error to increase each time that our predicted distance differs from our actual distance.  We don't want our errors to cancel each other out."
   ]
  },
  {
   "cell_type": "markdown",
   "metadata": {},
   "source": [
    "We fix this by simply making each error positive, which we do by squaring the error.  $.5^2 + -1.5^2 + .5^2 = .25 + 2.25 +  .25 = 2.75$."
   ]
  },
  {
   "cell_type": "markdown",
   "metadata": {},
   "source": [
    "So now, because each individual squared error is always positive, they will not cancel each other out.  We call this the **sum of the squared errors** (SSE)."
   ]
  },
  {
   "cell_type": "markdown",
   "metadata": {},
   "source": [
    "### Comparing models"
   ]
  },
  {
   "cell_type": "markdown",
   "metadata": {},
   "source": [
    "And now that we have expressed how well a model predicts our data, we can start to compare models to data.  For example, we go back and calculate the SSE for our first model of $$ distance=40∗angle $$."
   ]
  },
  {
   "cell_type": "markdown",
   "metadata": {},
   "source": [
    "| angle        | actual distance | expected distance | squared error           \n",
    "| ------------- |:-------------:| :-------------:| :-------------:| \n",
    "|    .30        | 8 feet | 12 feet | $8 - 12 = 16$ | \n",
    "|    .50        | 11 feet | 20 feet | $11 - 20 = 81$ | \n",
    "|    .70        | 17 feet | 28 feet | $17 - 28 = 121$ | "
   ]
  },
  {
   "cell_type": "markdown",
   "metadata": {},
   "source": [
    "And we saw that the model predicted our later dataset with a sum of squared error of 266. So because the SSE is smaller with our second model, we can see that our second model is better fit to the data than our first model."
   ]
  },
  {
   "cell_type": "markdown",
   "metadata": {},
   "source": [
    "### Summary"
   ]
  },
  {
   "cell_type": "markdown",
   "metadata": {},
   "source": [
    "In this lesson, we saw how to evaluate a machine learning model.  We do this by seeing how well the model matches the actual data.  The closer the model is to the data, the better our model.  \n",
    "\n",
    "We can summarize how well the model fits the data by calculating the error at each of our actual data points, where our $error =  actual - expected$.  We add up the error at each datapoint to calculate the **total error**.\n",
    "\n",
    "Then we saw that **total error** has a flaw, where the errors can cancel each other out when some errors are positive and others are negative.  To fix this, we make each of our errors positive by squaring each error.  And then we add up our squared errors to calculate the **sum of the squared errors** (SSE).  We can use our SSE score to try different models and then choose the one with the lowest score."
   ]
  }
 ],
 "metadata": {
  "kernelspec": {
   "display_name": "Python 3",
   "language": "python",
   "name": "python3"
  },
  "language_info": {
   "codemirror_mode": {
    "name": "ipython",
    "version": 3
   },
   "file_extension": ".py",
   "mimetype": "text/x-python",
   "name": "python",
   "nbconvert_exporter": "python",
   "pygments_lexer": "ipython3",
   "version": "3.7.0"
  }
 },
 "nbformat": 4,
 "nbformat_minor": 2
}
