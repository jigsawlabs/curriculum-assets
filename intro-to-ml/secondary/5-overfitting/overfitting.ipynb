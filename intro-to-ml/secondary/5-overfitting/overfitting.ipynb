{
 "cells": [
  {
   "cell_type": "markdown",
   "metadata": {},
   "source": [
    "### Overfitting"
   ]
  },
  {
   "cell_type": "markdown",
   "metadata": {},
   "source": [
    "1. Show overfitting \n",
    "\n",
    "Can show overfitting by adding in parameters like the month.  And perhaps can show this by adding in the day of the month.  So show by adding in more and more parameters we will always improve our model.\n",
    "\n",
    "But we don't really believe this.  \n",
    "\n",
    "So from here can introduce the two types of error.  Our original model was probably too inflexible and had more bias, and our new machine learning model perhaps has too much variance.\n",
    "\n",
    "So can show the variance by subsampling different subsets with different machine learning models, and showing how they change.\n",
    "\n"
   ]
  },
  {
   "cell_type": "markdown",
   "metadata": {},
   "source": [
    "1. Teaching to the test analogy\n",
    "\n",
    "Overfitting is like teaching to the test.  We can create a machine learning algorithm that is great at fitting just that data, but once you place it in the real world it doesn't do such a great job."
   ]
  },
  {
   "cell_type": "code",
   "execution_count": null,
   "metadata": {},
   "outputs": [],
   "source": []
  }
 ],
 "metadata": {
  "kernelspec": {
   "display_name": "Python 3",
   "language": "python",
   "name": "python3"
  },
  "language_info": {
   "codemirror_mode": {
    "name": "ipython",
    "version": 3
   },
   "file_extension": ".py",
   "mimetype": "text/x-python",
   "name": "python",
   "nbconvert_exporter": "python",
   "pygments_lexer": "ipython3",
   "version": "3.7.0"
  }
 },
 "nbformat": 4,
 "nbformat_minor": 2
}
