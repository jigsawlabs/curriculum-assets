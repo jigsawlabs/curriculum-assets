{
 "cells": [
  {
   "cell_type": "markdown",
   "metadata": {},
   "source": [
    "# From human learning to machine learning"
   ]
  },
  {
   "cell_type": "markdown",
   "metadata": {},
   "source": [
    "> \"All models are wrong, but some are useful.\" \n",
    ">\n",
    "> - George Box (British Statistician)"
   ]
  },
  {
   "cell_type": "markdown",
   "metadata": {},
   "source": [
    "In the last lesson, we saw how to load and plot our data using the plotly.  We applied this to plotting the monthly revenue from Max's Wine Bar in Dallas.  In this lesson, we'll finally dive in to understand what machine learning is.  The first thing we'll do is define some terms in machine learning. \n",
    "\n",
    "With machine learning what we are trying to do is determine when one thing X, what will happen to Y.  Now as humans we do this all of the time."
   ]
  },
  {
   "cell_type": "markdown",
   "metadata": {},
   "source": [
    "### Intro to Human Learning"
   ]
  },
  {
   "cell_type": "markdown",
   "metadata": {},
   "source": [
    "First, let's meditate a little bit.  And if we're going to meditate, we should meditate about basketball."
   ]
  },
  {
   "cell_type": "markdown",
   "metadata": {},
   "source": [
    "<img src=\"basketball-shooting.jpg\">"
   ]
  },
  {
   "cell_type": "markdown",
   "metadata": {},
   "source": [
    "Above is a picture of Jon.  Jon is trying to get the ball on the right into the net on left.  Let's make the problem a little easier and just say that he is just focusing on the distance that the basketball goes.  Now there are a lot of things that will determine this distance.  How hard he shoots the ball and whether there's wind.  But our player is not thinking about any of force or the wind.  It's too complicated for him.  \n",
    "\n",
    "Instead he assumes that his force and the wind always is the same, and he just focuses on how the angle of his shot influences the distance that the ball travels.  \n",
    "\n",
    "Before he shoots the first basketball he starts off with a guess of how his release angle relates to the distance.  This is his guess.  \n",
    "\n",
    "$$ distance = 2 + angle*4 $$\n",
    "\n",
    "So, for example, he believes that, if he shoots with a 30 degree angle, the distance will be:\n",
    "\n",
    "$$ 12 + .30*5 = 13.5 $$"
   ]
  },
  {
   "cell_type": "markdown",
   "metadata": {},
   "source": [
    "Let's write this as a function."
   ]
  },
  {
   "cell_type": "code",
   "execution_count": 12,
   "metadata": {},
   "outputs": [],
   "source": [
    "def distance_guess(angle):\n",
    "    return (12 + 5*angle)"
   ]
  },
  {
   "cell_type": "code",
   "execution_count": 13,
   "metadata": {},
   "outputs": [
    {
     "data": {
      "text/plain": [
       "13.5"
      ]
     },
     "execution_count": 13,
     "metadata": {},
     "output_type": "execute_result"
    }
   ],
   "source": [
    "distance_guess(.30)"
   ]
  },
  {
   "cell_type": "markdown",
   "metadata": {},
   "source": [
    "The next thing he does is test this guess.  So he takes three shots, and he measures the distance that the ball travels after each shot.  These are the results that he gets."
   ]
  },
  {
   "cell_type": "markdown",
   "metadata": {},
   "source": [
    "| angle        | actual distance           \n",
    "| ------------- |:-------------:| \n",
    "|    .30        | 8 feet | \n",
    "|    .50        | 11 feet | \n",
    "|    .70        | 17 feet | "
   ]
  },
  {
   "cell_type": "markdown",
   "metadata": {},
   "source": [
    "And this is what his formula got."
   ]
  },
  {
   "cell_type": "code",
   "execution_count": 18,
   "metadata": {},
   "outputs": [
    {
     "data": {
      "text/plain": [
       "15.5"
      ]
     },
     "execution_count": 18,
     "metadata": {},
     "output_type": "execute_result"
    }
   ],
   "source": [
    "distance_guess(.30) # 13.5\n",
    "distance_guess(.50) # 14.4\n",
    "distance_guess(.70) # 15.5"
   ]
  },
  {
   "cell_type": "markdown",
   "metadata": {},
   "source": [
    "So it looks like his guesses were too large.  Adjust his formula below to try to get to something that better matches the actual distances he observed, and thus would allow him to become more accurate with his shot. "
   ]
  },
  {
   "cell_type": "code",
   "execution_count": null,
   "metadata": {},
   "outputs": [],
   "source": [
    "def distance_guess(angle):\n",
    "    return (12 + 5*angle)"
   ]
  },
  {
   "cell_type": "code",
   "execution_count": null,
   "metadata": {},
   "outputs": [],
   "source": []
  },
  {
   "cell_type": "markdown",
   "metadata": {},
   "source": [
    "After updating the formula, he uses the newly updated formula to predict the distance of his future shots."
   ]
  },
  {
   "cell_type": "code",
   "execution_count": 33,
   "metadata": {},
   "outputs": [],
   "source": [
    "def distance_guess(angle):\n",
    "    return (12 + 4*angle)"
   ]
  },
  {
   "cell_type": "code",
   "execution_count": 38,
   "metadata": {},
   "outputs": [
    {
     "data": {
      "text/plain": [
       "14.8"
      ]
     },
     "execution_count": 38,
     "metadata": {},
     "output_type": "execute_result"
    }
   ],
   "source": [
    "distance_guess(.30) # 13.2\n",
    "distance_guess(.50) # 14.0\n",
    "distance_guess(.70) # 14.8"
   ]
  },
  {
   "cell_type": "markdown",
   "metadata": {},
   "source": [
    "Then he uses this update to predict how his future datapoints will do."
   ]
  },
  {
   "cell_type": "markdown",
   "metadata": {},
   "source": [
    "### Moving towards machine learning"
   ]
  },
  {
   "cell_type": "markdown",
   "metadata": {},
   "source": [
    "Jon learned to shoot through a five step process."
   ]
  },
  {
   "cell_type": "markdown",
   "metadata": {},
   "source": [
    "**1. Take a guess** as to how the angle effects distance\n",
    "\n",
    "```python\n",
    "def distance_guess(angle):\n",
    "    return (12 + 5*angle)\n",
    "```\n",
    "2.**Observe the actual distances** that come from taking basketball shots with different angles\n",
    "\n",
    "| angle        | actual distance           \n",
    "| ------------- |:-------------:| \n",
    "|    .30        | 8 feet | \n",
    "|    .50        | 11 feet | \n",
    "|    .70        | 17 feet | \n",
    "\n",
    "**3. Compare** the **actual** distances **to those predicted** by the formula \n",
    "\n",
    "```python\n",
    "distance_guess(.30) # 13.5\n",
    "distance_guess(.50) # 14.4\n",
    "distance_guess(.70) # 15.5\n",
    "```\n",
    "\n",
    "**4. Update our function** to better match the data\n",
    "\n",
    "**5. Predict new** distances that will come from shots with new angles\n",
    "\n",
    "And as you have suspected, this is how machines learn as well.  Just like humans, machines start with a guess as to how something works.  Give it a shot.  Look at the data, and then update the way we think about how something works.  And of course, if we want to be formal about this, we can break this down into a procedure.\n",
    "\n",
    "1) start with an initial formula called a **model**, \n",
    "2) gather or observe some actual data \n",
    "3) compare the model with real data, \n",
    "4) update the model to better match the data, and \n",
    "5) then use updated model to predict the outcomes of future data.\n",
    "\n",
    "Let's see this in the next section."
   ]
  },
  {
   "cell_type": "markdown",
   "metadata": {},
   "source": [
    "### Summary"
   ]
  },
  {
   "cell_type": "markdown",
   "metadata": {},
   "source": [
    "In this lesson, we broke down the process of human learning into steps.  If we were to summarize it though, it would be to start with a guess of a cause and effect relationship, compare this guess to what the data shows, and then update our guess to work with future data.  In the next section, we'll how machines are able to adopt the same process, and how we can use some machine learning libraries to make this process easier."
   ]
  },
  {
   "cell_type": "markdown",
   "metadata": {},
   "source": [
    "### Machine Learning"
   ]
  },
  {
   "cell_type": "markdown",
   "metadata": {},
   "source": [
    "### 1. Starting with a guess\n",
    "\n",
    "The player above is trying to get the ball on the right into the net on left.   He is given a starting point of how high the ball starts from in his hands he chooses the angle that he believes will get the ball in the net, represented by the curved lines.  \n",
    "\n",
    "Let's call these curved lines his **model**.  \n",
    "\n",
    "> *A model* is a representation of a real-world process. This representation will never be as complex as the real world, but it can still help predict and explain what has happened in the past, and what will happen in the future.  \n",
    "\n",
    "So even though his model does not consider everything that goes into him making a basket, it still helps examine an *input* of his angle and predict an *output* as to where the ball will go."
   ]
  },
  {
   "cell_type": "markdown",
   "metadata": {},
   "source": [
    "### 2. Making adjustments"
   ]
  },
  {
   "cell_type": "markdown",
   "metadata": {},
   "source": [
    "Now after the first unsuccessful first shot, the player tries another angle.  So he tries using different angles to determine an angle's influence on the distance.   "
   ]
  },
  {
   "cell_type": "markdown",
   "metadata": {},
   "source": [
    "So in three trials he sees the following."
   ]
  },
  {
   "cell_type": "markdown",
   "metadata": {},
   "source": [
    "| angle        | distance           \n",
    "| ------------- |:-------------:| \n",
    "|    .30        | 9 feet | \n",
    "|    .50        | 15 feet | \n",
    "|    .70        | 21 feet | "
   ]
  },
  {
   "cell_type": "markdown",
   "metadata": {},
   "source": [
    "### Making our estimate"
   ]
  },
  {
   "cell_type": "markdown",
   "metadata": {},
   "source": [
    "### What is machine learning"
   ]
  },
  {
   "cell_type": "markdown",
   "metadata": {},
   "source": [
    "Machine learning is using a **model** with **one or more tunable parameters**, where the program tunes those parameters to adapt to **previously seen** data so that then the **model can generalize** and adapt to data that it has not yet seen."
   ]
  },
  {
   "cell_type": "markdown",
   "metadata": {},
   "source": [
    "So that definition leads to a lot of terms that we need better understand: \n",
    "* a model \n",
    "* tunable parameters\n",
    "* and a model that can generalize"
   ]
  },
  {
   "cell_type": "markdown",
   "metadata": {},
   "source": [
    "Let's start by reviewing our graph of monthly revenue from Max's diner.  Now it's generally easier to work with numbers instead of dates.  So let's change our months into \"Months since September 2015\".  So our first month of September 2015 would be month zero, and our second month October 2015 would be month 1, and so on."
   ]
  },
  {
   "cell_type": "code",
   "execution_count": 65,
   "metadata": {},
   "outputs": [
    {
     "data": {
      "text/html": [
       "<script type=\"text/javascript\">window.PlotlyConfig = {MathJaxConfig: 'local'};</script><script type=\"text/javascript\">if (window.MathJax) {MathJax.Hub.Config({SVG: {font: \"STIX-Web\"}});}</script><script>requirejs.config({paths: { 'plotly': ['https://cdn.plot.ly/plotly-latest.min']},});if(!window._Plotly) {require(['plotly'],function(plotly) {window._Plotly=plotly;});}</script>"
      ],
      "text/vnd.plotly.v1+html": [
       "<script type=\"text/javascript\">window.PlotlyConfig = {MathJaxConfig: 'local'};</script><script type=\"text/javascript\">if (window.MathJax) {MathJax.Hub.Config({SVG: {font: \"STIX-Web\"}});}</script><script>requirejs.config({paths: { 'plotly': ['https://cdn.plot.ly/plotly-latest.min']},});if(!window._Plotly) {require(['plotly'],function(plotly) {window._Plotly=plotly;});}</script>"
      ]
     },
     "metadata": {},
     "output_type": "display_data"
    },
    {
     "data": {
      "application/vnd.plotly.v1+json": {
       "config": {
        "linkText": "Export to plot.ly",
        "plotlyServerURL": "https://plot.ly",
        "showLink": false
       },
       "data": [
        {
         "mode": "markers",
         "type": "scatter",
         "uid": "c835d96c-0d83-4538-ade6-7560199b1f20",
         "x": [
          0,
          1,
          2,
          3,
          4,
          5,
          6,
          7,
          8,
          9,
          10,
          11,
          12,
          13,
          14,
          15,
          16,
          17,
          18,
          19,
          20,
          21,
          22,
          23
         ],
         "y": [
          66609,
          67048,
          69664,
          72238,
          84721,
          69224,
          58697,
          51430,
          48239,
          50574,
          51707,
          50305,
          45590,
          42180,
          41054,
          56182,
          49965,
          43094,
          44414,
          41393,
          34903,
          39535,
          39627,
          9400
         ]
        }
       ],
       "layout": {
        "autosize": true,
        "xaxis": {
         "autorange": true,
         "range": [
          -1.4109351118521605,
          24.41093511185216
         ],
         "type": "linear"
        },
        "yaxis": {
         "autorange": true,
         "range": [
          3882.856687898089,
          90238.1433121019
         ],
         "type": "linear"
        }
       }
      },
      "image/png": "[encoded data removed]",
      "text/html": [
       "<div id=\"3b5d0a76-d5c9-4ada-8bb2-f105694390d3\" style=\"height: 525px; width: 100%;\" class=\"plotly-graph-div\"></div><script type=\"text/javascript\">require([\"plotly\"], function(Plotly) { window.PLOTLYENV=window.PLOTLYENV || {};window.PLOTLYENV.BASE_URL=\"https://plot.ly\";Plotly.newPlot(\"3b5d0a76-d5c9-4ada-8bb2-f105694390d3\", [{\"mode\": \"markers\", \"x\": [0, 1, 2, 3, 4, 5, 6, 7, 8, 9, 10, 11, 12, 13, 14, 15, 16, 17, 18, 19, 20, 21, 22, 23], \"y\": [66609, 67048, 69664, 72238, 84721, 69224, 58697, 51430, 48239, 50574, 51707, 50305, 45590, 42180, 41054, 56182, 49965, 43094, 44414, 41393, 34903, 39535, 39627, 9400], \"type\": \"scatter\", \"uid\": \"abf35a34-ec87-42a5-a5dd-4c7b9920f9b1\"}], {}, {\"showLink\": false, \"linkText\": \"Export to plot.ly\", \"plotlyServerURL\": \"https://plot.ly\"})});</script><script type=\"text/javascript\">window.addEventListener(\"resize\", function(){window._Plotly.Plots.resize(document.getElementById(\"3b5d0a76-d5c9-4ada-8bb2-f105694390d3\"));});</script>"
      ],
      "text/vnd.plotly.v1+html": [
       "<div id=\"3b5d0a76-d5c9-4ada-8bb2-f105694390d3\" style=\"height: 525px; width: 100%;\" class=\"plotly-graph-div\"></div><script type=\"text/javascript\">require([\"plotly\"], function(Plotly) { window.PLOTLYENV=window.PLOTLYENV || {};window.PLOTLYENV.BASE_URL=\"https://plot.ly\";Plotly.newPlot(\"3b5d0a76-d5c9-4ada-8bb2-f105694390d3\", [{\"mode\": \"markers\", \"x\": [0, 1, 2, 3, 4, 5, 6, 7, 8, 9, 10, 11, 12, 13, 14, 15, 16, 17, 18, 19, 20, 21, 22, 23], \"y\": [66609, 67048, 69664, 72238, 84721, 69224, 58697, 51430, 48239, 50574, 51707, 50305, 45590, 42180, 41054, 56182, 49965, 43094, 44414, 41393, 34903, 39535, 39627, 9400], \"type\": \"scatter\", \"uid\": \"abf35a34-ec87-42a5-a5dd-4c7b9920f9b1\"}], {}, {\"showLink\": false, \"linkText\": \"Export to plot.ly\", \"plotlyServerURL\": \"https://plot.ly\"})});</script><script type=\"text/javascript\">window.addEventListener(\"resize\", function(){window._Plotly.Plots.resize(document.getElementById(\"3b5d0a76-d5c9-4ada-8bb2-f105694390d3\"));});</script>"
      ]
     },
     "metadata": {},
     "output_type": "display_data"
    }
   ],
   "source": [
    "# Because our dates are in order, and don't skip any values.  \n",
    "# Instead of our current list of months for September 2015 through October 2017, \n",
    "# we can just use the numbers 0 through 23.\n",
    "\n",
    "months_since_september = list(range(0, 24))\n",
    "\n",
    "import plotly\n",
    "from plotly.offline import iplot, init_notebook_mode\n",
    "init_notebook_mode(connected=True)\n",
    "scatter = {'x': months_since_september, 'y': revenues, 'mode': 'markers'}\n",
    "iplot([scatter])"
   ]
  },
  {
   "cell_type": "markdown",
   "metadata": {},
   "source": [
    "### Making our estimate"
   ]
  },
  {
   "cell_type": "markdown",
   "metadata": {},
   "source": [
    "Now the plot above shows a downward trend in the data.  And if we were to ask you what the revenue might look like in October 2017, you would probably think that we would continue the downward trend from before.  \n",
    "\n",
    "In machine learning, we can do the same thing.  We simply draw a line through our data."
   ]
  },
  {
   "cell_type": "code",
   "execution_count": 3,
   "metadata": {},
   "outputs": [
    {
     "data": {
      "text/html": [
       "<script type=\"text/javascript\">window.PlotlyConfig = {MathJaxConfig: 'local'};</script><script type=\"text/javascript\">if (window.MathJax) {MathJax.Hub.Config({SVG: {font: \"STIX-Web\"}});}</script><script>requirejs.config({paths: { 'plotly': ['https://cdn.plot.ly/plotly-latest.min']},});if(!window._Plotly) {require(['plotly'],function(plotly) {window._Plotly=plotly;});}</script>"
      ],
      "text/vnd.plotly.v1+html": [
       "<script type=\"text/javascript\">window.PlotlyConfig = {MathJaxConfig: 'local'};</script><script type=\"text/javascript\">if (window.MathJax) {MathJax.Hub.Config({SVG: {font: \"STIX-Web\"}});}</script><script>requirejs.config({paths: { 'plotly': ['https://cdn.plot.ly/plotly-latest.min']},});if(!window._Plotly) {require(['plotly'],function(plotly) {window._Plotly=plotly;});}</script>"
      ]
     },
     "metadata": {},
     "output_type": "display_data"
    },
    {
     "data": {
      "application/vnd.plotly.v1+json": {
       "config": {
        "linkText": "Export to plot.ly",
        "plotlyServerURL": "https://plot.ly",
        "showLink": false
       },
       "data": [
        {
         "mode": "markers",
         "name": "actual",
         "type": "scatter",
         "uid": "837a91a3-6d1b-4bf2-9332-7237ba670db4",
         "x": [
          0,
          1,
          2,
          3,
          4,
          5,
          6,
          7,
          8,
          9,
          10,
          11,
          12,
          13,
          14,
          15,
          16,
          17,
          18,
          19,
          20,
          21,
          22,
          23
         ],
         "y": [
          66609,
          67048,
          69664,
          72238,
          84721,
          69224,
          58697,
          51430,
          48239,
          50574,
          51707,
          50305,
          45590,
          42180,
          41054,
          56182,
          49965,
          43094,
          44414,
          41393,
          34903,
          39535,
          39627,
          9400
         ]
        },
        {
         "mode": "lines",
         "name": "expected",
         "text": [],
         "type": "scatter",
         "uid": "8efb2273-e585-4e48-9842-7a3546363146",
         "x": [
          0,
          1,
          2,
          3,
          4,
          5,
          6,
          7,
          8,
          9,
          10,
          11,
          12,
          13,
          14,
          15,
          16,
          17,
          18,
          19,
          20,
          21,
          22,
          23
         ],
         "y": [
          66609,
          64121.66,
          61634.32,
          59146.979999999996,
          56659.64,
          54172.3,
          51684.96,
          49197.619999999995,
          46710.28,
          44222.94,
          41735.6,
          39248.259999999995,
          36760.92,
          34273.58,
          31786.239999999998,
          29298.899999999994,
          26811.559999999998,
          24324.22,
          21836.879999999997,
          19349.539999999994,
          16862.199999999997,
          14374.86,
          11887.519999999997,
          9400.179999999993
         ]
        }
       ],
       "layout": {
        "autosize": true,
        "xaxis": {
         "autorange": true,
         "range": [
          -1.418688428172328,
          24.418688428172327
         ],
         "type": "linear"
        },
        "yaxis": {
         "autorange": true,
         "range": [
          3882.856687898089,
          90238.1433121019
         ],
         "type": "linear"
        }
       }
      },
      "image/png": "[encoded data removed]",
      "text/html": [
       "<div id=\"9b5a3903-e4e8-4917-8ea9-7a3d4b018d07\" style=\"height: 525px; width: 100%;\" class=\"plotly-graph-div\"></div><script type=\"text/javascript\">require([\"plotly\"], function(Plotly) { window.PLOTLYENV=window.PLOTLYENV || {};window.PLOTLYENV.BASE_URL=\"https://plot.ly\";Plotly.newPlot(\"9b5a3903-e4e8-4917-8ea9-7a3d4b018d07\", [{\"mode\": \"markers\", \"name\": \"actual\", \"x\": [0, 1, 2, 3, 4, 5, 6, 7, 8, 9, 10, 11, 12, 13, 14, 15, 16, 17, 18, 19, 20, 21, 22, 23], \"y\": [66609, 67048, 69664, 72238, 84721, 69224, 58697, 51430, 48239, 50574, 51707, 50305, 45590, 42180, 41054, 56182, 49965, 43094, 44414, 41393, 34903, 39535, 39627, 9400], \"type\": \"scatter\", \"uid\": \"e9e78996-65db-4b87-967c-87529b520f7a\"}, {\"mode\": \"lines\", \"name\": \"expected\", \"text\": [], \"x\": [0, 1, 2, 3, 4, 5, 6, 7, 8, 9, 10, 11, 12, 13, 14, 15, 16, 17, 18, 19, 20, 21, 22, 23], \"y\": [66609.0, 64121.66, 61634.32, 59146.979999999996, 56659.64, 54172.3, 51684.96, 49197.619999999995, 46710.28, 44222.94, 41735.6, 39248.259999999995, 36760.92, 34273.58, 31786.239999999998, 29298.899999999994, 26811.559999999998, 24324.22, 21836.879999999997, 19349.539999999994, 16862.199999999997, 14374.86, 11887.519999999997, 9400.179999999993], \"type\": \"scatter\", \"uid\": \"401b74a9-8a2b-4d95-bee4-00b1b47a74dc\"}], {}, {\"showLink\": false, \"linkText\": \"Export to plot.ly\", \"plotlyServerURL\": \"https://plot.ly\"})});</script><script type=\"text/javascript\">window.addEventListener(\"resize\", function(){window._Plotly.Plots.resize(document.getElementById(\"9b5a3903-e4e8-4917-8ea9-7a3d4b018d07\"));});</script>"
      ],
      "text/vnd.plotly.v1+html": [
       "<div id=\"9b5a3903-e4e8-4917-8ea9-7a3d4b018d07\" style=\"height: 525px; width: 100%;\" class=\"plotly-graph-div\"></div><script type=\"text/javascript\">require([\"plotly\"], function(Plotly) { window.PLOTLYENV=window.PLOTLYENV || {};window.PLOTLYENV.BASE_URL=\"https://plot.ly\";Plotly.newPlot(\"9b5a3903-e4e8-4917-8ea9-7a3d4b018d07\", [{\"mode\": \"markers\", \"name\": \"actual\", \"x\": [0, 1, 2, 3, 4, 5, 6, 7, 8, 9, 10, 11, 12, 13, 14, 15, 16, 17, 18, 19, 20, 21, 22, 23], \"y\": [66609, 67048, 69664, 72238, 84721, 69224, 58697, 51430, 48239, 50574, 51707, 50305, 45590, 42180, 41054, 56182, 49965, 43094, 44414, 41393, 34903, 39535, 39627, 9400], \"type\": \"scatter\", \"uid\": \"e9e78996-65db-4b87-967c-87529b520f7a\"}, {\"mode\": \"lines\", \"name\": \"expected\", \"text\": [], \"x\": [0, 1, 2, 3, 4, 5, 6, 7, 8, 9, 10, 11, 12, 13, 14, 15, 16, 17, 18, 19, 20, 21, 22, 23], \"y\": [66609.0, 64121.66, 61634.32, 59146.979999999996, 56659.64, 54172.3, 51684.96, 49197.619999999995, 46710.28, 44222.94, 41735.6, 39248.259999999995, 36760.92, 34273.58, 31786.239999999998, 29298.899999999994, 26811.559999999998, 24324.22, 21836.879999999997, 19349.539999999994, 16862.199999999997, 14374.86, 11887.519999999997, 9400.179999999993], \"type\": \"scatter\", \"uid\": \"401b74a9-8a2b-4d95-bee4-00b1b47a74dc\"}], {}, {\"showLink\": false, \"linkText\": \"Export to plot.ly\", \"plotlyServerURL\": \"https://plot.ly\"})});</script><script type=\"text/javascript\">window.addEventListener(\"resize\", function(){window._Plotly.Plots.resize(document.getElementById(\"9b5a3903-e4e8-4917-8ea9-7a3d4b018d07\"));});</script>"
      ]
     },
     "metadata": {},
     "output_type": "display_data"
    }
   ],
   "source": [
    "# bonus\n",
    "from linear_equations import build_regression_line\n",
    "from graph import m_b_trace, plot, m_b_data, trace_values\n",
    "\n",
    "scatter = {'x': months_since_september, 'y': revenues, 'mode': 'markers', 'name': 'actual'}\n",
    "model = build_regression_line(list(range(0, 24)), revenues)\n",
    "y_values = m_b_data(-2487.34, 66609, list(range(0, 24)))['y']\n",
    "line = trace_values(months_since_september, y_values, mode = 'lines', name = 'expected')\n",
    "iplot([scatter, line])"
   ]
  },
  {
   "cell_type": "markdown",
   "metadata": {},
   "source": [
    "So above, we simply drew a line through the first and last points in our data.  Now don't worry too much about this procedure for drawing a line, we'll improve upon it later.\n",
    "\n",
    "The important thing, is that everything along this line is a prediction.  If you move your cursor along this line, you can see what our line expects the revenue to be for a given month, listed in orange, and also what the actual revenue was for that month, listed in blue."
   ]
  },
  {
   "cell_type": "markdown",
   "metadata": {},
   "source": [
    "### Evaluating our model at single points"
   ]
  },
  {
   "cell_type": "markdown",
   "metadata": {},
   "source": [
    "Now we say that our line does a good job at predicting a datapoint, where the difference between the actual value and the expected value is close to zero.  We'll call the difference between actual and expected at a given point our **error** at that point."
   ]
  },
  {
   "cell_type": "markdown",
   "metadata": {},
   "source": [
    "> **error** = actual - expected."
   ]
  },
  {
   "cell_type": "markdown",
   "metadata": {},
   "source": [
    "In the graph below, we'll zoom in on just our first three points, and see how well our model predicted each datapoint."
   ]
  },
  {
   "cell_type": "code",
   "execution_count": 21,
   "metadata": {},
   "outputs": [
    {
     "data": {
      "application/vnd.plotly.v1+json": {
       "config": {
        "linkText": "Export to plot.ly",
        "plotlyServerURL": "https://plot.ly",
        "showLink": false
       },
       "data": [
        {
         "mode": "markers",
         "name": "actual",
         "type": "scatter",
         "uid": "17652f1a-cfa9-44de-83a1-8f893bb2606a",
         "x": [
          0,
          1,
          2
         ],
         "y": [
          66609,
          67048,
          69664
         ]
        },
        {
         "mode": "lines",
         "name": "expected",
         "text": [],
         "type": "scatter",
         "uid": "11c44fde-63e1-4ee6-96e4-efa0f4b4b0ac",
         "x": [
          0,
          1,
          2
         ],
         "y": [
          66609,
          64121.66,
          61634.32
         ]
        },
        {
         "marker": {
          "color": "red"
         },
         "mode": "lines",
         "name": "error at 0",
         "text": [
          "0.0"
         ],
         "textposition": "top right",
         "type": "scatter",
         "uid": "b874176a-0128-4bac-be7e-4c3e543ecce0",
         "x": [
          0,
          0
         ],
         "y": [
          66609,
          66609
         ]
        },
        {
         "marker": {
          "color": "red"
         },
         "mode": "lines",
         "name": "error at 1",
         "text": [
          "2926.3399999999965"
         ],
         "textposition": "top right",
         "type": "scatter",
         "uid": "26a9562c-8292-47da-8129-96c61b759152",
         "x": [
          1,
          1
         ],
         "y": [
          67048,
          64121.66
         ]
        },
        {
         "marker": {
          "color": "red"
         },
         "mode": "lines",
         "name": "error at 2",
         "text": [
          "8029.68"
         ],
         "textposition": "top right",
         "type": "scatter",
         "uid": "af8e3f8a-8401-47e8-85f2-f10c7c94d7a5",
         "x": [
          2,
          2
         ],
         "y": [
          69664,
          61634.32
         ]
        }
       ],
       "layout": {
        "autosize": true,
        "xaxis": {
         "autorange": true,
         "range": [
          -0.12338044758539457,
          2.1233804475853946
         ],
         "type": "linear"
        },
        "yaxis": {
         "autorange": true,
         "range": [
          61181.23460815047,
          70242.94244514106
         ],
         "type": "linear"
        }
       }
      },
      "image/png": "[encoded data removed]",
      "text/html": [
       "<div id=\"aa549e4d-d8ec-4f14-9727-ed56472989af\" style=\"height: 525px; width: 100%;\" class=\"plotly-graph-div\"></div><script type=\"text/javascript\">require([\"plotly\"], function(Plotly) { window.PLOTLYENV=window.PLOTLYENV || {};window.PLOTLYENV.BASE_URL=\"https://plot.ly\";Plotly.newPlot(\"aa549e4d-d8ec-4f14-9727-ed56472989af\", [{\"mode\": \"markers\", \"name\": \"actual\", \"x\": [0, 1, 2], \"y\": [66609, 67048, 69664], \"type\": \"scatter\", \"uid\": \"aa24cb27-d74c-4801-8dcb-3287b9975581\"}, {\"mode\": \"lines\", \"name\": \"expected\", \"text\": [], \"x\": [0, 1, 2], \"y\": [66609.0, 64121.66, 61634.32], \"type\": \"scatter\", \"uid\": \"00c846e7-216f-4448-a8f1-2e68a1769ca1\"}, {\"marker\": {\"color\": \"red\"}, \"mode\": \"lines\", \"name\": \"error at 0\", \"text\": [\"0.0\"], \"textposition\": \"top right\", \"x\": [0, 0], \"y\": [66609, 66609.0], \"type\": \"scatter\", \"uid\": \"8ca082ec-e522-4e70-8aaf-4dc0583267b3\"}, {\"marker\": {\"color\": \"red\"}, \"mode\": \"lines\", \"name\": \"error at 1\", \"text\": [\"2926.3399999999965\"], \"textposition\": \"top right\", \"x\": [1, 1], \"y\": [67048, 64121.66], \"type\": \"scatter\", \"uid\": \"ca6f7bfc-cb21-417d-9e3e-6764ecd52d19\"}, {\"marker\": {\"color\": \"red\"}, \"mode\": \"lines\", \"name\": \"error at 2\", \"text\": [\"8029.68\"], \"textposition\": \"top right\", \"x\": [2, 2], \"y\": [69664, 61634.32], \"type\": \"scatter\", \"uid\": \"d4283871-ee82-4089-8a8f-cf4f8bb583b4\"}], {}, {\"showLink\": false, \"linkText\": \"Export to plot.ly\", \"plotlyServerURL\": \"https://plot.ly\"})});</script><script type=\"text/javascript\">window.addEventListener(\"resize\", function(){window._Plotly.Plots.resize(document.getElementById(\"aa549e4d-d8ec-4f14-9727-ed56472989af\"));});</script>"
      ],
      "text/vnd.plotly.v1+html": [
       "<div id=\"aa549e4d-d8ec-4f14-9727-ed56472989af\" style=\"height: 525px; width: 100%;\" class=\"plotly-graph-div\"></div><script type=\"text/javascript\">require([\"plotly\"], function(Plotly) { window.PLOTLYENV=window.PLOTLYENV || {};window.PLOTLYENV.BASE_URL=\"https://plot.ly\";Plotly.newPlot(\"aa549e4d-d8ec-4f14-9727-ed56472989af\", [{\"mode\": \"markers\", \"name\": \"actual\", \"x\": [0, 1, 2], \"y\": [66609, 67048, 69664], \"type\": \"scatter\", \"uid\": \"aa24cb27-d74c-4801-8dcb-3287b9975581\"}, {\"mode\": \"lines\", \"name\": \"expected\", \"text\": [], \"x\": [0, 1, 2], \"y\": [66609.0, 64121.66, 61634.32], \"type\": \"scatter\", \"uid\": \"00c846e7-216f-4448-a8f1-2e68a1769ca1\"}, {\"marker\": {\"color\": \"red\"}, \"mode\": \"lines\", \"name\": \"error at 0\", \"text\": [\"0.0\"], \"textposition\": \"top right\", \"x\": [0, 0], \"y\": [66609, 66609.0], \"type\": \"scatter\", \"uid\": \"8ca082ec-e522-4e70-8aaf-4dc0583267b3\"}, {\"marker\": {\"color\": \"red\"}, \"mode\": \"lines\", \"name\": \"error at 1\", \"text\": [\"2926.3399999999965\"], \"textposition\": \"top right\", \"x\": [1, 1], \"y\": [67048, 64121.66], \"type\": \"scatter\", \"uid\": \"ca6f7bfc-cb21-417d-9e3e-6764ecd52d19\"}, {\"marker\": {\"color\": \"red\"}, \"mode\": \"lines\", \"name\": \"error at 2\", \"text\": [\"8029.68\"], \"textposition\": \"top right\", \"x\": [2, 2], \"y\": [69664, 61634.32], \"type\": \"scatter\", \"uid\": \"d4283871-ee82-4089-8a8f-cf4f8bb583b4\"}], {}, {\"showLink\": false, \"linkText\": \"Export to plot.ly\", \"plotlyServerURL\": \"https://plot.ly\"})});</script><script type=\"text/javascript\">window.addEventListener(\"resize\", function(){window._Plotly.Plots.resize(document.getElementById(\"aa549e4d-d8ec-4f14-9727-ed56472989af\"));});</script>"
      ]
     },
     "metadata": {},
     "output_type": "display_data"
    }
   ],
   "source": [
    "from linear_equations import build_regression_line\n",
    "from graph import m_b_trace, plot, m_b_data, trace_values\n",
    "from error import error_line_traces\n",
    "\n",
    "scatter = {'x': months_since_september[0:3], 'y': revenues[0:3], 'mode': 'markers', 'name': 'actual'}\n",
    "model = build_regression_line(list(range(0, 24)), revenues)\n",
    "m = -2487.34\n",
    "b = 66609\n",
    "y_values = m_b_data(m, b, list(range(0, 24)))['y']\n",
    "\n",
    "line = trace_values(months_since_september[0:3], y_values[0:3], mode = 'lines', name = 'expected')\n",
    "error_traces = error_line_traces(months_since_september[0:3], revenues[0:3], m, b)\n",
    "iplot([scatter, line] + error_traces)"
   ]
  },
  {
   "cell_type": "markdown",
   "metadata": {},
   "source": [
    "Now, using the formula `error = actual - expected`, we get the following for each point. \n",
    "\n",
    "1. `66.609 - 66.609 = 0`\n",
    "2. `67,048 - 64,121 = 2927`\n",
    "3. `69,664 - 61,634 = 8030`"
   ]
  },
  {
   "cell_type": "markdown",
   "metadata": {},
   "source": [
    "So we see that our line has an error of zero at the first datapoint, 2927 at the second, and 8030 at the third.\n",
    "\n",
    "And if we want to get a sense of how well our line predicts these three points in total, we can simply add up all of the errors, to calculate our total error for these three points."
   ]
  },
  {
   "cell_type": "code",
   "execution_count": 24,
   "metadata": {},
   "outputs": [
    {
     "data": {
      "text/plain": [
       "10957"
      ]
     },
     "execution_count": 24,
     "metadata": {},
     "output_type": "execute_result"
    }
   ],
   "source": [
    "total_error_first_three = 0 + 2927 + 8030\n",
    "total_error_first_three"
   ]
  },
  {
   "cell_type": "markdown",
   "metadata": {},
   "source": [
    "Now we are getting to something pretty great, because the smaller our error is for these three points, *the better our model fits the data*, which is what we want."
   ]
  },
  {
   "cell_type": "markdown",
   "metadata": {},
   "source": [
    "### Calculating total error "
   ]
  },
  {
   "cell_type": "markdown",
   "metadata": {},
   "source": [
    "Now of course what we want to see is not just how our model fits our first three points, but how well our model fits all of our data.  So we don't just want to calculate the error for our first three points, but calculate our total error for all of our points."
   ]
  },
  {
   "cell_type": "code",
   "execution_count": 32,
   "metadata": {},
   "outputs": [
    {
     "data": {
      "application/vnd.plotly.v1+json": {
       "config": {
        "linkText": "Export to plot.ly",
        "plotlyServerURL": "https://plot.ly",
        "showLink": false
       },
       "data": [
        {
         "mode": "markers",
         "name": "actual",
         "type": "scatter",
         "uid": "c8fd8651-8409-4772-bd47-d3ca39eb04d7",
         "x": [
          0,
          1,
          2,
          3,
          4,
          5,
          6,
          7,
          8,
          9,
          10,
          11,
          12,
          13,
          14,
          15,
          16,
          17,
          18,
          19,
          20,
          21,
          22,
          23
         ],
         "y": [
          66609,
          67048,
          69664,
          72238,
          84721,
          69224,
          58697,
          51430,
          48239,
          50574,
          51707,
          50305,
          45590,
          42180,
          41054,
          56182,
          49965,
          43094,
          44414,
          41393,
          34903,
          39535,
          39627,
          9400
         ]
        },
        {
         "mode": "lines",
         "name": "expected",
         "text": [],
         "type": "scatter",
         "uid": "92d5d246-e30b-4690-a719-ab0e70626502",
         "x": [
          0,
          1,
          2,
          3,
          4,
          5,
          6,
          7,
          8,
          9,
          10,
          11,
          12,
          13,
          14,
          15,
          16,
          17,
          18,
          19,
          20,
          21,
          22,
          23
         ],
         "y": [
          66609,
          64121.66,
          61634.32,
          59146.979999999996,
          56659.64,
          54172.3,
          51684.96,
          49197.619999999995,
          46710.28,
          44222.94,
          41735.6,
          39248.259999999995,
          36760.92,
          34273.58,
          31786.239999999998,
          29298.899999999994,
          26811.559999999998,
          24324.22,
          21836.879999999997,
          19349.539999999994,
          16862.199999999997,
          14374.86,
          11887.519999999997,
          9400.179999999993
         ]
        },
        {
         "marker": {
          "color": "red"
         },
         "mode": "lines",
         "name": "error at 0",
         "text": [
          "0.0"
         ],
         "textposition": "top right",
         "type": "scatter",
         "uid": "4006880e-e162-4cf3-829a-da56791c4a1c",
         "x": [
          0,
          0
         ],
         "y": [
          66609,
          66609
         ]
        },
        {
         "marker": {
          "color": "red"
         },
         "mode": "lines",
         "name": "error at 1",
         "text": [
          "2926.3399999999965"
         ],
         "textposition": "top right",
         "type": "scatter",
         "uid": "422bbddb-c757-4136-b625-3b5acd843ca0",
         "x": [
          1,
          1
         ],
         "y": [
          67048,
          64121.66
         ]
        },
        {
         "marker": {
          "color": "red"
         },
         "mode": "lines",
         "name": "error at 2",
         "text": [
          "8029.68"
         ],
         "textposition": "top right",
         "type": "scatter",
         "uid": "0d75e17a-7f14-4ab3-9c0b-d2829be28ee4",
         "x": [
          2,
          2
         ],
         "y": [
          69664,
          61634.32
         ]
        },
        {
         "marker": {
          "color": "red"
         },
         "mode": "lines",
         "name": "error at 3",
         "text": [
          "13091.020000000004"
         ],
         "textposition": "top right",
         "type": "scatter",
         "uid": "9d3a5d3b-c674-4a7f-9024-b48e0851b58c",
         "x": [
          3,
          3
         ],
         "y": [
          72238,
          59146.979999999996
         ]
        },
        {
         "marker": {
          "color": "red"
         },
         "mode": "lines",
         "name": "error at 4",
         "text": [
          "28061.36"
         ],
         "textposition": "top right",
         "type": "scatter",
         "uid": "a3f84007-7aa1-4d22-9878-25dca466dc86",
         "x": [
          4,
          4
         ],
         "y": [
          84721,
          56659.64
         ]
        },
        {
         "marker": {
          "color": "red"
         },
         "mode": "lines",
         "name": "error at 5",
         "text": [
          "15051.699999999997"
         ],
         "textposition": "top right",
         "type": "scatter",
         "uid": "f4042473-bd98-44cb-99e7-457ef2324ad0",
         "x": [
          5,
          5
         ],
         "y": [
          69224,
          54172.3
         ]
        },
        {
         "marker": {
          "color": "red"
         },
         "mode": "lines",
         "name": "error at 6",
         "text": [
          "7012.040000000001"
         ],
         "textposition": "top right",
         "type": "scatter",
         "uid": "a7e5d78d-023b-46fe-8051-c20161fb93b1",
         "x": [
          6,
          6
         ],
         "y": [
          58697,
          51684.96
         ]
        },
        {
         "marker": {
          "color": "red"
         },
         "mode": "lines",
         "name": "error at 7",
         "text": [
          "2232.3800000000047"
         ],
         "textposition": "top right",
         "type": "scatter",
         "uid": "00b41f43-50b5-421e-b8f9-fa190dbae7b8",
         "x": [
          7,
          7
         ],
         "y": [
          51430,
          49197.619999999995
         ]
        },
        {
         "marker": {
          "color": "red"
         },
         "mode": "lines",
         "name": "error at 8",
         "text": [
          "1528.7200000000012"
         ],
         "textposition": "top right",
         "type": "scatter",
         "uid": "59afab93-37e0-4146-bc72-01fd503484f2",
         "x": [
          8,
          8
         ],
         "y": [
          48239,
          46710.28
         ]
        },
        {
         "marker": {
          "color": "red"
         },
         "mode": "lines",
         "name": "error at 9",
         "text": [
          "6351.059999999998"
         ],
         "textposition": "top right",
         "type": "scatter",
         "uid": "5170dfbf-abac-48b0-8fda-eb8cc7bb39d5",
         "x": [
          9,
          9
         ],
         "y": [
          50574,
          44222.94
         ]
        },
        {
         "marker": {
          "color": "red"
         },
         "mode": "lines",
         "name": "error at 10",
         "text": [
          "9971.400000000001"
         ],
         "textposition": "top right",
         "type": "scatter",
         "uid": "cdb566e4-6bd7-4ed3-86c8-e9f5f28f1a22",
         "x": [
          10,
          10
         ],
         "y": [
          51707,
          41735.6
         ]
        },
        {
         "marker": {
          "color": "red"
         },
         "mode": "lines",
         "name": "error at 11",
         "text": [
          "11056.740000000005"
         ],
         "textposition": "top right",
         "type": "scatter",
         "uid": "4d3a66e3-1580-4157-a3de-abe1f193b2c6",
         "x": [
          11,
          11
         ],
         "y": [
          50305,
          39248.259999999995
         ]
        },
        {
         "marker": {
          "color": "red"
         },
         "mode": "lines",
         "name": "error at 12",
         "text": [
          "8829.080000000002"
         ],
         "textposition": "top right",
         "type": "scatter",
         "uid": "99601739-91ad-4787-9881-e88a2757479d",
         "x": [
          12,
          12
         ],
         "y": [
          45590,
          36760.92
         ]
        },
        {
         "marker": {
          "color": "red"
         },
         "mode": "lines",
         "name": "error at 13",
         "text": [
          "7906.419999999998"
         ],
         "textposition": "top right",
         "type": "scatter",
         "uid": "0f03439e-be9b-49fa-8889-2e4a2103a9ca",
         "x": [
          13,
          13
         ],
         "y": [
          42180,
          34273.58
         ]
        },
        {
         "marker": {
          "color": "red"
         },
         "mode": "lines",
         "name": "error at 14",
         "text": [
          "9267.760000000002"
         ],
         "textposition": "top right",
         "type": "scatter",
         "uid": "3519c0ac-573f-4ca5-9937-35c1ef9affb4",
         "x": [
          14,
          14
         ],
         "y": [
          41054,
          31786.239999999998
         ]
        },
        {
         "marker": {
          "color": "red"
         },
         "mode": "lines",
         "name": "error at 15",
         "text": [
          "26883.100000000006"
         ],
         "textposition": "top right",
         "type": "scatter",
         "uid": "fb3632ce-94a6-4e75-92d4-4c69b6a26a97",
         "x": [
          15,
          15
         ],
         "y": [
          56182,
          29298.899999999994
         ]
        },
        {
         "marker": {
          "color": "red"
         },
         "mode": "lines",
         "name": "error at 16",
         "text": [
          "23153.440000000002"
         ],
         "textposition": "top right",
         "type": "scatter",
         "uid": "6f568d1d-0057-4066-bd2c-55d1a09f2d08",
         "x": [
          16,
          16
         ],
         "y": [
          49965,
          26811.559999999998
         ]
        },
        {
         "marker": {
          "color": "red"
         },
         "mode": "lines",
         "name": "error at 17",
         "text": [
          "18769.78"
         ],
         "textposition": "top right",
         "type": "scatter",
         "uid": "91d38a66-7c33-48e1-8210-b2f5e98c8cfa",
         "x": [
          17,
          17
         ],
         "y": [
          43094,
          24324.22
         ]
        },
        {
         "marker": {
          "color": "red"
         },
         "mode": "lines",
         "name": "error at 18",
         "text": [
          "22577.120000000003"
         ],
         "textposition": "top right",
         "type": "scatter",
         "uid": "6df369a4-b3a5-4e2a-862f-c14c96850447",
         "x": [
          18,
          18
         ],
         "y": [
          44414,
          21836.879999999997
         ]
        },
        {
         "marker": {
          "color": "red"
         },
         "mode": "lines",
         "name": "error at 19",
         "text": [
          "22043.460000000006"
         ],
         "textposition": "top right",
         "type": "scatter",
         "uid": "9665daa1-cb4d-44fa-8ae6-421e6186f711",
         "x": [
          19,
          19
         ],
         "y": [
          41393,
          19349.539999999994
         ]
        },
        {
         "marker": {
          "color": "red"
         },
         "mode": "lines",
         "name": "error at 20",
         "text": [
          "18040.800000000003"
         ],
         "textposition": "top right",
         "type": "scatter",
         "uid": "01d56523-5767-44d3-8333-13ec6cafc5bc",
         "x": [
          20,
          20
         ],
         "y": [
          34903,
          16862.199999999997
         ]
        },
        {
         "marker": {
          "color": "red"
         },
         "mode": "lines",
         "name": "error at 21",
         "text": [
          "25160.14"
         ],
         "textposition": "top right",
         "type": "scatter",
         "uid": "25ea4b2f-7a59-4937-a0b9-f0897cb20df9",
         "x": [
          21,
          21
         ],
         "y": [
          39535,
          14374.86
         ]
        },
        {
         "marker": {
          "color": "red"
         },
         "mode": "lines",
         "name": "error at 22",
         "text": [
          "27739.480000000003"
         ],
         "textposition": "top right",
         "type": "scatter",
         "uid": "0c596b8e-4bed-4bd3-96f7-891f9e854199",
         "x": [
          22,
          22
         ],
         "y": [
          39627,
          11887.519999999997
         ]
        },
        {
         "marker": {
          "color": "red"
         },
         "mode": "lines",
         "name": "error at 23",
         "text": [
          "-0.17999999999301508"
         ],
         "textposition": "top right",
         "type": "scatter",
         "uid": "a20e8786-b72e-45e8-b7e7-c23497d041f8",
         "x": [
          23,
          23
         ],
         "y": [
          9400,
          9400.179999999993
         ]
        }
       ],
       "layout": {
        "autosize": true,
        "xaxis": {
         "autorange": true,
         "range": [
          -1.4201961658493087,
          24.42019616584931
         ],
         "type": "linear"
        },
        "yaxis": {
         "autorange": true,
         "range": [
          3882.856687898089,
          90238.1433121019
         ],
         "type": "linear"
        }
       }
      },
      "image/png": "[encoded data removed]",
      "text/html": [
       "<div id=\"c38c95dc-5549-4d35-a4d7-ccd05b72cb42\" style=\"height: 525px; width: 100%;\" class=\"plotly-graph-div\"></div><script type=\"text/javascript\">require([\"plotly\"], function(Plotly) { window.PLOTLYENV=window.PLOTLYENV || {};window.PLOTLYENV.BASE_URL=\"https://plot.ly\";Plotly.newPlot(\"c38c95dc-5549-4d35-a4d7-ccd05b72cb42\", [{\"mode\": \"markers\", \"name\": \"actual\", \"x\": [0, 1, 2, 3, 4, 5, 6, 7, 8, 9, 10, 11, 12, 13, 14, 15, 16, 17, 18, 19, 20, 21, 22, 23], \"y\": [66609, 67048, 69664, 72238, 84721, 69224, 58697, 51430, 48239, 50574, 51707, 50305, 45590, 42180, 41054, 56182, 49965, 43094, 44414, 41393, 34903, 39535, 39627, 9400], \"type\": \"scatter\", \"uid\": \"499db750-3c9b-4780-9796-ad92deeb5955\"}, {\"mode\": \"lines\", \"name\": \"expected\", \"text\": [], \"x\": [0, 1, 2, 3, 4, 5, 6, 7, 8, 9, 10, 11, 12, 13, 14, 15, 16, 17, 18, 19, 20, 21, 22, 23], \"y\": [66609.0, 64121.66, 61634.32, 59146.979999999996, 56659.64, 54172.3, 51684.96, 49197.619999999995, 46710.28, 44222.94, 41735.6, 39248.259999999995, 36760.92, 34273.58, 31786.239999999998, 29298.899999999994, 26811.559999999998, 24324.22, 21836.879999999997, 19349.539999999994, 16862.199999999997, 14374.86, 11887.519999999997, 9400.179999999993], \"type\": \"scatter\", \"uid\": \"cb12a8af-b9e9-48ba-b7e1-87c4808e9542\"}, {\"marker\": {\"color\": \"red\"}, \"mode\": \"lines\", \"name\": \"error at 0\", \"text\": [\"0.0\"], \"textposition\": \"top right\", \"x\": [0, 0], \"y\": [66609, 66609.0], \"type\": \"scatter\", \"uid\": \"a38d98f8-d6db-41e6-8efc-716ecb8bab72\"}, {\"marker\": {\"color\": \"red\"}, \"mode\": \"lines\", \"name\": \"error at 1\", \"text\": [\"2926.3399999999965\"], \"textposition\": \"top right\", \"x\": [1, 1], \"y\": [67048, 64121.66], \"type\": \"scatter\", \"uid\": \"d8cb02ed-76b3-41d8-8c56-9f5fea92c15e\"}, {\"marker\": {\"color\": \"red\"}, \"mode\": \"lines\", \"name\": \"error at 2\", \"text\": [\"8029.68\"], \"textposition\": \"top right\", \"x\": [2, 2], \"y\": [69664, 61634.32], \"type\": \"scatter\", \"uid\": \"3c02616a-679b-477c-b0f9-51f8c3e1abfa\"}, {\"marker\": {\"color\": \"red\"}, \"mode\": \"lines\", \"name\": \"error at 3\", \"text\": [\"13091.020000000004\"], \"textposition\": \"top right\", \"x\": [3, 3], \"y\": [72238, 59146.979999999996], \"type\": \"scatter\", \"uid\": \"3440e582-c69e-4c5b-96da-572f83e9f01b\"}, {\"marker\": {\"color\": \"red\"}, \"mode\": \"lines\", \"name\": \"error at 4\", \"text\": [\"28061.36\"], \"textposition\": \"top right\", \"x\": [4, 4], \"y\": [84721, 56659.64], \"type\": \"scatter\", \"uid\": \"ec3d2a99-66bf-427c-8b5e-d85e932e63ba\"}, {\"marker\": {\"color\": \"red\"}, \"mode\": \"lines\", \"name\": \"error at 5\", \"text\": [\"15051.699999999997\"], \"textposition\": \"top right\", \"x\": [5, 5], \"y\": [69224, 54172.3], \"type\": \"scatter\", \"uid\": \"304d0a25-01a5-4ab2-82f0-150cf5e50ba0\"}, {\"marker\": {\"color\": \"red\"}, \"mode\": \"lines\", \"name\": \"error at 6\", \"text\": [\"7012.040000000001\"], \"textposition\": \"top right\", \"x\": [6, 6], \"y\": [58697, 51684.96], \"type\": \"scatter\", \"uid\": \"7bdc392a-9693-4029-8bad-f81e64c2afea\"}, {\"marker\": {\"color\": \"red\"}, \"mode\": \"lines\", \"name\": \"error at 7\", \"text\": [\"2232.3800000000047\"], \"textposition\": \"top right\", \"x\": [7, 7], \"y\": [51430, 49197.619999999995], \"type\": \"scatter\", \"uid\": \"f0df1502-9378-4321-9db9-948d411d76ef\"}, {\"marker\": {\"color\": \"red\"}, \"mode\": \"lines\", \"name\": \"error at 8\", \"text\": [\"1528.7200000000012\"], \"textposition\": \"top right\", \"x\": [8, 8], \"y\": [48239, 46710.28], \"type\": \"scatter\", \"uid\": \"e1a8d33e-76c8-4b3b-9145-41997f723c3e\"}, {\"marker\": {\"color\": \"red\"}, \"mode\": \"lines\", \"name\": \"error at 9\", \"text\": [\"6351.059999999998\"], \"textposition\": \"top right\", \"x\": [9, 9], \"y\": [50574, 44222.94], \"type\": \"scatter\", \"uid\": \"3eb65fef-60d2-4f28-88cb-252d9bb91810\"}, {\"marker\": {\"color\": \"red\"}, \"mode\": \"lines\", \"name\": \"error at 10\", \"text\": [\"9971.400000000001\"], \"textposition\": \"top right\", \"x\": [10, 10], \"y\": [51707, 41735.6], \"type\": \"scatter\", \"uid\": \"bfb82e52-1f67-4d7f-a639-6beef06f12b4\"}, {\"marker\": {\"color\": \"red\"}, \"mode\": \"lines\", \"name\": \"error at 11\", \"text\": [\"11056.740000000005\"], \"textposition\": \"top right\", \"x\": [11, 11], \"y\": [50305, 39248.259999999995], \"type\": \"scatter\", \"uid\": \"2890992c-4d99-44b1-a11e-580818239bab\"}, {\"marker\": {\"color\": \"red\"}, \"mode\": \"lines\", \"name\": \"error at 12\", \"text\": [\"8829.080000000002\"], \"textposition\": \"top right\", \"x\": [12, 12], \"y\": [45590, 36760.92], \"type\": \"scatter\", \"uid\": \"ad1a0dc0-b206-48c0-abdc-22c488c74edf\"}, {\"marker\": {\"color\": \"red\"}, \"mode\": \"lines\", \"name\": \"error at 13\", \"text\": [\"7906.419999999998\"], \"textposition\": \"top right\", \"x\": [13, 13], \"y\": [42180, 34273.58], \"type\": \"scatter\", \"uid\": \"bb78fb22-8a66-4f73-bc8a-50b26855e2a4\"}, {\"marker\": {\"color\": \"red\"}, \"mode\": \"lines\", \"name\": \"error at 14\", \"text\": [\"9267.760000000002\"], \"textposition\": \"top right\", \"x\": [14, 14], \"y\": [41054, 31786.239999999998], \"type\": \"scatter\", \"uid\": \"59766669-78e8-4577-9b7c-715393ff6b93\"}, {\"marker\": {\"color\": \"red\"}, \"mode\": \"lines\", \"name\": \"error at 15\", \"text\": [\"26883.100000000006\"], \"textposition\": \"top right\", \"x\": [15, 15], \"y\": [56182, 29298.899999999994], \"type\": \"scatter\", \"uid\": \"802c2fc7-6afd-4935-ae42-2f26f2c1e62b\"}, {\"marker\": {\"color\": \"red\"}, \"mode\": \"lines\", \"name\": \"error at 16\", \"text\": [\"23153.440000000002\"], \"textposition\": \"top right\", \"x\": [16, 16], \"y\": [49965, 26811.559999999998], \"type\": \"scatter\", \"uid\": \"aa43a939-a5bd-4752-8406-c7e17b980444\"}, {\"marker\": {\"color\": \"red\"}, \"mode\": \"lines\", \"name\": \"error at 17\", \"text\": [\"18769.78\"], \"textposition\": \"top right\", \"x\": [17, 17], \"y\": [43094, 24324.22], \"type\": \"scatter\", \"uid\": \"2242811a-1d74-42ca-9aa8-1af8e986a3a8\"}, {\"marker\": {\"color\": \"red\"}, \"mode\": \"lines\", \"name\": \"error at 18\", \"text\": [\"22577.120000000003\"], \"textposition\": \"top right\", \"x\": [18, 18], \"y\": [44414, 21836.879999999997], \"type\": \"scatter\", \"uid\": \"b8fb0752-cbf2-493d-91c6-5ea7a1ebe334\"}, {\"marker\": {\"color\": \"red\"}, \"mode\": \"lines\", \"name\": \"error at 19\", \"text\": [\"22043.460000000006\"], \"textposition\": \"top right\", \"x\": [19, 19], \"y\": [41393, 19349.539999999994], \"type\": \"scatter\", \"uid\": \"312619a5-7127-485b-a64b-f7c9533b1742\"}, {\"marker\": {\"color\": \"red\"}, \"mode\": \"lines\", \"name\": \"error at 20\", \"text\": [\"18040.800000000003\"], \"textposition\": \"top right\", \"x\": [20, 20], \"y\": [34903, 16862.199999999997], \"type\": \"scatter\", \"uid\": \"810d0ea8-a569-4d6f-aa9d-138c23e194e0\"}, {\"marker\": {\"color\": \"red\"}, \"mode\": \"lines\", \"name\": \"error at 21\", \"text\": [\"25160.14\"], \"textposition\": \"top right\", \"x\": [21, 21], \"y\": [39535, 14374.86], \"type\": \"scatter\", \"uid\": \"5bae54c4-03bf-4e5e-9a0a-0eef8f78d288\"}, {\"marker\": {\"color\": \"red\"}, \"mode\": \"lines\", \"name\": \"error at 22\", \"text\": [\"27739.480000000003\"], \"textposition\": \"top right\", \"x\": [22, 22], \"y\": [39627, 11887.519999999997], \"type\": \"scatter\", \"uid\": \"85b25f32-5926-469b-9dd2-cc66d5a3f83a\"}, {\"marker\": {\"color\": \"red\"}, \"mode\": \"lines\", \"name\": \"error at 23\", \"text\": [\"-0.17999999999301508\"], \"textposition\": \"top right\", \"x\": [23, 23], \"y\": [9400, 9400.179999999993], \"type\": \"scatter\", \"uid\": \"6375f3c2-5fcd-46a2-8b4a-95b760480073\"}], {}, {\"showLink\": false, \"linkText\": \"Export to plot.ly\", \"plotlyServerURL\": \"https://plot.ly\"})});</script><script type=\"text/javascript\">window.addEventListener(\"resize\", function(){window._Plotly.Plots.resize(document.getElementById(\"c38c95dc-5549-4d35-a4d7-ccd05b72cb42\"));});</script>"
      ],
      "text/vnd.plotly.v1+html": [
       "<div id=\"c38c95dc-5549-4d35-a4d7-ccd05b72cb42\" style=\"height: 525px; width: 100%;\" class=\"plotly-graph-div\"></div><script type=\"text/javascript\">require([\"plotly\"], function(Plotly) { window.PLOTLYENV=window.PLOTLYENV || {};window.PLOTLYENV.BASE_URL=\"https://plot.ly\";Plotly.newPlot(\"c38c95dc-5549-4d35-a4d7-ccd05b72cb42\", [{\"mode\": \"markers\", \"name\": \"actual\", \"x\": [0, 1, 2, 3, 4, 5, 6, 7, 8, 9, 10, 11, 12, 13, 14, 15, 16, 17, 18, 19, 20, 21, 22, 23], \"y\": [66609, 67048, 69664, 72238, 84721, 69224, 58697, 51430, 48239, 50574, 51707, 50305, 45590, 42180, 41054, 56182, 49965, 43094, 44414, 41393, 34903, 39535, 39627, 9400], \"type\": \"scatter\", \"uid\": \"499db750-3c9b-4780-9796-ad92deeb5955\"}, {\"mode\": \"lines\", \"name\": \"expected\", \"text\": [], \"x\": [0, 1, 2, 3, 4, 5, 6, 7, 8, 9, 10, 11, 12, 13, 14, 15, 16, 17, 18, 19, 20, 21, 22, 23], \"y\": [66609.0, 64121.66, 61634.32, 59146.979999999996, 56659.64, 54172.3, 51684.96, 49197.619999999995, 46710.28, 44222.94, 41735.6, 39248.259999999995, 36760.92, 34273.58, 31786.239999999998, 29298.899999999994, 26811.559999999998, 24324.22, 21836.879999999997, 19349.539999999994, 16862.199999999997, 14374.86, 11887.519999999997, 9400.179999999993], \"type\": \"scatter\", \"uid\": \"cb12a8af-b9e9-48ba-b7e1-87c4808e9542\"}, {\"marker\": {\"color\": \"red\"}, \"mode\": \"lines\", \"name\": \"error at 0\", \"text\": [\"0.0\"], \"textposition\": \"top right\", \"x\": [0, 0], \"y\": [66609, 66609.0], \"type\": \"scatter\", \"uid\": \"a38d98f8-d6db-41e6-8efc-716ecb8bab72\"}, {\"marker\": {\"color\": \"red\"}, \"mode\": \"lines\", \"name\": \"error at 1\", \"text\": [\"2926.3399999999965\"], \"textposition\": \"top right\", \"x\": [1, 1], \"y\": [67048, 64121.66], \"type\": \"scatter\", \"uid\": \"d8cb02ed-76b3-41d8-8c56-9f5fea92c15e\"}, {\"marker\": {\"color\": \"red\"}, \"mode\": \"lines\", \"name\": \"error at 2\", \"text\": [\"8029.68\"], \"textposition\": \"top right\", \"x\": [2, 2], \"y\": [69664, 61634.32], \"type\": \"scatter\", \"uid\": \"3c02616a-679b-477c-b0f9-51f8c3e1abfa\"}, {\"marker\": {\"color\": \"red\"}, \"mode\": \"lines\", \"name\": \"error at 3\", \"text\": [\"13091.020000000004\"], \"textposition\": \"top right\", \"x\": [3, 3], \"y\": [72238, 59146.979999999996], \"type\": \"scatter\", \"uid\": \"3440e582-c69e-4c5b-96da-572f83e9f01b\"}, {\"marker\": {\"color\": \"red\"}, \"mode\": \"lines\", \"name\": \"error at 4\", \"text\": [\"28061.36\"], \"textposition\": \"top right\", \"x\": [4, 4], \"y\": [84721, 56659.64], \"type\": \"scatter\", \"uid\": \"ec3d2a99-66bf-427c-8b5e-d85e932e63ba\"}, {\"marker\": {\"color\": \"red\"}, \"mode\": \"lines\", \"name\": \"error at 5\", \"text\": [\"15051.699999999997\"], \"textposition\": \"top right\", \"x\": [5, 5], \"y\": [69224, 54172.3], \"type\": \"scatter\", \"uid\": \"304d0a25-01a5-4ab2-82f0-150cf5e50ba0\"}, {\"marker\": {\"color\": \"red\"}, \"mode\": \"lines\", \"name\": \"error at 6\", \"text\": [\"7012.040000000001\"], \"textposition\": \"top right\", \"x\": [6, 6], \"y\": [58697, 51684.96], \"type\": \"scatter\", \"uid\": \"7bdc392a-9693-4029-8bad-f81e64c2afea\"}, {\"marker\": {\"color\": \"red\"}, \"mode\": \"lines\", \"name\": \"error at 7\", \"text\": [\"2232.3800000000047\"], \"textposition\": \"top right\", \"x\": [7, 7], \"y\": [51430, 49197.619999999995], \"type\": \"scatter\", \"uid\": \"f0df1502-9378-4321-9db9-948d411d76ef\"}, {\"marker\": {\"color\": \"red\"}, \"mode\": \"lines\", \"name\": \"error at 8\", \"text\": [\"1528.7200000000012\"], \"textposition\": \"top right\", \"x\": [8, 8], \"y\": [48239, 46710.28], \"type\": \"scatter\", \"uid\": \"e1a8d33e-76c8-4b3b-9145-41997f723c3e\"}, {\"marker\": {\"color\": \"red\"}, \"mode\": \"lines\", \"name\": \"error at 9\", \"text\": [\"6351.059999999998\"], \"textposition\": \"top right\", \"x\": [9, 9], \"y\": [50574, 44222.94], \"type\": \"scatter\", \"uid\": \"3eb65fef-60d2-4f28-88cb-252d9bb91810\"}, {\"marker\": {\"color\": \"red\"}, \"mode\": \"lines\", \"name\": \"error at 10\", \"text\": [\"9971.400000000001\"], \"textposition\": \"top right\", \"x\": [10, 10], \"y\": [51707, 41735.6], \"type\": \"scatter\", \"uid\": \"bfb82e52-1f67-4d7f-a639-6beef06f12b4\"}, {\"marker\": {\"color\": \"red\"}, \"mode\": \"lines\", \"name\": \"error at 11\", \"text\": [\"11056.740000000005\"], \"textposition\": \"top right\", \"x\": [11, 11], \"y\": [50305, 39248.259999999995], \"type\": \"scatter\", \"uid\": \"2890992c-4d99-44b1-a11e-580818239bab\"}, {\"marker\": {\"color\": \"red\"}, \"mode\": \"lines\", \"name\": \"error at 12\", \"text\": [\"8829.080000000002\"], \"textposition\": \"top right\", \"x\": [12, 12], \"y\": [45590, 36760.92], \"type\": \"scatter\", \"uid\": \"ad1a0dc0-b206-48c0-abdc-22c488c74edf\"}, {\"marker\": {\"color\": \"red\"}, \"mode\": \"lines\", \"name\": \"error at 13\", \"text\": [\"7906.419999999998\"], \"textposition\": \"top right\", \"x\": [13, 13], \"y\": [42180, 34273.58], \"type\": \"scatter\", \"uid\": \"bb78fb22-8a66-4f73-bc8a-50b26855e2a4\"}, {\"marker\": {\"color\": \"red\"}, \"mode\": \"lines\", \"name\": \"error at 14\", \"text\": [\"9267.760000000002\"], \"textposition\": \"top right\", \"x\": [14, 14], \"y\": [41054, 31786.239999999998], \"type\": \"scatter\", \"uid\": \"59766669-78e8-4577-9b7c-715393ff6b93\"}, {\"marker\": {\"color\": \"red\"}, \"mode\": \"lines\", \"name\": \"error at 15\", \"text\": [\"26883.100000000006\"], \"textposition\": \"top right\", \"x\": [15, 15], \"y\": [56182, 29298.899999999994], \"type\": \"scatter\", \"uid\": \"802c2fc7-6afd-4935-ae42-2f26f2c1e62b\"}, {\"marker\": {\"color\": \"red\"}, \"mode\": \"lines\", \"name\": \"error at 16\", \"text\": [\"23153.440000000002\"], \"textposition\": \"top right\", \"x\": [16, 16], \"y\": [49965, 26811.559999999998], \"type\": \"scatter\", \"uid\": \"aa43a939-a5bd-4752-8406-c7e17b980444\"}, {\"marker\": {\"color\": \"red\"}, \"mode\": \"lines\", \"name\": \"error at 17\", \"text\": [\"18769.78\"], \"textposition\": \"top right\", \"x\": [17, 17], \"y\": [43094, 24324.22], \"type\": \"scatter\", \"uid\": \"2242811a-1d74-42ca-9aa8-1af8e986a3a8\"}, {\"marker\": {\"color\": \"red\"}, \"mode\": \"lines\", \"name\": \"error at 18\", \"text\": [\"22577.120000000003\"], \"textposition\": \"top right\", \"x\": [18, 18], \"y\": [44414, 21836.879999999997], \"type\": \"scatter\", \"uid\": \"b8fb0752-cbf2-493d-91c6-5ea7a1ebe334\"}, {\"marker\": {\"color\": \"red\"}, \"mode\": \"lines\", \"name\": \"error at 19\", \"text\": [\"22043.460000000006\"], \"textposition\": \"top right\", \"x\": [19, 19], \"y\": [41393, 19349.539999999994], \"type\": \"scatter\", \"uid\": \"312619a5-7127-485b-a64b-f7c9533b1742\"}, {\"marker\": {\"color\": \"red\"}, \"mode\": \"lines\", \"name\": \"error at 20\", \"text\": [\"18040.800000000003\"], \"textposition\": \"top right\", \"x\": [20, 20], \"y\": [34903, 16862.199999999997], \"type\": \"scatter\", \"uid\": \"810d0ea8-a569-4d6f-aa9d-138c23e194e0\"}, {\"marker\": {\"color\": \"red\"}, \"mode\": \"lines\", \"name\": \"error at 21\", \"text\": [\"25160.14\"], \"textposition\": \"top right\", \"x\": [21, 21], \"y\": [39535, 14374.86], \"type\": \"scatter\", \"uid\": \"5bae54c4-03bf-4e5e-9a0a-0eef8f78d288\"}, {\"marker\": {\"color\": \"red\"}, \"mode\": \"lines\", \"name\": \"error at 22\", \"text\": [\"27739.480000000003\"], \"textposition\": \"top right\", \"x\": [22, 22], \"y\": [39627, 11887.519999999997], \"type\": \"scatter\", \"uid\": \"85b25f32-5926-469b-9dd2-cc66d5a3f83a\"}, {\"marker\": {\"color\": \"red\"}, \"mode\": \"lines\", \"name\": \"error at 23\", \"text\": [\"-0.17999999999301508\"], \"textposition\": \"top right\", \"x\": [23, 23], \"y\": [9400, 9400.179999999993], \"type\": \"scatter\", \"uid\": \"6375f3c2-5fcd-46a2-8b4a-95b760480073\"}], {}, {\"showLink\": false, \"linkText\": \"Export to plot.ly\", \"plotlyServerURL\": \"https://plot.ly\"})});</script><script type=\"text/javascript\">window.addEventListener(\"resize\", function(){window._Plotly.Plots.resize(document.getElementById(\"c38c95dc-5549-4d35-a4d7-ccd05b72cb42\"));});</script>"
      ]
     },
     "metadata": {},
     "output_type": "display_data"
    }
   ],
   "source": [
    "from linear_equations import build_regression_line\n",
    "from graph import m_b_trace, plot, m_b_data, trace_values\n",
    "from error import error_line_traces\n",
    "\n",
    "scatter = {'x': months_since_september, 'y': revenues, 'mode': 'markers', 'name': 'actual'}\n",
    "model = build_regression_line(list(range(0, 24)), revenues)\n",
    "m = -2487.34\n",
    "b = 66609\n",
    "predicted_values = m_b_data(m, b, list(range(0, 24)))['y']\n",
    "\n",
    "line = trace_values(months_since_september, predicted_values, mode = 'lines', name = 'expected')\n",
    "error_traces = error_line_traces(months_since_september, revenues, m, b)\n",
    "iplot([scatter, line] + error_traces)"
   ]
  },
  {
   "cell_type": "markdown",
   "metadata": {},
   "source": [
    "So the graph above has red lines display all of our errors.  All we have to do now, is add up the errors at each of our data points to the total error for our dataset.\n",
    "\n",
    "So for each point we take the actual value, the expected value, and subtract the two to get an error for each point."
   ]
  },
  {
   "cell_type": "code",
   "execution_count": 49,
   "metadata": {},
   "outputs": [
    {
     "data": {
      "application/vnd.plotly.v1+json": {
       "config": {
        "linkText": "Export to plot.ly",
        "plotlyServerURL": "https://plot.ly",
        "showLink": false
       },
       "data": [
        {
         "cells": {
          "align": [
           "left",
           "left",
           "left",
           "left",
           "left"
          ],
          "fill": {
           "color": "#F5F8FF"
          },
          "values": [
           [
            66609,
            67048,
            69664,
            72238,
            84721,
            69224,
            58697,
            51430,
            48239,
            50574,
            51707,
            50305,
            45590,
            42180,
            41054,
            56182,
            49965,
            43094,
            44414,
            41393,
            34903,
            39535,
            39627,
            9400
           ],
           [
            66609,
            64121,
            61634,
            59146,
            56659,
            54172,
            51684,
            49197,
            46710,
            44222,
            41735,
            39248,
            36760,
            34273,
            31786,
            29298,
            26811,
            24324,
            21836,
            19349,
            16862,
            14374,
            11887,
            9400
           ],
           [
            0,
            2927,
            8030,
            13092,
            28062,
            15052,
            7013,
            2233,
            1529,
            6352,
            9972,
            11057,
            8830,
            7907,
            9268,
            26884,
            23154,
            18770,
            22578,
            22044,
            18041,
            25161,
            27740,
            0
           ]
          ]
         },
         "header": {
          "align": [
           "left",
           "left",
           "left",
           "left",
           "left"
          ],
          "fill": {
           "color": "#C2D4FF"
          },
          "values": [
           "actual",
           "expected",
           "errors"
          ]
         },
         "type": "table",
         "uid": "caeb52a4-5dc6-4eeb-a6f7-6e5d2eae6bb5"
        }
       ],
       "layout": {
        "autosize": true
       }
      },
      "image/png": "[encoded data removed]",
      "text/html": [
       "<div id=\"44d7dee0-c56e-40c0-b907-018c3baab01b\" style=\"height: 525px; width: 100%;\" class=\"plotly-graph-div\"></div><script type=\"text/javascript\">require([\"plotly\"], function(Plotly) { window.PLOTLYENV=window.PLOTLYENV || {};window.PLOTLYENV.BASE_URL=\"https://plot.ly\";Plotly.newPlot(\"44d7dee0-c56e-40c0-b907-018c3baab01b\", [{\"cells\": {\"align\": [\"left\", \"left\", \"left\", \"left\", \"left\"], \"fill\": {\"color\": \"#F5F8FF\"}, \"values\": [[66609, 67048, 69664, 72238, 84721, 69224, 58697, 51430, 48239, 50574, 51707, 50305, 45590, 42180, 41054, 56182, 49965, 43094, 44414, 41393, 34903, 39535, 39627, 9400], [66609, 64121, 61634, 59146, 56659, 54172, 51684, 49197, 46710, 44222, 41735, 39248, 36760, 34273, 31786, 29298, 26811, 24324, 21836, 19349, 16862, 14374, 11887, 9400], [0, 2927, 8030, 13092, 28062, 15052, 7013, 2233, 1529, 6352, 9972, 11057, 8830, 7907, 9268, 26884, 23154, 18770, 22578, 22044, 18041, 25161, 27740, 0]]}, \"header\": {\"align\": [\"left\", \"left\", \"left\", \"left\", \"left\"], \"fill\": {\"color\": \"#C2D4FF\"}, \"values\": [\"actual\", \"expected\", \"errors\"]}, \"type\": \"table\", \"uid\": \"c88fa455-28f3-42b1-a762-f762ca0aabf3\"}], {}, {\"showLink\": false, \"linkText\": \"Export to plot.ly\", \"plotlyServerURL\": \"https://plot.ly\"})});</script><script type=\"text/javascript\">window.addEventListener(\"resize\", function(){window._Plotly.Plots.resize(document.getElementById(\"44d7dee0-c56e-40c0-b907-018c3baab01b\"));});</script>"
      ],
      "text/vnd.plotly.v1+html": [
       "<div id=\"44d7dee0-c56e-40c0-b907-018c3baab01b\" style=\"height: 525px; width: 100%;\" class=\"plotly-graph-div\"></div><script type=\"text/javascript\">require([\"plotly\"], function(Plotly) { window.PLOTLYENV=window.PLOTLYENV || {};window.PLOTLYENV.BASE_URL=\"https://plot.ly\";Plotly.newPlot(\"44d7dee0-c56e-40c0-b907-018c3baab01b\", [{\"cells\": {\"align\": [\"left\", \"left\", \"left\", \"left\", \"left\"], \"fill\": {\"color\": \"#F5F8FF\"}, \"values\": [[66609, 67048, 69664, 72238, 84721, 69224, 58697, 51430, 48239, 50574, 51707, 50305, 45590, 42180, 41054, 56182, 49965, 43094, 44414, 41393, 34903, 39535, 39627, 9400], [66609, 64121, 61634, 59146, 56659, 54172, 51684, 49197, 46710, 44222, 41735, 39248, 36760, 34273, 31786, 29298, 26811, 24324, 21836, 19349, 16862, 14374, 11887, 9400], [0, 2927, 8030, 13092, 28062, 15052, 7013, 2233, 1529, 6352, 9972, 11057, 8830, 7907, 9268, 26884, 23154, 18770, 22578, 22044, 18041, 25161, 27740, 0]]}, \"header\": {\"align\": [\"left\", \"left\", \"left\", \"left\", \"left\"], \"fill\": {\"color\": \"#C2D4FF\"}, \"values\": [\"actual\", \"expected\", \"errors\"]}, \"type\": \"table\", \"uid\": \"c88fa455-28f3-42b1-a762-f762ca0aabf3\"}], {}, {\"showLink\": false, \"linkText\": \"Export to plot.ly\", \"plotlyServerURL\": \"https://plot.ly\"})});</script><script type=\"text/javascript\">window.addEventListener(\"resize\", function(){window._Plotly.Plots.resize(document.getElementById(\"44d7dee0-c56e-40c0-b907-018c3baab01b\"));});</script>"
      ]
     },
     "metadata": {},
     "output_type": "display_data"
    }
   ],
   "source": [
    "import plotly.graph_objs as go\n",
    "\n",
    "rounded_revenues = list(map(lambda revenue: int(revenue),revenues))\n",
    "rounded_predicted_values = list(map(lambda revenue: int(revenue),predicted_values))\n",
    "actual_and_expected_values = list(zip(rounded_revenues, rounded_predicted_values))\n",
    "errors = list(map(lambda actual_and_expected: actual_and_expected[0] - int(actual_and_expected[1]), actual_and_expected_values))\n",
    "\n",
    "trace = go.Table(\n",
    "    header=dict(values=['actual', 'expected', 'errors'],\n",
    "                fill = dict(color='#C2D4FF'),\n",
    "                align = ['left'] * 5),\n",
    "    cells=dict(values=[rounded_revenues, rounded_predicted_values, errors],\n",
    "               fill = dict(color='#F5F8FF'),\n",
    "               align = ['left'] * 5))\n",
    "\n",
    "data = [trace] \n",
    "iplot(data)"
   ]
  },
  {
   "cell_type": "markdown",
   "metadata": {},
   "source": [
    "Then we can simply add up all of these errors to get the sum of errors."
   ]
  },
  {
   "cell_type": "code",
   "execution_count": 50,
   "metadata": {},
   "outputs": [
    {
     "data": {
      "text/plain": [
       "315696"
      ]
     },
     "execution_count": 50,
     "metadata": {},
     "output_type": "execute_result"
    }
   ],
   "source": [
    "sum(errors)"
   ]
  },
  {
   "cell_type": "markdown",
   "metadata": {},
   "source": [
    "Now while this number in itself is quite meaningless, what *is* very meaningful is that we can try different lines and choose the line with the smallest total error.  Once we get to the line with the smallest total error, we move forward with that as our machine learning model. "
   ]
  },
  {
   "cell_type": "code",
   "execution_count": 58,
   "metadata": {},
   "outputs": [
    {
     "data": {
      "application/vnd.plotly.v1+json": {
       "config": {
        "linkText": "Export to plot.ly",
        "plotlyServerURL": "https://plot.ly",
        "showLink": false
       },
       "data": [
        {
         "mode": "markers",
         "name": "actual",
         "type": "scatter",
         "uid": "b06ce588-1442-486b-ace7-5625a88dbdf2",
         "x": [
          0,
          1,
          2,
          3,
          4,
          5,
          6,
          7,
          8,
          9,
          10,
          11,
          12,
          13,
          14,
          15,
          16,
          17,
          18,
          19,
          20,
          21,
          22,
          23
         ],
         "y": [
          66609,
          67048,
          69664,
          72238,
          84721,
          69224,
          58697,
          51430,
          48239,
          50574,
          51707,
          50305,
          45590,
          42180,
          41054,
          56182,
          49965,
          43094,
          44414,
          41393,
          34903,
          39535,
          39627,
          9400
         ]
        },
        {
         "mode": "lines",
         "name": "initial model",
         "text": [],
         "type": "scatter",
         "uid": "0d33a536-6e03-4b47-a0c5-18058a1db0bf",
         "x": [
          0,
          1,
          2,
          3,
          4,
          5,
          6,
          7,
          8,
          9,
          10,
          11,
          12,
          13,
          14,
          15,
          16,
          17,
          18,
          19,
          20,
          21,
          22,
          23
         ],
         "y": [
          66609,
          64121.66,
          61634.32,
          59146.979999999996,
          56659.64,
          54172.3,
          51684.96,
          49197.619999999995,
          46710.28,
          44222.94,
          41735.6,
          39248.259999999995,
          36760.92,
          34273.58,
          31786.239999999998,
          29298.899999999994,
          26811.559999999998,
          24324.22,
          21836.879999999997,
          19349.539999999994,
          16862.199999999997,
          14374.86,
          11887.519999999997,
          9400.179999999993
         ]
        },
        {
         "mode": "lines",
         "name": "updated model",
         "text": [],
         "type": "scatter",
         "uid": "2215d9a8-289b-44c6-a0ff-cb31254e48b7",
         "x": [
          0,
          1,
          2,
          3,
          4,
          5,
          6,
          7,
          8,
          9,
          10,
          11,
          12,
          13,
          14,
          15,
          16,
          17,
          18,
          19,
          20,
          21,
          22,
          23
         ],
         "y": [
          66609,
          64709,
          62809,
          60909,
          59009,
          57109,
          55209,
          53309,
          51409,
          49509,
          47609,
          45709,
          43809,
          41909,
          40009,
          38109,
          36209,
          34309,
          32409,
          30509,
          28609,
          26709,
          24809,
          22909
         ]
        },
        {
         "marker": {
          "color": "red"
         },
         "mode": "lines",
         "name": "error at 0",
         "text": [
          "0"
         ],
         "textposition": "top right",
         "type": "scatter",
         "uid": "35790c14-c818-47a9-92e9-20704aebe2ab",
         "x": [
          0,
          0
         ],
         "y": [
          66609,
          66609
         ]
        },
        {
         "marker": {
          "color": "red"
         },
         "mode": "lines",
         "name": "error at 1",
         "text": [
          "2339"
         ],
         "textposition": "top right",
         "type": "scatter",
         "uid": "7109a2f4-112e-4ef2-899a-c1d782e3410e",
         "x": [
          1,
          1
         ],
         "y": [
          67048,
          64709
         ]
        },
        {
         "marker": {
          "color": "red"
         },
         "mode": "lines",
         "name": "error at 2",
         "text": [
          "6855"
         ],
         "textposition": "top right",
         "type": "scatter",
         "uid": "ec36c760-3120-47be-a180-7656246722e9",
         "x": [
          2,
          2
         ],
         "y": [
          69664,
          62809
         ]
        },
        {
         "marker": {
          "color": "red"
         },
         "mode": "lines",
         "name": "error at 3",
         "text": [
          "11329"
         ],
         "textposition": "top right",
         "type": "scatter",
         "uid": "81efff03-9794-448b-9453-44cb7018fce8",
         "x": [
          3,
          3
         ],
         "y": [
          72238,
          60909
         ]
        },
        {
         "marker": {
          "color": "red"
         },
         "mode": "lines",
         "name": "error at 4",
         "text": [
          "25712"
         ],
         "textposition": "top right",
         "type": "scatter",
         "uid": "2d2ef756-3315-43c6-90f7-80d8dbf7ce73",
         "x": [
          4,
          4
         ],
         "y": [
          84721,
          59009
         ]
        },
        {
         "marker": {
          "color": "red"
         },
         "mode": "lines",
         "name": "error at 5",
         "text": [
          "12115"
         ],
         "textposition": "top right",
         "type": "scatter",
         "uid": "4f1b7c72-5b71-4925-b439-374118f5091a",
         "x": [
          5,
          5
         ],
         "y": [
          69224,
          57109
         ]
        },
        {
         "marker": {
          "color": "red"
         },
         "mode": "lines",
         "name": "error at 6",
         "text": [
          "3488"
         ],
         "textposition": "top right",
         "type": "scatter",
         "uid": "2acc1a68-422d-4993-974e-4fdc9dfc9505",
         "x": [
          6,
          6
         ],
         "y": [
          58697,
          55209
         ]
        },
        {
         "marker": {
          "color": "red"
         },
         "mode": "lines",
         "name": "error at 7",
         "text": [
          "-1879"
         ],
         "textposition": "top right",
         "type": "scatter",
         "uid": "9ea1db5e-7e52-4721-ae72-b5228efb3ae0",
         "x": [
          7,
          7
         ],
         "y": [
          51430,
          53309
         ]
        },
        {
         "marker": {
          "color": "red"
         },
         "mode": "lines",
         "name": "error at 8",
         "text": [
          "-3170"
         ],
         "textposition": "top right",
         "type": "scatter",
         "uid": "8c44bdf2-0b41-48f6-8778-fc0c41ef84c8",
         "x": [
          8,
          8
         ],
         "y": [
          48239,
          51409
         ]
        },
        {
         "marker": {
          "color": "red"
         },
         "mode": "lines",
         "name": "error at 9",
         "text": [
          "1065"
         ],
         "textposition": "top right",
         "type": "scatter",
         "uid": "7475c2c7-4011-4e5c-98ce-ab5f727e2623",
         "x": [
          9,
          9
         ],
         "y": [
          50574,
          49509
         ]
        },
        {
         "marker": {
          "color": "red"
         },
         "mode": "lines",
         "name": "error at 10",
         "text": [
          "4098"
         ],
         "textposition": "top right",
         "type": "scatter",
         "uid": "f517cb11-d6bb-4665-9335-ead5b530f31a",
         "x": [
          10,
          10
         ],
         "y": [
          51707,
          47609
         ]
        },
        {
         "marker": {
          "color": "red"
         },
         "mode": "lines",
         "name": "error at 11",
         "text": [
          "4596"
         ],
         "textposition": "top right",
         "type": "scatter",
         "uid": "5459b234-b108-421a-9709-708ce05f14b2",
         "x": [
          11,
          11
         ],
         "y": [
          50305,
          45709
         ]
        },
        {
         "marker": {
          "color": "red"
         },
         "mode": "lines",
         "name": "error at 12",
         "text": [
          "1781"
         ],
         "textposition": "top right",
         "type": "scatter",
         "uid": "6bcff304-2ab5-4fa8-a8bb-352c6442e85e",
         "x": [
          12,
          12
         ],
         "y": [
          45590,
          43809
         ]
        },
        {
         "marker": {
          "color": "red"
         },
         "mode": "lines",
         "name": "error at 13",
         "text": [
          "271"
         ],
         "textposition": "top right",
         "type": "scatter",
         "uid": "6156c897-b7f2-43d3-ad1b-09f1eab70361",
         "x": [
          13,
          13
         ],
         "y": [
          42180,
          41909
         ]
        },
        {
         "marker": {
          "color": "red"
         },
         "mode": "lines",
         "name": "error at 14",
         "text": [
          "1045"
         ],
         "textposition": "top right",
         "type": "scatter",
         "uid": "010872ae-a96c-4c24-9b09-60c5336451d9",
         "x": [
          14,
          14
         ],
         "y": [
          41054,
          40009
         ]
        },
        {
         "marker": {
          "color": "red"
         },
         "mode": "lines",
         "name": "error at 15",
         "text": [
          "18073"
         ],
         "textposition": "top right",
         "type": "scatter",
         "uid": "a8b1f953-ed39-467e-9d5c-2c3efe058c7a",
         "x": [
          15,
          15
         ],
         "y": [
          56182,
          38109
         ]
        },
        {
         "marker": {
          "color": "red"
         },
         "mode": "lines",
         "name": "error at 16",
         "text": [
          "13756"
         ],
         "textposition": "top right",
         "type": "scatter",
         "uid": "23417577-59aa-4235-8311-a7b10a7f5ebe",
         "x": [
          16,
          16
         ],
         "y": [
          49965,
          36209
         ]
        },
        {
         "marker": {
          "color": "red"
         },
         "mode": "lines",
         "name": "error at 17",
         "text": [
          "8785"
         ],
         "textposition": "top right",
         "type": "scatter",
         "uid": "5849f6de-e0ff-439c-9062-d00ea617a4c9",
         "x": [
          17,
          17
         ],
         "y": [
          43094,
          34309
         ]
        },
        {
         "marker": {
          "color": "red"
         },
         "mode": "lines",
         "name": "error at 18",
         "text": [
          "12005"
         ],
         "textposition": "top right",
         "type": "scatter",
         "uid": "0368ef38-25f1-4c51-ab46-44b4438978ad",
         "x": [
          18,
          18
         ],
         "y": [
          44414,
          32409
         ]
        },
        {
         "marker": {
          "color": "red"
         },
         "mode": "lines",
         "name": "error at 19",
         "text": [
          "10884"
         ],
         "textposition": "top right",
         "type": "scatter",
         "uid": "03bafdf0-5313-48c9-adbd-a404e52f2a5b",
         "x": [
          19,
          19
         ],
         "y": [
          41393,
          30509
         ]
        },
        {
         "marker": {
          "color": "red"
         },
         "mode": "lines",
         "name": "error at 20",
         "text": [
          "6294"
         ],
         "textposition": "top right",
         "type": "scatter",
         "uid": "b42958bc-8064-4460-89a6-1e87ed838579",
         "x": [
          20,
          20
         ],
         "y": [
          34903,
          28609
         ]
        },
        {
         "marker": {
          "color": "red"
         },
         "mode": "lines",
         "name": "error at 21",
         "text": [
          "12826"
         ],
         "textposition": "top right",
         "type": "scatter",
         "uid": "202ea8d2-81d2-463c-94f4-db32a88884f1",
         "x": [
          21,
          21
         ],
         "y": [
          39535,
          26709
         ]
        },
        {
         "marker": {
          "color": "red"
         },
         "mode": "lines",
         "name": "error at 22",
         "text": [
          "14818"
         ],
         "textposition": "top right",
         "type": "scatter",
         "uid": "8199c74a-1ac9-4503-8acb-e287d476e2d9",
         "x": [
          22,
          22
         ],
         "y": [
          39627,
          24809
         ]
        },
        {
         "marker": {
          "color": "red"
         },
         "mode": "lines",
         "name": "error at 23",
         "text": [
          "-13509"
         ],
         "textposition": "top right",
         "type": "scatter",
         "uid": "1c1c46b8-70d0-49f4-abdd-1a6620003100",
         "x": [
          23,
          23
         ],
         "y": [
          9400,
          22909
         ]
        }
       ],
       "layout": {
        "autosize": true,
        "xaxis": {
         "autorange": true,
         "range": [
          -1.4253271747498075,
          24.425327174749807
         ],
         "type": "linear"
        },
        "yaxis": {
         "autorange": true,
         "range": [
          3882.856687898089,
          90238.1433121019
         ],
         "type": "linear"
        }
       }
      },
      "image/png": "[encoded data removed]",
      "text/html": [
       "<div id=\"0e7fce46-a71d-440a-a230-fe867163b701\" style=\"height: 525px; width: 100%;\" class=\"plotly-graph-div\"></div><script type=\"text/javascript\">require([\"plotly\"], function(Plotly) { window.PLOTLYENV=window.PLOTLYENV || {};window.PLOTLYENV.BASE_URL=\"https://plot.ly\";Plotly.newPlot(\"0e7fce46-a71d-440a-a230-fe867163b701\", [{\"mode\": \"markers\", \"name\": \"actual\", \"x\": [0, 1, 2, 3, 4, 5, 6, 7, 8, 9, 10, 11, 12, 13, 14, 15, 16, 17, 18, 19, 20, 21, 22, 23], \"y\": [66609, 67048, 69664, 72238, 84721, 69224, 58697, 51430, 48239, 50574, 51707, 50305, 45590, 42180, 41054, 56182, 49965, 43094, 44414, 41393, 34903, 39535, 39627, 9400], \"type\": \"scatter\", \"uid\": \"e527cb93-1f0f-49b0-b3a2-6d039144bf91\"}, {\"mode\": \"lines\", \"name\": \"initial model\", \"text\": [], \"x\": [0, 1, 2, 3, 4, 5, 6, 7, 8, 9, 10, 11, 12, 13, 14, 15, 16, 17, 18, 19, 20, 21, 22, 23], \"y\": [66609.0, 64121.66, 61634.32, 59146.979999999996, 56659.64, 54172.3, 51684.96, 49197.619999999995, 46710.28, 44222.94, 41735.6, 39248.259999999995, 36760.92, 34273.58, 31786.239999999998, 29298.899999999994, 26811.559999999998, 24324.22, 21836.879999999997, 19349.539999999994, 16862.199999999997, 14374.86, 11887.519999999997, 9400.179999999993], \"type\": \"scatter\", \"uid\": \"523bd2b8-374d-4852-943e-080aa9d0b547\"}, {\"mode\": \"lines\", \"name\": \"updated model\", \"text\": [], \"x\": [0, 1, 2, 3, 4, 5, 6, 7, 8, 9, 10, 11, 12, 13, 14, 15, 16, 17, 18, 19, 20, 21, 22, 23], \"y\": [66609, 64709, 62809, 60909, 59009, 57109, 55209, 53309, 51409, 49509, 47609, 45709, 43809, 41909, 40009, 38109, 36209, 34309, 32409, 30509, 28609, 26709, 24809, 22909], \"type\": \"scatter\", \"uid\": \"89a78dae-f598-4b9c-89ee-1334bd8ed84a\"}, {\"marker\": {\"color\": \"red\"}, \"mode\": \"lines\", \"name\": \"error at 0\", \"text\": [\"0\"], \"textposition\": \"top right\", \"x\": [0, 0], \"y\": [66609, 66609], \"type\": \"scatter\", \"uid\": \"023d9261-5eae-45ba-b1b7-8bff0aa76762\"}, {\"marker\": {\"color\": \"red\"}, \"mode\": \"lines\", \"name\": \"error at 1\", \"text\": [\"2339\"], \"textposition\": \"top right\", \"x\": [1, 1], \"y\": [67048, 64709], \"type\": \"scatter\", \"uid\": \"6e1adf8e-1a95-4a54-a61a-c24f45f9590a\"}, {\"marker\": {\"color\": \"red\"}, \"mode\": \"lines\", \"name\": \"error at 2\", \"text\": [\"6855\"], \"textposition\": \"top right\", \"x\": [2, 2], \"y\": [69664, 62809], \"type\": \"scatter\", \"uid\": \"b0e288d4-9ca4-4ed6-8d04-424142af402e\"}, {\"marker\": {\"color\": \"red\"}, \"mode\": \"lines\", \"name\": \"error at 3\", \"text\": [\"11329\"], \"textposition\": \"top right\", \"x\": [3, 3], \"y\": [72238, 60909], \"type\": \"scatter\", \"uid\": \"df4fe38c-a272-4e44-8601-a8adc239f0a6\"}, {\"marker\": {\"color\": \"red\"}, \"mode\": \"lines\", \"name\": \"error at 4\", \"text\": [\"25712\"], \"textposition\": \"top right\", \"x\": [4, 4], \"y\": [84721, 59009], \"type\": \"scatter\", \"uid\": \"f0685d25-becc-4557-8bee-29fe2598f1fc\"}, {\"marker\": {\"color\": \"red\"}, \"mode\": \"lines\", \"name\": \"error at 5\", \"text\": [\"12115\"], \"textposition\": \"top right\", \"x\": [5, 5], \"y\": [69224, 57109], \"type\": \"scatter\", \"uid\": \"2e0b4875-e336-4659-a3ff-87e4ecdd9d7d\"}, {\"marker\": {\"color\": \"red\"}, \"mode\": \"lines\", \"name\": \"error at 6\", \"text\": [\"3488\"], \"textposition\": \"top right\", \"x\": [6, 6], \"y\": [58697, 55209], \"type\": \"scatter\", \"uid\": \"8ffa04c4-0e4c-4f7c-a6fa-d8ed623a36bf\"}, {\"marker\": {\"color\": \"red\"}, \"mode\": \"lines\", \"name\": \"error at 7\", \"text\": [\"-1879\"], \"textposition\": \"top right\", \"x\": [7, 7], \"y\": [51430, 53309], \"type\": \"scatter\", \"uid\": \"b5f3fbcc-125e-406a-a246-cd797de68d2d\"}, {\"marker\": {\"color\": \"red\"}, \"mode\": \"lines\", \"name\": \"error at 8\", \"text\": [\"-3170\"], \"textposition\": \"top right\", \"x\": [8, 8], \"y\": [48239, 51409], \"type\": \"scatter\", \"uid\": \"9989718b-e7ec-4a1c-8e79-15aaa1e767e8\"}, {\"marker\": {\"color\": \"red\"}, \"mode\": \"lines\", \"name\": \"error at 9\", \"text\": [\"1065\"], \"textposition\": \"top right\", \"x\": [9, 9], \"y\": [50574, 49509], \"type\": \"scatter\", \"uid\": \"f4e586a8-3541-4c83-b377-701b6bdbc705\"}, {\"marker\": {\"color\": \"red\"}, \"mode\": \"lines\", \"name\": \"error at 10\", \"text\": [\"4098\"], \"textposition\": \"top right\", \"x\": [10, 10], \"y\": [51707, 47609], \"type\": \"scatter\", \"uid\": \"8dfaa3b2-2c1f-454d-8630-cd7a4b87ba02\"}, {\"marker\": {\"color\": \"red\"}, \"mode\": \"lines\", \"name\": \"error at 11\", \"text\": [\"4596\"], \"textposition\": \"top right\", \"x\": [11, 11], \"y\": [50305, 45709], \"type\": \"scatter\", \"uid\": \"31fb9092-8b4a-4ecf-9e6e-b17ac4d45b5a\"}, {\"marker\": {\"color\": \"red\"}, \"mode\": \"lines\", \"name\": \"error at 12\", \"text\": [\"1781\"], \"textposition\": \"top right\", \"x\": [12, 12], \"y\": [45590, 43809], \"type\": \"scatter\", \"uid\": \"0c6e84b6-d8b3-4c6d-97f6-09ab958e3801\"}, {\"marker\": {\"color\": \"red\"}, \"mode\": \"lines\", \"name\": \"error at 13\", \"text\": [\"271\"], \"textposition\": \"top right\", \"x\": [13, 13], \"y\": [42180, 41909], \"type\": \"scatter\", \"uid\": \"41a5fb34-3257-493d-9281-abac3d18abf4\"}, {\"marker\": {\"color\": \"red\"}, \"mode\": \"lines\", \"name\": \"error at 14\", \"text\": [\"1045\"], \"textposition\": \"top right\", \"x\": [14, 14], \"y\": [41054, 40009], \"type\": \"scatter\", \"uid\": \"2454c17a-f5c9-4096-9a34-d4b5f907e6ad\"}, {\"marker\": {\"color\": \"red\"}, \"mode\": \"lines\", \"name\": \"error at 15\", \"text\": [\"18073\"], \"textposition\": \"top right\", \"x\": [15, 15], \"y\": [56182, 38109], \"type\": \"scatter\", \"uid\": \"1bf6887c-2a37-42de-8d4a-b75972d19c9d\"}, {\"marker\": {\"color\": \"red\"}, \"mode\": \"lines\", \"name\": \"error at 16\", \"text\": [\"13756\"], \"textposition\": \"top right\", \"x\": [16, 16], \"y\": [49965, 36209], \"type\": \"scatter\", \"uid\": \"3eef2437-b478-4b0a-bc18-b155ff5b0955\"}, {\"marker\": {\"color\": \"red\"}, \"mode\": \"lines\", \"name\": \"error at 17\", \"text\": [\"8785\"], \"textposition\": \"top right\", \"x\": [17, 17], \"y\": [43094, 34309], \"type\": \"scatter\", \"uid\": \"22f99be8-ebe2-4ef1-8cbb-cd846a5bf992\"}, {\"marker\": {\"color\": \"red\"}, \"mode\": \"lines\", \"name\": \"error at 18\", \"text\": [\"12005\"], \"textposition\": \"top right\", \"x\": [18, 18], \"y\": [44414, 32409], \"type\": \"scatter\", \"uid\": \"45e9866f-35bb-4958-80e1-a8110b0f0c45\"}, {\"marker\": {\"color\": \"red\"}, \"mode\": \"lines\", \"name\": \"error at 19\", \"text\": [\"10884\"], \"textposition\": \"top right\", \"x\": [19, 19], \"y\": [41393, 30509], \"type\": \"scatter\", \"uid\": \"5a62da39-b920-46b0-96ca-28a0a5c6e410\"}, {\"marker\": {\"color\": \"red\"}, \"mode\": \"lines\", \"name\": \"error at 20\", \"text\": [\"6294\"], \"textposition\": \"top right\", \"x\": [20, 20], \"y\": [34903, 28609], \"type\": \"scatter\", \"uid\": \"0f3dcc22-1049-48a1-a3de-c26f55c5b05a\"}, {\"marker\": {\"color\": \"red\"}, \"mode\": \"lines\", \"name\": \"error at 21\", \"text\": [\"12826\"], \"textposition\": \"top right\", \"x\": [21, 21], \"y\": [39535, 26709], \"type\": \"scatter\", \"uid\": \"959d7d16-a6bb-4b44-8cca-af4e72f09263\"}, {\"marker\": {\"color\": \"red\"}, \"mode\": \"lines\", \"name\": \"error at 22\", \"text\": [\"14818\"], \"textposition\": \"top right\", \"x\": [22, 22], \"y\": [39627, 24809], \"type\": \"scatter\", \"uid\": \"ed9a4f41-6266-4740-a41f-4e9c400be590\"}, {\"marker\": {\"color\": \"red\"}, \"mode\": \"lines\", \"name\": \"error at 23\", \"text\": [\"-13509\"], \"textposition\": \"top right\", \"x\": [23, 23], \"y\": [9400, 22909], \"type\": \"scatter\", \"uid\": \"0143e07c-c9a0-4676-aecb-9d2e060c2014\"}], {}, {\"showLink\": false, \"linkText\": \"Export to plot.ly\", \"plotlyServerURL\": \"https://plot.ly\"})});</script><script type=\"text/javascript\">window.addEventListener(\"resize\", function(){window._Plotly.Plots.resize(document.getElementById(\"0e7fce46-a71d-440a-a230-fe867163b701\"));});</script>"
      ],
      "text/vnd.plotly.v1+html": [
       "<div id=\"0e7fce46-a71d-440a-a230-fe867163b701\" style=\"height: 525px; width: 100%;\" class=\"plotly-graph-div\"></div><script type=\"text/javascript\">require([\"plotly\"], function(Plotly) { window.PLOTLYENV=window.PLOTLYENV || {};window.PLOTLYENV.BASE_URL=\"https://plot.ly\";Plotly.newPlot(\"0e7fce46-a71d-440a-a230-fe867163b701\", [{\"mode\": \"markers\", \"name\": \"actual\", \"x\": [0, 1, 2, 3, 4, 5, 6, 7, 8, 9, 10, 11, 12, 13, 14, 15, 16, 17, 18, 19, 20, 21, 22, 23], \"y\": [66609, 67048, 69664, 72238, 84721, 69224, 58697, 51430, 48239, 50574, 51707, 50305, 45590, 42180, 41054, 56182, 49965, 43094, 44414, 41393, 34903, 39535, 39627, 9400], \"type\": \"scatter\", \"uid\": \"e527cb93-1f0f-49b0-b3a2-6d039144bf91\"}, {\"mode\": \"lines\", \"name\": \"initial model\", \"text\": [], \"x\": [0, 1, 2, 3, 4, 5, 6, 7, 8, 9, 10, 11, 12, 13, 14, 15, 16, 17, 18, 19, 20, 21, 22, 23], \"y\": [66609.0, 64121.66, 61634.32, 59146.979999999996, 56659.64, 54172.3, 51684.96, 49197.619999999995, 46710.28, 44222.94, 41735.6, 39248.259999999995, 36760.92, 34273.58, 31786.239999999998, 29298.899999999994, 26811.559999999998, 24324.22, 21836.879999999997, 19349.539999999994, 16862.199999999997, 14374.86, 11887.519999999997, 9400.179999999993], \"type\": \"scatter\", \"uid\": \"523bd2b8-374d-4852-943e-080aa9d0b547\"}, {\"mode\": \"lines\", \"name\": \"updated model\", \"text\": [], \"x\": [0, 1, 2, 3, 4, 5, 6, 7, 8, 9, 10, 11, 12, 13, 14, 15, 16, 17, 18, 19, 20, 21, 22, 23], \"y\": [66609, 64709, 62809, 60909, 59009, 57109, 55209, 53309, 51409, 49509, 47609, 45709, 43809, 41909, 40009, 38109, 36209, 34309, 32409, 30509, 28609, 26709, 24809, 22909], \"type\": \"scatter\", \"uid\": \"89a78dae-f598-4b9c-89ee-1334bd8ed84a\"}, {\"marker\": {\"color\": \"red\"}, \"mode\": \"lines\", \"name\": \"error at 0\", \"text\": [\"0\"], \"textposition\": \"top right\", \"x\": [0, 0], \"y\": [66609, 66609], \"type\": \"scatter\", \"uid\": \"023d9261-5eae-45ba-b1b7-8bff0aa76762\"}, {\"marker\": {\"color\": \"red\"}, \"mode\": \"lines\", \"name\": \"error at 1\", \"text\": [\"2339\"], \"textposition\": \"top right\", \"x\": [1, 1], \"y\": [67048, 64709], \"type\": \"scatter\", \"uid\": \"6e1adf8e-1a95-4a54-a61a-c24f45f9590a\"}, {\"marker\": {\"color\": \"red\"}, \"mode\": \"lines\", \"name\": \"error at 2\", \"text\": [\"6855\"], \"textposition\": \"top right\", \"x\": [2, 2], \"y\": [69664, 62809], \"type\": \"scatter\", \"uid\": \"b0e288d4-9ca4-4ed6-8d04-424142af402e\"}, {\"marker\": {\"color\": \"red\"}, \"mode\": \"lines\", \"name\": \"error at 3\", \"text\": [\"11329\"], \"textposition\": \"top right\", \"x\": [3, 3], \"y\": [72238, 60909], \"type\": \"scatter\", \"uid\": \"df4fe38c-a272-4e44-8601-a8adc239f0a6\"}, {\"marker\": {\"color\": \"red\"}, \"mode\": \"lines\", \"name\": \"error at 4\", \"text\": [\"25712\"], \"textposition\": \"top right\", \"x\": [4, 4], \"y\": [84721, 59009], \"type\": \"scatter\", \"uid\": \"f0685d25-becc-4557-8bee-29fe2598f1fc\"}, {\"marker\": {\"color\": \"red\"}, \"mode\": \"lines\", \"name\": \"error at 5\", \"text\": [\"12115\"], \"textposition\": \"top right\", \"x\": [5, 5], \"y\": [69224, 57109], \"type\": \"scatter\", \"uid\": \"2e0b4875-e336-4659-a3ff-87e4ecdd9d7d\"}, {\"marker\": {\"color\": \"red\"}, \"mode\": \"lines\", \"name\": \"error at 6\", \"text\": [\"3488\"], \"textposition\": \"top right\", \"x\": [6, 6], \"y\": [58697, 55209], \"type\": \"scatter\", \"uid\": \"8ffa04c4-0e4c-4f7c-a6fa-d8ed623a36bf\"}, {\"marker\": {\"color\": \"red\"}, \"mode\": \"lines\", \"name\": \"error at 7\", \"text\": [\"-1879\"], \"textposition\": \"top right\", \"x\": [7, 7], \"y\": [51430, 53309], \"type\": \"scatter\", \"uid\": \"b5f3fbcc-125e-406a-a246-cd797de68d2d\"}, {\"marker\": {\"color\": \"red\"}, \"mode\": \"lines\", \"name\": \"error at 8\", \"text\": [\"-3170\"], \"textposition\": \"top right\", \"x\": [8, 8], \"y\": [48239, 51409], \"type\": \"scatter\", \"uid\": \"9989718b-e7ec-4a1c-8e79-15aaa1e767e8\"}, {\"marker\": {\"color\": \"red\"}, \"mode\": \"lines\", \"name\": \"error at 9\", \"text\": [\"1065\"], \"textposition\": \"top right\", \"x\": [9, 9], \"y\": [50574, 49509], \"type\": \"scatter\", \"uid\": \"f4e586a8-3541-4c83-b377-701b6bdbc705\"}, {\"marker\": {\"color\": \"red\"}, \"mode\": \"lines\", \"name\": \"error at 10\", \"text\": [\"4098\"], \"textposition\": \"top right\", \"x\": [10, 10], \"y\": [51707, 47609], \"type\": \"scatter\", \"uid\": \"8dfaa3b2-2c1f-454d-8630-cd7a4b87ba02\"}, {\"marker\": {\"color\": \"red\"}, \"mode\": \"lines\", \"name\": \"error at 11\", \"text\": [\"4596\"], \"textposition\": \"top right\", \"x\": [11, 11], \"y\": [50305, 45709], \"type\": \"scatter\", \"uid\": \"31fb9092-8b4a-4ecf-9e6e-b17ac4d45b5a\"}, {\"marker\": {\"color\": \"red\"}, \"mode\": \"lines\", \"name\": \"error at 12\", \"text\": [\"1781\"], \"textposition\": \"top right\", \"x\": [12, 12], \"y\": [45590, 43809], \"type\": \"scatter\", \"uid\": \"0c6e84b6-d8b3-4c6d-97f6-09ab958e3801\"}, {\"marker\": {\"color\": \"red\"}, \"mode\": \"lines\", \"name\": \"error at 13\", \"text\": [\"271\"], \"textposition\": \"top right\", \"x\": [13, 13], \"y\": [42180, 41909], \"type\": \"scatter\", \"uid\": \"41a5fb34-3257-493d-9281-abac3d18abf4\"}, {\"marker\": {\"color\": \"red\"}, \"mode\": \"lines\", \"name\": \"error at 14\", \"text\": [\"1045\"], \"textposition\": \"top right\", \"x\": [14, 14], \"y\": [41054, 40009], \"type\": \"scatter\", \"uid\": \"2454c17a-f5c9-4096-9a34-d4b5f907e6ad\"}, {\"marker\": {\"color\": \"red\"}, \"mode\": \"lines\", \"name\": \"error at 15\", \"text\": [\"18073\"], \"textposition\": \"top right\", \"x\": [15, 15], \"y\": [56182, 38109], \"type\": \"scatter\", \"uid\": \"1bf6887c-2a37-42de-8d4a-b75972d19c9d\"}, {\"marker\": {\"color\": \"red\"}, \"mode\": \"lines\", \"name\": \"error at 16\", \"text\": [\"13756\"], \"textposition\": \"top right\", \"x\": [16, 16], \"y\": [49965, 36209], \"type\": \"scatter\", \"uid\": \"3eef2437-b478-4b0a-bc18-b155ff5b0955\"}, {\"marker\": {\"color\": \"red\"}, \"mode\": \"lines\", \"name\": \"error at 17\", \"text\": [\"8785\"], \"textposition\": \"top right\", \"x\": [17, 17], \"y\": [43094, 34309], \"type\": \"scatter\", \"uid\": \"22f99be8-ebe2-4ef1-8cbb-cd846a5bf992\"}, {\"marker\": {\"color\": \"red\"}, \"mode\": \"lines\", \"name\": \"error at 18\", \"text\": [\"12005\"], \"textposition\": \"top right\", \"x\": [18, 18], \"y\": [44414, 32409], \"type\": \"scatter\", \"uid\": \"45e9866f-35bb-4958-80e1-a8110b0f0c45\"}, {\"marker\": {\"color\": \"red\"}, \"mode\": \"lines\", \"name\": \"error at 19\", \"text\": [\"10884\"], \"textposition\": \"top right\", \"x\": [19, 19], \"y\": [41393, 30509], \"type\": \"scatter\", \"uid\": \"5a62da39-b920-46b0-96ca-28a0a5c6e410\"}, {\"marker\": {\"color\": \"red\"}, \"mode\": \"lines\", \"name\": \"error at 20\", \"text\": [\"6294\"], \"textposition\": \"top right\", \"x\": [20, 20], \"y\": [34903, 28609], \"type\": \"scatter\", \"uid\": \"0f3dcc22-1049-48a1-a3de-c26f55c5b05a\"}, {\"marker\": {\"color\": \"red\"}, \"mode\": \"lines\", \"name\": \"error at 21\", \"text\": [\"12826\"], \"textposition\": \"top right\", \"x\": [21, 21], \"y\": [39535, 26709], \"type\": \"scatter\", \"uid\": \"959d7d16-a6bb-4b44-8cca-af4e72f09263\"}, {\"marker\": {\"color\": \"red\"}, \"mode\": \"lines\", \"name\": \"error at 22\", \"text\": [\"14818\"], \"textposition\": \"top right\", \"x\": [22, 22], \"y\": [39627, 24809], \"type\": \"scatter\", \"uid\": \"ed9a4f41-6266-4740-a41f-4e9c400be590\"}, {\"marker\": {\"color\": \"red\"}, \"mode\": \"lines\", \"name\": \"error at 23\", \"text\": [\"-13509\"], \"textposition\": \"top right\", \"x\": [23, 23], \"y\": [9400, 22909], \"type\": \"scatter\", \"uid\": \"0143e07c-c9a0-4676-aecb-9d2e060c2014\"}], {}, {\"showLink\": false, \"linkText\": \"Export to plot.ly\", \"plotlyServerURL\": \"https://plot.ly\"})});</script><script type=\"text/javascript\">window.addEventListener(\"resize\", function(){window._Plotly.Plots.resize(document.getElementById(\"0e7fce46-a71d-440a-a230-fe867163b701\"));});</script>"
      ]
     },
     "metadata": {},
     "output_type": "display_data"
    }
   ],
   "source": [
    "from linear_equations import build_regression_line\n",
    "from graph import m_b_trace, plot, m_b_data, trace_values\n",
    "from error import error_line_traces\n",
    "\n",
    "scatter = {'x': months_since_september, 'y': revenues, 'mode': 'markers', 'name': 'actual'}\n",
    "model = build_regression_line(list(range(0, 24)), revenues)\n",
    "\n",
    "m = -2487.34\n",
    "b = 66609\n",
    "\n",
    "updated_m = -1900\n",
    "updated_predicted_values = m_b_data(updated_m, b, list(range(0, 24)))['y']\n",
    "initial_line = trace_values(months_since_september, predicted_values, mode = 'lines', name = 'initial model')\n",
    "updated_line = trace_values(months_since_september, updated_predicted_values, mode = 'lines', name = 'updated model')\n",
    "\n",
    "updated_error_traces = error_line_traces(months_since_september, revenues, updated_m, b)\n",
    "iplot([scatter, initial_line, updated_line] + updated_error_traces)"
   ]
  },
  {
   "cell_type": "markdown",
   "metadata": {},
   "source": [
    "So it looks like this updated model (the green line) actually does a better job than the initial model.  And we can quantify this with our total error.  "
   ]
  },
  {
   "cell_type": "code",
   "execution_count": 63,
   "metadata": {},
   "outputs": [],
   "source": [
    "rounded_revenues = list(map(lambda revenue: int(revenue),revenues))\n",
    "updated_predicted_values = m_b_data(updated_m, b, list(range(0, 24)))['y']\n",
    "updated_rounded_predicted_values = list(map(lambda revenue: int(revenue),updated_predicted_values))\n",
    "updated_actual_and_expected_values = list(zip(rounded_revenues, updated_rounded_predicted_values))\n",
    "errors = list(map(lambda actual_and_expected: actual_and_expected[0] - int(actual_and_expected[1]), updated_actual_and_expected_values))"
   ]
  },
  {
   "cell_type": "code",
   "execution_count": 64,
   "metadata": {},
   "outputs": [
    {
     "data": {
      "text/plain": [
       "153577"
      ]
     },
     "execution_count": 64,
     "metadata": {},
     "output_type": "execute_result"
    }
   ],
   "source": [
    "sum(errors)"
   ]
  },
  {
   "cell_type": "markdown",
   "metadata": {},
   "source": [
    "If we were to add up all of our errors for the green model above, we get a total error score of 153577.  And then comparing this to our initial model's score of 315696, we just improved our model by quite a bit.  And would choose the green line over the orange line."
   ]
  },
  {
   "cell_type": "markdown",
   "metadata": {},
   "source": [
    "### Summary"
   ]
  },
  {
   "cell_type": "markdown",
   "metadata": {},
   "source": [
    "In this lesson, we were introduced to a basic machine learning model.  Our model is to draw a straight line through our points.  We saw that once built, our model can make predictions for each of our data points.  Then we saw that we can use a cost function to see how well our model does at predicting our existing data.  Our cost function for now, is simply to add up all of the differences between our actual and predicted datapoints, called the *sum of errors*.\n",
    "\n",
    "The benefit of using our cost function to calculate our total cost is that we can then draw multiple lines, and choose the line with the least total cost.  Our approach for choosing different models is called our *learning algorithm*, and in this lesson our learning algorithm was simply trial and error.  In the lessons that follow, we'll see how we can improve upon our cost function, as well as our learning algorithm, and about how we can use our machine learning model to both draw insights from our data as well as predict future data.  "
   ]
  }
 ],
 "metadata": {
  "kernelspec": {
   "display_name": "Python 3",
   "language": "python",
   "name": "python3"
  },
  "language_info": {
   "codemirror_mode": {
    "name": "ipython",
    "version": 3
   },
   "file_extension": ".py",
   "mimetype": "text/x-python",
   "name": "python",
   "nbconvert_exporter": "python",
   "pygments_lexer": "ipython3",
   "version": "3.7.0"
  }
 },
 "nbformat": 4,
 "nbformat_minor": 2
}
