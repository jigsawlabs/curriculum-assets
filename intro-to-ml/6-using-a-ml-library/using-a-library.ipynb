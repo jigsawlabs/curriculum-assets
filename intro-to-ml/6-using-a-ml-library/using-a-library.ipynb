{
 "cells": [
  {
   "cell_type": "markdown",
   "metadata": {},
   "source": [
    "# Machine Learning with a Library"
   ]
  },
  {
   "cell_type": "markdown",
   "metadata": {},
   "source": [
    "### Introduction"
   ]
  },
  {
   "cell_type": "markdown",
   "metadata": {},
   "source": [
    "In the last number of lessons, we have been built a simple linear regression machine learning.  We did so using the three components of any machine learning algorithm: first with choosing a prediction model, then fitting the model, and finally using the model to predict future data.\n",
    "\n",
    "1. Our **prediction model** was simply a line, or a function, that given an input predicted an output.  In our example of basketball shooting, given a shooting angle, the model predicted a distance.  \n",
    "\n",
    "2. We **fit** the model by comparing our model against the actual data.  We do this by calculating the difference between our actual data and the value that our model predicts -- this difference is called the error.  Then we square each of those errors and add up the these squared errors.  This is expressed mathematically as Sum of Squared Errors $= (actual  - predicted )^2 + (actual  - predicted )^2 +  ...$ .  \n",
    "\n",
    "3. Now we can **predict** new distances with our fitted model.  We can predict by inputting new angles for which the updated model better predicts distances given different angles. "
   ]
  },
  {
   "cell_type": "markdown",
   "metadata": {},
   "source": [
    "### Using a machine learning library"
   ]
  },
  {
   "cell_type": "markdown",
   "metadata": {},
   "source": [
    "Now wouldn't it be nice if, instead of writing these algorithms from scratch, we could use a tool to do these for us?  Well we can."
   ]
  },
  {
   "cell_type": "markdown",
   "metadata": {},
   "source": [
    "<img src=\"./scikitlearn.png\" >"
   ]
  },
  {
   "cell_type": "markdown",
   "metadata": {},
   "source": [
    "Scikit learn is an excellent tool for running machine learning algorithms.  Let's get going."
   ]
  },
  {
   "cell_type": "markdown",
   "metadata": {},
   "source": [
    "Our first step, of course, is to install the library."
   ]
  },
  {
   "cell_type": "code",
   "execution_count": 2,
   "metadata": {},
   "outputs": [
    {
     "name": "stdout",
     "output_type": "stream",
     "text": [
      "Requirement already satisfied: sklearn in /Users/jeff/anaconda3/lib/python3.7/site-packages (0.0)\n",
      "Requirement already satisfied: scikit-learn in /Users/jeff/anaconda3/lib/python3.7/site-packages (from sklearn) (0.19.2)\n",
      "\u001b[33mYou are using pip version 18.1, however version 19.0.3 is available.\n",
      "You should consider upgrading via the 'pip install --upgrade pip' command.\u001b[0m\n"
     ]
    }
   ],
   "source": [
    "!pip install sklearn"
   ]
  },
  {
   "cell_type": "markdown",
   "metadata": {},
   "source": [
    "> Press shift + enter to ensure that the library is installed."
   ]
  },
  {
   "cell_type": "markdown",
   "metadata": {},
   "source": [
    "Then we do the following."
   ]
  },
  {
   "cell_type": "code",
   "execution_count": 1,
   "metadata": {},
   "outputs": [],
   "source": [
    "import sklearn"
   ]
  },
  {
   "cell_type": "markdown",
   "metadata": {},
   "source": [
    "Now that we have this library, let's import the linear regression model."
   ]
  },
  {
   "cell_type": "markdown",
   "metadata": {},
   "source": [
    "## Going through our three steps"
   ]
  },
  {
   "cell_type": "markdown",
   "metadata": {},
   "source": [
    "Now that we have downloaded the `scikitlearn` library, and imported the library it is time to follow our three step process of (1) creating an initial model, (2) fitting the model and (3) then fitting the model to make new predictions."
   ]
  },
  {
   "cell_type": "markdown",
   "metadata": {},
   "source": [
    "### 1. Creating an initial model"
   ]
  },
  {
   "cell_type": "markdown",
   "metadata": {},
   "source": [
    "In our introduction to machine learning lesson, we created an initial model simply by writing a function that takes an input and predicts an output.  "
   ]
  },
  {
   "cell_type": "code",
   "execution_count": 21,
   "metadata": {},
   "outputs": [],
   "source": [
    "def predicted_distance(angle):\n",
    "    return 12 + 5*angle "
   ]
  },
  {
   "cell_type": "markdown",
   "metadata": {},
   "source": [
    "Now when working with scikitlearn we also create an initial model, but we do so by using the `LinearRegression` function from the scikitlearn library.\n",
    "\n",
    "So first we import the `LinearRegression` function."
   ]
  },
  {
   "cell_type": "code",
   "execution_count": 16,
   "metadata": {},
   "outputs": [],
   "source": [
    "from sklearn.linear_model import LinearRegression"
   ]
  },
  {
   "cell_type": "markdown",
   "metadata": {},
   "source": [
    "And now we can create our initial model."
   ]
  },
  {
   "cell_type": "code",
   "execution_count": 19,
   "metadata": {},
   "outputs": [],
   "source": [
    "linear_regression = LinearRegression()"
   ]
  },
  {
   "cell_type": "markdown",
   "metadata": {},
   "source": [
    "This model is fairly abstract at this point.  And admittedly difficult to understand.  But the big takeaway is that it's pretty similar to a dictionary.  As you can see, it has key value pairs just like a dictionary does.  "
   ]
  },
  {
   "cell_type": "code",
   "execution_count": 22,
   "metadata": {},
   "outputs": [
    {
     "data": {
      "text/plain": [
       "LinearRegression(copy_X=True, fit_intercept=True, n_jobs=1, normalize=False)"
      ]
     },
     "execution_count": 22,
     "metadata": {},
     "output_type": "execute_result"
    }
   ],
   "source": [
    "linear_regression"
   ]
  },
  {
   "cell_type": "markdown",
   "metadata": {},
   "source": [
    "It's ok that we don't understand what these key value pairs mean, we will in time.  Right now let's focus on the fact that we were able to create an initial model with the lines:\n",
    "\n",
    "```python\n",
    "from sklearn.linear_model import LinearRegression\n",
    "linear_regression = LinearRegression()\n",
    "```\n",
    "\n",
    "And now that we have an initial model, we are ready to move onto step 2."
   ]
  },
  {
   "cell_type": "markdown",
   "metadata": {},
   "source": [
    "### 2. Fit the model with the actual data"
   ]
  },
  {
   "cell_type": "markdown",
   "metadata": {},
   "source": [
    "Now that we have initialized our model with the code `linear_regression = LinearRegression()`, it is now time to pass through some data into this model so what we can fit the model.  In the last lesson, we saw how we can fit the model by comparing what a model predicts versus the results of our actual data.  We then choose the model with the lowest error by finding the model that has the lowest residual sum of squares."
   ]
  },
  {
   "cell_type": "markdown",
   "metadata": {},
   "source": [
    "Here we do the same thing, and we do so by passing the data into our model.  Let's use the same data as earlier."
   ]
  },
  {
   "cell_type": "markdown",
   "metadata": {},
   "source": [
    "| angle        | distance           \n",
    "| ------------- |:-------------:| \n",
    "|    .30        | 8 feet | \n",
    "|    .50        | 11 feet | \n",
    "|    .70        | 17 feet | "
   ]
  },
  {
   "cell_type": "markdown",
   "metadata": {},
   "source": [
    "Now remember that the shooting angles are the inputs and that each angle leads to an output of a distance.  Ok, so we may like to simply pass through these inputs and outputs as two lists to our model.  And out model has a `fit` method to do precisely that."
   ]
  },
  {
   "cell_type": "code",
   "execution_count": 29,
   "metadata": {},
   "outputs": [],
   "source": [
    "angles = [.3, .5, .7]\n",
    "distances = [8, 11, 17]\n",
    "# linear_regression.fit()"
   ]
  },
  {
   "cell_type": "markdown",
   "metadata": {},
   "source": [
    "However `scikitlearn` requires our lists to be in a specific format to pass through this data.  It wants us to organize our data like so:"
   ]
  },
  {
   "cell_type": "code",
   "execution_count": 30,
   "metadata": {},
   "outputs": [],
   "source": [
    "inputs = [[.3], [.5], [.7]]\n",
    "outputs = [8, 11, 17]"
   ]
  },
  {
   "cell_type": "markdown",
   "metadata": {},
   "source": [
    "### A special format...but why??"
   ]
  },
  {
   "cell_type": "markdown",
   "metadata": {},
   "source": [
    "Scikitlearn recognizes that can include more inputs than just one in predicting an output.  For example, in the table above we just used `angle` to predict `distance`, but later we may decide to use both `angle` and `arm speed` to predict `distance`.\n",
    "\n",
    "|arm speed| angle        | distance           \n",
    "|----| ------------- |:-------------:| \n",
    "|5 mph|    .30        | 9 feet | \n",
    "|6 mph |    .50        | 15 feet | \n",
    "|4 mph|    .70        | 21 feet | "
   ]
  },
  {
   "cell_type": "markdown",
   "metadata": {},
   "source": [
    "So scikitlearn, along with other machine learning libraries, recognize that we have rows of data, and that each row can have multiple inputs, but just one output.\n",
    "\n",
    "So to represent the rows of inputs of `arm speed` and `angle`, we can organize our data like so:"
   ]
  },
  {
   "cell_type": "code",
   "execution_count": 31,
   "metadata": {},
   "outputs": [],
   "source": [
    "inputs = [\n",
    "    [5, .30],\n",
    "    [6, .50],\n",
    "    [4, .70],\n",
    "]"
   ]
  },
  {
   "cell_type": "markdown",
   "metadata": {},
   "source": [
    "So we use a nested list, where each element of the outer list is a row, with each column being a different input for that row.  For our outputs, however, there is only ever one output per row, so we can just organize our outputs in one unnested list."
   ]
  },
  {
   "cell_type": "code",
   "execution_count": 32,
   "metadata": {},
   "outputs": [],
   "source": [
    "outputs = [9, 15, 21]"
   ]
  },
  {
   "cell_type": "markdown",
   "metadata": {},
   "source": [
    "So even when me move back to with just one column of input data:  "
   ]
  },
  {
   "cell_type": "markdown",
   "metadata": {},
   "source": [
    "| angle        | distance           \n",
    "| ------------- |:-------------:| \n",
    "|    .30        | 8 feet | \n",
    "|    .50        | 11 feet | \n",
    "|    .70        | 17 feet | "
   ]
  },
  {
   "cell_type": "markdown",
   "metadata": {},
   "source": [
    "We still use a nested list of inputs, with each element of the outer list being a row, and each element of the inner list being an input column."
   ]
  },
  {
   "cell_type": "code",
   "execution_count": 36,
   "metadata": {},
   "outputs": [],
   "source": [
    "inputs = [\n",
    "    [.30],\n",
    "    [.50],\n",
    "    [.70],\n",
    "]"
   ]
  },
  {
   "cell_type": "markdown",
   "metadata": {},
   "source": [
    "### 2 (continued). Now back to fitting the model"
   ]
  },
  {
   "cell_type": "markdown",
   "metadata": {},
   "source": [
    "Ok, now that we know the format for our data, the next thing to do is to fit our linear model to the data.  We do this by using the `fit` method on our linear model and passing through the data in the proper format."
   ]
  },
  {
   "cell_type": "code",
   "execution_count": 37,
   "metadata": {},
   "outputs": [
    {
     "data": {
      "text/plain": [
       "LinearRegression(copy_X=True, fit_intercept=True, n_jobs=1, normalize=False)"
      ]
     },
     "execution_count": 37,
     "metadata": {},
     "output_type": "execute_result"
    }
   ],
   "source": [
    "# nested list for the inputs\n",
    "inputs = [\n",
    "    [.30],\n",
    "    [.50],\n",
    "    [.70],\n",
    "]\n",
    "\n",
    "# single list for the outputs\n",
    "outputs = [8, 11, 17]\n",
    "\n",
    "linear_regression.fit(inputs, outputs)"
   ]
  },
  {
   "cell_type": "markdown",
   "metadata": {},
   "source": [
    "### 3. Using our fit model to predict"
   ]
  },
  {
   "cell_type": "markdown",
   "metadata": {},
   "source": [
    "Believe it or not with that line there at the end, we have fit our model to our data.  Here we'll prove it.  So remember that in our Introduction to Machine Learning lesson, when we fit our model, we went forward with a function that looked like the following.\n",
    "\n"
   ]
  },
  {
   "cell_type": "code",
   "execution_count": 39,
   "metadata": {},
   "outputs": [],
   "source": [
    "def predicted_distance(angle):\n",
    "    return 3 + 4*angle "
   ]
  },
  {
   "cell_type": "markdown",
   "metadata": {},
   "source": [
    "So the key things that change in our model are the two numbers.  The number on the left (that's not multiplied by anything) is called the y intercept.  We can see the intercept that `scikitlearn` arrived after fitting out data with the following:"
   ]
  },
  {
   "cell_type": "code",
   "execution_count": 40,
   "metadata": {},
   "outputs": [
    {
     "data": {
      "text/plain": [
       "0.7500000000000018"
      ]
     },
     "execution_count": 40,
     "metadata": {},
     "output_type": "execute_result"
    }
   ],
   "source": [
    "linear_regression.intercept_"
   ]
  },
  {
   "cell_type": "markdown",
   "metadata": {},
   "source": [
    "The number that we multiply by our angle is called the coefficient, and we can find it by calling the `coef_` method."
   ]
  },
  {
   "cell_type": "code",
   "execution_count": 41,
   "metadata": {},
   "outputs": [
    {
     "data": {
      "text/plain": [
       "array([22.5])"
      ]
     },
     "execution_count": 41,
     "metadata": {},
     "output_type": "execute_result"
    }
   ],
   "source": [
    "linear_regression.coef_"
   ]
  },
  {
   "cell_type": "markdown",
   "metadata": {},
   "source": [
    "So `scikitlearn` is telling us that really our model should look like the following:"
   ]
  },
  {
   "cell_type": "code",
   "execution_count": 2,
   "metadata": {},
   "outputs": [],
   "source": [
    "def predicted_distance(angle):\n",
    "    return (.75 + 22.5*angle)"
   ]
  },
  {
   "cell_type": "markdown",
   "metadata": {},
   "source": [
    "### 4. Predicting new distances"
   ]
  },
  {
   "cell_type": "markdown",
   "metadata": {},
   "source": [
    "Now we can get a sense of how well our new formula does.  So this was our original data that we used to fit our model:"
   ]
  },
  {
   "cell_type": "markdown",
   "metadata": {},
   "source": [
    "| angle        | distance           \n",
    "| ------------- |:-------------:| \n",
    "|    .30        | 8 feet | \n",
    "|    .50        | 11 feet | \n",
    "|    .70        | 17 feet | "
   ]
  },
  {
   "cell_type": "markdown",
   "metadata": {},
   "source": [
    "And this is the predictions that our updated `predicted_distance` function produces."
   ]
  },
  {
   "cell_type": "code",
   "execution_count": 7,
   "metadata": {},
   "outputs": [
    {
     "data": {
      "text/plain": [
       "16.5"
      ]
     },
     "execution_count": 7,
     "metadata": {},
     "output_type": "execute_result"
    }
   ],
   "source": [
    "predicted_distance(.3)  # 7.5\n",
    "predicted_distance(.5) # 12.0\n",
    "predicted_distance(.7) # 16.5"
   ]
  },
  {
   "cell_type": "markdown",
   "metadata": {},
   "source": [
    "Not bad at all.  Of course, `scikitlearn` has a built in method that allows us to see the outputs of our model.  We can pass through our three rows of inputs.  But because scikitlearn does not know how many columns of inputs will be in each row, once again we use a nested list."
   ]
  },
  {
   "cell_type": "code",
   "execution_count": 49,
   "metadata": {},
   "outputs": [
    {
     "data": {
      "text/plain": [
       "array([ 7.5, 12. , 16.5])"
      ]
     },
     "execution_count": 49,
     "metadata": {},
     "output_type": "execute_result"
    }
   ],
   "source": [
    "inputs = [\n",
    "    [.3],\n",
    "    [.5],\n",
    "    [.7]\n",
    "]\n",
    "\n",
    "linear_regression.predict(inputs)"
   ]
  },
  {
   "cell_type": "markdown",
   "metadata": {},
   "source": [
    "And we can pass through new inputs not in our data, to predict new outputs as well."
   ]
  },
  {
   "cell_type": "code",
   "execution_count": 50,
   "metadata": {},
   "outputs": [
    {
     "data": {
      "text/plain": [
       "array([ 9.75, 14.25, 18.75])"
      ]
     },
     "execution_count": 50,
     "metadata": {},
     "output_type": "execute_result"
    }
   ],
   "source": [
    "new_inputs = [\n",
    "    [.4],\n",
    "    [.6],\n",
    "    [.8]\n",
    "]\n",
    "linear_regression.predict(new_inputs)"
   ]
  },
  {
   "cell_type": "markdown",
   "metadata": {},
   "source": [
    "So you can see that if we were to use a shooting angle of .4, .6, and .8, our model would predict outputs of 9.75, 14.25, and 18.75."
   ]
  },
  {
   "cell_type": "markdown",
   "metadata": {},
   "source": [
    "### Summary"
   ]
  },
  {
   "cell_type": "markdown",
   "metadata": {},
   "source": [
    "In this lesson, we saw how to use the scikitlearn library to fit a machine learning model and make new predictions with our fitted model. \n",
    "\n"
   ]
  },
  {
   "cell_type": "markdown",
   "metadata": {},
   "source": [
    "We do so using similar steps to what we saw in our introduction to machine learning lesson.\n",
    "\n",
    "1. Create an initial model\n",
    "2. Fit the model to data\n",
    "3. Use the fitted model to make new predictions\n",
    "\n",
    "We can translate these steps into code with the following:"
   ]
  },
  {
   "cell_type": "code",
   "execution_count": 8,
   "metadata": {},
   "outputs": [],
   "source": [
    "# import libraries\n",
    "import sklearn\n",
    "from sklearn.linear_model import LinearRegression\n",
    "\n",
    "# 1. Create an initial model\n",
    "linear_regression = LinearRegression()\n",
    "\n",
    "# 2. Fit the model to data\n",
    "linear_regression.fit(inputs, outputs)\n",
    "\n",
    "# 3. Use the fitted model to make new predictions\n",
    "linear_regression.predict(inputs)"
   ]
  },
  {
   "cell_type": "markdown",
   "metadata": {},
   "source": [
    "The other thing to remember is that if we want to see the numbers behind these new predictions, we can see them by calling the corresponding methods."
   ]
  },
  {
   "cell_type": "code",
   "execution_count": null,
   "metadata": {},
   "outputs": [],
   "source": []
  }
 ],
 "metadata": {
  "kernelspec": {
   "display_name": "Python 3",
   "language": "python",
   "name": "python3"
  },
  "language_info": {
   "codemirror_mode": {
    "name": "ipython",
    "version": 3
   },
   "file_extension": ".py",
   "mimetype": "text/x-python",
   "name": "python",
   "nbconvert_exporter": "python",
   "pygments_lexer": "ipython3",
   "version": "3.7.0"
  }
 },
 "nbformat": 4,
 "nbformat_minor": 2
}
