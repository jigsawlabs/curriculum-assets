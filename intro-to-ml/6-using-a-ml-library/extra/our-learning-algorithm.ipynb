{
 "cells": [
  {
   "cell_type": "markdown",
   "metadata": {},
   "source": [
    "# Our learning algorithm"
   ]
  },
  {
   "cell_type": "markdown",
   "metadata": {},
   "source": [
    "### Introduction"
   ]
  },
  {
   "cell_type": "markdown",
   "metadata": {},
   "source": [
    "In the last number of lessons, we have been built a simple linear regression machine learning.  We did so using the three components of any machine learning algorithm: first with choosing a prediction model, then fitting the model, and finally using the model to predict future data.\n",
    "\n",
    "1. Our **prediction model** was simply a line, or a function, that given an input predicted an output.  In our example of basketball shooting, given a shooting angle, the model predicted a distance.  \n",
    "\n",
    "2. We **fit** the model by comparing our model against the actual data.  We do this by calculating the difference between our actual data and the value that our model predicts -- this difference is called the error.  Then we square each of those errors and add up the these squared errors.  This is expressed mathematically as Sum of Squared Errors $= (actual  - predicted )^2 + (actual  - predicted )^2 +  ...$ .  \n",
    "\n",
    "3. Now we can **predict** new distances with our fitted model.  We can predict by inputting new angles for which the updated model better predicts distances given different angles. "
   ]
  },
  {
   "cell_type": "markdown",
   "metadata": {},
   "source": [
    "### Using a machine learning library"
   ]
  },
  {
   "cell_type": "markdown",
   "metadata": {},
   "source": [
    "Now wouldn't it be nice if, instead of writing these algorithms from scratch, we could use a tool to do these for us?  Well we can."
   ]
  },
  {
   "cell_type": "markdown",
   "metadata": {},
   "source": [
    "<img src=\"./scikitlearn.png\" >"
   ]
  },
  {
   "cell_type": "markdown",
   "metadata": {},
   "source": [
    "Scikit learn is an excellent tool for running machine learning algorithms.  Let's get going."
   ]
  },
  {
   "cell_type": "markdown",
   "metadata": {},
   "source": [
    "Our first step, of course, is to install the library."
   ]
  },
  {
   "cell_type": "code",
   "execution_count": 2,
   "metadata": {},
   "outputs": [
    {
     "name": "stdout",
     "output_type": "stream",
     "text": [
      "Requirement already satisfied: sklearn in /Users/jeff/anaconda3/lib/python3.7/site-packages (0.0)\n",
      "Requirement already satisfied: scikit-learn in /Users/jeff/anaconda3/lib/python3.7/site-packages (from sklearn) (0.19.2)\n",
      "\u001b[33mYou are using pip version 18.1, however version 19.0.3 is available.\n",
      "You should consider upgrading via the 'pip install --upgrade pip' command.\u001b[0m\n"
     ]
    }
   ],
   "source": [
    "!pip install sklearn"
   ]
  },
  {
   "cell_type": "markdown",
   "metadata": {},
   "source": [
    "> Press shift + enter to ensure that the library is installed."
   ]
  },
  {
   "cell_type": "markdown",
   "metadata": {},
   "source": [
    "Then we do the following."
   ]
  },
  {
   "cell_type": "code",
   "execution_count": 1,
   "metadata": {},
   "outputs": [],
   "source": [
    "import sklearn"
   ]
  },
  {
   "cell_type": "markdown",
   "metadata": {},
   "source": [
    "Now that we have this library, let's import the linear regression model."
   ]
  },
  {
   "cell_type": "markdown",
   "metadata": {},
   "source": [
    "## Going through our three steps"
   ]
  },
  {
   "cell_type": "markdown",
   "metadata": {},
   "source": [
    "Now that we have downloaded the `scikitlearn` library, and imported the library it is time to follow our three step process of (1) creating an initial model, (2) fitting the model and (3) then fitting the model to make new predictions."
   ]
  },
  {
   "cell_type": "markdown",
   "metadata": {},
   "source": [
    "### 1. Creating an initial model"
   ]
  },
  {
   "cell_type": "markdown",
   "metadata": {},
   "source": [
    "In our introduction to machine learning lesson, we created an initial model simply by writing a function that takes an input and predicts an output.  "
   ]
  },
  {
   "cell_type": "code",
   "execution_count": 21,
   "metadata": {},
   "outputs": [],
   "source": [
    "def predicted_distance(angle):\n",
    "    return 12 + 5*angle "
   ]
  },
  {
   "cell_type": "markdown",
   "metadata": {},
   "source": [
    "Now when working with scikitlearn we also create an initial model, but we do so by using the `LinearRegression` function from the scikitlearn library.\n",
    "\n",
    "So first we import the `LinearRegression` function."
   ]
  },
  {
   "cell_type": "code",
   "execution_count": 16,
   "metadata": {},
   "outputs": [],
   "source": [
    "from sklearn.linear_model import LinearRegression"
   ]
  },
  {
   "cell_type": "markdown",
   "metadata": {},
   "source": [
    "And now we can create our initial model."
   ]
  },
  {
   "cell_type": "code",
   "execution_count": 19,
   "metadata": {},
   "outputs": [],
   "source": [
    "linear_regression = LinearRegression()"
   ]
  },
  {
   "cell_type": "markdown",
   "metadata": {},
   "source": [
    "This model is fairly abstract at this point.  And admittedly difficult to understand.  But the big takeaway is that it's pretty similar to a dictionary.  As you can see, it has key value pairs just like a dictionary does.  "
   ]
  },
  {
   "cell_type": "code",
   "execution_count": 22,
   "metadata": {},
   "outputs": [
    {
     "data": {
      "text/plain": [
       "LinearRegression(copy_X=True, fit_intercept=True, n_jobs=1, normalize=False)"
      ]
     },
     "execution_count": 22,
     "metadata": {},
     "output_type": "execute_result"
    }
   ],
   "source": [
    "linear_regression"
   ]
  },
  {
   "cell_type": "markdown",
   "metadata": {},
   "source": [
    "It's ok that we don't understand what these key value pairs mean, we will in time.  Right now let's focus on the fact that we were able to create an initial model with the lines:\n",
    "\n",
    "```python\n",
    "from sklearn.linear_model import LinearRegression\n",
    "linear_regression = LinearRegression()\n",
    "```\n",
    "\n",
    "And now that we have an initial model, we are ready to move onto step 2."
   ]
  },
  {
   "cell_type": "markdown",
   "metadata": {},
   "source": [
    "### 2. Fit the model with the actual data"
   ]
  },
  {
   "cell_type": "markdown",
   "metadata": {},
   "source": [
    "Now that we have initialized our model with the code `linear_regression = LinearRegression()`, it is now time to pass through some data into this model so what we can fit the model.  In the last lesson, we saw how we can fit the model by comparing what a model predicts versus the results of our actual data.  We then choose the model with the lowest error by finding the model that has the lowest residual sum of squares."
   ]
  },
  {
   "cell_type": "markdown",
   "metadata": {},
   "source": [
    "Here we do the same thing, and we do so by passing the data into our model.  Let's use the same data as earlier."
   ]
  },
  {
   "cell_type": "markdown",
   "metadata": {},
   "source": [
    "| angle        | distance           \n",
    "| ------------- |:-------------:| \n",
    "|    .30        | 8 feet | \n",
    "|    .50        | 11 feet | \n",
    "|    .70        | 17 feet | "
   ]
  },
  {
   "cell_type": "markdown",
   "metadata": {},
   "source": [
    "Now remember that the shooting angles are the inputs and that each angle leads to an output of a distance.  Ok, so we may like to simply pass through these inputs and outputs as two lists to our model.  And out model has a `fit` method to do precisely that."
   ]
  },
  {
   "cell_type": "code",
   "execution_count": 29,
   "metadata": {},
   "outputs": [],
   "source": [
    "angles = [.3, .5, .7]\n",
    "distances = [8, 11, 17]\n",
    "# linear_regression.fit()"
   ]
  },
  {
   "cell_type": "markdown",
   "metadata": {},
   "source": [
    "However `scikitlearn` requires our lists to be in a specific format to pass through this data.  It wants us to organize our data like so:"
   ]
  },
  {
   "cell_type": "code",
   "execution_count": 30,
   "metadata": {},
   "outputs": [],
   "source": [
    "inputs = [[.3], [.5], [.7]]\n",
    "outputs = [8, 11, 17]"
   ]
  },
  {
   "cell_type": "markdown",
   "metadata": {},
   "source": [
    "### A special format...but why??"
   ]
  },
  {
   "cell_type": "markdown",
   "metadata": {},
   "source": [
    "Scikitlearn recognizes that can include more inputs than just one in predicting an output.  For example, in the table above we just used `angle` to predict `distance`, but later we may decide to use both `angle` and `arm speed` to predict `distance`.\n",
    "\n",
    "|arm speed| angle        | distance           \n",
    "|----| ------------- |:-------------:| \n",
    "|5 mph|    .30        | 9 feet | \n",
    "|6 mph |    .50        | 15 feet | \n",
    "|4 mph|    .70        | 21 feet | "
   ]
  },
  {
   "cell_type": "markdown",
   "metadata": {},
   "source": [
    "So scikitlearn, along with other machine learning libraries, recognize that we have rows of data, and that each row can have multiple inputs, but just one output.\n",
    "\n",
    "So to represent the rows of inputs of `arm speed` and `angle`, we can organize our data like so:"
   ]
  },
  {
   "cell_type": "code",
   "execution_count": 31,
   "metadata": {},
   "outputs": [],
   "source": [
    "inputs = [\n",
    "    [5, .30],\n",
    "    [6, .50],\n",
    "    [4, .70],\n",
    "]"
   ]
  },
  {
   "cell_type": "markdown",
   "metadata": {},
   "source": [
    "So we use a nested list, where each element of the outer list is a row, with each column being a different input for that row.  For our outputs, however, there is only ever one output per row, so we can just organize our outputs in one unnested list."
   ]
  },
  {
   "cell_type": "code",
   "execution_count": 32,
   "metadata": {},
   "outputs": [],
   "source": [
    "outputs = [9, 15, 21]"
   ]
  },
  {
   "cell_type": "markdown",
   "metadata": {},
   "source": [
    "So even when me move back to with just one column of input data:  "
   ]
  },
  {
   "cell_type": "markdown",
   "metadata": {},
   "source": [
    "| angle        | distance           \n",
    "| ------------- |:-------------:| \n",
    "|    .30        | 8 feet | \n",
    "|    .50        | 11 feet | \n",
    "|    .70        | 17 feet | "
   ]
  },
  {
   "cell_type": "markdown",
   "metadata": {},
   "source": [
    "We still use a nested list of inputs, with each element of the outer list being a row, and each element of the inner list being an input column."
   ]
  },
  {
   "cell_type": "code",
   "execution_count": 36,
   "metadata": {},
   "outputs": [],
   "source": [
    "inputs = [\n",
    "    [.30],\n",
    "    [.50],\n",
    "    [.70],\n",
    "]"
   ]
  },
  {
   "cell_type": "markdown",
   "metadata": {},
   "source": [
    "### 2 (continued). Now back to fitting the model"
   ]
  },
  {
   "cell_type": "markdown",
   "metadata": {},
   "source": [
    "Ok, now that we know the format for our data, the next thing to do is to fit our linear model to the data.  We do this by using the `fit` method on our linear model and passing through the data in the proper format."
   ]
  },
  {
   "cell_type": "code",
   "execution_count": 37,
   "metadata": {},
   "outputs": [
    {
     "data": {
      "text/plain": [
       "LinearRegression(copy_X=True, fit_intercept=True, n_jobs=1, normalize=False)"
      ]
     },
     "execution_count": 37,
     "metadata": {},
     "output_type": "execute_result"
    }
   ],
   "source": [
    "# nested list for the inputs\n",
    "inputs = [\n",
    "    [.30],\n",
    "    [.50],\n",
    "    [.70],\n",
    "]\n",
    "\n",
    "# single list for the outputs\n",
    "outputs = [8, 11, 17]\n",
    "\n",
    "linear_regression.fit(inputs, outputs)"
   ]
  },
  {
   "cell_type": "markdown",
   "metadata": {},
   "source": [
    "### 3. Using our fit model to predict"
   ]
  },
  {
   "cell_type": "markdown",
   "metadata": {},
   "source": [
    "Believe it or not with that line there at the end, we have fit our model to our data.  Here we'll prove it.  So remember that in our Introduction to Machine Learning lesson, when we fit our model, we went forward with a function that looked like the following.\n",
    "\n"
   ]
  },
  {
   "cell_type": "code",
   "execution_count": 39,
   "metadata": {},
   "outputs": [],
   "source": [
    "def predicted_distance(angle):\n",
    "    return 3 + 4*angle "
   ]
  },
  {
   "cell_type": "markdown",
   "metadata": {},
   "source": [
    "So the key things that change in our model are the two numbers.  The number on the left (that's not multiplied by anything) is called the y intercept.  We can see the intercept that `scikitlearn` arrived after fitting out data with the following:"
   ]
  },
  {
   "cell_type": "code",
   "execution_count": 40,
   "metadata": {},
   "outputs": [
    {
     "data": {
      "text/plain": [
       "0.7500000000000018"
      ]
     },
     "execution_count": 40,
     "metadata": {},
     "output_type": "execute_result"
    }
   ],
   "source": [
    "linear_regression.intercept_"
   ]
  },
  {
   "cell_type": "markdown",
   "metadata": {},
   "source": [
    "The number that we multiply by our angle is called the coefficient, and we can find it by calling the `coef_` method."
   ]
  },
  {
   "cell_type": "code",
   "execution_count": 41,
   "metadata": {},
   "outputs": [
    {
     "data": {
      "text/plain": [
       "array([22.5])"
      ]
     },
     "execution_count": 41,
     "metadata": {},
     "output_type": "execute_result"
    }
   ],
   "source": [
    "linear_regression.coef_"
   ]
  },
  {
   "cell_type": "markdown",
   "metadata": {},
   "source": [
    "So `scikitlearn` is telling us that really our model should look like the following:"
   ]
  },
  {
   "cell_type": "code",
   "execution_count": 43,
   "metadata": {},
   "outputs": [],
   "source": [
    "def predicted_distance(angle):\n",
    "    return (.75 + 22.5*angle)"
   ]
  },
  {
   "cell_type": "markdown",
   "metadata": {},
   "source": [
    "### 4. Predicting new distances"
   ]
  },
  {
   "cell_type": "markdown",
   "metadata": {},
   "source": [
    "Now we can get a sense of how well our new formula does.  So this was our original data that we used to fit our model:"
   ]
  },
  {
   "cell_type": "markdown",
   "metadata": {},
   "source": [
    "| angle        | distance           \n",
    "| ------------- |:-------------:| \n",
    "|    .30        | 8 feet | \n",
    "|    .50        | 11 feet | \n",
    "|    .70        | 17 feet | "
   ]
  },
  {
   "cell_type": "markdown",
   "metadata": {},
   "source": [
    "And this is the predictions that our updated `predicted_distance` function produces."
   ]
  },
  {
   "cell_type": "code",
   "execution_count": 44,
   "metadata": {},
   "outputs": [
    {
     "data": {
      "text/plain": [
       "7.5"
      ]
     },
     "execution_count": 44,
     "metadata": {},
     "output_type": "execute_result"
    }
   ],
   "source": [
    "predicted_distance(.3) "
   ]
  },
  {
   "cell_type": "code",
   "execution_count": 45,
   "metadata": {},
   "outputs": [
    {
     "data": {
      "text/plain": [
       "12.0"
      ]
     },
     "execution_count": 45,
     "metadata": {},
     "output_type": "execute_result"
    }
   ],
   "source": [
    "predicted_distance(.5) "
   ]
  },
  {
   "cell_type": "code",
   "execution_count": 46,
   "metadata": {},
   "outputs": [
    {
     "data": {
      "text/plain": [
       "16.5"
      ]
     },
     "execution_count": 46,
     "metadata": {},
     "output_type": "execute_result"
    }
   ],
   "source": [
    "predicted_distance(.7) "
   ]
  },
  {
   "cell_type": "markdown",
   "metadata": {},
   "source": [
    "Not bad at all.  Of course, `scikitlearn` has a built in method that allows us to see the outputs of our model.  We can pass through our three rows of inputs.  But because scikitlearn does not know how many columns of inputs will be in each row, once again we use a nested list."
   ]
  },
  {
   "cell_type": "code",
   "execution_count": 49,
   "metadata": {},
   "outputs": [
    {
     "data": {
      "text/plain": [
       "array([ 7.5, 12. , 16.5])"
      ]
     },
     "execution_count": 49,
     "metadata": {},
     "output_type": "execute_result"
    }
   ],
   "source": [
    "inputs = [\n",
    "    [.3],\n",
    "    [.5],\n",
    "    [.7]\n",
    "]\n",
    "\n",
    "linear_regression.predict(inputs)"
   ]
  },
  {
   "cell_type": "markdown",
   "metadata": {},
   "source": [
    "And we can pass through new inputs not in our data, to predict new outputs as well."
   ]
  },
  {
   "cell_type": "code",
   "execution_count": 50,
   "metadata": {},
   "outputs": [
    {
     "data": {
      "text/plain": [
       "array([ 9.75, 14.25, 18.75])"
      ]
     },
     "execution_count": 50,
     "metadata": {},
     "output_type": "execute_result"
    }
   ],
   "source": [
    "new_inputs = [\n",
    "    [.4],\n",
    "    [.6],\n",
    "    [.8]\n",
    "]\n",
    "linear_regression.predict(new_inputs)"
   ]
  },
  {
   "cell_type": "markdown",
   "metadata": {},
   "source": [
    "So you can see that if we were to use a shooting angle of .4, .6, and .8, our model would predict outputs of 9.75, 14.25, and 18.75."
   ]
  },
  {
   "cell_type": "markdown",
   "metadata": {},
   "source": [
    "### Plotting our model with scikitlearn"
   ]
  },
  {
   "cell_type": "markdown",
   "metadata": {},
   "source": [
    "The curve is constructed just like our multicolor plot above.  We're simply plotting how our RSS changes as we vary our values of $m$. "
   ]
  },
  {
   "cell_type": "code",
   "execution_count": 10,
   "metadata": {},
   "outputs": [
    {
     "data": {
      "application/vnd.plotly.v1+json": {
       "config": {
        "linkText": "Export to plot.ly",
        "plotlyServerURL": "https://plot.ly",
        "showLink": false
       },
       "data": [
        {
         "mode": "lines",
         "name": "data",
         "text": [],
         "type": "scatter",
         "uid": "3812637e-148b-4946-9111-6a4f35b73c9e",
         "x": [
          -1750,
          -1740,
          -1730,
          -1720,
          -1710,
          -1700,
          -1690,
          -1680,
          -1670,
          -1660,
          -1650,
          -1640,
          -1630,
          -1620,
          -1610,
          -1600,
          -1590,
          -1580,
          -1570,
          -1560,
          -1550,
          -1540,
          -1530,
          -1520,
          -1510,
          -1500,
          -1490,
          -1480,
          -1470,
          -1460,
          -1450,
          -1440,
          -1430,
          -1420,
          -1410,
          -1400,
          -1390,
          -1380,
          -1370,
          -1360,
          -1350,
          -1340,
          -1330,
          -1320,
          -1310,
          -1300,
          -1290,
          -1280,
          -1270,
          -1260,
          -1250,
          -1240,
          -1230,
          -1220,
          -1210,
          -1200,
          -1190,
          -1180,
          -1170,
          -1160,
          -1150,
          -1140,
          -1130,
          -1120,
          -1110,
          -1100,
          -1090,
          -1080,
          -1070,
          -1060,
          -1050,
          -1040,
          -1030,
          -1020,
          -1010
         ],
         "y": [
          2496899631,
          2465213211,
          2434391591,
          2404434771,
          2375342751,
          2347115531,
          2319753111,
          2293255491,
          2267622671,
          2242854651,
          2218951431,
          2195913011,
          2173739391,
          2152430571,
          2131986551,
          2112407331,
          2093692911,
          2075843291,
          2058858471,
          2042738451,
          2027483231,
          2013092811,
          1999567191,
          1986906371,
          1975110351,
          1964179131,
          1954112711,
          1944911091,
          1936574271,
          1929102251,
          1922495031,
          1916752611,
          1911874991,
          1907862171,
          1904714151,
          1902430931,
          1901012511,
          1900458891,
          1900770071,
          1901946051,
          1903986831,
          1906892411,
          1910662791,
          1915297971,
          1920797951,
          1927162731,
          1934392311,
          1942486691,
          1951445871,
          1961269851,
          1971958631,
          1983512211,
          1995930591,
          2009213771,
          2023361751,
          2038374531,
          2054252111,
          2070994491,
          2088601671,
          2107073651,
          2126410431,
          2146612011,
          2167678391,
          2189609571,
          2212405551,
          2236066331,
          2260591911,
          2285982291,
          2312237471,
          2339357451,
          2367342231,
          2396191811,
          2425906191,
          2456485371,
          2487929351
         ]
        }
       ],
       "layout": {
        "autosize": true,
        "xaxis": {
         "autorange": true,
         "range": [
          -1750,
          -1010
         ],
         "type": "linear"
        },
        "yaxis": {
         "autorange": true,
         "range": [
          1867323294.3333333,
          2530035227.6666665
         ],
         "type": "linear"
        }
       }
      },
      "image/png": "[encoded data removed]",
      "text/html": [
       "<div id=\"a37cf711-12b5-41f6-99d0-8058f088aab2\" style=\"height: 525px; width: 100%;\" class=\"plotly-graph-div\"></div><script type=\"text/javascript\">require([\"plotly\"], function(Plotly) { window.PLOTLYENV=window.PLOTLYENV || {};window.PLOTLYENV.BASE_URL=\"https://plot.ly\";Plotly.newPlot(\"a37cf711-12b5-41f6-99d0-8058f088aab2\", [{\"mode\": \"lines\", \"name\": \"data\", \"text\": [], \"x\": [-1750, -1740, -1730, -1720, -1710, -1700, -1690, -1680, -1670, -1660, -1650, -1640, -1630, -1620, -1610, -1600, -1590, -1580, -1570, -1560, -1550, -1540, -1530, -1520, -1510, -1500, -1490, -1480, -1470, -1460, -1450, -1440, -1430, -1420, -1410, -1400, -1390, -1380, -1370, -1360, -1350, -1340, -1330, -1320, -1310, -1300, -1290, -1280, -1270, -1260, -1250, -1240, -1230, -1220, -1210, -1200, -1190, -1180, -1170, -1160, -1150, -1140, -1130, -1120, -1110, -1100, -1090, -1080, -1070, -1060, -1050, -1040, -1030, -1020, -1010], \"y\": [2496899631, 2465213211, 2434391591, 2404434771, 2375342751, 2347115531, 2319753111, 2293255491, 2267622671, 2242854651, 2218951431, 2195913011, 2173739391, 2152430571, 2131986551, 2112407331, 2093692911, 2075843291, 2058858471, 2042738451, 2027483231, 2013092811, 1999567191, 1986906371, 1975110351, 1964179131, 1954112711, 1944911091, 1936574271, 1929102251, 1922495031, 1916752611, 1911874991, 1907862171, 1904714151, 1902430931, 1901012511, 1900458891, 1900770071, 1901946051, 1903986831, 1906892411, 1910662791, 1915297971, 1920797951, 1927162731, 1934392311, 1942486691, 1951445871, 1961269851, 1971958631, 1983512211, 1995930591, 2009213771, 2023361751, 2038374531, 2054252111, 2070994491, 2088601671, 2107073651, 2126410431, 2146612011, 2167678391, 2189609571, 2212405551, 2236066331, 2260591911, 2285982291, 2312237471, 2339357451, 2367342231, 2396191811, 2425906191, 2456485371, 2487929351], \"type\": \"scatter\", \"uid\": \"d3769a37-777b-4a70-bc64-10c17917b9c0\"}], {}, {\"showLink\": false, \"linkText\": \"Export to plot.ly\", \"plotlyServerURL\": \"https://plot.ly\"})});</script><script type=\"text/javascript\">window.addEventListener(\"resize\", function(){window._Plotly.Plots.resize(document.getElementById(\"a37cf711-12b5-41f6-99d0-8058f088aab2\"));});</script>"
      ],
      "text/vnd.plotly.v1+html": [
       "<div id=\"a37cf711-12b5-41f6-99d0-8058f088aab2\" style=\"height: 525px; width: 100%;\" class=\"plotly-graph-div\"></div><script type=\"text/javascript\">require([\"plotly\"], function(Plotly) { window.PLOTLYENV=window.PLOTLYENV || {};window.PLOTLYENV.BASE_URL=\"https://plot.ly\";Plotly.newPlot(\"a37cf711-12b5-41f6-99d0-8058f088aab2\", [{\"mode\": \"lines\", \"name\": \"data\", \"text\": [], \"x\": [-1750, -1740, -1730, -1720, -1710, -1700, -1690, -1680, -1670, -1660, -1650, -1640, -1630, -1620, -1610, -1600, -1590, -1580, -1570, -1560, -1550, -1540, -1530, -1520, -1510, -1500, -1490, -1480, -1470, -1460, -1450, -1440, -1430, -1420, -1410, -1400, -1390, -1380, -1370, -1360, -1350, -1340, -1330, -1320, -1310, -1300, -1290, -1280, -1270, -1260, -1250, -1240, -1230, -1220, -1210, -1200, -1190, -1180, -1170, -1160, -1150, -1140, -1130, -1120, -1110, -1100, -1090, -1080, -1070, -1060, -1050, -1040, -1030, -1020, -1010], \"y\": [2496899631, 2465213211, 2434391591, 2404434771, 2375342751, 2347115531, 2319753111, 2293255491, 2267622671, 2242854651, 2218951431, 2195913011, 2173739391, 2152430571, 2131986551, 2112407331, 2093692911, 2075843291, 2058858471, 2042738451, 2027483231, 2013092811, 1999567191, 1986906371, 1975110351, 1964179131, 1954112711, 1944911091, 1936574271, 1929102251, 1922495031, 1916752611, 1911874991, 1907862171, 1904714151, 1902430931, 1901012511, 1900458891, 1900770071, 1901946051, 1903986831, 1906892411, 1910662791, 1915297971, 1920797951, 1927162731, 1934392311, 1942486691, 1951445871, 1961269851, 1971958631, 1983512211, 1995930591, 2009213771, 2023361751, 2038374531, 2054252111, 2070994491, 2088601671, 2107073651, 2126410431, 2146612011, 2167678391, 2189609571, 2212405551, 2236066331, 2260591911, 2285982291, 2312237471, 2339357451, 2367342231, 2396191811, 2425906191, 2456485371, 2487929351], \"type\": \"scatter\", \"uid\": \"d3769a37-777b-4a70-bc64-10c17917b9c0\"}], {}, {\"showLink\": false, \"linkText\": \"Export to plot.ly\", \"plotlyServerURL\": \"https://plot.ly\"})});</script><script type=\"text/javascript\">window.addEventListener(\"resize\", function(){window._Plotly.Plots.resize(document.getElementById(\"a37cf711-12b5-41f6-99d0-8058f088aab2\"));});</script>"
      ]
     },
     "metadata": {},
     "output_type": "display_data"
    }
   ],
   "source": [
    "from graph import plot\n",
    "b = 65000\n",
    "m_values = list(range(-1750, -1000, 10))\n",
    "rss_values = list(map(lambda m: rss(m, b, month_numbers, revenues), m_values))\n",
    "rss_trace = trace_values(m_values, rss_values, mode = 'lines')\n",
    "plot([rss_trace])"
   ]
  },
  {
   "cell_type": "markdown",
   "metadata": {},
   "source": [
    "Now as we saw Python can find the minimum of this plot.  \n",
    "\n",
    "```python\n",
    "optimize.minimize(rss_value_vary_m, x0=-1700)\n",
    "```\n",
    "\n",
    "And it can do so without trying out every value.  \n",
    "\n",
    "**Let's see the procedure and then we'll understand why it works** \n",
    "\n",
    "First we start at the point that we pass through as the $x0$ argument.  Above, we passed through the value -1700.  Then we calculates the slope of the RSS plot at this point.  So with the orange line below, you can see the slope of the line when $m= -1700$."
   ]
  },
  {
   "cell_type": "code",
   "execution_count": 19,
   "metadata": {},
   "outputs": [
    {
     "data": {
      "application/vnd.plotly.v1+json": {
       "config": {
        "linkText": "Export to plot.ly",
        "plotlyServerURL": "https://plot.ly",
        "showLink": false
       },
       "data": [
        {
         "mode": "lines",
         "name": "data",
         "text": [],
         "type": "scatter",
         "uid": "7c0de304-954f-49e2-9aad-23576ea019a8",
         "x": [
          -1750,
          -1740,
          -1730,
          -1720,
          -1710,
          -1700,
          -1690,
          -1680,
          -1670,
          -1660,
          -1650,
          -1640,
          -1630,
          -1620,
          -1610,
          -1600,
          -1590,
          -1580,
          -1570,
          -1560,
          -1550,
          -1540,
          -1530,
          -1520,
          -1510,
          -1500,
          -1490,
          -1480,
          -1470,
          -1460,
          -1450,
          -1440,
          -1430,
          -1420,
          -1410,
          -1400,
          -1390,
          -1380,
          -1370,
          -1360,
          -1350,
          -1340,
          -1330,
          -1320,
          -1310
         ],
         "y": [
          2496899631,
          2465213211,
          2434391591,
          2404434771,
          2375342751,
          2347115531,
          2319753111,
          2293255491,
          2267622671,
          2242854651,
          2218951431,
          2195913011,
          2173739391,
          2152430571,
          2131986551,
          2112407331,
          2093692911,
          2075843291,
          2058858471,
          2042738451,
          2027483231,
          2013092811,
          1999567191,
          1986906371,
          1975110351,
          1964179131,
          1954112711,
          1944911091,
          1936574271,
          1929102251,
          1922495031,
          1916752611,
          1911874991,
          1907862171,
          1904714151,
          1902430931,
          1901012511,
          1900458891,
          1900770071,
          1901946051,
          1903986831,
          1906892411,
          1910662791,
          1915297971,
          1920797951
         ]
        },
        {
         "mode": "text+lines",
         "text": [
          "",
          "f' = -2779438.76",
          ""
         ],
         "textposition": "bottom left",
         "type": "scatter",
         "uid": "eff6adfb-1811-47a6-a406-095276c0689a",
         "x": [
          -1775,
          -1700,
          -1625
         ],
         "y": [
          2555573438,
          2347115531,
          2138657624
         ]
        }
       ],
       "layout": {
        "autosize": true,
        "xaxis": {
         "autorange": true,
         "range": [
          -1799.4736842105262,
          -1310
         ],
         "type": "linear"
        },
        "yaxis": {
         "autorange": true,
         "range": [
          1864063638.3888888,
          2591968690.611111
         ],
         "type": "linear"
        }
       }
      },
      "image/png": "[encoded data removed]",
      "text/html": [
       "<div id=\"2b72c5b2-da82-49e0-9cb0-8fd310bf5b21\" style=\"height: 525px; width: 100%;\" class=\"plotly-graph-div\"></div><script type=\"text/javascript\">require([\"plotly\"], function(Plotly) { window.PLOTLYENV=window.PLOTLYENV || {};window.PLOTLYENV.BASE_URL=\"https://plot.ly\";Plotly.newPlot(\"2b72c5b2-da82-49e0-9cb0-8fd310bf5b21\", [{\"mode\": \"lines\", \"name\": \"data\", \"text\": [], \"x\": [-1750, -1740, -1730, -1720, -1710, -1700, -1690, -1680, -1670, -1660, -1650, -1640, -1630, -1620, -1610, -1600, -1590, -1580, -1570, -1560, -1550, -1540, -1530, -1520, -1510, -1500, -1490, -1480, -1470, -1460, -1450, -1440, -1430, -1420, -1410, -1400, -1390, -1380, -1370, -1360, -1350, -1340, -1330, -1320, -1310], \"y\": [2496899631, 2465213211, 2434391591, 2404434771, 2375342751, 2347115531, 2319753111, 2293255491, 2267622671, 2242854651, 2218951431, 2195913011, 2173739391, 2152430571, 2131986551, 2112407331, 2093692911, 2075843291, 2058858471, 2042738451, 2027483231, 2013092811, 1999567191, 1986906371, 1975110351, 1964179131, 1954112711, 1944911091, 1936574271, 1929102251, 1922495031, 1916752611, 1911874991, 1907862171, 1904714151, 1902430931, 1901012511, 1900458891, 1900770071, 1901946051, 1903986831, 1906892411, 1910662791, 1915297971, 1920797951], \"type\": \"scatter\", \"uid\": \"b728c5a4-fd44-4331-baba-398bc728008a\"}, {\"mode\": \"text+lines\", \"text\": [\"\", \"f' = -2779438.76\", \"\"], \"textposition\": \"bottom left\", \"x\": [-1775.0, -1700, -1625.0], \"y\": [2555573438.0, 2347115531, 2138657624.0], \"type\": \"scatter\", \"uid\": \"69038ed6-0632-4bdb-8d36-e6e64ef7f6f9\"}], {}, {\"showLink\": false, \"linkText\": \"Export to plot.ly\", \"plotlyServerURL\": \"https://plot.ly\"})});</script><script type=\"text/javascript\">window.addEventListener(\"resize\", function(){window._Plotly.Plots.resize(document.getElementById(\"2b72c5b2-da82-49e0-9cb0-8fd310bf5b21\"));});</script>"
      ],
      "text/vnd.plotly.v1+html": [
       "<div id=\"2b72c5b2-da82-49e0-9cb0-8fd310bf5b21\" style=\"height: 525px; width: 100%;\" class=\"plotly-graph-div\"></div><script type=\"text/javascript\">require([\"plotly\"], function(Plotly) { window.PLOTLYENV=window.PLOTLYENV || {};window.PLOTLYENV.BASE_URL=\"https://plot.ly\";Plotly.newPlot(\"2b72c5b2-da82-49e0-9cb0-8fd310bf5b21\", [{\"mode\": \"lines\", \"name\": \"data\", \"text\": [], \"x\": [-1750, -1740, -1730, -1720, -1710, -1700, -1690, -1680, -1670, -1660, -1650, -1640, -1630, -1620, -1610, -1600, -1590, -1580, -1570, -1560, -1550, -1540, -1530, -1520, -1510, -1500, -1490, -1480, -1470, -1460, -1450, -1440, -1430, -1420, -1410, -1400, -1390, -1380, -1370, -1360, -1350, -1340, -1330, -1320, -1310], \"y\": [2496899631, 2465213211, 2434391591, 2404434771, 2375342751, 2347115531, 2319753111, 2293255491, 2267622671, 2242854651, 2218951431, 2195913011, 2173739391, 2152430571, 2131986551, 2112407331, 2093692911, 2075843291, 2058858471, 2042738451, 2027483231, 2013092811, 1999567191, 1986906371, 1975110351, 1964179131, 1954112711, 1944911091, 1936574271, 1929102251, 1922495031, 1916752611, 1911874991, 1907862171, 1904714151, 1902430931, 1901012511, 1900458891, 1900770071, 1901946051, 1903986831, 1906892411, 1910662791, 1915297971, 1920797951], \"type\": \"scatter\", \"uid\": \"b728c5a4-fd44-4331-baba-398bc728008a\"}, {\"mode\": \"text+lines\", \"text\": [\"\", \"f' = -2779438.76\", \"\"], \"textposition\": \"bottom left\", \"x\": [-1775.0, -1700, -1625.0], \"y\": [2555573438.0, 2347115531, 2138657624.0], \"type\": \"scatter\", \"uid\": \"69038ed6-0632-4bdb-8d36-e6e64ef7f6f9\"}], {}, {\"showLink\": false, \"linkText\": \"Export to plot.ly\", \"plotlyServerURL\": \"https://plot.ly\"})});</script><script type=\"text/javascript\">window.addEventListener(\"resize\", function(){window._Plotly.Plots.resize(document.getElementById(\"2b72c5b2-da82-49e0-9cb0-8fd310bf5b21\"));});</script>"
      ]
     },
     "metadata": {},
     "output_type": "display_data"
    }
   ],
   "source": [
    "from calculus import derivative_trace\n",
    "d_trace = derivative_trace(rss_value_vary_m, -1700, line_length = 150)\n",
    "b = 65000\n",
    "m_values = list(range(-1750, -1300, 10))\n",
    "rss_values = list(map(lambda m: rss(m, b, month_numbers, revenues), m_values))\n",
    "rss_trace = trace_values(m_values, rss_values, mode = 'lines')\n",
    "\n",
    "plot([rss_trace, d_trace])"
   ]
  },
  {
   "cell_type": "markdown",
   "metadata": {},
   "source": [
    "We take the slope of this at original value of $m$, and multiply the slope by a small negative number like $-.001$.  Whatever the result of this multiplying, we change the value of $m$ by that amount."
   ]
  },
  {
   "cell_type": "markdown",
   "metadata": {},
   "source": [
    "* $m = −1700 $\n",
    "* $slope = -2779438 $\n",
    "\n",
    "So then $-.0001*-2779438 = 278 $"
   ]
  },
  {
   "cell_type": "markdown",
   "metadata": {},
   "source": [
    "So then we update our value of $m$ by this amount."
   ]
  },
  {
   "cell_type": "markdown",
   "metadata": {},
   "source": [
    "$new m = -1700 + 278 = -1422 $"
   ]
  },
  {
   "cell_type": "markdown",
   "metadata": {},
   "source": [
    "Now we do this whole procedure a again.  We find the slope of our line at this new value of $m = -1422 $, find the slope of our RSS curve at that point, multiply that slope by $-.0001$ and update our $m$ value another time."
   ]
  },
  {
   "cell_type": "code",
   "execution_count": 22,
   "metadata": {},
   "outputs": [
    {
     "data": {
      "application/vnd.plotly.v1+json": {
       "config": {
        "linkText": "Export to plot.ly",
        "plotlyServerURL": "https://plot.ly",
        "showLink": false
       },
       "data": [
        {
         "mode": "lines",
         "name": "data",
         "text": [],
         "type": "scatter",
         "uid": "90cd9deb-3a95-47cf-81a8-16fa61ed3921",
         "x": [
          -1750,
          -1740,
          -1730,
          -1720,
          -1710,
          -1700,
          -1690,
          -1680,
          -1670,
          -1660,
          -1650,
          -1640,
          -1630,
          -1620,
          -1610,
          -1600,
          -1590,
          -1580,
          -1570,
          -1560,
          -1550,
          -1540,
          -1530,
          -1520,
          -1510,
          -1500,
          -1490,
          -1480,
          -1470,
          -1460,
          -1450,
          -1440,
          -1430,
          -1420,
          -1410,
          -1400,
          -1390,
          -1380,
          -1370,
          -1360,
          -1350,
          -1340,
          -1330,
          -1320,
          -1310
         ],
         "y": [
          2496899631,
          2465213211,
          2434391591,
          2404434771,
          2375342751,
          2347115531,
          2319753111,
          2293255491,
          2267622671,
          2242854651,
          2218951431,
          2195913011,
          2173739391,
          2152430571,
          2131986551,
          2112407331,
          2093692911,
          2075843291,
          2058858471,
          2042738451,
          2027483231,
          2013092811,
          1999567191,
          1986906371,
          1975110351,
          1964179131,
          1954112711,
          1944911091,
          1936574271,
          1929102251,
          1922495031,
          1916752611,
          1911874991,
          1907862171,
          1904714151,
          1902430931,
          1901012511,
          1900458891,
          1900770071,
          1901946051,
          1903986831,
          1906892411,
          1910662791,
          1915297971,
          1920797951
         ]
        },
        {
         "mode": "text+lines",
         "text": [
          "",
          "f' = -2779438.76",
          ""
         ],
         "textposition": "bottom left",
         "type": "scatter",
         "uid": "33a71c88-d582-4af6-bf69-786e8f8b8c4b",
         "x": [
          -1775,
          -1700,
          -1625
         ],
         "y": [
          2555573438,
          2347115531,
          2138657624
         ]
        },
        {
         "mode": "text+lines",
         "text": [
          "",
          "f' = -375294.76",
          ""
         ],
         "textposition": "bottom left",
         "type": "scatter",
         "uid": "63d9d6b2-292c-42a9-ad47-a0b1bf2af9e1",
         "x": [
          -1497,
          -1422,
          -1347
         ],
         "y": [
          1936742658,
          1908595551,
          1880448444
         ]
        }
       ],
       "layout": {
        "autosize": true,
        "xaxis": {
         "autorange": true,
         "range": [
          -1799.4736842105262,
          -1310
         ],
         "type": "linear"
        },
        "yaxis": {
         "autorange": true,
         "range": [
          1842941499.8888888,
          2593080382.111111
         ],
         "type": "linear"
        }
       }
      },
      "image/png": "[encoded data removed]",
      "text/html": [
       "<div id=\"5c39dda9-6586-40ad-88f8-c30d65a55fe8\" style=\"height: 525px; width: 100%;\" class=\"plotly-graph-div\"></div><script type=\"text/javascript\">require([\"plotly\"], function(Plotly) { window.PLOTLYENV=window.PLOTLYENV || {};window.PLOTLYENV.BASE_URL=\"https://plot.ly\";Plotly.newPlot(\"5c39dda9-6586-40ad-88f8-c30d65a55fe8\", [{\"mode\": \"lines\", \"name\": \"data\", \"text\": [], \"x\": [-1750, -1740, -1730, -1720, -1710, -1700, -1690, -1680, -1670, -1660, -1650, -1640, -1630, -1620, -1610, -1600, -1590, -1580, -1570, -1560, -1550, -1540, -1530, -1520, -1510, -1500, -1490, -1480, -1470, -1460, -1450, -1440, -1430, -1420, -1410, -1400, -1390, -1380, -1370, -1360, -1350, -1340, -1330, -1320, -1310], \"y\": [2496899631, 2465213211, 2434391591, 2404434771, 2375342751, 2347115531, 2319753111, 2293255491, 2267622671, 2242854651, 2218951431, 2195913011, 2173739391, 2152430571, 2131986551, 2112407331, 2093692911, 2075843291, 2058858471, 2042738451, 2027483231, 2013092811, 1999567191, 1986906371, 1975110351, 1964179131, 1954112711, 1944911091, 1936574271, 1929102251, 1922495031, 1916752611, 1911874991, 1907862171, 1904714151, 1902430931, 1901012511, 1900458891, 1900770071, 1901946051, 1903986831, 1906892411, 1910662791, 1915297971, 1920797951], \"type\": \"scatter\", \"uid\": \"8844e44c-3873-4810-8e07-1fe5f3f1c170\"}, {\"mode\": \"text+lines\", \"text\": [\"\", \"f' = -2779438.76\", \"\"], \"textposition\": \"bottom left\", \"x\": [-1775.0, -1700, -1625.0], \"y\": [2555573438.0, 2347115531, 2138657624.0], \"type\": \"scatter\", \"uid\": \"dbbfa518-952a-45e0-920b-4259372e8205\"}, {\"mode\": \"text+lines\", \"text\": [\"\", \"f' = -375294.76\", \"\"], \"textposition\": \"bottom left\", \"x\": [-1497.0, -1422, -1347.0], \"y\": [1936742658.0, 1908595551, 1880448444.0], \"type\": \"scatter\", \"uid\": \"35312033-23c5-4940-96f0-ad30f0ff6f36\"}], {}, {\"showLink\": false, \"linkText\": \"Export to plot.ly\", \"plotlyServerURL\": \"https://plot.ly\"})});</script><script type=\"text/javascript\">window.addEventListener(\"resize\", function(){window._Plotly.Plots.resize(document.getElementById(\"5c39dda9-6586-40ad-88f8-c30d65a55fe8\"));});</script>"
      ],
      "text/vnd.plotly.v1+html": [
       "<div id=\"5c39dda9-6586-40ad-88f8-c30d65a55fe8\" style=\"height: 525px; width: 100%;\" class=\"plotly-graph-div\"></div><script type=\"text/javascript\">require([\"plotly\"], function(Plotly) { window.PLOTLYENV=window.PLOTLYENV || {};window.PLOTLYENV.BASE_URL=\"https://plot.ly\";Plotly.newPlot(\"5c39dda9-6586-40ad-88f8-c30d65a55fe8\", [{\"mode\": \"lines\", \"name\": \"data\", \"text\": [], \"x\": [-1750, -1740, -1730, -1720, -1710, -1700, -1690, -1680, -1670, -1660, -1650, -1640, -1630, -1620, -1610, -1600, -1590, -1580, -1570, -1560, -1550, -1540, -1530, -1520, -1510, -1500, -1490, -1480, -1470, -1460, -1450, -1440, -1430, -1420, -1410, -1400, -1390, -1380, -1370, -1360, -1350, -1340, -1330, -1320, -1310], \"y\": [2496899631, 2465213211, 2434391591, 2404434771, 2375342751, 2347115531, 2319753111, 2293255491, 2267622671, 2242854651, 2218951431, 2195913011, 2173739391, 2152430571, 2131986551, 2112407331, 2093692911, 2075843291, 2058858471, 2042738451, 2027483231, 2013092811, 1999567191, 1986906371, 1975110351, 1964179131, 1954112711, 1944911091, 1936574271, 1929102251, 1922495031, 1916752611, 1911874991, 1907862171, 1904714151, 1902430931, 1901012511, 1900458891, 1900770071, 1901946051, 1903986831, 1906892411, 1910662791, 1915297971, 1920797951], \"type\": \"scatter\", \"uid\": \"8844e44c-3873-4810-8e07-1fe5f3f1c170\"}, {\"mode\": \"text+lines\", \"text\": [\"\", \"f' = -2779438.76\", \"\"], \"textposition\": \"bottom left\", \"x\": [-1775.0, -1700, -1625.0], \"y\": [2555573438.0, 2347115531, 2138657624.0], \"type\": \"scatter\", \"uid\": \"dbbfa518-952a-45e0-920b-4259372e8205\"}, {\"mode\": \"text+lines\", \"text\": [\"\", \"f' = -375294.76\", \"\"], \"textposition\": \"bottom left\", \"x\": [-1497.0, -1422, -1347.0], \"y\": [1936742658.0, 1908595551, 1880448444.0], \"type\": \"scatter\", \"uid\": \"35312033-23c5-4940-96f0-ad30f0ff6f36\"}], {}, {\"showLink\": false, \"linkText\": \"Export to plot.ly\", \"plotlyServerURL\": \"https://plot.ly\"})});</script><script type=\"text/javascript\">window.addEventListener(\"resize\", function(){window._Plotly.Plots.resize(document.getElementById(\"5c39dda9-6586-40ad-88f8-c30d65a55fe8\"));});</script>"
      ]
     },
     "metadata": {},
     "output_type": "display_data"
    }
   ],
   "source": [
    "from calculus import derivative_trace\n",
    "d_trace = derivative_trace(rss_value_vary_m, -1700, line_length = 150)\n",
    "d_trace_two = derivative_trace(rss_value_vary_m, -1422, line_length = 150)\n",
    "b = 65000\n",
    "m_values = list(range(-1750, -1300, 10))\n",
    "rss_values = list(map(lambda m: rss(m, b, month_numbers, revenues), m_values))\n",
    "rss_trace = trace_values(m_values, rss_values, mode = 'lines')\n",
    "\n",
    "plot([rss_trace, d_trace, d_trace_two])"
   ]
  },
  {
   "cell_type": "markdown",
   "metadata": {},
   "source": [
    "Let's do this just one more time, and then we'll explain it."
   ]
  },
  {
   "cell_type": "markdown",
   "metadata": {},
   "source": [
    "* $m = −1422 $\n",
    "* $slope = -375294 $\n",
    "\n",
    "So then $-.0001*-375294 = 37.5 $"
   ]
  },
  {
   "cell_type": "markdown",
   "metadata": {},
   "source": [
    "Again we update our value of $m$ by this number to get our new value.\n",
    "\n",
    "$-1422 + 37.5 = -1385 $\n",
    "\n",
    "Let's update our graph by placing the green line where our new value of $m$ is located."
   ]
  },
  {
   "cell_type": "code",
   "execution_count": 28,
   "metadata": {},
   "outputs": [
    {
     "data": {
      "application/vnd.plotly.v1+json": {
       "config": {
        "linkText": "Export to plot.ly",
        "plotlyServerURL": "https://plot.ly",
        "showLink": false
       },
       "data": [
        {
         "mode": "lines",
         "name": "data",
         "text": [],
         "type": "scatter",
         "uid": "8adc2f3f-c6eb-46e2-9caa-566c2c451b39",
         "x": [
          -1700,
          -1690,
          -1680,
          -1670,
          -1660,
          -1650,
          -1640,
          -1630,
          -1620,
          -1610,
          -1600,
          -1590,
          -1580,
          -1570,
          -1560,
          -1550,
          -1540,
          -1530,
          -1520,
          -1510,
          -1500,
          -1490,
          -1480,
          -1470,
          -1460,
          -1450,
          -1440,
          -1430,
          -1420,
          -1410,
          -1400,
          -1390,
          -1380,
          -1370,
          -1360,
          -1350,
          -1340,
          -1330,
          -1320,
          -1310
         ],
         "y": [
          2347115531,
          2319753111,
          2293255491,
          2267622671,
          2242854651,
          2218951431,
          2195913011,
          2173739391,
          2152430571,
          2131986551,
          2112407331,
          2093692911,
          2075843291,
          2058858471,
          2042738451,
          2027483231,
          2013092811,
          1999567191,
          1986906371,
          1975110351,
          1964179131,
          1954112711,
          1944911091,
          1936574271,
          1929102251,
          1922495031,
          1916752611,
          1911874991,
          1907862171,
          1904714151,
          1902430931,
          1901012511,
          1900458891,
          1900770071,
          1901946051,
          1903986831,
          1906892411,
          1910662791,
          1915297971,
          1920797951
         ]
        },
        {
         "mode": "text+lines",
         "text": [
          "",
          "f' = -2779438.76",
          ""
         ],
         "textposition": "bottom left",
         "type": "scatter",
         "uid": "8f6d5e9f-8a1d-4097-b03f-bc9c7400e102",
         "x": [
          -1725,
          -1700,
          -1675
         ],
         "y": [
          2416601500,
          2347115531,
          2277629562
         ]
        },
        {
         "mode": "text+lines",
         "text": [
          "",
          "f' = -375294.76",
          ""
         ],
         "textposition": "bottom left",
         "type": "scatter",
         "uid": "1fc96737-f739-409a-89a9-57310a9d40a0",
         "x": [
          -1447,
          -1422,
          -1397
         ],
         "y": [
          1917977920,
          1908595551,
          1899213182
         ]
        },
        {
         "mode": "text+lines",
         "text": [
          "",
          "f' = -55318.76",
          ""
         ],
         "textposition": "bottom left",
         "type": "scatter",
         "uid": "cd1860e1-00a5-49de-a568-54e24575f0b3",
         "x": [
          -1410,
          -1385,
          -1360
         ],
         "y": [
          1902010570,
          1900627601,
          1899244632
         ]
        }
       ],
       "layout": {
        "autosize": true,
        "xaxis": {
         "autorange": true,
         "range": [
          -1746.842105263158,
          -1310
         ],
         "type": "linear"
        },
        "yaxis": {
         "autorange": true,
         "range": [
          1870469386.5555556,
          2445345295.4444447
         ],
         "type": "linear"
        }
       }
      },
      "image/png": "[encoded data removed]",
      "text/html": [
       "<div id=\"de39e17e-cdd4-4fbc-8322-35e594007e82\" style=\"height: 525px; width: 100%;\" class=\"plotly-graph-div\"></div><script type=\"text/javascript\">require([\"plotly\"], function(Plotly) { window.PLOTLYENV=window.PLOTLYENV || {};window.PLOTLYENV.BASE_URL=\"https://plot.ly\";Plotly.newPlot(\"de39e17e-cdd4-4fbc-8322-35e594007e82\", [{\"mode\": \"lines\", \"name\": \"data\", \"text\": [], \"x\": [-1700, -1690, -1680, -1670, -1660, -1650, -1640, -1630, -1620, -1610, -1600, -1590, -1580, -1570, -1560, -1550, -1540, -1530, -1520, -1510, -1500, -1490, -1480, -1470, -1460, -1450, -1440, -1430, -1420, -1410, -1400, -1390, -1380, -1370, -1360, -1350, -1340, -1330, -1320, -1310], \"y\": [2347115531, 2319753111, 2293255491, 2267622671, 2242854651, 2218951431, 2195913011, 2173739391, 2152430571, 2131986551, 2112407331, 2093692911, 2075843291, 2058858471, 2042738451, 2027483231, 2013092811, 1999567191, 1986906371, 1975110351, 1964179131, 1954112711, 1944911091, 1936574271, 1929102251, 1922495031, 1916752611, 1911874991, 1907862171, 1904714151, 1902430931, 1901012511, 1900458891, 1900770071, 1901946051, 1903986831, 1906892411, 1910662791, 1915297971, 1920797951], \"type\": \"scatter\", \"uid\": \"b1dded1c-f6fa-401c-9bdb-7c501085e086\"}, {\"mode\": \"text+lines\", \"text\": [\"\", \"f' = -2779438.76\", \"\"], \"textposition\": \"bottom left\", \"x\": [-1725.0, -1700, -1675.0], \"y\": [2416601500.0, 2347115531, 2277629562.0], \"type\": \"scatter\", \"uid\": \"e872a09f-651c-45ce-822a-bd2c920d83e7\"}, {\"mode\": \"text+lines\", \"text\": [\"\", \"f' = -375294.76\", \"\"], \"textposition\": \"bottom left\", \"x\": [-1447.0, -1422, -1397.0], \"y\": [1917977920.0, 1908595551, 1899213182.0], \"type\": \"scatter\", \"uid\": \"eea4b696-ee4e-4811-8168-79158245e8c6\"}, {\"mode\": \"text+lines\", \"text\": [\"\", \"f' = -55318.76\", \"\"], \"textposition\": \"bottom left\", \"x\": [-1410.0, -1385, -1360.0], \"y\": [1902010570.0, 1900627601, 1899244632.0], \"type\": \"scatter\", \"uid\": \"11cfb466-2ffb-4f6c-9ad8-8bd939c72570\"}], {}, {\"showLink\": false, \"linkText\": \"Export to plot.ly\", \"plotlyServerURL\": \"https://plot.ly\"})});</script><script type=\"text/javascript\">window.addEventListener(\"resize\", function(){window._Plotly.Plots.resize(document.getElementById(\"de39e17e-cdd4-4fbc-8322-35e594007e82\"));});</script>"
      ],
      "text/vnd.plotly.v1+html": [
       "<div id=\"de39e17e-cdd4-4fbc-8322-35e594007e82\" style=\"height: 525px; width: 100%;\" class=\"plotly-graph-div\"></div><script type=\"text/javascript\">require([\"plotly\"], function(Plotly) { window.PLOTLYENV=window.PLOTLYENV || {};window.PLOTLYENV.BASE_URL=\"https://plot.ly\";Plotly.newPlot(\"de39e17e-cdd4-4fbc-8322-35e594007e82\", [{\"mode\": \"lines\", \"name\": \"data\", \"text\": [], \"x\": [-1700, -1690, -1680, -1670, -1660, -1650, -1640, -1630, -1620, -1610, -1600, -1590, -1580, -1570, -1560, -1550, -1540, -1530, -1520, -1510, -1500, -1490, -1480, -1470, -1460, -1450, -1440, -1430, -1420, -1410, -1400, -1390, -1380, -1370, -1360, -1350, -1340, -1330, -1320, -1310], \"y\": [2347115531, 2319753111, 2293255491, 2267622671, 2242854651, 2218951431, 2195913011, 2173739391, 2152430571, 2131986551, 2112407331, 2093692911, 2075843291, 2058858471, 2042738451, 2027483231, 2013092811, 1999567191, 1986906371, 1975110351, 1964179131, 1954112711, 1944911091, 1936574271, 1929102251, 1922495031, 1916752611, 1911874991, 1907862171, 1904714151, 1902430931, 1901012511, 1900458891, 1900770071, 1901946051, 1903986831, 1906892411, 1910662791, 1915297971, 1920797951], \"type\": \"scatter\", \"uid\": \"b1dded1c-f6fa-401c-9bdb-7c501085e086\"}, {\"mode\": \"text+lines\", \"text\": [\"\", \"f' = -2779438.76\", \"\"], \"textposition\": \"bottom left\", \"x\": [-1725.0, -1700, -1675.0], \"y\": [2416601500.0, 2347115531, 2277629562.0], \"type\": \"scatter\", \"uid\": \"e872a09f-651c-45ce-822a-bd2c920d83e7\"}, {\"mode\": \"text+lines\", \"text\": [\"\", \"f' = -375294.76\", \"\"], \"textposition\": \"bottom left\", \"x\": [-1447.0, -1422, -1397.0], \"y\": [1917977920.0, 1908595551, 1899213182.0], \"type\": \"scatter\", \"uid\": \"eea4b696-ee4e-4811-8168-79158245e8c6\"}, {\"mode\": \"text+lines\", \"text\": [\"\", \"f' = -55318.76\", \"\"], \"textposition\": \"bottom left\", \"x\": [-1410.0, -1385, -1360.0], \"y\": [1902010570.0, 1900627601, 1899244632.0], \"type\": \"scatter\", \"uid\": \"11cfb466-2ffb-4f6c-9ad8-8bd939c72570\"}], {}, {\"showLink\": false, \"linkText\": \"Export to plot.ly\", \"plotlyServerURL\": \"https://plot.ly\"})});</script><script type=\"text/javascript\">window.addEventListener(\"resize\", function(){window._Plotly.Plots.resize(document.getElementById(\"de39e17e-cdd4-4fbc-8322-35e594007e82\"));});</script>"
      ]
     },
     "metadata": {},
     "output_type": "display_data"
    }
   ],
   "source": [
    "from calculus import derivative_trace\n",
    "d_trace = derivative_trace(rss_value_vary_m, -1700, line_length = 50)\n",
    "d_trace_two = derivative_trace(rss_value_vary_m, -1422, line_length = 50)\n",
    "d_trace_three = derivative_trace(rss_value_vary_m, -1385, line_length = 50)\n",
    "b = 65000\n",
    "m_values = list(range(-1700, -1300, 10))\n",
    "rss_values = list(map(lambda m: rss(m, b, month_numbers, revenues), m_values))\n",
    "rss_trace = trace_values(m_values, rss_values, mode = 'lines')\n",
    "\n",
    "plot([rss_trace, d_trace, d_trace_two, d_trace_three])"
   ]
  },
  {
   "cell_type": "markdown",
   "metadata": {},
   "source": [
    "So notice that our red line is now quite close to our minimum.  Using this procedure we get to a value of -1385 in just a few steps, and when we asked Python to find the minimum it found a value of $-1378$.  So we got very close quite quickly."
   ]
  },
  {
   "cell_type": "markdown",
   "metadata": {},
   "source": [
    "### Why this procedure works so well"
   ]
  },
  {
   "cell_type": "markdown",
   "metadata": {},
   "source": [
    "So our procedure of finding the minimum above was the following: \n",
    "* Start at some initial value of $m$. \n",
    "* Find the slope of the RSS curve at this point.\n",
    "* Calculate an update value by multiplying the slope of RSS by a small negative number, -.001\n",
    "* Update our new m to be the old m plus the update value calculated above."
   ]
  },
  {
   "cell_type": "markdown",
   "metadata": {},
   "source": [
    "Now let's understand why this works.  This works because with this procedure, we update our value of $m$, based on the slope of our parabola at this point, and **the further away from the minimum we are, the steeper the slope**, so the further away from the minimum of the curve, the more we will update our value of m.  Also, the closer we are to the minimum, the flatter the slope, and so we will update our value of m just a little."
   ]
  },
  {
   "cell_type": "markdown",
   "metadata": {},
   "source": [
    "We stop when we update our parameter by such a small number that we feel comfortable stopping, or after a set number of updates."
   ]
  },
  {
   "cell_type": "markdown",
   "metadata": {},
   "source": [
    "### Formalizing our procedure"
   ]
  },
  {
   "cell_type": "markdown",
   "metadata": {},
   "source": [
    "Let's write some code that reflects the procedure in our bullet points above.  \n",
    "\n",
    "> To find the slope at a point, we'll provide a function calculates the slope of a function at a give point, called `derivative_of`.  We won't go into the details of how we find the derivative of a function right now, so just take it as given that we can find the slope of a function at a given point, and doing so is called taking the derivative at that value."
   ]
  },
  {
   "cell_type": "code",
   "execution_count": 48,
   "metadata": {},
   "outputs": [],
   "source": [
    "from calculus import derivative_of\n",
    "\n",
    "# set an initial value of m\n",
    "m = -1700\n",
    "# calculate the slope at that value of m \n",
    "slope_at_m = derivative_of(rss_value_vary_m, m, .01)\n",
    "\n",
    "m = m + -.0001*slope_at_m"
   ]
  },
  {
   "cell_type": "markdown",
   "metadata": {},
   "source": [
    "The last line is the most important.  It shows formula for how we improve our value of $m$, or as a machine learning engineer would say, this is how we *learn* $m$.\n",
    "\n",
    "Let's rewrite this formula mathematically."
   ]
  },
  {
   "cell_type": "markdown",
   "metadata": {},
   "source": [
    "$m = m + -.0001*slopeofrss_m$"
   ]
  },
  {
   "cell_type": "markdown",
   "metadata": {},
   "source": [
    "So this is our learning algorithm written mathematically.  Start with a value of m (to the right of the equals sign), then add the product of a small negative number times our slope, and set that result equal to the new value of m.\n",
    "\n",
    "Ok, time for one more update.  This small negative number (-.0001) is called the learning rate.  It's called the learning rate because if we increase it our updates to our parameter will be larger, and vice versa.  Mathematicians use the symbol $\\alpha$ for the learning rate, so let's replace it accordingly."
   ]
  },
  {
   "cell_type": "markdown",
   "metadata": {},
   "source": [
    "$m = m + -\\alpha*slopeofrss_m$"
   ]
  },
  {
   "cell_type": "markdown",
   "metadata": {},
   "source": [
    "### Multiple updates in code"
   ]
  },
  {
   "cell_type": "markdown",
   "metadata": {},
   "source": [
    "Ok, now let's just prove this is real by doing multiple updates.  Our code is the same as previously, we just place it in a loop, and append our new value of $m$ each time."
   ]
  },
  {
   "cell_type": "code",
   "execution_count": 49,
   "metadata": {},
   "outputs": [],
   "source": [
    "number_of_iterations = 5\n",
    "m_values = []\n",
    "for iteration in list(range(0, number_of_iterations)):\n",
    "    slope_at_m = derivative_of(rss_value_vary_m, m, .01)\n",
    "    m = m + -.0001*slope_at_m\n",
    "    m_values.append(m)\n"
   ]
  },
  {
   "cell_type": "code",
   "execution_count": 50,
   "metadata": {},
   "outputs": [
    {
     "data": {
      "text/plain": [
       "[-1384.478112,\n",
       " -1379.3975647,\n",
       " -1378.7106747,\n",
       " -1378.6178072,\n",
       " -1378.6052515000001]"
      ]
     },
     "execution_count": 50,
     "metadata": {},
     "output_type": "execute_result"
    }
   ],
   "source": [
    "m_values"
   ]
  },
  {
   "cell_type": "markdown",
   "metadata": {},
   "source": [
    "Doing so shows how in just a few attempts we get zoom in on the value of -1378, which is the value of m that minimizes our RSS.  "
   ]
  },
  {
   "cell_type": "code",
   "execution_count": 52,
   "metadata": {},
   "outputs": [
    {
     "data": {
      "application/vnd.plotly.v1+json": {
       "config": {
        "linkText": "Export to plot.ly",
        "plotlyServerURL": "https://plot.ly",
        "showLink": false
       },
       "data": [
        {
         "mode": "lines",
         "name": "data",
         "text": [],
         "type": "scatter",
         "uid": "c22dc06c-82d1-4293-b38f-ba99f8aa4408",
         "x": [
          -1700,
          -1690,
          -1680,
          -1670,
          -1660,
          -1650,
          -1640,
          -1630,
          -1620,
          -1610,
          -1600,
          -1590,
          -1580,
          -1570,
          -1560,
          -1550,
          -1540,
          -1530,
          -1520,
          -1510,
          -1500,
          -1490,
          -1480,
          -1470,
          -1460,
          -1450,
          -1440,
          -1430,
          -1420,
          -1410,
          -1400,
          -1390,
          -1380,
          -1370,
          -1360,
          -1350,
          -1340,
          -1330,
          -1320,
          -1310
         ],
         "y": [
          2347115531,
          2319753111,
          2293255491,
          2267622671,
          2242854651,
          2218951431,
          2195913011,
          2173739391,
          2152430571,
          2131986551,
          2112407331,
          2093692911,
          2075843291,
          2058858471,
          2042738451,
          2027483231,
          2013092811,
          1999567191,
          1986906371,
          1975110351,
          1964179131,
          1954112711,
          1944911091,
          1936574271,
          1929102251,
          1922495031,
          1916752611,
          1911874991,
          1907862171,
          1904714151,
          1902430931,
          1901012511,
          1900458891,
          1900770071,
          1901946051,
          1903986831,
          1906892411,
          1910662791,
          1915297971,
          1920797951
         ]
        },
        {
         "mode": "text+lines",
         "text": [
          "",
          "f' = 5217.24",
          ""
         ],
         "textposition": "bottom left",
         "type": "scatter",
         "uid": "40840517-1465-4dfe-84ba-d1fe34ff70e5",
         "x": [
          -1403,
          -1378,
          -1353
         ],
         "y": [
          1900321512,
          1900451943,
          1900582374
         ]
        }
       ],
       "layout": {
        "autosize": true,
        "xaxis": {
         "autorange": true,
         "range": [
          -1700,
          -1310
         ],
         "type": "linear"
        },
        "yaxis": {
         "autorange": true,
         "range": [
          1875499622.0555556,
          2371937420.9444447
         ],
         "type": "linear"
        }
       }
      },
      "image/png": "[encoded data removed]",
      "text/html": [
       "<div id=\"1c758941-de52-463a-b5d0-3936f4d87a92\" style=\"height: 525px; width: 100%;\" class=\"plotly-graph-div\"></div><script type=\"text/javascript\">require([\"plotly\"], function(Plotly) { window.PLOTLYENV=window.PLOTLYENV || {};window.PLOTLYENV.BASE_URL=\"https://plot.ly\";Plotly.newPlot(\"1c758941-de52-463a-b5d0-3936f4d87a92\", [{\"mode\": \"lines\", \"name\": \"data\", \"text\": [], \"x\": [-1700, -1690, -1680, -1670, -1660, -1650, -1640, -1630, -1620, -1610, -1600, -1590, -1580, -1570, -1560, -1550, -1540, -1530, -1520, -1510, -1500, -1490, -1480, -1470, -1460, -1450, -1440, -1430, -1420, -1410, -1400, -1390, -1380, -1370, -1360, -1350, -1340, -1330, -1320, -1310], \"y\": [2347115531, 2319753111, 2293255491, 2267622671, 2242854651, 2218951431, 2195913011, 2173739391, 2152430571, 2131986551, 2112407331, 2093692911, 2075843291, 2058858471, 2042738451, 2027483231, 2013092811, 1999567191, 1986906371, 1975110351, 1964179131, 1954112711, 1944911091, 1936574271, 1929102251, 1922495031, 1916752611, 1911874991, 1907862171, 1904714151, 1902430931, 1901012511, 1900458891, 1900770071, 1901946051, 1903986831, 1906892411, 1910662791, 1915297971, 1920797951], \"type\": \"scatter\", \"uid\": \"60083384-1b2d-411c-bebc-d7a3814da710\"}, {\"mode\": \"text+lines\", \"text\": [\"\", \"f' = 5217.24\", \"\"], \"textposition\": \"bottom left\", \"x\": [-1403.0, -1378, -1353.0], \"y\": [1900321512.0, 1900451943, 1900582374.0], \"type\": \"scatter\", \"uid\": \"4d24d1d2-4d6c-4ae8-8562-f07915b32c91\"}], {}, {\"showLink\": false, \"linkText\": \"Export to plot.ly\", \"plotlyServerURL\": \"https://plot.ly\"})});</script><script type=\"text/javascript\">window.addEventListener(\"resize\", function(){window._Plotly.Plots.resize(document.getElementById(\"1c758941-de52-463a-b5d0-3936f4d87a92\"));});</script>"
      ],
      "text/vnd.plotly.v1+html": [
       "<div id=\"1c758941-de52-463a-b5d0-3936f4d87a92\" style=\"height: 525px; width: 100%;\" class=\"plotly-graph-div\"></div><script type=\"text/javascript\">require([\"plotly\"], function(Plotly) { window.PLOTLYENV=window.PLOTLYENV || {};window.PLOTLYENV.BASE_URL=\"https://plot.ly\";Plotly.newPlot(\"1c758941-de52-463a-b5d0-3936f4d87a92\", [{\"mode\": \"lines\", \"name\": \"data\", \"text\": [], \"x\": [-1700, -1690, -1680, -1670, -1660, -1650, -1640, -1630, -1620, -1610, -1600, -1590, -1580, -1570, -1560, -1550, -1540, -1530, -1520, -1510, -1500, -1490, -1480, -1470, -1460, -1450, -1440, -1430, -1420, -1410, -1400, -1390, -1380, -1370, -1360, -1350, -1340, -1330, -1320, -1310], \"y\": [2347115531, 2319753111, 2293255491, 2267622671, 2242854651, 2218951431, 2195913011, 2173739391, 2152430571, 2131986551, 2112407331, 2093692911, 2075843291, 2058858471, 2042738451, 2027483231, 2013092811, 1999567191, 1986906371, 1975110351, 1964179131, 1954112711, 1944911091, 1936574271, 1929102251, 1922495031, 1916752611, 1911874991, 1907862171, 1904714151, 1902430931, 1901012511, 1900458891, 1900770071, 1901946051, 1903986831, 1906892411, 1910662791, 1915297971, 1920797951], \"type\": \"scatter\", \"uid\": \"60083384-1b2d-411c-bebc-d7a3814da710\"}, {\"mode\": \"text+lines\", \"text\": [\"\", \"f' = 5217.24\", \"\"], \"textposition\": \"bottom left\", \"x\": [-1403.0, -1378, -1353.0], \"y\": [1900321512.0, 1900451943, 1900582374.0], \"type\": \"scatter\", \"uid\": \"4d24d1d2-4d6c-4ae8-8562-f07915b32c91\"}], {}, {\"showLink\": false, \"linkText\": \"Export to plot.ly\", \"plotlyServerURL\": \"https://plot.ly\"})});</script><script type=\"text/javascript\">window.addEventListener(\"resize\", function(){window._Plotly.Plots.resize(document.getElementById(\"1c758941-de52-463a-b5d0-3936f4d87a92\"));});</script>"
      ]
     },
     "metadata": {},
     "output_type": "display_data"
    }
   ],
   "source": [
    "final_d_trace = derivative_trace(rss_value_vary_m, -1378, line_length = 50)\n",
    "m_values = list(range(-1700, -1300, 10))\n",
    "rss_values = list(map(lambda m: rss(m, b, month_numbers, revenues), m_values))\n",
    "rss_trace = trace_values(m_values, rss_values, mode = 'lines')\n",
    "\n",
    "plot([rss_trace, final_d_trace])"
   ]
  },
  {
   "cell_type": "markdown",
   "metadata": {},
   "source": [
    "### Summary"
   ]
  },
  {
   "cell_type": "markdown",
   "metadata": {},
   "source": [
    "In this lesson we dove deeper into how an algorithtm updates it's model.  In other words we dove deeper into how an algorithm learns.  We saw a stepwise procedure in which the algorithm looks at the slope of the RSS curve for a given value of m, and then updates that value of m by a the negative of a small number times that slope.  This means that our updates will be proportional to the size of the slope at a given value of m.  And because the further away from the minimum, the steeper the slope, this increases the size of the update.  As our algorithm approaches the value of m that produces the minimum, the slope of the RSS decreases, and thus so do the updates.  When those updates are sufficiently small, we stop our algorithm and use the corresponding value of m for our model.\n",
    "\n",
    "We translated this algorithm into code and expressed this mathematically as:\n",
    "\n",
    "$m = m + -.0001*slopeofrss_m$"
   ]
  },
  {
   "cell_type": "markdown",
   "metadata": {},
   "source": [
    "We call this small number .0001 our learning rate, $\\alpha$ as influences the size of the updates of our parameters, so we can rewrite our formula as the following:"
   ]
  },
  {
   "cell_type": "markdown",
   "metadata": {},
   "source": [
    "$m = m + -\\alpha*slopeofrss_m$"
   ]
  }
 ],
 "metadata": {
  "kernelspec": {
   "display_name": "Python 3",
   "language": "python",
   "name": "python3"
  },
  "language_info": {
   "codemirror_mode": {
    "name": "ipython",
    "version": 3
   },
   "file_extension": ".py",
   "mimetype": "text/x-python",
   "name": "python",
   "nbconvert_exporter": "python",
   "pygments_lexer": "ipython3",
   "version": "3.7.0"
  }
 },
 "nbformat": 4,
 "nbformat_minor": 2
}
