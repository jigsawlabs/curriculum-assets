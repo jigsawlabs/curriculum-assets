{
 "cells": [
  {
   "cell_type": "markdown",
   "metadata": {},
   "source": [
    "## Improving the model"
   ]
  },
  {
   "cell_type": "markdown",
   "metadata": {},
   "source": [
    "### Introduction"
   ]
  },
  {
   "cell_type": "markdown",
   "metadata": {},
   "source": [
    "In the previous section, we discussed our basketball player who models the relationship between shot angle and distance."
   ]
  },
  {
   "cell_type": "markdown",
   "metadata": {},
   "source": [
    "<img src=\"basketball-shooting.jpg\">"
   ]
  },
  {
   "cell_type": "markdown",
   "metadata": {},
   "source": [
    "We expressed this model as a mathematical formula:  \n",
    "\n",
    "$$ distance = 40 * angle $$"
   ]
  },
  {
   "cell_type": "markdown",
   "metadata": {},
   "source": [
    "And as a function:"
   ]
  },
  {
   "cell_type": "code",
   "execution_count": 1,
   "metadata": {},
   "outputs": [],
   "source": [
    "def predicted_distance(angle):\n",
    "    return 40*angle"
   ]
  },
  {
   "cell_type": "markdown",
   "metadata": {},
   "source": [
    "And finally as a line on our graph."
   ]
  },
  {
   "cell_type": "code",
   "execution_count": 3,
   "metadata": {},
   "outputs": [
    {
     "data": {
      "application/vnd.plotly.v1+json": {
       "config": {
        "linkText": "Export to plot.ly",
        "plotlyServerURL": "https://plot.ly",
        "showLink": false
       },
       "data": [
        {
         "mode": "markers",
         "name": "data",
         "text": [],
         "type": "scatter",
         "uid": "c37a2d53-36f8-4333-9819-96747689e4c9",
         "x": [
          0.3,
          0.5,
          0.7
         ],
         "y": [
          8,
          11,
          17
         ]
        },
        {
         "mode": "lines",
         "name": "model",
         "text": [],
         "type": "scatter",
         "uid": "a4346305-0f1c-4c90-8130-28a6254cd932",
         "x": [
          0.1,
          0.2,
          0.3,
          0.4,
          0.5,
          0.6,
          0.7
         ],
         "y": [
          4,
          8,
          12,
          16,
          20,
          24,
          28
         ]
        }
       ],
       "layout": {
        "autosize": true,
        "xaxis": {
         "autorange": true,
         "range": [
          0.1,
          0.7398327234709879
         ],
         "type": "linear"
        },
        "yaxis": {
         "autorange": true,
         "range": [
          2.666666666666667,
          29.333333333333332
         ],
         "type": "linear"
        }
       }
      },
      "image/png": "[encoded data removed]",
      "text/html": [
       "<div id=\"0b62979e-7c5f-401f-bebe-6464fa392292\" style=\"height: 525px; width: 100%;\" class=\"plotly-graph-div\"></div><script type=\"text/javascript\">require([\"plotly\"], function(Plotly) { window.PLOTLYENV=window.PLOTLYENV || {};window.PLOTLYENV.BASE_URL=\"https://plot.ly\";Plotly.newPlot(\"0b62979e-7c5f-401f-bebe-6464fa392292\", [{\"mode\": \"markers\", \"name\": \"data\", \"text\": [], \"x\": [0.3, 0.5, 0.7], \"y\": [8, 11, 17], \"type\": \"scatter\", \"uid\": \"342be92d-dac4-4062-9825-b41f64de323a\"}, {\"mode\": \"lines\", \"name\": \"model\", \"text\": [], \"x\": [0.1, 0.2, 0.3, 0.4, 0.5, 0.6, 0.7], \"y\": [4.0, 8.0, 12.0, 16.0, 20.0, 24.0, 28.0], \"type\": \"scatter\", \"uid\": \"4078062a-2371-4777-9509-b37152cd6538\"}], {}, {\"showLink\": false, \"linkText\": \"Export to plot.ly\", \"plotlyServerURL\": \"https://plot.ly\"})});</script><script type=\"text/javascript\">window.addEventListener(\"resize\", function(){window._Plotly.Plots.resize(document.getElementById(\"0b62979e-7c5f-401f-bebe-6464fa392292\"));});</script>"
      ],
      "text/vnd.plotly.v1+html": [
       "<div id=\"0b62979e-7c5f-401f-bebe-6464fa392292\" style=\"height: 525px; width: 100%;\" class=\"plotly-graph-div\"></div><script type=\"text/javascript\">require([\"plotly\"], function(Plotly) { window.PLOTLYENV=window.PLOTLYENV || {};window.PLOTLYENV.BASE_URL=\"https://plot.ly\";Plotly.newPlot(\"0b62979e-7c5f-401f-bebe-6464fa392292\", [{\"mode\": \"markers\", \"name\": \"data\", \"text\": [], \"x\": [0.3, 0.5, 0.7], \"y\": [8, 11, 17], \"type\": \"scatter\", \"uid\": \"342be92d-dac4-4062-9825-b41f64de323a\"}, {\"mode\": \"lines\", \"name\": \"model\", \"text\": [], \"x\": [0.1, 0.2, 0.3, 0.4, 0.5, 0.6, 0.7], \"y\": [4.0, 8.0, 12.0, 16.0, 20.0, 24.0, 28.0], \"type\": \"scatter\", \"uid\": \"4078062a-2371-4777-9509-b37152cd6538\"}], {}, {\"showLink\": false, \"linkText\": \"Export to plot.ly\", \"plotlyServerURL\": \"https://plot.ly\"})});</script><script type=\"text/javascript\">window.addEventListener(\"resize\", function(){window._Plotly.Plots.resize(document.getElementById(\"0b62979e-7c5f-401f-bebe-6464fa392292\"));});</script>"
      ]
     },
     "metadata": {},
     "output_type": "display_data"
    }
   ],
   "source": [
    "\n",
    "from graph import trace_values, plot\n",
    "angles = [.1, .2, .3, .4, .5, .6, .7]\n",
    "predicted_distances = list(map(lambda angle: 40 * angle, angles))\n",
    "data_trace = trace_values([.30, .50, .70], [8, 11, 17], name = 'data')\n",
    "model_trace = trace_values(angles, predicted_distances, mode = 'lines', name = 'model')\n",
    "layout = {'yaxis': {'range': [0, 18], 'title': 'shot distance'}, 'xaxis': {'title': 'shot angle'}}\n",
    "plot([data_trace, model_trace])"
   ]
  },
  {
   "cell_type": "markdown",
   "metadata": {},
   "source": [
    "In this lesson, we'll learn how to evaluate if our model is any good."
   ]
  },
  {
   "cell_type": "markdown",
   "metadata": {},
   "source": [
    "### 4. Updating the model"
   ]
  },
  {
   "cell_type": "markdown",
   "metadata": {},
   "source": [
    "Now that we have a metric to assess the accuracy of our model, we can try different models and see which one produces the lowest metric.  This process of updating a model so that it better matches our data is called fitting or training our *model*.  \n",
    "\n",
    "So here, we change our model so that we find a model that produces a lower SSE.   "
   ]
  },
  {
   "cell_type": "markdown",
   "metadata": {},
   "source": [
    "For example we started with the initial model of \n",
    "```python\n",
    "def distance_guess(angle):\n",
    "    return (12 + 5*angle)\n",
    "```\n",
    "but we can change this to be \n",
    "\n",
    "```python\n",
    "def distance_guess(angle):\n",
    "    return (12 + 4*angle)\n",
    "```\n",
    "or \n",
    "\n",
    "```python\n",
    "def distance_guess(angle):\n",
    "    return (12 + 3*angle)\n",
    "```\n",
    "\n",
    "And then plot the how well each of them match up to our data, by just calculating the sum of squared errors for each."
   ]
  },
  {
   "cell_type": "code",
   "execution_count": 2,
   "metadata": {},
   "outputs": [
    {
     "name": "stdout",
     "output_type": "stream",
     "text": [
      "This is the format of your plot grid:\n",
      "[ (1,1) x1,y1 ]  [ (1,2) x2,y2 ]\n",
      "\n"
     ]
    },
    {
     "data": {
      "application/vnd.plotly.v1+json": {
       "config": {
        "linkText": "Export to plot.ly",
        "plotlyServerURL": "https://plot.ly",
        "showLink": false
       },
       "data": [
        {
         "mode": "markers",
         "name": "data",
         "text": [],
         "type": "scatter",
         "uid": "1c9fbd9b-b502-4abc-9eec-aeb9e0e75ccc",
         "x": [
          0,
          1,
          2,
          3,
          4,
          5,
          6,
          7,
          8,
          9,
          10,
          11,
          12,
          13,
          14,
          15,
          16,
          17,
          18,
          19,
          20,
          21,
          22,
          23
         ],
         "xaxis": "x",
         "y": [
          66609,
          67048,
          69664,
          72238,
          84721,
          69224,
          58697,
          51430,
          48239,
          50574,
          51707,
          50305,
          45590,
          42180,
          41054,
          56182,
          49965,
          43094,
          44414,
          41393,
          34903,
          39535,
          39627,
          9400
         ],
         "yaxis": "y"
        },
        {
         "marker": {
          "color": "red"
         },
         "mode": "lines",
         "name": "data",
         "text": [],
         "type": "scatter",
         "uid": "ac35f68c-fca7-4fbe-82d5-905d21195652",
         "x": [
          0,
          1,
          2,
          3,
          4,
          5,
          6,
          7,
          8,
          9,
          10,
          11,
          12,
          13,
          14,
          15,
          16,
          17,
          18,
          19,
          20,
          21,
          22,
          23
         ],
         "xaxis": "x",
         "y": [
          65000,
          63300,
          61600,
          59900,
          58200,
          56500,
          54800,
          53100,
          51400,
          49700,
          48000,
          46300,
          44600,
          42900,
          41200,
          39500,
          37800,
          36100,
          34400,
          32700,
          31000,
          29300,
          27600,
          25900
         ],
         "yaxis": "y"
        },
        {
         "marker": {
          "color": "yellow"
         },
         "mode": "lines",
         "name": "data",
         "text": [],
         "type": "scatter",
         "uid": "1dced7a8-583a-494d-9273-a944561c0997",
         "x": [
          0,
          1,
          2,
          3,
          4,
          5,
          6,
          7,
          8,
          9,
          10,
          11,
          12,
          13,
          14,
          15,
          16,
          17,
          18,
          19,
          20,
          21,
          22,
          23
         ],
         "xaxis": "x",
         "y": [
          65000,
          63450,
          61900,
          60350,
          58800,
          57250,
          55700,
          54150,
          52600,
          51050,
          49500,
          47950,
          46400,
          44850,
          43300,
          41750,
          40200,
          38650,
          37100,
          35550,
          34000,
          32450,
          30900,
          29350
         ],
         "yaxis": "y"
        },
        {
         "marker": {
          "color": "blue"
         },
         "mode": "lines",
         "name": "data",
         "text": [],
         "type": "scatter",
         "uid": "f3533d90-f382-43d1-99ae-8aad019cffa2",
         "x": [
          0,
          1,
          2,
          3,
          4,
          5,
          6,
          7,
          8,
          9,
          10,
          11,
          12,
          13,
          14,
          15,
          16,
          17,
          18,
          19,
          20,
          21,
          22,
          23
         ],
         "xaxis": "x",
         "y": [
          65000,
          63600,
          62200,
          60800,
          59400,
          58000,
          56600,
          55200,
          53800,
          52400,
          51000,
          49600,
          48200,
          46800,
          45400,
          44000,
          42600,
          41200,
          39800,
          38400,
          37000,
          35600,
          34200,
          32800
         ],
         "yaxis": "y"
        },
        {
         "marker": {
          "color": "orange"
         },
         "mode": "lines",
         "name": "data",
         "text": [],
         "type": "scatter",
         "uid": "49217740-f124-4b90-b1b7-5fc8857021d3",
         "x": [
          0,
          1,
          2,
          3,
          4,
          5,
          6,
          7,
          8,
          9,
          10,
          11,
          12,
          13,
          14,
          15,
          16,
          17,
          18,
          19,
          20,
          21,
          22,
          23
         ],
         "xaxis": "x",
         "y": [
          65000,
          63750,
          62500,
          61250,
          60000,
          58750,
          57500,
          56250,
          55000,
          53750,
          52500,
          51250,
          50000,
          48750,
          47500,
          46250,
          45000,
          43750,
          42500,
          41250,
          40000,
          38750,
          37500,
          36250
         ],
         "yaxis": "y"
        },
        {
         "marker": {
          "color": "green"
         },
         "mode": "lines",
         "name": "data",
         "text": [],
         "type": "scatter",
         "uid": "8ba22373-d3a4-4b43-a689-3fc7e2625f5d",
         "x": [
          0,
          1,
          2,
          3,
          4,
          5,
          6,
          7,
          8,
          9,
          10,
          11,
          12,
          13,
          14,
          15,
          16,
          17,
          18,
          19,
          20,
          21,
          22,
          23
         ],
         "xaxis": "x",
         "y": [
          65000,
          63900,
          62800,
          61700,
          60600,
          59500,
          58400,
          57300,
          56200,
          55100,
          54000,
          52900,
          51800,
          50700,
          49600,
          48500,
          47400,
          46300,
          45200,
          44100,
          43000,
          41900,
          40800,
          39700
         ],
         "yaxis": "y"
        },
        {
         "marker": {
          "color": "red"
         },
         "type": "bar",
         "uid": "78b58aeb-9055-42c6-8530-b4dd6e9095c8",
         "x": [
          "RSS"
         ],
         "xaxis": "x2",
         "y": [
          2347115531
         ],
         "yaxis": "y2"
        },
        {
         "marker": {
          "color": "yellow"
         },
         "type": "bar",
         "uid": "9b3ebfd0-cf62-466a-a727-746670414872",
         "x": [
          "RSS"
         ],
         "xaxis": "x2",
         "y": [
          2027483231
         ],
         "yaxis": "y2"
        },
        {
         "marker": {
          "color": "blue"
         },
         "type": "bar",
         "uid": "e0e3c6c6-0391-46fe-87ca-14a7b965114b",
         "x": [
          "RSS"
         ],
         "xaxis": "x2",
         "y": [
          1902430931
         ],
         "yaxis": "y2"
        },
        {
         "marker": {
          "color": "orange"
         },
         "type": "bar",
         "uid": "8618f078-622b-494d-8cdc-86e7d4e6bf2f",
         "x": [
          "RSS"
         ],
         "xaxis": "x2",
         "y": [
          1971958631
         ],
         "yaxis": "y2"
        },
        {
         "marker": {
          "color": "green"
         },
         "type": "bar",
         "uid": "1fb907d5-1ab6-47fc-bea5-700465c4f578",
         "x": [
          "RSS"
         ],
         "xaxis": "x2",
         "y": [
          2236066331
         ],
         "yaxis": "y2"
        }
       ],
       "layout": {
        "autosize": true,
        "xaxis": {
         "anchor": "y",
         "autorange": true,
         "domain": [
          0,
          0.45
         ],
         "range": [
          -2.1305392418579814,
          25.13053924185798
         ],
         "type": "linear"
        },
        "xaxis2": {
         "anchor": "y2",
         "autorange": true,
         "domain": [
          0.55,
          1
         ],
         "range": [
          -0.5,
          0.5
         ],
         "type": "category"
        },
        "yaxis": {
         "anchor": "x",
         "autorange": true,
         "domain": [
          0,
          1
         ],
         "range": [
          3882.856687898089,
          90238.1433121019
         ],
         "type": "linear"
        },
        "yaxis2": {
         "anchor": "x2",
         "autorange": true,
         "domain": [
          0,
          1
         ],
         "range": [
          0,
          2470647927.368421
         ],
         "type": "linear"
        }
       }
      },
      "image/png": "[encoded data removed]",
      "text/html": [
       "<div id=\"e7d72478-8914-4329-a9d9-316c2e6d32d4\" style=\"height: 525px; width: 100%;\" class=\"plotly-graph-div\"></div><script type=\"text/javascript\">require([\"plotly\"], function(Plotly) { window.PLOTLYENV=window.PLOTLYENV || {};window.PLOTLYENV.BASE_URL=\"https://plot.ly\";Plotly.newPlot(\"e7d72478-8914-4329-a9d9-316c2e6d32d4\", [{\"mode\": \"markers\", \"name\": \"data\", \"text\": [], \"x\": [0, 1, 2, 3, 4, 5, 6, 7, 8, 9, 10, 11, 12, 13, 14, 15, 16, 17, 18, 19, 20, 21, 22, 23], \"y\": [66609, 67048, 69664, 72238, 84721, 69224, 58697, 51430, 48239, 50574, 51707, 50305, 45590, 42180, 41054, 56182, 49965, 43094, 44414, 41393, 34903, 39535, 39627, 9400], \"type\": \"scatter\", \"uid\": \"1c9fbd9b-b502-4abc-9eec-aeb9e0e75ccc\", \"xaxis\": \"x\", \"yaxis\": \"y\"}, {\"marker\": {\"color\": \"red\"}, \"mode\": \"lines\", \"name\": \"data\", \"text\": [], \"x\": [0, 1, 2, 3, 4, 5, 6, 7, 8, 9, 10, 11, 12, 13, 14, 15, 16, 17, 18, 19, 20, 21, 22, 23], \"y\": [65000, 63300, 61600, 59900, 58200, 56500, 54800, 53100, 51400, 49700, 48000, 46300, 44600, 42900, 41200, 39500, 37800, 36100, 34400, 32700, 31000, 29300, 27600, 25900], \"type\": \"scatter\", \"uid\": \"ac35f68c-fca7-4fbe-82d5-905d21195652\", \"xaxis\": \"x\", \"yaxis\": \"y\"}, {\"marker\": {\"color\": \"yellow\"}, \"mode\": \"lines\", \"name\": \"data\", \"text\": [], \"x\": [0, 1, 2, 3, 4, 5, 6, 7, 8, 9, 10, 11, 12, 13, 14, 15, 16, 17, 18, 19, 20, 21, 22, 23], \"y\": [65000, 63450, 61900, 60350, 58800, 57250, 55700, 54150, 52600, 51050, 49500, 47950, 46400, 44850, 43300, 41750, 40200, 38650, 37100, 35550, 34000, 32450, 30900, 29350], \"type\": \"scatter\", \"uid\": \"1dced7a8-583a-494d-9273-a944561c0997\", \"xaxis\": \"x\", \"yaxis\": \"y\"}, {\"marker\": {\"color\": \"blue\"}, \"mode\": \"lines\", \"name\": \"data\", \"text\": [], \"x\": [0, 1, 2, 3, 4, 5, 6, 7, 8, 9, 10, 11, 12, 13, 14, 15, 16, 17, 18, 19, 20, 21, 22, 23], \"y\": [65000, 63600, 62200, 60800, 59400, 58000, 56600, 55200, 53800, 52400, 51000, 49600, 48200, 46800, 45400, 44000, 42600, 41200, 39800, 38400, 37000, 35600, 34200, 32800], \"type\": \"scatter\", \"uid\": \"f3533d90-f382-43d1-99ae-8aad019cffa2\", \"xaxis\": \"x\", \"yaxis\": \"y\"}, {\"marker\": {\"color\": \"orange\"}, \"mode\": \"lines\", \"name\": \"data\", \"text\": [], \"x\": [0, 1, 2, 3, 4, 5, 6, 7, 8, 9, 10, 11, 12, 13, 14, 15, 16, 17, 18, 19, 20, 21, 22, 23], \"y\": [65000, 63750, 62500, 61250, 60000, 58750, 57500, 56250, 55000, 53750, 52500, 51250, 50000, 48750, 47500, 46250, 45000, 43750, 42500, 41250, 40000, 38750, 37500, 36250], \"type\": \"scatter\", \"uid\": \"49217740-f124-4b90-b1b7-5fc8857021d3\", \"xaxis\": \"x\", \"yaxis\": \"y\"}, {\"marker\": {\"color\": \"green\"}, \"mode\": \"lines\", \"name\": \"data\", \"text\": [], \"x\": [0, 1, 2, 3, 4, 5, 6, 7, 8, 9, 10, 11, 12, 13, 14, 15, 16, 17, 18, 19, 20, 21, 22, 23], \"y\": [65000, 63900, 62800, 61700, 60600, 59500, 58400, 57300, 56200, 55100, 54000, 52900, 51800, 50700, 49600, 48500, 47400, 46300, 45200, 44100, 43000, 41900, 40800, 39700], \"type\": \"scatter\", \"uid\": \"8ba22373-d3a4-4b43-a689-3fc7e2625f5d\", \"xaxis\": \"x\", \"yaxis\": \"y\"}, {\"marker\": {\"color\": \"red\"}, \"x\": [\"RSS\"], \"y\": [2347115531], \"type\": \"bar\", \"uid\": \"78b58aeb-9055-42c6-8530-b4dd6e9095c8\", \"xaxis\": \"x2\", \"yaxis\": \"y2\"}, {\"marker\": {\"color\": \"yellow\"}, \"x\": [\"RSS\"], \"y\": [2027483231], \"type\": \"bar\", \"uid\": \"9b3ebfd0-cf62-466a-a727-746670414872\", \"xaxis\": \"x2\", \"yaxis\": \"y2\"}, {\"marker\": {\"color\": \"blue\"}, \"x\": [\"RSS\"], \"y\": [1902430931], \"type\": \"bar\", \"uid\": \"e0e3c6c6-0391-46fe-87ca-14a7b965114b\", \"xaxis\": \"x2\", \"yaxis\": \"y2\"}, {\"marker\": {\"color\": \"orange\"}, \"x\": [\"RSS\"], \"y\": [1971958631], \"type\": \"bar\", \"uid\": \"8618f078-622b-494d-8cdc-86e7d4e6bf2f\", \"xaxis\": \"x2\", \"yaxis\": \"y2\"}, {\"marker\": {\"color\": \"green\"}, \"x\": [\"RSS\"], \"y\": [2236066331], \"type\": \"bar\", \"uid\": \"1fb907d5-1ab6-47fc-bea5-700465c4f578\", \"xaxis\": \"x2\", \"yaxis\": \"y2\"}], {\"xaxis\": {\"anchor\": \"y\", \"domain\": [0.0, 0.45]}, \"yaxis\": {\"anchor\": \"x\", \"domain\": [0.0, 1.0]}, \"xaxis2\": {\"anchor\": \"y2\", \"domain\": [0.55, 1.0]}, \"yaxis2\": {\"anchor\": \"x2\", \"domain\": [0.0, 1.0]}}, {\"showLink\": false, \"linkText\": \"Export to plot.ly\", \"plotlyServerURL\": \"https://plot.ly\"})});</script><script type=\"text/javascript\">window.addEventListener(\"resize\", function(){window._Plotly.Plots.resize(document.getElementById(\"e7d72478-8914-4329-a9d9-316c2e6d32d4\"));});</script>"
      ],
      "text/vnd.plotly.v1+html": [
       "<div id=\"e7d72478-8914-4329-a9d9-316c2e6d32d4\" style=\"height: 525px; width: 100%;\" class=\"plotly-graph-div\"></div><script type=\"text/javascript\">require([\"plotly\"], function(Plotly) { window.PLOTLYENV=window.PLOTLYENV || {};window.PLOTLYENV.BASE_URL=\"https://plot.ly\";Plotly.newPlot(\"e7d72478-8914-4329-a9d9-316c2e6d32d4\", [{\"mode\": \"markers\", \"name\": \"data\", \"text\": [], \"x\": [0, 1, 2, 3, 4, 5, 6, 7, 8, 9, 10, 11, 12, 13, 14, 15, 16, 17, 18, 19, 20, 21, 22, 23], \"y\": [66609, 67048, 69664, 72238, 84721, 69224, 58697, 51430, 48239, 50574, 51707, 50305, 45590, 42180, 41054, 56182, 49965, 43094, 44414, 41393, 34903, 39535, 39627, 9400], \"type\": \"scatter\", \"uid\": \"1c9fbd9b-b502-4abc-9eec-aeb9e0e75ccc\", \"xaxis\": \"x\", \"yaxis\": \"y\"}, {\"marker\": {\"color\": \"red\"}, \"mode\": \"lines\", \"name\": \"data\", \"text\": [], \"x\": [0, 1, 2, 3, 4, 5, 6, 7, 8, 9, 10, 11, 12, 13, 14, 15, 16, 17, 18, 19, 20, 21, 22, 23], \"y\": [65000, 63300, 61600, 59900, 58200, 56500, 54800, 53100, 51400, 49700, 48000, 46300, 44600, 42900, 41200, 39500, 37800, 36100, 34400, 32700, 31000, 29300, 27600, 25900], \"type\": \"scatter\", \"uid\": \"ac35f68c-fca7-4fbe-82d5-905d21195652\", \"xaxis\": \"x\", \"yaxis\": \"y\"}, {\"marker\": {\"color\": \"yellow\"}, \"mode\": \"lines\", \"name\": \"data\", \"text\": [], \"x\": [0, 1, 2, 3, 4, 5, 6, 7, 8, 9, 10, 11, 12, 13, 14, 15, 16, 17, 18, 19, 20, 21, 22, 23], \"y\": [65000, 63450, 61900, 60350, 58800, 57250, 55700, 54150, 52600, 51050, 49500, 47950, 46400, 44850, 43300, 41750, 40200, 38650, 37100, 35550, 34000, 32450, 30900, 29350], \"type\": \"scatter\", \"uid\": \"1dced7a8-583a-494d-9273-a944561c0997\", \"xaxis\": \"x\", \"yaxis\": \"y\"}, {\"marker\": {\"color\": \"blue\"}, \"mode\": \"lines\", \"name\": \"data\", \"text\": [], \"x\": [0, 1, 2, 3, 4, 5, 6, 7, 8, 9, 10, 11, 12, 13, 14, 15, 16, 17, 18, 19, 20, 21, 22, 23], \"y\": [65000, 63600, 62200, 60800, 59400, 58000, 56600, 55200, 53800, 52400, 51000, 49600, 48200, 46800, 45400, 44000, 42600, 41200, 39800, 38400, 37000, 35600, 34200, 32800], \"type\": \"scatter\", \"uid\": \"f3533d90-f382-43d1-99ae-8aad019cffa2\", \"xaxis\": \"x\", \"yaxis\": \"y\"}, {\"marker\": {\"color\": \"orange\"}, \"mode\": \"lines\", \"name\": \"data\", \"text\": [], \"x\": [0, 1, 2, 3, 4, 5, 6, 7, 8, 9, 10, 11, 12, 13, 14, 15, 16, 17, 18, 19, 20, 21, 22, 23], \"y\": [65000, 63750, 62500, 61250, 60000, 58750, 57500, 56250, 55000, 53750, 52500, 51250, 50000, 48750, 47500, 46250, 45000, 43750, 42500, 41250, 40000, 38750, 37500, 36250], \"type\": \"scatter\", \"uid\": \"49217740-f124-4b90-b1b7-5fc8857021d3\", \"xaxis\": \"x\", \"yaxis\": \"y\"}, {\"marker\": {\"color\": \"green\"}, \"mode\": \"lines\", \"name\": \"data\", \"text\": [], \"x\": [0, 1, 2, 3, 4, 5, 6, 7, 8, 9, 10, 11, 12, 13, 14, 15, 16, 17, 18, 19, 20, 21, 22, 23], \"y\": [65000, 63900, 62800, 61700, 60600, 59500, 58400, 57300, 56200, 55100, 54000, 52900, 51800, 50700, 49600, 48500, 47400, 46300, 45200, 44100, 43000, 41900, 40800, 39700], \"type\": \"scatter\", \"uid\": \"8ba22373-d3a4-4b43-a689-3fc7e2625f5d\", \"xaxis\": \"x\", \"yaxis\": \"y\"}, {\"marker\": {\"color\": \"red\"}, \"x\": [\"RSS\"], \"y\": [2347115531], \"type\": \"bar\", \"uid\": \"78b58aeb-9055-42c6-8530-b4dd6e9095c8\", \"xaxis\": \"x2\", \"yaxis\": \"y2\"}, {\"marker\": {\"color\": \"yellow\"}, \"x\": [\"RSS\"], \"y\": [2027483231], \"type\": \"bar\", \"uid\": \"9b3ebfd0-cf62-466a-a727-746670414872\", \"xaxis\": \"x2\", \"yaxis\": \"y2\"}, {\"marker\": {\"color\": \"blue\"}, \"x\": [\"RSS\"], \"y\": [1902430931], \"type\": \"bar\", \"uid\": \"e0e3c6c6-0391-46fe-87ca-14a7b965114b\", \"xaxis\": \"x2\", \"yaxis\": \"y2\"}, {\"marker\": {\"color\": \"orange\"}, \"x\": [\"RSS\"], \"y\": [1971958631], \"type\": \"bar\", \"uid\": \"8618f078-622b-494d-8cdc-86e7d4e6bf2f\", \"xaxis\": \"x2\", \"yaxis\": \"y2\"}, {\"marker\": {\"color\": \"green\"}, \"x\": [\"RSS\"], \"y\": [2236066331], \"type\": \"bar\", \"uid\": \"1fb907d5-1ab6-47fc-bea5-700465c4f578\", \"xaxis\": \"x2\", \"yaxis\": \"y2\"}], {\"xaxis\": {\"anchor\": \"y\", \"domain\": [0.0, 0.45]}, \"yaxis\": {\"anchor\": \"x\", \"domain\": [0.0, 1.0]}, \"xaxis2\": {\"anchor\": \"y2\", \"domain\": [0.55, 1.0]}, \"yaxis2\": {\"anchor\": \"x2\", \"domain\": [0.0, 1.0]}}, {\"showLink\": false, \"linkText\": \"Export to plot.ly\", \"plotlyServerURL\": \"https://plot.ly\"})});</script><script type=\"text/javascript\">window.addEventListener(\"resize\", function(){window._Plotly.Plots.resize(document.getElementById(\"e7d72478-8914-4329-a9d9-316c2e6d32d4\"));});</script>"
      ]
     },
     "metadata": {},
     "output_type": "display_data"
    }
   ],
   "source": [
    "from graph import model_trace, trace_rss, pair_colors, plot_side_by_side\n",
    "from graph import trace_values\n",
    "b= 65000\n",
    "\n",
    "import json\n",
    "with open('months-since-revenues.json', 'r') as revenue_file:\n",
    "    monthly_revenues = json.load(revenue_file)\n",
    "\n",
    "month_numbers = list(map(lambda monthly_revenue: monthly_revenue['month_number'], monthly_revenues))\n",
    "revenues = list(map(lambda monthly_revenue: monthly_revenue['revenue'], monthly_revenues))\n",
    "\n",
    "\n",
    "m_values = list(range(-1700, -1000, 150))\n",
    "rss_traces = []\n",
    "model_traces = []\n",
    "\n",
    "actual_trace = trace_values(x_values = month_numbers, y_values = revenues)\n",
    "\n",
    "for m in m_values:\n",
    "    rss_trace = trace_rss(m, b, month_numbers, revenues)\n",
    "    rss_traces.append(rss_trace)\n",
    "    built_model_trace = model_trace(m, b, month_numbers, revenues)\n",
    "    model_traces.append(built_model_trace)\n",
    "    \n",
    "pair_colors(model_traces, rss_traces)\n",
    "plot_side_by_side([actual_trace] + model_traces, rss_traces)"
   ]
  },
  {
   "cell_type": "markdown",
   "metadata": {},
   "source": [
    "### Predict new data"
   ]
  },
  {
   "cell_type": "markdown",
   "metadata": {},
   "source": [
    "Once we find the model that minimizes our SSE, we can use that model to predict new datapoints.  So this is the model that best fits our data.\n",
    "\n",
    "```python\n",
    "def distance_guess(angle):\n",
    "    return (12 + 5*angle)\n",
    "```\n",
    "\n",
    "And so because we expect future observations to influenced by the angle just like previous ones were, because this model fits our past data well, we expect this to fit future data as well. "
   ]
  },
  {
   "cell_type": "markdown",
   "metadata": {},
   "source": [
    "### Summary"
   ]
  }
 ],
 "metadata": {
  "kernelspec": {
   "display_name": "Python 3",
   "language": "python",
   "name": "python3"
  },
  "language_info": {
   "codemirror_mode": {
    "name": "ipython",
    "version": 3
   },
   "file_extension": ".py",
   "mimetype": "text/x-python",
   "name": "python",
   "nbconvert_exporter": "python",
   "pygments_lexer": "ipython3",
   "version": "3.7.0"
  }
 },
 "nbformat": 4,
 "nbformat_minor": 2
}
