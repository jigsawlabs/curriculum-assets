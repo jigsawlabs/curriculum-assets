{
 "cells": [
  {
   "cell_type": "markdown",
   "metadata": {},
   "source": [
    "### Introduction to Functions"
   ]
  },
  {
   "cell_type": "markdown",
   "metadata": {},
   "source": [
    "As we build up our knowledge of code, we often see that this code can become repetitive.  "
   ]
  },
  {
   "cell_type": "markdown",
   "metadata": {},
   "source": [
    "### Functions we have known and liked"
   ]
  },
  {
   "cell_type": "markdown",
   "metadata": {},
   "source": [
    "The first thing to know about functions is that we have already seen them."
   ]
  },
  {
   "cell_type": "code",
   "execution_count": 2,
   "metadata": {},
   "outputs": [
    {
     "data": {
      "text/plain": [
       "5"
      ]
     },
     "execution_count": 2,
     "metadata": {},
     "output_type": "execute_result"
    }
   ],
   "source": [
    "employees = ['max', 'susan', 'eliana', 'sam', 'georgette']\n",
    "len(employees)"
   ]
  },
  {
   "cell_type": "markdown",
   "metadata": {},
   "source": [
    "In the code above, we have just used Python's `len` function.  Notice that this function *does something* - it calculates the length of a list.  That's what our functions do - they perform an operation for us on some data.\n",
    "\n",
    "Now in the next section, we'll start building our own functions."
   ]
  },
  {
   "cell_type": "markdown",
   "metadata": {},
   "source": [
    "## The mechanics of a function"
   ]
  },
  {
   "cell_type": "markdown",
   "metadata": {},
   "source": [
    "We can think of building our functions in three steps: the function signature, the function operation, and the function return value.  "
   ]
  },
  {
   "cell_type": "markdown",
   "metadata": {},
   "source": [
    "#### 1. Declaring the function signature"
   ]
  },
  {
   "cell_type": "markdown",
   "metadata": {},
   "source": [
    "The first step is to **declare the signature** of our function."
   ]
  },
  {
   "cell_type": "code",
   "execution_count": 9,
   "metadata": {},
   "outputs": [],
   "source": [
    "def capitalize_names():\n",
    "    pass"
   ]
  },
  {
   "cell_type": "markdown",
   "metadata": {},
   "source": [
    "So in the first line of our above code we just declared a new function called `capitalize_names`.  That second line has the keyword `pass`, which essentially means do nothing.  Let's watch our function do nothing."
   ]
  },
  {
   "cell_type": "code",
   "execution_count": 8,
   "metadata": {},
   "outputs": [],
   "source": [
    "capitalized_names()\n",
    "# nothing"
   ]
  },
  {
   "cell_type": "markdown",
   "metadata": {},
   "source": [
    "Ok, now let's focus in on that first line.\n",
    "\n",
    "```python\n",
    "def capitalize_names():\n",
    "```\n",
    "\n",
    "This first line tells us the name of the function.  \n",
    "* It always starts with the Python keyword `def`.  This `def` tells Python we are about to write a function.  \n",
    "* Then we have our function name, `capitalize_names`.  Just like with variables, we can name our function whatever we like, we just can't start with numbers or capital letters. \n",
    "* Then, after the name, we have parentheses (which we'll learn more about later) and end the line with a colon.  That colon tells Python we are about to start the body of the function.   "
   ]
  },
  {
   "cell_type": "markdown",
   "metadata": {},
   "source": [
    "Once we complete the signature of the function, followed by our keyword of `pass`, we can call the function.  "
   ]
  },
  {
   "cell_type": "code",
   "execution_count": 10,
   "metadata": {},
   "outputs": [],
   "source": [
    "capitalize_names()"
   ]
  },
  {
   "cell_type": "markdown",
   "metadata": {},
   "source": [
    "Notice that if we did not declare this function, Python would raise an error when we tried to call it."
   ]
  },
  {
   "cell_type": "code",
   "execution_count": 11,
   "metadata": {},
   "outputs": [
    {
     "ename": "NameError",
     "evalue": "name 'lowercase_names' is not defined",
     "output_type": "error",
     "traceback": [
      "\u001b[0;31m---------------------------------------------------------------------------\u001b[0m",
      "\u001b[0;31mNameError\u001b[0m                                 Traceback (most recent call last)",
      "\u001b[0;32m<ipython-input-11-3aa14bc5f8c0>\u001b[0m in \u001b[0;36m<module>\u001b[0;34m()\u001b[0m\n\u001b[0;32m----> 1\u001b[0;31m \u001b[0mlowercase_names\u001b[0m\u001b[0;34m(\u001b[0m\u001b[0;34m)\u001b[0m\u001b[0;34m\u001b[0m\u001b[0m\n\u001b[0m",
      "\u001b[0;31mNameError\u001b[0m: name 'lowercase_names' is not defined"
     ]
    }
   ],
   "source": [
    "lowercase_names()"
   ]
  },
  {
   "cell_type": "markdown",
   "metadata": {},
   "source": [
    "#### 2. The function action  "
   ]
  },
  {
   "cell_type": "markdown",
   "metadata": {},
   "source": [
    "Now the next step is to have our functions do something.  Here, let's have our functions capitalize a list of names.\n",
    "\n",
    "This is what we would like to do in our function: declare a list of names and then capitalize them.  Let's first do this outside of a function."
   ]
  },
  {
   "cell_type": "code",
   "execution_count": 13,
   "metadata": {},
   "outputs": [
    {
     "data": {
      "text/plain": [
       "['Max', 'Susan', 'Eliana', 'Sam', 'Georgette']"
      ]
     },
     "execution_count": 13,
     "metadata": {},
     "output_type": "execute_result"
    }
   ],
   "source": [
    "names = ['max', 'susan', 'eliana', 'sam', 'georgette']\n",
    "capitalized_names = list(map(lambda employee: employee.capitalize(), employees))\n",
    "capitalized_names"
   ]
  },
  {
   "cell_type": "markdown",
   "metadata": {},
   "source": [
    "Ok, now we can simply copy and paste this code and move it inside of our function.  Then whenever, we call our function, the procedure will occur.  Let's try it."
   ]
  },
  {
   "cell_type": "code",
   "execution_count": 17,
   "metadata": {},
   "outputs": [],
   "source": [
    "def capitalize_names():\n",
    "    names = ['max', 'susan', 'eliana', 'sam', 'georgette']\n",
    "    upper_names = list(map(lambda employee: employee.capitalize(), employees))\n",
    "    upper_names"
   ]
  },
  {
   "cell_type": "markdown",
   "metadata": {},
   "source": [
    "Ok great. Now let's call the function."
   ]
  },
  {
   "cell_type": "code",
   "execution_count": 16,
   "metadata": {},
   "outputs": [],
   "source": [
    "capitalize_names()"
   ]
  },
  {
   "cell_type": "markdown",
   "metadata": {},
   "source": [
    "Now our function was called, and the procedure *was* run.  But we can't see the result because nothing was *returned* from our function."
   ]
  },
  {
   "cell_type": "markdown",
   "metadata": {},
   "source": [
    "### 3. Returning a value from the function"
   ]
  },
  {
   "cell_type": "markdown",
   "metadata": {},
   "source": [
    "Ok, now that we have declared the name function signature, and the function action, the last step is to specify the return value.  \n",
    "\n",
    "As we saw above, without a return value, even if our function does something, we don't see the result."
   ]
  },
  {
   "cell_type": "code",
   "execution_count": 20,
   "metadata": {},
   "outputs": [],
   "source": [
    "def capitalize_names():\n",
    "    names = ['max', 'susan', 'eliana', 'sam', 'georgette']\n",
    "    upper_names = list(map(lambda employee: employee.capitalize(), employees))\n",
    "    upper_names\n",
    "    \n",
    "capitalize_names()"
   ]
  },
  {
   "cell_type": "markdown",
   "metadata": {},
   "source": [
    "And there's no way to get that information.  Even though we have a variable `upper_names` with our capitalized names, we have a problem.  The problem is that any variable first declared inside of a function is trapped inside of that function."
   ]
  },
  {
   "cell_type": "code",
   "execution_count": 23,
   "metadata": {},
   "outputs": [
    {
     "ename": "NameError",
     "evalue": "name 'upper_names' is not defined",
     "output_type": "error",
     "traceback": [
      "\u001b[0;31m---------------------------------------------------------------------------\u001b[0m",
      "\u001b[0;31mNameError\u001b[0m                                 Traceback (most recent call last)",
      "\u001b[0;32m<ipython-input-23-8715d1f57136>\u001b[0m in \u001b[0;36m<module>\u001b[0;34m()\u001b[0m\n\u001b[0;32m----> 1\u001b[0;31m \u001b[0mupper_names\u001b[0m\u001b[0;34m\u001b[0m\u001b[0m\n\u001b[0m",
      "\u001b[0;31mNameError\u001b[0m: name 'upper_names' is not defined"
     ]
    }
   ],
   "source": [
    "upper_names"
   ]
  },
  {
   "cell_type": "markdown",
   "metadata": {},
   "source": [
    "The only way to have this information escaped from the function is to throw our data over the walls of the function with the keyword `return`.  Let's change the last line of our function accordingly."
   ]
  },
  {
   "cell_type": "code",
   "execution_count": 24,
   "metadata": {},
   "outputs": [],
   "source": [
    "def capitalize_names():\n",
    "    names = ['max', 'susan', 'eliana', 'sam', 'georgette']\n",
    "    upper_names = list(map(lambda employee: employee.capitalize(), employees))\n",
    "    return upper_names"
   ]
  },
  {
   "cell_type": "markdown",
   "metadata": {},
   "source": [
    "Ok, now we'll retry our function."
   ]
  },
  {
   "cell_type": "code",
   "execution_count": 25,
   "metadata": {},
   "outputs": [
    {
     "data": {
      "text/plain": [
       "['Max', 'Susan', 'Eliana', 'Sam', 'Georgette']"
      ]
     },
     "execution_count": 25,
     "metadata": {},
     "output_type": "execute_result"
    }
   ],
   "source": [
    "capitalize_names()"
   ]
  },
  {
   "cell_type": "markdown",
   "metadata": {},
   "source": [
    "And everything works!  \n",
    "\n",
    "Now we can only have one return statement inside of a function.  And we can only return type of data from our function.  So here we are returning a list of strings."
   ]
  },
  {
   "cell_type": "markdown",
   "metadata": {},
   "source": [
    "### Summary"
   ]
  },
  {
   "cell_type": "markdown",
   "metadata": {},
   "source": [
    "In this lesson, we learned about functions.  Functions are a way for us to wrap up a procedure -- like our `len` function that performs the procedure of calculating the length of a list. \n",
    "\n",
    "We saw how to write our own functions, that can have names of our choice, and also a do what we would like.  We did this in three steps.  \n",
    "\n",
    "First we wrote the function signature with the line `def capitalize_names():`.  The `def` keyword tells Python we are about to build a function, then we have the name of the function, followed by parentheses, and end the first line with a colon.\n",
    "\n",
    "Second, we write the procedure, or the act that a function performs after that function signature.  We can write code like we always wrote, like `mapping` through a list of names, but if we place that code in a function, we can call that procedure repeatedly.\n",
    "\n",
    "Finally, we saw that even though our function will perform the procedure, we do not see that end result without a `return` statement at the end of the function.  Any variables defined in the function are stuck inside of that function unless we have `return` statement at the end to specify what is thrown over the walls of the function.   "
   ]
  }
 ],
 "metadata": {
  "kernelspec": {
   "display_name": "Python 3",
   "language": "python",
   "name": "python3"
  },
  "language_info": {
   "codemirror_mode": {
    "name": "ipython",
    "version": 3
   },
   "file_extension": ".py",
   "mimetype": "text/x-python",
   "name": "python",
   "nbconvert_exporter": "python",
   "pygments_lexer": "ipython3",
   "version": "3.7.0"
  }
 },
 "nbformat": 4,
 "nbformat_minor": 2
}
