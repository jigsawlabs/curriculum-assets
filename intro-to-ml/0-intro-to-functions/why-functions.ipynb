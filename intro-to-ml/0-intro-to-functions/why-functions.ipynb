{
 "cells": [
  {
   "cell_type": "markdown",
   "metadata": {},
   "source": [
    "### Why Functions"
   ]
  },
  {
   "cell_type": "markdown",
   "metadata": {},
   "source": [
    "As we build up our knowledge of code, we often see that this code can become repetitive.  "
   ]
  },
  {
   "cell_type": "markdown",
   "metadata": {},
   "source": [
    "### Remembering variables"
   ]
  },
  {
   "cell_type": "markdown",
   "metadata": {},
   "source": [
    "Now we already seen one way to reduce this repetition -- using variables. For example, if we have a list of employees, we can store it in a variable with the following:"
   ]
  },
  {
   "cell_type": "code",
   "execution_count": 3,
   "metadata": {},
   "outputs": [],
   "source": [
    "employees = ['max', 'susan', 'eliana', 'sam']"
   ]
  },
  {
   "cell_type": "markdown",
   "metadata": {},
   "source": [
    "Storing this information in a variable does a couple things for us.  One, it means that we don't have to retype this list each time we want to reference our list of employees.\n",
    "\n",
    "Two, naming this list means that we tell ourselves the significance of the list.  And it's a hint in the code to not think really think of the details of the individual strings but rather the broader list of employees."
   ]
  },
  {
   "cell_type": "markdown",
   "metadata": {},
   "source": [
    "### Reducing repetition"
   ]
  },
  {
   "cell_type": "markdown",
   "metadata": {},
   "source": [
    "Now just as we benefit by naming and reusing our data, we can get similar benefits by naming and reusing a procedure."
   ]
  },
  {
   "cell_type": "markdown",
   "metadata": {},
   "source": [
    "For example, let's say that we would like to capitalize our employee names.  We can do the following."
   ]
  },
  {
   "cell_type": "code",
   "execution_count": 13,
   "metadata": {},
   "outputs": [
    {
     "data": {
      "text/plain": [
       "['Max', 'Susan', 'Eliana', 'Sam']"
      ]
     },
     "execution_count": 13,
     "metadata": {},
     "output_type": "execute_result"
    }
   ],
   "source": [
    "names = list(map(lambda employee: employee.capitalize(), employees))\n",
    "names"
   ]
  },
  {
   "cell_type": "markdown",
   "metadata": {},
   "source": [
    "Now we can retrieve these capitalized names whenever we type in our `names` variable.  However, the names of our employees may change, and this means we'd have to recapitalize all over again. "
   ]
  },
  {
   "cell_type": "markdown",
   "metadata": {},
   "source": [
    "To solve this, we wrap our procedure of capitalizing into a function."
   ]
  },
  {
   "cell_type": "code",
   "execution_count": 17,
   "metadata": {},
   "outputs": [],
   "source": [
    "def capitalize_names():\n",
    "    names = list(map(lambda employee: employee.capitalize(), employees))\n",
    "    return names"
   ]
  },
  {
   "cell_type": "markdown",
   "metadata": {},
   "source": [
    "> Don't worry about how this works right now, we'll break it down in the next section."
   ]
  },
  {
   "cell_type": "markdown",
   "metadata": {},
   "source": [
    "Now we can call this function whenever we want."
   ]
  },
  {
   "cell_type": "code",
   "execution_count": 20,
   "metadata": {},
   "outputs": [
    {
     "data": {
      "text/plain": [
       "['Max', 'Susan', 'Eliana', 'Sam']"
      ]
     },
     "execution_count": 20,
     "metadata": {},
     "output_type": "execute_result"
    }
   ],
   "source": [
    "capitalize_names()"
   ]
  },
  {
   "cell_type": "markdown",
   "metadata": {},
   "source": [
    "And if our list of employees ever changes, we can simply re-execute our function."
   ]
  },
  {
   "cell_type": "code",
   "execution_count": 21,
   "metadata": {},
   "outputs": [],
   "source": [
    "employees = ['max', 'susan', 'eliana', 'sam', 'georgette']"
   ]
  },
  {
   "cell_type": "code",
   "execution_count": 22,
   "metadata": {},
   "outputs": [
    {
     "data": {
      "text/plain": [
       "['Max', 'Susan', 'Eliana', 'Sam', 'Georgette']"
      ]
     },
     "execution_count": 22,
     "metadata": {},
     "output_type": "execute_result"
    }
   ],
   "source": [
    "capitalize_names()"
   ]
  },
  {
   "cell_type": "markdown",
   "metadata": {},
   "source": [
    "The reason why this works is because unlike with variables where we can store and encapsulate our date, with functions we store and encapsulate our procedure.\n",
    "\n",
    "So it's like a vegetable peeler.  Our vegetable peeler can be given carrots or potatoes, it will try to peel.  Our `capitalize_names` can be given a list of four strings or five, it will apply the same procedure."
   ]
  },
  {
   "cell_type": "markdown",
   "metadata": {},
   "source": [
    "<img src=\"https://www.radacutlery.com/images/large/vegetable-peeler-peeling-carrot.jpg\" >"
   ]
  }
 ],
 "metadata": {
  "kernelspec": {
   "display_name": "Python 3",
   "language": "python",
   "name": "python3"
  },
  "language_info": {
   "codemirror_mode": {
    "name": "ipython",
    "version": 3
   },
   "file_extension": ".py",
   "mimetype": "text/x-python",
   "name": "python",
   "nbconvert_exporter": "python",
   "pygments_lexer": "ipython3",
   "version": "3.7.0"
  }
 },
 "nbformat": 4,
 "nbformat_minor": 2
}
