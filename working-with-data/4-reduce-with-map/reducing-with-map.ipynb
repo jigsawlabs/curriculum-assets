{
 "cells": [
  {
   "cell_type": "markdown",
   "metadata": {},
   "source": [
    "# Simplifying with Map"
   ]
  },
  {
   "cell_type": "markdown",
   "metadata": {},
   "source": [
    "### Introduction"
   ]
  },
  {
   "cell_type": "markdown",
   "metadata": {},
   "source": [
    "Now that we have some experience working with lists and dictionaries, one thing that we may notice is that we really don't need a lot of the information that we start off with.  An easy way to work with this, is to simply remove the extra information that we don't need."
   ]
  },
  {
   "cell_type": "markdown",
   "metadata": {},
   "source": [
    "Let's start with employee information again."
   ]
  },
  {
   "cell_type": "markdown",
   "metadata": {},
   "source": [
    "### Exploring our Employees"
   ]
  },
  {
   "cell_type": "markdown",
   "metadata": {},
   "source": [
    "Ok, so imagine that we have a list of employees."
   ]
  },
  {
   "cell_type": "code",
   "execution_count": 3,
   "metadata": {},
   "outputs": [],
   "source": [
    "employees = [\n",
    "    {'name': 'amelia', 'birth_year': '1989' ,'days_available': []},\n",
    "    {'name': 'olivia', 'birth_year': '1992', 'days_available': ['Monday', 'Tuesday', 'Saturday', 'Sunday']},\n",
    "    {'name': 'sam', 'birth_year': '1995' ,'days_available': ['Thursday', 'Saturday']},\n",
    "    {'name': 'patrina', 'birth_year': '1992' ,'days_available': ['Saturday', 'Sunday']},\n",
    "]"
   ]
  },
  {
   "cell_type": "markdown",
   "metadata": {},
   "source": [
    "Now whenever we are given a data structure, we always want to get an overall sense of it.  So we see start with the outermost data structure.  And we see that it is a list."
   ]
  },
  {
   "cell_type": "code",
   "execution_count": 4,
   "metadata": {},
   "outputs": [
    {
     "data": {
      "text/plain": [
       "list"
      ]
     },
     "execution_count": 4,
     "metadata": {},
     "output_type": "execute_result"
    }
   ],
   "source": [
    "type(employees)"
   ]
  },
  {
   "cell_type": "markdown",
   "metadata": {},
   "source": [
    "Then we move onto each individual element in that list.  So we look at the first element and see that it is a dictionary with the following keys."
   ]
  },
  {
   "cell_type": "code",
   "execution_count": 5,
   "metadata": {},
   "outputs": [
    {
     "data": {
      "text/plain": [
       "{'name': 'amelia', 'birth_year': '1989', 'days_available': []}"
      ]
     },
     "execution_count": 5,
     "metadata": {},
     "output_type": "execute_result"
    }
   ],
   "source": [
    "employees[0]"
   ]
  },
  {
   "cell_type": "code",
   "execution_count": 6,
   "metadata": {},
   "outputs": [
    {
     "data": {
      "text/plain": [
       "dict_keys(['name', 'birth_year', 'days_available'])"
      ]
     },
     "execution_count": 6,
     "metadata": {},
     "output_type": "execute_result"
    }
   ],
   "source": [
    "employees[0].keys()"
   ]
  },
  {
   "cell_type": "markdown",
   "metadata": {},
   "source": [
    "## Reducing our information"
   ]
  },
  {
   "cell_type": "markdown",
   "metadata": {},
   "source": [
    "Now let's assume that we just want a list of names.  So for each element in the list we want to select the name attribute from the dictionary.\n",
    "\n",
    "Ok, so whenever we have to perform an operation on a list of elements, it is generally easier to first perform the operation on a single element.  So let's just try to select the name from our first dictionary."
   ]
  },
  {
   "cell_type": "code",
   "execution_count": 10,
   "metadata": {},
   "outputs": [],
   "source": [
    "employee = employees[0]"
   ]
  },
  {
   "cell_type": "code",
   "execution_count": 11,
   "metadata": {},
   "outputs": [],
   "source": [
    "employee_name = employee['name']"
   ]
  },
  {
   "cell_type": "markdown",
   "metadata": {},
   "source": [
    "Ok, that wasn't so bad.  Now let's prepare ourselves for some scary code.  We'll see it first and then explain it directly afterwards.  Ok, deep breath, here we go."
   ]
  },
  {
   "cell_type": "code",
   "execution_count": 12,
   "metadata": {},
   "outputs": [
    {
     "data": {
      "text/plain": [
       "['amelia', 'olivia', 'sam', 'patrina']"
      ]
     },
     "execution_count": 12,
     "metadata": {},
     "output_type": "execute_result"
    }
   ],
   "source": [
    "list(map(lambda employee: employee['name'],employees))"
   ]
  },
  {
   "cell_type": "markdown",
   "metadata": {},
   "source": [
    "Ok, so what we just saw was the map function.  Let's take this in pieces.  We'll start by removing that outer call to a list."
   ]
  },
  {
   "cell_type": "code",
   "execution_count": 13,
   "metadata": {},
   "outputs": [
    {
     "data": {
      "text/plain": [
       "<map at 0x10bd25940>"
      ]
     },
     "execution_count": 13,
     "metadata": {},
     "output_type": "execute_result"
    }
   ],
   "source": [
    "map(lambda employee: employee['name'],employees)"
   ]
  },
  {
   "cell_type": "markdown",
   "metadata": {},
   "source": [
    "Ok, so `map` is a function that takes two arguments.  The second argument is the list that it will act on."
   ]
  },
  {
   "cell_type": "code",
   "execution_count": 52,
   "metadata": {},
   "outputs": [],
   "source": [
    "# map( , employees)"
   ]
  },
  {
   "cell_type": "markdown",
   "metadata": {},
   "source": [
    "And this is what's in the first argument."
   ]
  },
  {
   "cell_type": "code",
   "execution_count": 53,
   "metadata": {},
   "outputs": [],
   "source": [
    "# map(lambda employee: employee['name'], )"
   ]
  },
  {
   "cell_type": "markdown",
   "metadata": {},
   "source": [
    "Ok, so while the second argument to map passes through the list, the first argument is what we would like to do to each element of that list.  So here we have the following:\n",
    "\n",
    "1. `lambda employee:` one by one, refer to each element as the variable `employee`.  \n",
    "2. `employee['name']` - for each element `employee`, select the `name` attribute.  Whatever is evaluated here will be placed into our list.\n"
   ]
  },
  {
   "cell_type": "markdown",
   "metadata": {},
   "source": [
    "So looking at the `map` function all together, we have."
   ]
  },
  {
   "cell_type": "markdown",
   "metadata": {},
   "source": [
    "Move through our list of employees, one by one."
   ]
  },
  {
   "cell_type": "code",
   "execution_count": 54,
   "metadata": {},
   "outputs": [],
   "source": [
    "# map( , employees)"
   ]
  },
  {
   "cell_type": "markdown",
   "metadata": {},
   "source": [
    "And one by one, assign each element to the variable, and place the value of `employee['name']` into a new list."
   ]
  },
  {
   "cell_type": "code",
   "execution_count": 55,
   "metadata": {},
   "outputs": [],
   "source": [
    "# map(lambda employee: employee['name'], )"
   ]
  },
  {
   "cell_type": "markdown",
   "metadata": {},
   "source": [
    "And when it's complete we have."
   ]
  },
  {
   "cell_type": "code",
   "execution_count": 56,
   "metadata": {},
   "outputs": [
    {
     "data": {
      "text/plain": [
       "<map at 0x1092a7080>"
      ]
     },
     "execution_count": 56,
     "metadata": {},
     "output_type": "execute_result"
    }
   ],
   "source": [
    "map(lambda employee: employee['name'], employees)"
   ]
  },
  {
   "cell_type": "markdown",
   "metadata": {},
   "source": [
    "Now for whaterver reason, `map` does not directly return us a list.  It returns us a map object.  But we can coerce that map object into a list just by wrapping it in the function `list()`."
   ]
  },
  {
   "cell_type": "code",
   "execution_count": 57,
   "metadata": {},
   "outputs": [
    {
     "data": {
      "text/plain": [
       "['amelia', 'olivia', 'sam', 'patrina']"
      ]
     },
     "execution_count": 57,
     "metadata": {},
     "output_type": "execute_result"
    }
   ],
   "source": [
    "list(map(lambda employee: employee['name'], employees))"
   ]
  },
  {
   "cell_type": "markdown",
   "metadata": {},
   "source": [
    "And that's it!"
   ]
  },
  {
   "cell_type": "markdown",
   "metadata": {},
   "source": [
    "### Some more practice"
   ]
  },
  {
   "cell_type": "markdown",
   "metadata": {},
   "source": [
    "Map is a really important function, so let's make sure that we have it down.  \n",
    "\n",
    "**One thing to note** about the map function is that the ending list is always the same size as the starting list."
   ]
  },
  {
   "cell_type": "code",
   "execution_count": 58,
   "metadata": {},
   "outputs": [],
   "source": [
    "employee_names = list(map(lambda employee: employee['name'], employees))"
   ]
  },
  {
   "cell_type": "code",
   "execution_count": 59,
   "metadata": {},
   "outputs": [
    {
     "data": {
      "text/plain": [
       "4"
      ]
     },
     "execution_count": 59,
     "metadata": {},
     "output_type": "execute_result"
    }
   ],
   "source": [
    "len(employees)"
   ]
  },
  {
   "cell_type": "code",
   "execution_count": 60,
   "metadata": {},
   "outputs": [
    {
     "data": {
      "text/plain": [
       "4"
      ]
     },
     "execution_count": 60,
     "metadata": {},
     "output_type": "execute_result"
    }
   ],
   "source": [
    "len(employee_names)"
   ]
  },
  {
   "cell_type": "code",
   "execution_count": 61,
   "metadata": {},
   "outputs": [
    {
     "data": {
      "text/plain": [
       "['amelia', 'olivia', 'sam', 'patrina']"
      ]
     },
     "execution_count": 61,
     "metadata": {},
     "output_type": "execute_result"
    }
   ],
   "source": [
    "employee_names"
   ]
  },
  {
   "cell_type": "markdown",
   "metadata": {},
   "source": [
    "Do you see why? It's because with map we are going one by one through our list, and replacing each element.  So if each element is switched with something new, then our lists should be ther same size."
   ]
  },
  {
   "cell_type": "markdown",
   "metadata": {},
   "source": [
    "**A second thing to note** is that map gives us a new list but does not change the original list."
   ]
  },
  {
   "cell_type": "code",
   "execution_count": 62,
   "metadata": {},
   "outputs": [
    {
     "data": {
      "text/plain": [
       "[{'name': 'amelia', 'birth_year': '1989', 'days_available': []},\n",
       " {'name': 'olivia',\n",
       "  'birth_year': '1992',\n",
       "  'days_available': ['Monday', 'Tuesday', 'Saturday', 'Sunday']},\n",
       " {'name': 'sam',\n",
       "  'birth_year': '1995',\n",
       "  'days_available': ['Thursday', 'Saturday']},\n",
       " {'name': 'patrina',\n",
       "  'birth_year': '1992',\n",
       "  'days_available': ['Saturday', 'Sunday']}]"
      ]
     },
     "execution_count": 62,
     "metadata": {},
     "output_type": "execute_result"
    }
   ],
   "source": [
    "employees"
   ]
  },
  {
   "cell_type": "code",
   "execution_count": 63,
   "metadata": {},
   "outputs": [
    {
     "data": {
      "text/plain": [
       "['amelia', 'olivia', 'sam', 'patrina']"
      ]
     },
     "execution_count": 63,
     "metadata": {},
     "output_type": "execute_result"
    }
   ],
   "source": [
    "employee_names"
   ]
  },
  {
   "cell_type": "markdown",
   "metadata": {},
   "source": [
    "**A third thing to note** is the word after the colon is a variable.  So we can use whatever name we want after the lambda, but that name determines how we refer to the element after the colon."
   ]
  },
  {
   "cell_type": "code",
   "execution_count": 64,
   "metadata": {},
   "outputs": [
    {
     "data": {
      "text/plain": [
       "['amelia', 'olivia', 'sam', 'patrina']"
      ]
     },
     "execution_count": 64,
     "metadata": {},
     "output_type": "execute_result"
    }
   ],
   "source": [
    "list(map(lambda whatever: whatever['name'], employees))"
   ]
  },
  {
   "cell_type": "code",
   "execution_count": 65,
   "metadata": {},
   "outputs": [
    {
     "ename": "NameError",
     "evalue": "name 'whatever' is not defined",
     "output_type": "error",
     "traceback": [
      "\u001b[0;31m---------------------------------------------------------------------------\u001b[0m",
      "\u001b[0;31mNameError\u001b[0m                                 Traceback (most recent call last)",
      "\u001b[0;32m<ipython-input-65-fe97fdf80802>\u001b[0m in \u001b[0;36m<module>\u001b[0;34m()\u001b[0m\n\u001b[0;32m----> 1\u001b[0;31m \u001b[0mlist\u001b[0m\u001b[0;34m(\u001b[0m\u001b[0mmap\u001b[0m\u001b[0;34m(\u001b[0m\u001b[0;32mlambda\u001b[0m \u001b[0memployee\u001b[0m\u001b[0;34m:\u001b[0m \u001b[0mwhatever\u001b[0m\u001b[0;34m[\u001b[0m\u001b[0;34m'name'\u001b[0m\u001b[0;34m]\u001b[0m\u001b[0;34m,\u001b[0m \u001b[0memployees\u001b[0m\u001b[0;34m)\u001b[0m\u001b[0;34m)\u001b[0m\u001b[0;34m\u001b[0m\u001b[0m\n\u001b[0m",
      "\u001b[0;32m<ipython-input-65-fe97fdf80802>\u001b[0m in \u001b[0;36m<lambda>\u001b[0;34m(employee)\u001b[0m\n\u001b[0;32m----> 1\u001b[0;31m \u001b[0mlist\u001b[0m\u001b[0;34m(\u001b[0m\u001b[0mmap\u001b[0m\u001b[0;34m(\u001b[0m\u001b[0;32mlambda\u001b[0m \u001b[0memployee\u001b[0m\u001b[0;34m:\u001b[0m \u001b[0mwhatever\u001b[0m\u001b[0;34m[\u001b[0m\u001b[0;34m'name'\u001b[0m\u001b[0;34m]\u001b[0m\u001b[0;34m,\u001b[0m \u001b[0memployees\u001b[0m\u001b[0;34m)\u001b[0m\u001b[0;34m)\u001b[0m\u001b[0;34m\u001b[0m\u001b[0m\n\u001b[0m",
      "\u001b[0;31mNameError\u001b[0m: name 'whatever' is not defined"
     ]
    }
   ],
   "source": [
    "list(map(lambda employee: whatever['name'], employees))"
   ]
  },
  {
   "cell_type": "markdown",
   "metadata": {},
   "source": [
    "**A final thing to note** about map is that whatever our list will be filled with whatever comes after the colon.  So for example, try to guess what the code below will return.  "
   ]
  },
  {
   "cell_type": "code",
   "execution_count": 66,
   "metadata": {},
   "outputs": [],
   "source": [
    "# list(map(lambda employee: 'hello', employees))"
   ]
  },
  {
   "cell_type": "markdown",
   "metadata": {},
   "source": [
    "> Remove the # sign to uncomment it, then press shift + enter."
   ]
  },
  {
   "cell_type": "markdown",
   "metadata": {},
   "source": [
    "And how about this one."
   ]
  },
  {
   "cell_type": "code",
   "execution_count": 67,
   "metadata": {},
   "outputs": [],
   "source": [
    "# list(map(lambda employee: {}, employees))"
   ]
  },
  {
   "cell_type": "markdown",
   "metadata": {},
   "source": [
    "### Using map to create smaller dictionaries"
   ]
  },
  {
   "cell_type": "markdown",
   "metadata": {},
   "source": [
    "Ok, so now imagine that we would like a list of employee birthdays.  So we'll start by just getting a list of birthdays."
   ]
  },
  {
   "cell_type": "code",
   "execution_count": 70,
   "metadata": {},
   "outputs": [
    {
     "data": {
      "text/plain": [
       "['1989', '1992', '1995', '1992']"
      ]
     },
     "execution_count": 70,
     "metadata": {},
     "output_type": "execute_result"
    }
   ],
   "source": [
    "list(map(lambda employee: employee['birth_year'] ,employees))"
   ]
  },
  {
   "cell_type": "markdown",
   "metadata": {},
   "source": [
    "Ok, this isn't bad, but we would like to still have our names associated with our birthdays.  So instead of map returning a list of strings, let's use map to return a list of dictionaries, with each dictionary have the keys of `name` and `birthday`."
   ]
  },
  {
   "cell_type": "code",
   "execution_count": 72,
   "metadata": {},
   "outputs": [
    {
     "data": {
      "text/plain": [
       "[{'name': 'amelia', 'birth_year': '1989'},\n",
       " {'name': 'olivia', 'birth_year': '1992'},\n",
       " {'name': 'sam', 'birth_year': '1995'},\n",
       " {'name': 'patrina', 'birth_year': '1992'}]"
      ]
     },
     "execution_count": 72,
     "metadata": {},
     "output_type": "execute_result"
    }
   ],
   "source": [
    "list(map(lambda employee: {'name': employee['name'], 'birth_year': employee['birth_year']},employees))"
   ]
  },
  {
   "cell_type": "markdown",
   "metadata": {},
   "source": [
    "Ok, now that isn't bad at all.  On your own, practice using map to create a list dictionaries, with each dictionary having keys of `name` and `days_available`.  We'll ask you to do something similar in a lab, so might as well practice it now :)"
   ]
  },
  {
   "cell_type": "markdown",
   "metadata": {},
   "source": [
    "### Summary"
   ]
  },
  {
   "cell_type": "markdown",
   "metadata": {},
   "source": [
    "In this lesson, we learned about the `map` function.  The `map` function is a great way to reduce the amount of information that we are working with, to make things easier.  The map function takes two arguments.  In the second argument we pass through our the list that we will be operating on, `map(,employees)`.  Then, in the first argument we indicate what we will to do each element in that list: assign each element to a variable, and then operate on that variable. `map(employee: employee['name'], )`.  Finally, we wrap our function `map` in a list so that we are returned a list of our new elements: \n",
    "\n",
    "```python\n",
    "list(map(lambda employee: employee['name'], employees))\n",
    "```"
   ]
  }
 ],
 "metadata": {
  "kernelspec": {
   "display_name": "Python 3",
   "language": "python",
   "name": "python3"
  },
  "language_info": {
   "codemirror_mode": {
    "name": "ipython",
    "version": 3
   },
   "file_extension": ".py",
   "mimetype": "text/x-python",
   "name": "python",
   "nbconvert_exporter": "python",
   "pygments_lexer": "ipython3",
   "version": "3.7.0"
  }
 },
 "nbformat": 4,
 "nbformat_minor": 2
}
