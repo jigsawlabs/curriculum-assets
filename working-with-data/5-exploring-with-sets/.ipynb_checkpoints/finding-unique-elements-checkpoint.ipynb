{
 "cells": [
  {
   "cell_type": "markdown",
   "metadata": {},
   "source": [
    "# Finding the unique elements with sets"
   ]
  },
  {
   "cell_type": "markdown",
   "metadata": {},
   "source": [
    "### Introduction"
   ]
  },
  {
   "cell_type": "markdown",
   "metadata": {},
   "source": [
    "In the last lesson, we learned about the `map` function.  Now the `map` function is very useful for just selecting the information that we need from our data.  In this lesson, we'll see dig further into our data with the use of `set`.\n",
    "\n"
   ]
  },
  {
   "cell_type": "markdown",
   "metadata": {},
   "source": [
    "### Seeing the range of values"
   ]
  },
  {
   "cell_type": "markdown",
   "metadata": {},
   "source": [
    "Ok, so once again, here is our list of employees."
   ]
  },
  {
   "cell_type": "code",
   "execution_count": 2,
   "metadata": {},
   "outputs": [],
   "source": [
    "employees = [\n",
    "    {'name': 'amelia banes', 'birth_year': '1989' ,'days_available': []},\n",
    "    {'name': 'olivia wilker', 'birth_year': '1992', 'days_available': ['Monday', 'Tuesday', 'Saturday', 'Sunday']},\n",
    "    {'name': 'sam seaborne', 'birth_year': '1995' ,'days_available': ['Thursday', 'Saturday']},\n",
    "    {'name': 'patrina baker', 'birth_year': '1992' ,'days_available': ['Saturday', 'Sunday']},\n",
    "    {'name': 'olivia wilker', 'birth_year': '1992' ,'days_available': ['Saturday', 'Sunday']},\n",
    "    {'name': 'jake mcbride', 'birth_year': '1987' ,'days_available': ['Wednesday', 'Thursday']},\n",
    "]"
   ]
  },
  {
   "cell_type": "markdown",
   "metadata": {},
   "source": [
    "Now one thing that we may want to do is find all of the years of birth of our employees.  This could be good, for example, for seeing what types of employee events we should plan.\n",
    "\n",
    "The first step in doing this is to get a list of all of the years of birth of our employees."
   ]
  },
  {
   "cell_type": "code",
   "execution_count": 5,
   "metadata": {},
   "outputs": [
    {
     "data": {
      "text/plain": [
       "['1989', '1992', '1995', '1992', '1992', '1987']"
      ]
     },
     "execution_count": 5,
     "metadata": {},
     "output_type": "execute_result"
    }
   ],
   "source": [
    "birth_years = list(map(lambda employee: employee['birth_year'], employees))\n",
    "birth_years"
   ]
  },
  {
   "cell_type": "markdown",
   "metadata": {},
   "source": [
    "So now, let's get a list of unique birth years.  We can do this by passing our list into the `set` function."
   ]
  },
  {
   "cell_type": "code",
   "execution_count": 76,
   "metadata": {},
   "outputs": [
    {
     "data": {
      "text/plain": [
       "{'1989', '1992', '1995'}"
      ]
     },
     "execution_count": 76,
     "metadata": {},
     "output_type": "execute_result"
    }
   ],
   "source": [
    "set(birthdays)"
   ]
  },
  {
   "cell_type": "markdown",
   "metadata": {},
   "source": [
    "> A **set** is a new data structure where each element is unique.  We can turn a list into a set with the `set` function.  And if we want we can also turn a set back to a list by wrapping our set in the list function.  "
   ]
  },
  {
   "cell_type": "markdown",
   "metadata": {},
   "source": [
    "We'll that this can be very handy for getting a summary of the types of values in a given attribute.  "
   ]
  },
  {
   "cell_type": "markdown",
   "metadata": {},
   "source": [
    "### Discovering Repeats with Set"
   ]
  },
  {
   "cell_type": "markdown",
   "metadata": {},
   "source": [
    "It can also be handy for seeing if accidentally have a repeating name or number where we shouldn't.  For example, let's see if we can use set to discover if we have any repeating names.  \n",
    "\n",
    "Now once again, we can start with our map function to just get a list of names."
   ]
  },
  {
   "cell_type": "code",
   "execution_count": 7,
   "metadata": {},
   "outputs": [
    {
     "data": {
      "text/plain": [
       "['amelia banes',\n",
       " 'olivia wilker',\n",
       " 'sam seaborne',\n",
       " 'patrina baker',\n",
       " 'olivia wilker',\n",
       " 'jake mcbride']"
      ]
     },
     "execution_count": 7,
     "metadata": {},
     "output_type": "execute_result"
    }
   ],
   "source": [
    "names = list(map(lambda employee: employee['name'], employees))\n",
    "names"
   ]
  },
  {
   "cell_type": "markdown",
   "metadata": {},
   "source": [
    "Now notice above that we do have a repeat: `olivia walker` is there twice.  That sneak!  So when we call set on this list, our set should be smaller, because our set will only have the unique list of names."
   ]
  },
  {
   "cell_type": "code",
   "execution_count": 8,
   "metadata": {},
   "outputs": [
    {
     "data": {
      "text/plain": [
       "{'amelia banes',\n",
       " 'jake mcbride',\n",
       " 'olivia wilker',\n",
       " 'patrina baker',\n",
       " 'sam seaborne'}"
      ]
     },
     "execution_count": 8,
     "metadata": {},
     "output_type": "execute_result"
    }
   ],
   "source": [
    "set(names)"
   ]
  },
  {
   "cell_type": "markdown",
   "metadata": {},
   "source": [
    "This will always be the case.  If our list has repeats, then turning our `set` into our list will give us an entity with a smaller list.  \n",
    "\n",
    "So we can just ask if our set is smaller than our list, and if it is, we know we have repeats."
   ]
  },
  {
   "cell_type": "code",
   "execution_count": 9,
   "metadata": {},
   "outputs": [
    {
     "data": {
      "text/plain": [
       "6"
      ]
     },
     "execution_count": 9,
     "metadata": {},
     "output_type": "execute_result"
    }
   ],
   "source": [
    "len(names)"
   ]
  },
  {
   "cell_type": "code",
   "execution_count": 11,
   "metadata": {},
   "outputs": [
    {
     "data": {
      "text/plain": [
       "5"
      ]
     },
     "execution_count": 11,
     "metadata": {},
     "output_type": "execute_result"
    }
   ],
   "source": [
    "len(set(names))"
   ]
  },
  {
   "cell_type": "markdown",
   "metadata": {},
   "source": [
    "Ok, so we know that we have one repeat."
   ]
  },
  {
   "cell_type": "markdown",
   "metadata": {},
   "source": [
    "### Summary"
   ]
  },
  {
   "cell_type": "markdown",
   "metadata": {},
   "source": [
    "In this lesson, we learned about the `set` function.  Now using set creates for us a new data structure, a set.  A set is similar to a list but each element is can only appear once.  This can be useful to us as it allows us to see the range of values in our collection.  It also can help us discover duplicate values by seeing if our set has fewer elements than our orginal list."
   ]
  }
 ],
 "metadata": {
  "kernelspec": {
   "display_name": "Python 3",
   "language": "python",
   "name": "python3"
  },
  "language_info": {
   "codemirror_mode": {
    "name": "ipython",
    "version": 3
   },
   "file_extension": ".py",
   "mimetype": "text/x-python",
   "name": "python",
   "nbconvert_exporter": "python",
   "pygments_lexer": "ipython3",
   "version": "3.7.0"
  }
 },
 "nbformat": 4,
 "nbformat_minor": 2
}
